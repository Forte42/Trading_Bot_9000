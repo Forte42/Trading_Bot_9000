{
 "cells": [
  {
   "cell_type": "code",
   "execution_count": 1,
   "id": "3d2d2986-8f0f-4112-b2a2-03b767dffc76",
   "metadata": {},
   "outputs": [
    {
     "name": "stderr",
     "output_type": "stream",
     "text": [
      "c:\\Users\\gtkhh\\anaconda3\\envs\\dev\\lib\\site-packages\\scipy\\__init__.py:146: UserWarning: A NumPy version >=1.16.5 and <1.23.0 is required for this version of SciPy (detected version 1.23.3\n",
      "  warnings.warn(f\"A NumPy version >={np_minversion} and <{np_maxversion}\"\n"
     ]
    }
   ],
   "source": [
    "import pandas as pd\n",
    "import numpy as np\n",
    "# from dotenv import load_dotenv\n",
    "from pandas.tseries.offsets import DateOffset\n",
    "import os\n",
    "import requests\n",
    "import datetime\n",
    "from alpaca.data.historical import CryptoHistoricalDataClient\n",
    "from alpaca.data.requests import CryptoBarsRequest\n",
    "from alpaca.data.requests import CryptoLatestQuoteRequest\n",
    "from alpaca.data.requests import CryptoTradesRequest\n",
    "from alpaca.data.timeframe import TimeFrame\n",
    "from sklearn.preprocessing import MinMaxScaler\n",
    "from sklearn.preprocessing import MinMaxScaler\n",
    "import tensorflow as tf\n",
    "from tensorflow.keras.layers import Dense\n",
    "from tensorflow.keras.models import Sequential\n",
    "from tensorflow.keras.layers import LSTM\n",
    "import matplotlib.pyplot as plt\n",
    "from numpy.lib import math\n",
    "from tensorflow.keras.layers import Dropout\n",
    "from tensorflow.keras.layers import TimeDistributed\n",
    "from tensorflow.keras.layers import Bidirectional\n",
    "from pathlib import Path\n",
    "%matplotlib inline"
   ]
  },
  {
   "cell_type": "markdown",
   "id": "a38f52a9",
   "metadata": {},
   "source": [
    "## Data Retreival/Formatting"
   ]
  },
  {
   "cell_type": "code",
   "execution_count": 2,
   "id": "559f825e-3b85-4576-9416-686c4c1c822f",
   "metadata": {},
   "outputs": [],
   "source": [
    "# alpaca_api_key = os.getenv(\"ALPACA_API_KEY\")\n",
    "# alpaca_secret_key = os.getenv(\"ALPACA_SECRET_KEY\")"
   ]
  },
  {
   "cell_type": "code",
   "execution_count": 3,
   "id": "91637821-f0fc-4c21-9ce4-c7ff383aecb5",
   "metadata": {},
   "outputs": [],
   "source": [
    "# type(alpaca_api_key)"
   ]
  },
  {
   "cell_type": "code",
   "execution_count": 4,
   "id": "d1e11ecf-535d-43e9-a2c8-25231333ef73",
   "metadata": {},
   "outputs": [],
   "source": [
    "crypto_client = CryptoHistoricalDataClient()"
   ]
  },
  {
   "cell_type": "code",
   "execution_count": 5,
   "id": "f5e5c4e2-8dd6-439f-be3f-dee63af334e7",
   "metadata": {},
   "outputs": [
    {
     "data": {
      "text/html": [
       "<div>\n",
       "<style scoped>\n",
       "    .dataframe tbody tr th:only-of-type {\n",
       "        vertical-align: middle;\n",
       "    }\n",
       "\n",
       "    .dataframe tbody tr th {\n",
       "        vertical-align: top;\n",
       "    }\n",
       "\n",
       "    .dataframe thead th {\n",
       "        text-align: right;\n",
       "    }\n",
       "</style>\n",
       "<table border=\"1\" class=\"dataframe\">\n",
       "  <thead>\n",
       "    <tr style=\"text-align: right;\">\n",
       "      <th></th>\n",
       "      <th></th>\n",
       "      <th>open</th>\n",
       "      <th>high</th>\n",
       "      <th>low</th>\n",
       "      <th>close</th>\n",
       "      <th>volume</th>\n",
       "      <th>trade_count</th>\n",
       "      <th>vwap</th>\n",
       "    </tr>\n",
       "    <tr>\n",
       "      <th>symbol</th>\n",
       "      <th>timestamp</th>\n",
       "      <th></th>\n",
       "      <th></th>\n",
       "      <th></th>\n",
       "      <th></th>\n",
       "      <th></th>\n",
       "      <th></th>\n",
       "      <th></th>\n",
       "    </tr>\n",
       "  </thead>\n",
       "  <tbody>\n",
       "    <tr>\n",
       "      <th rowspan=\"11\" valign=\"top\">BTC/USD</th>\n",
       "      <th>2021-01-01 00:00:00+00:00</th>\n",
       "      <td>28973.0</td>\n",
       "      <td>29073.5</td>\n",
       "      <td>28775.0</td>\n",
       "      <td>29065.0</td>\n",
       "      <td>3.4437</td>\n",
       "      <td>72.0</td>\n",
       "      <td>28968.839097</td>\n",
       "    </tr>\n",
       "    <tr>\n",
       "      <th>2021-01-01 01:00:00+00:00</th>\n",
       "      <td>29070.0</td>\n",
       "      <td>29481.0</td>\n",
       "      <td>29038.5</td>\n",
       "      <td>29404.5</td>\n",
       "      <td>4.6183</td>\n",
       "      <td>65.0</td>\n",
       "      <td>29359.399487</td>\n",
       "    </tr>\n",
       "    <tr>\n",
       "      <th>2021-01-01 02:00:00+00:00</th>\n",
       "      <td>29528.0</td>\n",
       "      <td>29528.0</td>\n",
       "      <td>29218.0</td>\n",
       "      <td>29245.0</td>\n",
       "      <td>4.3423</td>\n",
       "      <td>42.0</td>\n",
       "      <td>29361.540923</td>\n",
       "    </tr>\n",
       "    <tr>\n",
       "      <th>2021-01-01 03:00:00+00:00</th>\n",
       "      <td>29400.5</td>\n",
       "      <td>29400.5</td>\n",
       "      <td>29337.0</td>\n",
       "      <td>29367.5</td>\n",
       "      <td>0.3089</td>\n",
       "      <td>3.0</td>\n",
       "      <td>29400.447394</td>\n",
       "    </tr>\n",
       "    <tr>\n",
       "      <th>2021-01-01 04:00:00+00:00</th>\n",
       "      <td>29449.0</td>\n",
       "      <td>29449.0</td>\n",
       "      <td>29136.5</td>\n",
       "      <td>29189.5</td>\n",
       "      <td>2.0245</td>\n",
       "      <td>34.0</td>\n",
       "      <td>29302.743369</td>\n",
       "    </tr>\n",
       "    <tr>\n",
       "      <th>...</th>\n",
       "      <td>...</td>\n",
       "      <td>...</td>\n",
       "      <td>...</td>\n",
       "      <td>...</td>\n",
       "      <td>...</td>\n",
       "      <td>...</td>\n",
       "      <td>...</td>\n",
       "    </tr>\n",
       "    <tr>\n",
       "      <th>2022-10-08 01:00:00+00:00</th>\n",
       "      <td>19573.0</td>\n",
       "      <td>19593.0</td>\n",
       "      <td>19551.0</td>\n",
       "      <td>19592.0</td>\n",
       "      <td>52.5334</td>\n",
       "      <td>389.0</td>\n",
       "      <td>19581.419948</td>\n",
       "    </tr>\n",
       "    <tr>\n",
       "      <th>2022-10-08 02:00:00+00:00</th>\n",
       "      <td>19592.0</td>\n",
       "      <td>19597.0</td>\n",
       "      <td>19548.0</td>\n",
       "      <td>19564.0</td>\n",
       "      <td>0.6644</td>\n",
       "      <td>189.0</td>\n",
       "      <td>19579.694160</td>\n",
       "    </tr>\n",
       "    <tr>\n",
       "      <th>2022-10-08 03:00:00+00:00</th>\n",
       "      <td>19565.0</td>\n",
       "      <td>19565.0</td>\n",
       "      <td>19500.0</td>\n",
       "      <td>19504.0</td>\n",
       "      <td>23.3546</td>\n",
       "      <td>282.0</td>\n",
       "      <td>19516.624344</td>\n",
       "    </tr>\n",
       "    <tr>\n",
       "      <th>2022-10-08 04:00:00+00:00</th>\n",
       "      <td>19504.0</td>\n",
       "      <td>19525.0</td>\n",
       "      <td>19419.0</td>\n",
       "      <td>19440.0</td>\n",
       "      <td>154.6978</td>\n",
       "      <td>510.0</td>\n",
       "      <td>19457.443565</td>\n",
       "    </tr>\n",
       "    <tr>\n",
       "      <th>2022-10-08 05:00:00+00:00</th>\n",
       "      <td>19441.0</td>\n",
       "      <td>19449.0</td>\n",
       "      <td>19437.0</td>\n",
       "      <td>19449.0</td>\n",
       "      <td>16.2415</td>\n",
       "      <td>59.0</td>\n",
       "      <td>19440.224844</td>\n",
       "    </tr>\n",
       "  </tbody>\n",
       "</table>\n",
       "<p>15464 rows × 7 columns</p>\n",
       "</div>"
      ],
      "text/plain": [
       "                                      open     high      low    close  \\\n",
       "symbol  timestamp                                                       \n",
       "BTC/USD 2021-01-01 00:00:00+00:00  28973.0  29073.5  28775.0  29065.0   \n",
       "        2021-01-01 01:00:00+00:00  29070.0  29481.0  29038.5  29404.5   \n",
       "        2021-01-01 02:00:00+00:00  29528.0  29528.0  29218.0  29245.0   \n",
       "        2021-01-01 03:00:00+00:00  29400.5  29400.5  29337.0  29367.5   \n",
       "        2021-01-01 04:00:00+00:00  29449.0  29449.0  29136.5  29189.5   \n",
       "...                                    ...      ...      ...      ...   \n",
       "        2022-10-08 01:00:00+00:00  19573.0  19593.0  19551.0  19592.0   \n",
       "        2022-10-08 02:00:00+00:00  19592.0  19597.0  19548.0  19564.0   \n",
       "        2022-10-08 03:00:00+00:00  19565.0  19565.0  19500.0  19504.0   \n",
       "        2022-10-08 04:00:00+00:00  19504.0  19525.0  19419.0  19440.0   \n",
       "        2022-10-08 05:00:00+00:00  19441.0  19449.0  19437.0  19449.0   \n",
       "\n",
       "                                     volume  trade_count          vwap  \n",
       "symbol  timestamp                                                       \n",
       "BTC/USD 2021-01-01 00:00:00+00:00    3.4437         72.0  28968.839097  \n",
       "        2021-01-01 01:00:00+00:00    4.6183         65.0  29359.399487  \n",
       "        2021-01-01 02:00:00+00:00    4.3423         42.0  29361.540923  \n",
       "        2021-01-01 03:00:00+00:00    0.3089          3.0  29400.447394  \n",
       "        2021-01-01 04:00:00+00:00    2.0245         34.0  29302.743369  \n",
       "...                                     ...          ...           ...  \n",
       "        2022-10-08 01:00:00+00:00   52.5334        389.0  19581.419948  \n",
       "        2022-10-08 02:00:00+00:00    0.6644        189.0  19579.694160  \n",
       "        2022-10-08 03:00:00+00:00   23.3546        282.0  19516.624344  \n",
       "        2022-10-08 04:00:00+00:00  154.6978        510.0  19457.443565  \n",
       "        2022-10-08 05:00:00+00:00   16.2415         59.0  19440.224844  \n",
       "\n",
       "[15464 rows x 7 columns]"
      ]
     },
     "execution_count": 5,
     "metadata": {},
     "output_type": "execute_result"
    }
   ],
   "source": [
    "# Get Data\n",
    "\n",
    "request_params = CryptoBarsRequest(\n",
    "    symbol_or_symbols=[\"BTC/USD\"],\n",
    "    timeframe=TimeFrame.Hour, start='2021-01-01 00:00:00'\n",
    ")\n",
    "\n",
    "btc_bars = crypto_client.get_crypto_bars(request_params)\n",
    "\n",
    "btc_df = btc_bars.df\n",
    "\n",
    "btc_df"
   ]
  },
  {
   "cell_type": "code",
   "execution_count": 6,
   "id": "73e457bd",
   "metadata": {},
   "outputs": [
    {
     "data": {
      "text/html": [
       "<div>\n",
       "<style scoped>\n",
       "    .dataframe tbody tr th:only-of-type {\n",
       "        vertical-align: middle;\n",
       "    }\n",
       "\n",
       "    .dataframe tbody tr th {\n",
       "        vertical-align: top;\n",
       "    }\n",
       "\n",
       "    .dataframe thead th {\n",
       "        text-align: right;\n",
       "    }\n",
       "</style>\n",
       "<table border=\"1\" class=\"dataframe\">\n",
       "  <thead>\n",
       "    <tr style=\"text-align: right;\">\n",
       "      <th></th>\n",
       "      <th></th>\n",
       "      <th>open</th>\n",
       "      <th>high</th>\n",
       "      <th>low</th>\n",
       "      <th>close</th>\n",
       "      <th>volume</th>\n",
       "      <th>trade_count</th>\n",
       "      <th>vwap</th>\n",
       "    </tr>\n",
       "    <tr>\n",
       "      <th>symbol</th>\n",
       "      <th>timestamp</th>\n",
       "      <th></th>\n",
       "      <th></th>\n",
       "      <th></th>\n",
       "      <th></th>\n",
       "      <th></th>\n",
       "      <th></th>\n",
       "      <th></th>\n",
       "    </tr>\n",
       "  </thead>\n",
       "  <tbody>\n",
       "    <tr>\n",
       "      <th rowspan=\"11\" valign=\"top\">BTC/USD</th>\n",
       "      <th>2021-01-01 00:00:00+00:00</th>\n",
       "      <td>28973.0</td>\n",
       "      <td>29073.5</td>\n",
       "      <td>28775.0</td>\n",
       "      <td>29065.0</td>\n",
       "      <td>3.4437</td>\n",
       "      <td>72.0</td>\n",
       "      <td>28968.839097</td>\n",
       "    </tr>\n",
       "    <tr>\n",
       "      <th>2021-01-01 01:00:00+00:00</th>\n",
       "      <td>29070.0</td>\n",
       "      <td>29481.0</td>\n",
       "      <td>29038.5</td>\n",
       "      <td>29404.5</td>\n",
       "      <td>4.6183</td>\n",
       "      <td>65.0</td>\n",
       "      <td>29359.399487</td>\n",
       "    </tr>\n",
       "    <tr>\n",
       "      <th>2021-01-01 02:00:00+00:00</th>\n",
       "      <td>29528.0</td>\n",
       "      <td>29528.0</td>\n",
       "      <td>29218.0</td>\n",
       "      <td>29245.0</td>\n",
       "      <td>4.3423</td>\n",
       "      <td>42.0</td>\n",
       "      <td>29361.540923</td>\n",
       "    </tr>\n",
       "    <tr>\n",
       "      <th>2021-01-01 03:00:00+00:00</th>\n",
       "      <td>29400.5</td>\n",
       "      <td>29400.5</td>\n",
       "      <td>29337.0</td>\n",
       "      <td>29367.5</td>\n",
       "      <td>0.3089</td>\n",
       "      <td>3.0</td>\n",
       "      <td>29400.447394</td>\n",
       "    </tr>\n",
       "    <tr>\n",
       "      <th>2021-01-01 04:00:00+00:00</th>\n",
       "      <td>29449.0</td>\n",
       "      <td>29449.0</td>\n",
       "      <td>29136.5</td>\n",
       "      <td>29189.5</td>\n",
       "      <td>2.0245</td>\n",
       "      <td>34.0</td>\n",
       "      <td>29302.743369</td>\n",
       "    </tr>\n",
       "    <tr>\n",
       "      <th>...</th>\n",
       "      <td>...</td>\n",
       "      <td>...</td>\n",
       "      <td>...</td>\n",
       "      <td>...</td>\n",
       "      <td>...</td>\n",
       "      <td>...</td>\n",
       "      <td>...</td>\n",
       "    </tr>\n",
       "    <tr>\n",
       "      <th>2022-10-08 01:00:00+00:00</th>\n",
       "      <td>19573.0</td>\n",
       "      <td>19593.0</td>\n",
       "      <td>19551.0</td>\n",
       "      <td>19592.0</td>\n",
       "      <td>52.5334</td>\n",
       "      <td>389.0</td>\n",
       "      <td>19581.419948</td>\n",
       "    </tr>\n",
       "    <tr>\n",
       "      <th>2022-10-08 02:00:00+00:00</th>\n",
       "      <td>19592.0</td>\n",
       "      <td>19597.0</td>\n",
       "      <td>19548.0</td>\n",
       "      <td>19564.0</td>\n",
       "      <td>0.6644</td>\n",
       "      <td>189.0</td>\n",
       "      <td>19579.694160</td>\n",
       "    </tr>\n",
       "    <tr>\n",
       "      <th>2022-10-08 03:00:00+00:00</th>\n",
       "      <td>19565.0</td>\n",
       "      <td>19565.0</td>\n",
       "      <td>19500.0</td>\n",
       "      <td>19504.0</td>\n",
       "      <td>23.3546</td>\n",
       "      <td>282.0</td>\n",
       "      <td>19516.624344</td>\n",
       "    </tr>\n",
       "    <tr>\n",
       "      <th>2022-10-08 04:00:00+00:00</th>\n",
       "      <td>19504.0</td>\n",
       "      <td>19525.0</td>\n",
       "      <td>19419.0</td>\n",
       "      <td>19440.0</td>\n",
       "      <td>154.6978</td>\n",
       "      <td>510.0</td>\n",
       "      <td>19457.443565</td>\n",
       "    </tr>\n",
       "    <tr>\n",
       "      <th>2022-10-08 05:00:00+00:00</th>\n",
       "      <td>19441.0</td>\n",
       "      <td>19449.0</td>\n",
       "      <td>19437.0</td>\n",
       "      <td>19449.0</td>\n",
       "      <td>16.2415</td>\n",
       "      <td>59.0</td>\n",
       "      <td>19440.224844</td>\n",
       "    </tr>\n",
       "  </tbody>\n",
       "</table>\n",
       "<p>15464 rows × 7 columns</p>\n",
       "</div>"
      ],
      "text/plain": [
       "                                      open     high      low    close  \\\n",
       "symbol  timestamp                                                       \n",
       "BTC/USD 2021-01-01 00:00:00+00:00  28973.0  29073.5  28775.0  29065.0   \n",
       "        2021-01-01 01:00:00+00:00  29070.0  29481.0  29038.5  29404.5   \n",
       "        2021-01-01 02:00:00+00:00  29528.0  29528.0  29218.0  29245.0   \n",
       "        2021-01-01 03:00:00+00:00  29400.5  29400.5  29337.0  29367.5   \n",
       "        2021-01-01 04:00:00+00:00  29449.0  29449.0  29136.5  29189.5   \n",
       "...                                    ...      ...      ...      ...   \n",
       "        2022-10-08 01:00:00+00:00  19573.0  19593.0  19551.0  19592.0   \n",
       "        2022-10-08 02:00:00+00:00  19592.0  19597.0  19548.0  19564.0   \n",
       "        2022-10-08 03:00:00+00:00  19565.0  19565.0  19500.0  19504.0   \n",
       "        2022-10-08 04:00:00+00:00  19504.0  19525.0  19419.0  19440.0   \n",
       "        2022-10-08 05:00:00+00:00  19441.0  19449.0  19437.0  19449.0   \n",
       "\n",
       "                                     volume  trade_count          vwap  \n",
       "symbol  timestamp                                                       \n",
       "BTC/USD 2021-01-01 00:00:00+00:00    3.4437         72.0  28968.839097  \n",
       "        2021-01-01 01:00:00+00:00    4.6183         65.0  29359.399487  \n",
       "        2021-01-01 02:00:00+00:00    4.3423         42.0  29361.540923  \n",
       "        2021-01-01 03:00:00+00:00    0.3089          3.0  29400.447394  \n",
       "        2021-01-01 04:00:00+00:00    2.0245         34.0  29302.743369  \n",
       "...                                     ...          ...           ...  \n",
       "        2022-10-08 01:00:00+00:00   52.5334        389.0  19581.419948  \n",
       "        2022-10-08 02:00:00+00:00    0.6644        189.0  19579.694160  \n",
       "        2022-10-08 03:00:00+00:00   23.3546        282.0  19516.624344  \n",
       "        2022-10-08 04:00:00+00:00  154.6978        510.0  19457.443565  \n",
       "        2022-10-08 05:00:00+00:00   16.2415         59.0  19440.224844  \n",
       "\n",
       "[15464 rows x 7 columns]"
      ]
     },
     "execution_count": 6,
     "metadata": {},
     "output_type": "execute_result"
    }
   ],
   "source": [
    "# Create dataframe\n",
    "btc_df = btc_bars.df\n",
    "\n",
    "btc_df"
   ]
  },
  {
   "cell_type": "code",
   "execution_count": 7,
   "id": "e43a2c0d-1047-4e64-9fc6-b1f8ac1b0dd2",
   "metadata": {},
   "outputs": [
    {
     "data": {
      "text/plain": [
       "open           float64\n",
       "high           float64\n",
       "low            float64\n",
       "close          float64\n",
       "volume         float64\n",
       "trade_count    float64\n",
       "vwap           float64\n",
       "dtype: object"
      ]
     },
     "execution_count": 7,
     "metadata": {},
     "output_type": "execute_result"
    }
   ],
   "source": [
    "btc_df.dtypes"
   ]
  },
  {
   "cell_type": "code",
   "execution_count": 8,
   "id": "6d4a2203",
   "metadata": {},
   "outputs": [
    {
     "data": {
      "text/html": [
       "<div>\n",
       "<style scoped>\n",
       "    .dataframe tbody tr th:only-of-type {\n",
       "        vertical-align: middle;\n",
       "    }\n",
       "\n",
       "    .dataframe tbody tr th {\n",
       "        vertical-align: top;\n",
       "    }\n",
       "\n",
       "    .dataframe thead th {\n",
       "        text-align: right;\n",
       "    }\n",
       "</style>\n",
       "<table border=\"1\" class=\"dataframe\">\n",
       "  <thead>\n",
       "    <tr style=\"text-align: right;\">\n",
       "      <th></th>\n",
       "      <th>open</th>\n",
       "      <th>high</th>\n",
       "      <th>low</th>\n",
       "      <th>close</th>\n",
       "      <th>volume</th>\n",
       "      <th>trade_count</th>\n",
       "    </tr>\n",
       "    <tr>\n",
       "      <th>timestamp</th>\n",
       "      <th></th>\n",
       "      <th></th>\n",
       "      <th></th>\n",
       "      <th></th>\n",
       "      <th></th>\n",
       "      <th></th>\n",
       "    </tr>\n",
       "  </thead>\n",
       "  <tbody>\n",
       "    <tr>\n",
       "      <th>2021-01-01 00:00:00+00:00</th>\n",
       "      <td>28973.0</td>\n",
       "      <td>29073.5</td>\n",
       "      <td>28775.0</td>\n",
       "      <td>29065.0</td>\n",
       "      <td>3.4437</td>\n",
       "      <td>72.0</td>\n",
       "    </tr>\n",
       "    <tr>\n",
       "      <th>2021-01-01 01:00:00+00:00</th>\n",
       "      <td>29070.0</td>\n",
       "      <td>29481.0</td>\n",
       "      <td>29038.5</td>\n",
       "      <td>29404.5</td>\n",
       "      <td>4.6183</td>\n",
       "      <td>65.0</td>\n",
       "    </tr>\n",
       "    <tr>\n",
       "      <th>2021-01-01 02:00:00+00:00</th>\n",
       "      <td>29528.0</td>\n",
       "      <td>29528.0</td>\n",
       "      <td>29218.0</td>\n",
       "      <td>29245.0</td>\n",
       "      <td>4.3423</td>\n",
       "      <td>42.0</td>\n",
       "    </tr>\n",
       "    <tr>\n",
       "      <th>2021-01-01 03:00:00+00:00</th>\n",
       "      <td>29400.5</td>\n",
       "      <td>29400.5</td>\n",
       "      <td>29337.0</td>\n",
       "      <td>29367.5</td>\n",
       "      <td>0.3089</td>\n",
       "      <td>3.0</td>\n",
       "    </tr>\n",
       "    <tr>\n",
       "      <th>2021-01-01 04:00:00+00:00</th>\n",
       "      <td>29449.0</td>\n",
       "      <td>29449.0</td>\n",
       "      <td>29136.5</td>\n",
       "      <td>29189.5</td>\n",
       "      <td>2.0245</td>\n",
       "      <td>34.0</td>\n",
       "    </tr>\n",
       "    <tr>\n",
       "      <th>...</th>\n",
       "      <td>...</td>\n",
       "      <td>...</td>\n",
       "      <td>...</td>\n",
       "      <td>...</td>\n",
       "      <td>...</td>\n",
       "      <td>...</td>\n",
       "    </tr>\n",
       "    <tr>\n",
       "      <th>2022-10-08 01:00:00+00:00</th>\n",
       "      <td>19573.0</td>\n",
       "      <td>19593.0</td>\n",
       "      <td>19551.0</td>\n",
       "      <td>19592.0</td>\n",
       "      <td>52.5334</td>\n",
       "      <td>389.0</td>\n",
       "    </tr>\n",
       "    <tr>\n",
       "      <th>2022-10-08 02:00:00+00:00</th>\n",
       "      <td>19592.0</td>\n",
       "      <td>19597.0</td>\n",
       "      <td>19548.0</td>\n",
       "      <td>19564.0</td>\n",
       "      <td>0.6644</td>\n",
       "      <td>189.0</td>\n",
       "    </tr>\n",
       "    <tr>\n",
       "      <th>2022-10-08 03:00:00+00:00</th>\n",
       "      <td>19565.0</td>\n",
       "      <td>19565.0</td>\n",
       "      <td>19500.0</td>\n",
       "      <td>19504.0</td>\n",
       "      <td>23.3546</td>\n",
       "      <td>282.0</td>\n",
       "    </tr>\n",
       "    <tr>\n",
       "      <th>2022-10-08 04:00:00+00:00</th>\n",
       "      <td>19504.0</td>\n",
       "      <td>19525.0</td>\n",
       "      <td>19419.0</td>\n",
       "      <td>19440.0</td>\n",
       "      <td>154.6978</td>\n",
       "      <td>510.0</td>\n",
       "    </tr>\n",
       "    <tr>\n",
       "      <th>2022-10-08 05:00:00+00:00</th>\n",
       "      <td>19441.0</td>\n",
       "      <td>19449.0</td>\n",
       "      <td>19437.0</td>\n",
       "      <td>19449.0</td>\n",
       "      <td>16.2415</td>\n",
       "      <td>59.0</td>\n",
       "    </tr>\n",
       "  </tbody>\n",
       "</table>\n",
       "<p>15464 rows × 6 columns</p>\n",
       "</div>"
      ],
      "text/plain": [
       "                              open     high      low    close    volume  \\\n",
       "timestamp                                                                 \n",
       "2021-01-01 00:00:00+00:00  28973.0  29073.5  28775.0  29065.0    3.4437   \n",
       "2021-01-01 01:00:00+00:00  29070.0  29481.0  29038.5  29404.5    4.6183   \n",
       "2021-01-01 02:00:00+00:00  29528.0  29528.0  29218.0  29245.0    4.3423   \n",
       "2021-01-01 03:00:00+00:00  29400.5  29400.5  29337.0  29367.5    0.3089   \n",
       "2021-01-01 04:00:00+00:00  29449.0  29449.0  29136.5  29189.5    2.0245   \n",
       "...                            ...      ...      ...      ...       ...   \n",
       "2022-10-08 01:00:00+00:00  19573.0  19593.0  19551.0  19592.0   52.5334   \n",
       "2022-10-08 02:00:00+00:00  19592.0  19597.0  19548.0  19564.0    0.6644   \n",
       "2022-10-08 03:00:00+00:00  19565.0  19565.0  19500.0  19504.0   23.3546   \n",
       "2022-10-08 04:00:00+00:00  19504.0  19525.0  19419.0  19440.0  154.6978   \n",
       "2022-10-08 05:00:00+00:00  19441.0  19449.0  19437.0  19449.0   16.2415   \n",
       "\n",
       "                           trade_count  \n",
       "timestamp                               \n",
       "2021-01-01 00:00:00+00:00         72.0  \n",
       "2021-01-01 01:00:00+00:00         65.0  \n",
       "2021-01-01 02:00:00+00:00         42.0  \n",
       "2021-01-01 03:00:00+00:00          3.0  \n",
       "2021-01-01 04:00:00+00:00         34.0  \n",
       "...                                ...  \n",
       "2022-10-08 01:00:00+00:00        389.0  \n",
       "2022-10-08 02:00:00+00:00        189.0  \n",
       "2022-10-08 03:00:00+00:00        282.0  \n",
       "2022-10-08 04:00:00+00:00        510.0  \n",
       "2022-10-08 05:00:00+00:00         59.0  \n",
       "\n",
       "[15464 rows x 6 columns]"
      ]
     },
     "execution_count": 8,
     "metadata": {},
     "output_type": "execute_result"
    }
   ],
   "source": [
    "# adjusting the dataframe\n",
    "btc_df = btc_df.reset_index()\n",
    "btc_df = btc_df.set_index('timestamp')\n",
    "btc_df = btc_df.drop(columns=['symbol','vwap'])\n",
    "\n",
    "btc_df"
   ]
  },
  {
   "cell_type": "code",
   "execution_count": 9,
   "id": "130b2d0a",
   "metadata": {},
   "outputs": [
    {
     "data": {
      "text/plain": [
       "[<matplotlib.lines.Line2D at 0x1c7d1266190>]"
      ]
     },
     "execution_count": 9,
     "metadata": {},
     "output_type": "execute_result"
    },
    {
     "data": {
      "image/png": "[encoded data removed]",
      "text/plain": [
       "<Figure size 640x480 with 1 Axes>"
      ]
     },
     "metadata": {},
     "output_type": "display_data"
    }
   ],
   "source": [
    "plt.plot(range(len(btc_df)), btc_df[['open']])"
   ]
  },
  {
   "cell_type": "markdown",
   "id": "ed54f618",
   "metadata": {},
   "source": [
    "### Splitting data into 3D Tensors"
   ]
  },
  {
   "cell_type": "code",
   "execution_count": 10,
   "id": "6e748bf2",
   "metadata": {},
   "outputs": [],
   "source": [
    "# Split test and train data\n",
    "\n",
    "split_ratio=.7\n",
    "train_count=int(len(btc_df)*.7)\n",
    "\n",
    "train=btc_df.iloc[:train_count]\n",
    "test=btc_df.iloc[train_count:]"
   ]
  },
  {
   "cell_type": "code",
   "execution_count": 11,
   "id": "22b9c98b",
   "metadata": {},
   "outputs": [
    {
     "data": {
      "text/plain": [
       "array([[0.00000000e+00, 1.87598489e-04, 2.41180086e-02, 1.08561186e-03,\n",
       "        2.79123228e-03, 1.28043282e-02],\n",
       "       [2.44677631e-03, 1.03804497e-02, 3.05961893e-02, 9.65689616e-03,\n",
       "        3.74333957e-03, 1.15419297e-02],\n",
       "       [1.39995964e-02, 1.15560669e-02, 3.50092194e-02, 5.63003358e-03,\n",
       "        3.51961948e-03, 7.39404869e-03],\n",
       "       ...,\n",
       "       [4.53359903e-01, 4.49085770e-01, 4.64339275e-01, 4.48963619e-01,\n",
       "        4.02962832e-02, 4.61677187e-02],\n",
       "       [4.50383412e-01, 4.47660022e-01, 4.67019053e-01, 4.52094221e-01,\n",
       "        3.11740968e-02, 2.63300271e-02],\n",
       "       [4.53259005e-01, 4.50561545e-01, 4.68985864e-01, 4.54492666e-01,\n",
       "        5.26718136e-02, 2.84941389e-02]])"
      ]
     },
     "execution_count": 11,
     "metadata": {},
     "output_type": "execute_result"
    }
   ],
   "source": [
    "# Create a MinMaxScaler instance\n",
    "scaler = MinMaxScaler()\n",
    "\n",
    "# Fit the scaler to the features training dataset\n",
    "train_scaled = scaler.fit_transform(train)\n",
    "\n",
    "train_scaled"
   ]
  },
  {
   "cell_type": "code",
   "execution_count": 12,
   "id": "699d64f7",
   "metadata": {},
   "outputs": [
    {
     "data": {
      "text/plain": [
       "array([[0.96858552, 0.96732634, 0.96873347, 0.97300252, 0.0309445 ,\n",
       "        0.02274046],\n",
       "       [0.97262405, 0.97250631, 0.97531068, 0.97114748, 0.02890508,\n",
       "        0.03422671],\n",
       "       [0.96934688, 0.96174791, 0.96466816, 0.96591361, 0.00654318,\n",
       "        0.00997796],\n",
       "       ...,\n",
       "       [0.05938628, 0.04851242, 0.06312797, 0.05704253, 0.00646584,\n",
       "        0.03190625],\n",
       "       [0.05736701, 0.04718422, 0.06045082, 0.05492249, 0.04295076,\n",
       "        0.05835944],\n",
       "       [0.05528154, 0.04466065, 0.06104574, 0.05522062, 0.00448995,\n",
       "        0.00603318]])"
      ]
     },
     "execution_count": 12,
     "metadata": {},
     "output_type": "execute_result"
    }
   ],
   "source": [
    "# Scale test data\n",
    "test_scaled = scaler.fit_transform(test)\n",
    "\n",
    "test_scaled"
   ]
  },
  {
   "cell_type": "code",
   "execution_count": 13,
   "id": "4f355bd1",
   "metadata": {},
   "outputs": [
    {
     "data": {
      "text/plain": [
       "(10764, 60, 5)"
      ]
     },
     "execution_count": 13,
     "metadata": {},
     "output_type": "execute_result"
    }
   ],
   "source": [
    "# Set global candles variable\n",
    "candles=60\n",
    "\n",
    "# Create X training set\n",
    "X_train = []\n",
    "\n",
    "for i in range(len(train_scaled) - candles):\n",
    "    X_train.append(train_scaled[:,(0,1,2,4,5)][i:i+candles])\n",
    "\n",
    "X_train = np.array(X_train)\n",
    "X_train.shape"
   ]
  },
  {
   "cell_type": "code",
   "execution_count": 14,
   "id": "ee27c3d3",
   "metadata": {},
   "outputs": [
    {
     "data": {
      "text/plain": [
       "(10764,)"
      ]
     },
     "execution_count": 14,
     "metadata": {},
     "output_type": "execute_result"
    }
   ],
   "source": [
    "# Create y training set\n",
    "y_train = []\n",
    "\n",
    "for i in range(len(train_scaled) - candles):\n",
    "    y_train.append(train_scaled[:,(3)][i+candles])\n",
    "\n",
    "y_train = np.array(y_train)\n",
    "y_train.shape"
   ]
  },
  {
   "cell_type": "code",
   "execution_count": 15,
   "id": "fecde592",
   "metadata": {},
   "outputs": [
    {
     "data": {
      "text/plain": [
       "(4580, 60, 5)"
      ]
     },
     "execution_count": 15,
     "metadata": {},
     "output_type": "execute_result"
    }
   ],
   "source": [
    "# Create X test set\n",
    "X_test = []\n",
    "\n",
    "for i in range(len(test_scaled) - candles):\n",
    "    X_test.append(test_scaled[:,(0,1,2,4,5)][i  : i+candles])\n",
    "\n",
    "X_test = np.array(X_test)\n",
    "X_test.shape"
   ]
  },
  {
   "cell_type": "code",
   "execution_count": 16,
   "id": "8755c695",
   "metadata": {},
   "outputs": [
    {
     "data": {
      "text/plain": [
       "(4580,)"
      ]
     },
     "execution_count": 16,
     "metadata": {},
     "output_type": "execute_result"
    }
   ],
   "source": [
    "# Create y test set\n",
    "y_test = []\n",
    "\n",
    "for i in range(len(test_scaled) - candles):\n",
    "    y_test.append(test_scaled[:,(3)][i+candles])\n",
    "\n",
    "y_test = np.array(y_test)\n",
    "y_test.shape"
   ]
  },
  {
   "cell_type": "markdown",
   "id": "737757e8",
   "metadata": {},
   "source": [
    "## Model Creation"
   ]
  },
  {
   "cell_type": "code",
   "execution_count": 17,
   "id": "35540597",
   "metadata": {},
   "outputs": [
    {
     "data": {
      "text/plain": [
       "64"
      ]
     },
     "metadata": {},
     "output_type": "display_data"
    },
    {
     "data": {
      "text/plain": [
       "64"
      ]
     },
     "metadata": {},
     "output_type": "display_data"
    },
    {
     "data": {
      "text/plain": [
       "64"
      ]
     },
     "metadata": {},
     "output_type": "display_data"
    }
   ],
   "source": [
    "# Create the Sequential model instance\n",
    "regr_nn = Sequential()\n",
    "\n",
    "# Define the number of neurons in the output layer\n",
    "number_output_neurons = 1\n",
    "\n",
    "#Define the number of hidden nodes for the first hidden layer\n",
    "hidden_nodes_layer1 = 64\n",
    "\n",
    "# Define hidden nodes for all hidden layers\n",
    "hidden_nodes = 64\n",
    "display(hidden_nodes)\n",
    "\n",
    "# Review the number hidden nodes in the first layer\n",
    "display(hidden_nodes_layer1)\n",
    "\n",
    "#Define the number of hidden nodes for the second hidden layer\n",
    "hidden_nodes_layer2 = 64\n",
    "\n",
    "# Review the number hidden nodes in the second layer\n",
    "display(hidden_nodes_layer2)"
   ]
  },
  {
   "cell_type": "code",
   "execution_count": 18,
   "id": "3dd184fc",
   "metadata": {},
   "outputs": [],
   "source": [
    "# Add the first hidden layer\n",
    "regr_nn.add(LSTM(units=hidden_nodes_layer1, return_sequences=True, input_shape=(candles,(len(btc_df.columns)-1))))"
   ]
  },
  {
   "cell_type": "code",
   "execution_count": 19,
   "id": "318dba3b",
   "metadata": {},
   "outputs": [],
   "source": [
    "# # Add dropout layer\n",
    "regr_nn.add(Dropout(rate=0.2))"
   ]
  },
  {
   "cell_type": "code",
   "execution_count": 20,
   "id": "a0a0c87c",
   "metadata": {},
   "outputs": [],
   "source": [
    "#Add the second hidden layer\n",
    "regr_nn.add(LSTM(units=hidden_nodes, return_sequences=True))\n"
   ]
  },
  {
   "cell_type": "code",
   "execution_count": 21,
   "id": "32535ceb",
   "metadata": {},
   "outputs": [],
   "source": [
    "# # Add dropout layer\n",
    "regr_nn.add(Dropout(rate=0.2))"
   ]
  },
  {
   "cell_type": "code",
   "execution_count": 22,
   "id": "fd4ad807",
   "metadata": {},
   "outputs": [],
   "source": [
    "# #Add the third hidden layer\n",
    "regr_nn.add(LSTM(units=hidden_nodes))"
   ]
  },
  {
   "cell_type": "code",
   "execution_count": 23,
   "id": "e74381da",
   "metadata": {},
   "outputs": [],
   "source": [
    "# # Add dropout layer\n",
    "# regr_nn.add(Dropout(rate=0.2))"
   ]
  },
  {
   "cell_type": "code",
   "execution_count": 24,
   "id": "6b293aeb",
   "metadata": {},
   "outputs": [],
   "source": [
    "# Add Dense layer\n",
    "# regr_nn.add(Dense(units=6, activation='relu'))"
   ]
  },
  {
   "cell_type": "code",
   "execution_count": 25,
   "id": "21bfb7b4",
   "metadata": {},
   "outputs": [],
   "source": [
    "# Add the output layer to the model specifying the number of output neurons and activation function\n",
    "regr_nn.add(Dense(units=1,  activation='linear'))\n"
   ]
  },
  {
   "cell_type": "code",
   "execution_count": 26,
   "id": "a32137c2",
   "metadata": {},
   "outputs": [
    {
     "name": "stdout",
     "output_type": "stream",
     "text": [
      "Model: \"sequential\"\n",
      "_________________________________________________________________\n",
      " Layer (type)                Output Shape              Param #   \n",
      "=================================================================\n",
      " lstm (LSTM)                 (None, 60, 64)            17920     \n",
      "                                                                 \n",
      " dropout (Dropout)           (None, 60, 64)            0         \n",
      "                                                                 \n",
      " lstm_1 (LSTM)               (None, 60, 64)            33024     \n",
      "                                                                 \n",
      " dropout_1 (Dropout)         (None, 60, 64)            0         \n",
      "                                                                 \n",
      " lstm_2 (LSTM)               (None, 64)                33024     \n",
      "                                                                 \n",
      " dense (Dense)               (None, 1)                 65        \n",
      "                                                                 \n",
      "=================================================================\n",
      "Total params: 84,033\n",
      "Trainable params: 84,033\n",
      "Non-trainable params: 0\n",
      "_________________________________________________________________\n"
     ]
    }
   ],
   "source": [
    "# Display the Sequential model summary, subclassed model requires build\n",
    "regr_nn.build(X_train.shape)\n",
    "regr_nn.summary()"
   ]
  },
  {
   "cell_type": "code",
   "execution_count": 27,
   "id": "278bc04e",
   "metadata": {},
   "outputs": [],
   "source": [
    "# Compile the Sequential model\n",
    "\n",
    "regr_nn.compile(loss='mean_squared_error', optimizer='adam')"
   ]
  },
  {
   "cell_type": "code",
   "execution_count": 28,
   "id": "7881e7f5",
   "metadata": {},
   "outputs": [
    {
     "name": "stdout",
     "output_type": "stream",
     "text": [
      "Epoch 1/20\n",
      "333/333 [==============================] - 13s 17ms/step - loss: 0.0026 - val_loss: 3.8292e-04\n",
      "Epoch 2/20\n",
      "333/333 [==============================] - 4s 13ms/step - loss: 8.8588e-04 - val_loss: 2.5273e-04\n",
      "Epoch 3/20\n",
      "333/333 [==============================] - 4s 13ms/step - loss: 7.8028e-04 - val_loss: 4.5336e-04\n",
      "Epoch 4/20\n",
      "333/333 [==============================] - 4s 13ms/step - loss: 7.2994e-04 - val_loss: 1.4269e-04\n",
      "Epoch 5/20\n",
      "333/333 [==============================] - 4s 13ms/step - loss: 6.3811e-04 - val_loss: 1.3520e-04\n",
      "Epoch 6/20\n",
      "333/333 [==============================] - 4s 13ms/step - loss: 5.3515e-04 - val_loss: 2.5176e-04\n",
      "Epoch 7/20\n",
      "333/333 [==============================] - 4s 13ms/step - loss: 5.1894e-04 - val_loss: 1.0799e-04\n",
      "Epoch 8/20\n",
      "333/333 [==============================] - 5s 14ms/step - loss: 4.6143e-04 - val_loss: 4.3265e-04\n",
      "Epoch 9/20\n",
      "333/333 [==============================] - 4s 13ms/step - loss: 4.6717e-04 - val_loss: 1.4615e-04\n",
      "Epoch 10/20\n",
      "333/333 [==============================] - 4s 13ms/step - loss: 4.1828e-04 - val_loss: 9.9077e-05\n",
      "Epoch 11/20\n",
      "333/333 [==============================] - 5s 14ms/step - loss: 3.9439e-04 - val_loss: 1.2385e-04\n",
      "Epoch 12/20\n",
      "333/333 [==============================] - 4s 13ms/step - loss: 3.5497e-04 - val_loss: 7.4710e-05\n",
      "Epoch 13/20\n",
      "333/333 [==============================] - 4s 13ms/step - loss: 3.8614e-04 - val_loss: 9.3320e-05\n",
      "Epoch 14/20\n",
      "333/333 [==============================] - 4s 13ms/step - loss: 3.2112e-04 - val_loss: 1.6282e-04\n",
      "Epoch 15/20\n",
      "333/333 [==============================] - 4s 13ms/step - loss: 3.4940e-04 - val_loss: 7.2115e-05\n",
      "Epoch 16/20\n",
      "333/333 [==============================] - 4s 13ms/step - loss: 3.1498e-04 - val_loss: 1.2490e-04\n",
      "Epoch 17/20\n",
      "333/333 [==============================] - 5s 14ms/step - loss: 2.8955e-04 - val_loss: 5.3861e-05\n",
      "Epoch 18/20\n",
      "333/333 [==============================] - 4s 13ms/step - loss: 2.8998e-04 - val_loss: 8.7911e-05\n",
      "Epoch 19/20\n",
      "333/333 [==============================] - 4s 13ms/step - loss: 2.8321e-04 - val_loss: 4.9373e-05\n",
      "Epoch 20/20\n",
      "333/333 [==============================] - 4s 13ms/step - loss: 2.5585e-04 - val_loss: 6.5322e-05\n"
     ]
    }
   ],
   "source": [
    "# Fit the model using epochs and the training data\n",
    "regr_model=regr_nn.fit(X_train, y_train, epochs=20, validation_split=.01)"
   ]
  },
  {
   "cell_type": "code",
   "execution_count": 29,
   "id": "0d6b54c1",
   "metadata": {},
   "outputs": [
    {
     "data": {
      "image/png": "[encoded data removed]",
      "text/plain": [
       "<Figure size 640x480 with 1 Axes>"
      ]
     },
     "metadata": {},
     "output_type": "display_data"
    }
   ],
   "source": [
    "# Train vs test for loss\n",
    "plt.plot(regr_model.history[\"loss\"])\n",
    "plt.plot(regr_model.history[\"val_loss\"])\n",
    "plt.title(\"Training Vs. Validation 2 LSTM, w/ Dropout\")\n",
    "plt.legend([\"loss\", \"val_loss\"])\n",
    "plt.show()"
   ]
  },
  {
   "cell_type": "code",
   "execution_count": 30,
   "id": "27737358",
   "metadata": {},
   "outputs": [
    {
     "name": "stdout",
     "output_type": "stream",
     "text": [
      "144/144 [==============================] - 2s 6ms/step\n"
     ]
    },
    {
     "data": {
      "text/plain": [
       "array([[0.946539  ],\n",
       "       [0.9473816 ],\n",
       "       [0.95026064],\n",
       "       ...,\n",
       "       [0.03513408],\n",
       "       [0.03450927],\n",
       "       [0.03239036]], dtype=float32)"
      ]
     },
     "execution_count": 30,
     "metadata": {},
     "output_type": "execute_result"
    }
   ],
   "source": [
    "# Make model predictionis\n",
    "\n",
    "y_pred=regr_nn.predict(X_test)\n",
    "\n",
    "y_pred\n"
   ]
  },
  {
   "cell_type": "code",
   "execution_count": 31,
   "id": "2b76f42d",
   "metadata": {},
   "outputs": [
    {
     "data": {
      "text/plain": [
       "<matplotlib.legend.Legend at 0x1c8e0003880>"
      ]
     },
     "execution_count": 31,
     "metadata": {},
     "output_type": "execute_result"
    },
    {
     "data": {
      "image/png": "[encoded data removed]",
      "text/plain": [
       "<Figure size 640x480 with 1 Axes>"
      ]
     },
     "metadata": {},
     "output_type": "display_data"
    }
   ],
   "source": [
    "# Plot prediction results\n",
    "plt.plot(range(len(y_test)), (y_test))\n",
    "plt.plot(range(len(y_test)), (y_pred))\n",
    "plt.legend([\"test\", \"prediction\"])"
   ]
  },
  {
   "cell_type": "code",
   "execution_count": 32,
   "id": "e9607f67",
   "metadata": {},
   "outputs": [],
   "source": [
    "# Set the file path for the first regression model\n",
    "file_path = Path('Models/regr_nn.h5')\n",
    "\n",
    "# Export your model to a HDF5 file\n",
    "regr_nn.save(file_path)"
   ]
  },
  {
   "cell_type": "code",
   "execution_count": null,
   "metadata": {},
   "outputs": [],
   "source": []
  }
 ],
 "metadata": {
  "kernelspec": {
   "display_name": "Python 3.8.13 ('dev')",
   "language": "python",
   "name": "python3"
  },
  "language_info": {
   "codemirror_mode": {
    "name": "ipython",
    "version": 3
   },
   "file_extension": ".py",
   "mimetype": "text/x-python",
   "name": "python",
   "nbconvert_exporter": "python",
   "pygments_lexer": "ipython3",
   "version": "3.8.13"
  },
  "vscode": {
   "interpreter": {
    "hash": "e0193224db03a40cbeeb1d1467a8281023d0cf41b04cb80c5135a7c4428e4098"
   }
  }
 },
 "nbformat": 4,
 "nbformat_minor": 5
}
