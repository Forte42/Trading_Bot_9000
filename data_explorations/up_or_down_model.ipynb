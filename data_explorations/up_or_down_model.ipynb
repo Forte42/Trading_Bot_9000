{
 "cells": [
  {
   "cell_type": "code",
   "execution_count": 85,
   "id": "3d2d2986-8f0f-4112-b2a2-03b767dffc76",
   "metadata": {},
   "outputs": [],
   "source": [
    "import pandas as pd\n",
    "import numpy as np\n",
    "# from dotenv import load_dotenv\n",
    "from pandas.tseries.offsets import DateOffset\n",
    "import os\n",
    "import requests\n",
    "import datetime\n",
    "from alpaca.data.historical import CryptoHistoricalDataClient\n",
    "from alpaca.data.requests import CryptoBarsRequest\n",
    "from alpaca.data.requests import CryptoLatestQuoteRequest\n",
    "from alpaca.data.requests import CryptoTradesRequest\n",
    "from alpaca.data.timeframe import TimeFrame\n",
    "from sklearn.preprocessing import MinMaxScaler\n",
    "from sklearn.preprocessing import StandardScaler\n",
    "import tensorflow as tf\n",
    "from tensorflow.keras.layers import Dense, Conv1D\n",
    "from tensorflow.keras.models import Sequential\n",
    "from tensorflow.keras.layers import LSTM\n",
    "import matplotlib.pyplot as plt\n",
    "from numpy.lib import math\n",
    "from tensorflow.keras.layers import Dropout\n",
    "from tensorflow.keras.layers import TimeDistributed\n",
    "from tensorflow.keras.layers import Bidirectional\n",
    "from pathlib import Path\n",
    "%matplotlib inline"
   ]
  },
  {
   "cell_type": "markdown",
   "id": "a38f52a9",
   "metadata": {},
   "source": [
    "## Data Retreival/Formatting"
   ]
  },
  {
   "cell_type": "code",
   "execution_count": 86,
   "id": "559f825e-3b85-4576-9416-686c4c1c822f",
   "metadata": {},
   "outputs": [],
   "source": [
    "# alpaca_api_key = os.getenv(\"ALPACA_API_KEY\")\n",
    "# alpaca_secret_key = os.getenv(\"ALPACA_SECRET_KEY\")"
   ]
  },
  {
   "cell_type": "code",
   "execution_count": 87,
   "id": "91637821-f0fc-4c21-9ce4-c7ff383aecb5",
   "metadata": {},
   "outputs": [],
   "source": [
    "# type(alpaca_api_key)"
   ]
  },
  {
   "cell_type": "code",
   "execution_count": 88,
   "id": "d1e11ecf-535d-43e9-a2c8-25231333ef73",
   "metadata": {},
   "outputs": [],
   "source": [
    "crypto_client = CryptoHistoricalDataClient()"
   ]
  },
  {
   "cell_type": "code",
   "execution_count": 89,
   "id": "f5e5c4e2-8dd6-439f-be3f-dee63af334e7",
   "metadata": {},
   "outputs": [],
   "source": [
    "# Pull data\n",
    "\n",
    "request_params = CryptoBarsRequest(\n",
    "    symbol_or_symbols=[\"BTC/USD\"],\n",
    "    timeframe=TimeFrame.Hour, start='2021-01-01 00:00:00'\n",
    ")\n",
    "\n",
    "btc_bars = crypto_client.get_crypto_bars(request_params)\n"
   ]
  },
  {
   "cell_type": "code",
   "execution_count": 90,
   "id": "0b9cc30c",
   "metadata": {},
   "outputs": [
    {
     "data": {
      "text/html": [
       "<div>\n",
       "<style scoped>\n",
       "    .dataframe tbody tr th:only-of-type {\n",
       "        vertical-align: middle;\n",
       "    }\n",
       "\n",
       "    .dataframe tbody tr th {\n",
       "        vertical-align: top;\n",
       "    }\n",
       "\n",
       "    .dataframe thead th {\n",
       "        text-align: right;\n",
       "    }\n",
       "</style>\n",
       "<table border=\"1\" class=\"dataframe\">\n",
       "  <thead>\n",
       "    <tr style=\"text-align: right;\">\n",
       "      <th></th>\n",
       "      <th></th>\n",
       "      <th>open</th>\n",
       "      <th>high</th>\n",
       "      <th>low</th>\n",
       "      <th>close</th>\n",
       "      <th>volume</th>\n",
       "      <th>trade_count</th>\n",
       "      <th>vwap</th>\n",
       "    </tr>\n",
       "    <tr>\n",
       "      <th>symbol</th>\n",
       "      <th>timestamp</th>\n",
       "      <th></th>\n",
       "      <th></th>\n",
       "      <th></th>\n",
       "      <th></th>\n",
       "      <th></th>\n",
       "      <th></th>\n",
       "      <th></th>\n",
       "    </tr>\n",
       "  </thead>\n",
       "  <tbody>\n",
       "    <tr>\n",
       "      <th rowspan=\"11\" valign=\"top\">BTC/USD</th>\n",
       "      <th>2021-01-01 00:00:00+00:00</th>\n",
       "      <td>28973.0</td>\n",
       "      <td>29073.5</td>\n",
       "      <td>28775.0</td>\n",
       "      <td>29065.0</td>\n",
       "      <td>3.4437</td>\n",
       "      <td>72.0</td>\n",
       "      <td>28968.839097</td>\n",
       "    </tr>\n",
       "    <tr>\n",
       "      <th>2021-01-01 01:00:00+00:00</th>\n",
       "      <td>29070.0</td>\n",
       "      <td>29481.0</td>\n",
       "      <td>29038.5</td>\n",
       "      <td>29404.5</td>\n",
       "      <td>4.6183</td>\n",
       "      <td>65.0</td>\n",
       "      <td>29359.399487</td>\n",
       "    </tr>\n",
       "    <tr>\n",
       "      <th>2021-01-01 02:00:00+00:00</th>\n",
       "      <td>29528.0</td>\n",
       "      <td>29528.0</td>\n",
       "      <td>29218.0</td>\n",
       "      <td>29245.0</td>\n",
       "      <td>4.3423</td>\n",
       "      <td>42.0</td>\n",
       "      <td>29361.540923</td>\n",
       "    </tr>\n",
       "    <tr>\n",
       "      <th>2021-01-01 03:00:00+00:00</th>\n",
       "      <td>29400.5</td>\n",
       "      <td>29400.5</td>\n",
       "      <td>29337.0</td>\n",
       "      <td>29367.5</td>\n",
       "      <td>0.3089</td>\n",
       "      <td>3.0</td>\n",
       "      <td>29400.447394</td>\n",
       "    </tr>\n",
       "    <tr>\n",
       "      <th>2021-01-01 04:00:00+00:00</th>\n",
       "      <td>29449.0</td>\n",
       "      <td>29449.0</td>\n",
       "      <td>29136.5</td>\n",
       "      <td>29189.5</td>\n",
       "      <td>2.0245</td>\n",
       "      <td>34.0</td>\n",
       "      <td>29302.743369</td>\n",
       "    </tr>\n",
       "    <tr>\n",
       "      <th>...</th>\n",
       "      <td>...</td>\n",
       "      <td>...</td>\n",
       "      <td>...</td>\n",
       "      <td>...</td>\n",
       "      <td>...</td>\n",
       "      <td>...</td>\n",
       "      <td>...</td>\n",
       "    </tr>\n",
       "    <tr>\n",
       "      <th>2022-10-08 01:00:00+00:00</th>\n",
       "      <td>19573.0</td>\n",
       "      <td>19593.0</td>\n",
       "      <td>19551.0</td>\n",
       "      <td>19592.0</td>\n",
       "      <td>52.5334</td>\n",
       "      <td>389.0</td>\n",
       "      <td>19581.419948</td>\n",
       "    </tr>\n",
       "    <tr>\n",
       "      <th>2022-10-08 02:00:00+00:00</th>\n",
       "      <td>19592.0</td>\n",
       "      <td>19597.0</td>\n",
       "      <td>19548.0</td>\n",
       "      <td>19564.0</td>\n",
       "      <td>0.6644</td>\n",
       "      <td>189.0</td>\n",
       "      <td>19579.694160</td>\n",
       "    </tr>\n",
       "    <tr>\n",
       "      <th>2022-10-08 03:00:00+00:00</th>\n",
       "      <td>19565.0</td>\n",
       "      <td>19565.0</td>\n",
       "      <td>19500.0</td>\n",
       "      <td>19504.0</td>\n",
       "      <td>23.3546</td>\n",
       "      <td>282.0</td>\n",
       "      <td>19516.624344</td>\n",
       "    </tr>\n",
       "    <tr>\n",
       "      <th>2022-10-08 04:00:00+00:00</th>\n",
       "      <td>19504.0</td>\n",
       "      <td>19525.0</td>\n",
       "      <td>19419.0</td>\n",
       "      <td>19440.0</td>\n",
       "      <td>154.6978</td>\n",
       "      <td>510.0</td>\n",
       "      <td>19457.443565</td>\n",
       "    </tr>\n",
       "    <tr>\n",
       "      <th>2022-10-08 05:00:00+00:00</th>\n",
       "      <td>19441.0</td>\n",
       "      <td>19476.0</td>\n",
       "      <td>19437.0</td>\n",
       "      <td>19474.0</td>\n",
       "      <td>48.6124</td>\n",
       "      <td>160.0</td>\n",
       "      <td>19451.765689</td>\n",
       "    </tr>\n",
       "  </tbody>\n",
       "</table>\n",
       "<p>15464 rows × 7 columns</p>\n",
       "</div>"
      ],
      "text/plain": [
       "                                      open     high      low    close  \\\n",
       "symbol  timestamp                                                       \n",
       "BTC/USD 2021-01-01 00:00:00+00:00  28973.0  29073.5  28775.0  29065.0   \n",
       "        2021-01-01 01:00:00+00:00  29070.0  29481.0  29038.5  29404.5   \n",
       "        2021-01-01 02:00:00+00:00  29528.0  29528.0  29218.0  29245.0   \n",
       "        2021-01-01 03:00:00+00:00  29400.5  29400.5  29337.0  29367.5   \n",
       "        2021-01-01 04:00:00+00:00  29449.0  29449.0  29136.5  29189.5   \n",
       "...                                    ...      ...      ...      ...   \n",
       "        2022-10-08 01:00:00+00:00  19573.0  19593.0  19551.0  19592.0   \n",
       "        2022-10-08 02:00:00+00:00  19592.0  19597.0  19548.0  19564.0   \n",
       "        2022-10-08 03:00:00+00:00  19565.0  19565.0  19500.0  19504.0   \n",
       "        2022-10-08 04:00:00+00:00  19504.0  19525.0  19419.0  19440.0   \n",
       "        2022-10-08 05:00:00+00:00  19441.0  19476.0  19437.0  19474.0   \n",
       "\n",
       "                                     volume  trade_count          vwap  \n",
       "symbol  timestamp                                                       \n",
       "BTC/USD 2021-01-01 00:00:00+00:00    3.4437         72.0  28968.839097  \n",
       "        2021-01-01 01:00:00+00:00    4.6183         65.0  29359.399487  \n",
       "        2021-01-01 02:00:00+00:00    4.3423         42.0  29361.540923  \n",
       "        2021-01-01 03:00:00+00:00    0.3089          3.0  29400.447394  \n",
       "        2021-01-01 04:00:00+00:00    2.0245         34.0  29302.743369  \n",
       "...                                     ...          ...           ...  \n",
       "        2022-10-08 01:00:00+00:00   52.5334        389.0  19581.419948  \n",
       "        2022-10-08 02:00:00+00:00    0.6644        189.0  19579.694160  \n",
       "        2022-10-08 03:00:00+00:00   23.3546        282.0  19516.624344  \n",
       "        2022-10-08 04:00:00+00:00  154.6978        510.0  19457.443565  \n",
       "        2022-10-08 05:00:00+00:00   48.6124        160.0  19451.765689  \n",
       "\n",
       "[15464 rows x 7 columns]"
      ]
     },
     "execution_count": 90,
     "metadata": {},
     "output_type": "execute_result"
    }
   ],
   "source": [
    "# Breakpoint so I don't have to make an API call to refresh data\n",
    "\n",
    "btc_df = btc_bars.df\n",
    "\n",
    "btc_df"
   ]
  },
  {
   "cell_type": "code",
   "execution_count": 91,
   "id": "e43a2c0d-1047-4e64-9fc6-b1f8ac1b0dd2",
   "metadata": {},
   "outputs": [
    {
     "data": {
      "text/plain": [
       "open           float64\n",
       "high           float64\n",
       "low            float64\n",
       "close          float64\n",
       "volume         float64\n",
       "trade_count    float64\n",
       "vwap           float64\n",
       "dtype: object"
      ]
     },
     "execution_count": 91,
     "metadata": {},
     "output_type": "execute_result"
    }
   ],
   "source": [
    "btc_df.dtypes"
   ]
  },
  {
   "cell_type": "code",
   "execution_count": 92,
   "id": "6d4a2203",
   "metadata": {},
   "outputs": [
    {
     "data": {
      "text/html": [
       "<div>\n",
       "<style scoped>\n",
       "    .dataframe tbody tr th:only-of-type {\n",
       "        vertical-align: middle;\n",
       "    }\n",
       "\n",
       "    .dataframe tbody tr th {\n",
       "        vertical-align: top;\n",
       "    }\n",
       "\n",
       "    .dataframe thead th {\n",
       "        text-align: right;\n",
       "    }\n",
       "</style>\n",
       "<table border=\"1\" class=\"dataframe\">\n",
       "  <thead>\n",
       "    <tr style=\"text-align: right;\">\n",
       "      <th></th>\n",
       "      <th>open</th>\n",
       "      <th>high</th>\n",
       "      <th>low</th>\n",
       "      <th>close</th>\n",
       "      <th>volume</th>\n",
       "      <th>trade_count</th>\n",
       "    </tr>\n",
       "    <tr>\n",
       "      <th>timestamp</th>\n",
       "      <th></th>\n",
       "      <th></th>\n",
       "      <th></th>\n",
       "      <th></th>\n",
       "      <th></th>\n",
       "      <th></th>\n",
       "    </tr>\n",
       "  </thead>\n",
       "  <tbody>\n",
       "    <tr>\n",
       "      <th>2021-01-01 00:00:00+00:00</th>\n",
       "      <td>28973.0</td>\n",
       "      <td>29073.5</td>\n",
       "      <td>28775.0</td>\n",
       "      <td>29065.0</td>\n",
       "      <td>3.4437</td>\n",
       "      <td>72.0</td>\n",
       "    </tr>\n",
       "    <tr>\n",
       "      <th>2021-01-01 01:00:00+00:00</th>\n",
       "      <td>29070.0</td>\n",
       "      <td>29481.0</td>\n",
       "      <td>29038.5</td>\n",
       "      <td>29404.5</td>\n",
       "      <td>4.6183</td>\n",
       "      <td>65.0</td>\n",
       "    </tr>\n",
       "    <tr>\n",
       "      <th>2021-01-01 02:00:00+00:00</th>\n",
       "      <td>29528.0</td>\n",
       "      <td>29528.0</td>\n",
       "      <td>29218.0</td>\n",
       "      <td>29245.0</td>\n",
       "      <td>4.3423</td>\n",
       "      <td>42.0</td>\n",
       "    </tr>\n",
       "    <tr>\n",
       "      <th>2021-01-01 03:00:00+00:00</th>\n",
       "      <td>29400.5</td>\n",
       "      <td>29400.5</td>\n",
       "      <td>29337.0</td>\n",
       "      <td>29367.5</td>\n",
       "      <td>0.3089</td>\n",
       "      <td>3.0</td>\n",
       "    </tr>\n",
       "    <tr>\n",
       "      <th>2021-01-01 04:00:00+00:00</th>\n",
       "      <td>29449.0</td>\n",
       "      <td>29449.0</td>\n",
       "      <td>29136.5</td>\n",
       "      <td>29189.5</td>\n",
       "      <td>2.0245</td>\n",
       "      <td>34.0</td>\n",
       "    </tr>\n",
       "    <tr>\n",
       "      <th>...</th>\n",
       "      <td>...</td>\n",
       "      <td>...</td>\n",
       "      <td>...</td>\n",
       "      <td>...</td>\n",
       "      <td>...</td>\n",
       "      <td>...</td>\n",
       "    </tr>\n",
       "    <tr>\n",
       "      <th>2022-10-08 01:00:00+00:00</th>\n",
       "      <td>19573.0</td>\n",
       "      <td>19593.0</td>\n",
       "      <td>19551.0</td>\n",
       "      <td>19592.0</td>\n",
       "      <td>52.5334</td>\n",
       "      <td>389.0</td>\n",
       "    </tr>\n",
       "    <tr>\n",
       "      <th>2022-10-08 02:00:00+00:00</th>\n",
       "      <td>19592.0</td>\n",
       "      <td>19597.0</td>\n",
       "      <td>19548.0</td>\n",
       "      <td>19564.0</td>\n",
       "      <td>0.6644</td>\n",
       "      <td>189.0</td>\n",
       "    </tr>\n",
       "    <tr>\n",
       "      <th>2022-10-08 03:00:00+00:00</th>\n",
       "      <td>19565.0</td>\n",
       "      <td>19565.0</td>\n",
       "      <td>19500.0</td>\n",
       "      <td>19504.0</td>\n",
       "      <td>23.3546</td>\n",
       "      <td>282.0</td>\n",
       "    </tr>\n",
       "    <tr>\n",
       "      <th>2022-10-08 04:00:00+00:00</th>\n",
       "      <td>19504.0</td>\n",
       "      <td>19525.0</td>\n",
       "      <td>19419.0</td>\n",
       "      <td>19440.0</td>\n",
       "      <td>154.6978</td>\n",
       "      <td>510.0</td>\n",
       "    </tr>\n",
       "    <tr>\n",
       "      <th>2022-10-08 05:00:00+00:00</th>\n",
       "      <td>19441.0</td>\n",
       "      <td>19476.0</td>\n",
       "      <td>19437.0</td>\n",
       "      <td>19474.0</td>\n",
       "      <td>48.6124</td>\n",
       "      <td>160.0</td>\n",
       "    </tr>\n",
       "  </tbody>\n",
       "</table>\n",
       "<p>15464 rows × 6 columns</p>\n",
       "</div>"
      ],
      "text/plain": [
       "                              open     high      low    close    volume  \\\n",
       "timestamp                                                                 \n",
       "2021-01-01 00:00:00+00:00  28973.0  29073.5  28775.0  29065.0    3.4437   \n",
       "2021-01-01 01:00:00+00:00  29070.0  29481.0  29038.5  29404.5    4.6183   \n",
       "2021-01-01 02:00:00+00:00  29528.0  29528.0  29218.0  29245.0    4.3423   \n",
       "2021-01-01 03:00:00+00:00  29400.5  29400.5  29337.0  29367.5    0.3089   \n",
       "2021-01-01 04:00:00+00:00  29449.0  29449.0  29136.5  29189.5    2.0245   \n",
       "...                            ...      ...      ...      ...       ...   \n",
       "2022-10-08 01:00:00+00:00  19573.0  19593.0  19551.0  19592.0   52.5334   \n",
       "2022-10-08 02:00:00+00:00  19592.0  19597.0  19548.0  19564.0    0.6644   \n",
       "2022-10-08 03:00:00+00:00  19565.0  19565.0  19500.0  19504.0   23.3546   \n",
       "2022-10-08 04:00:00+00:00  19504.0  19525.0  19419.0  19440.0  154.6978   \n",
       "2022-10-08 05:00:00+00:00  19441.0  19476.0  19437.0  19474.0   48.6124   \n",
       "\n",
       "                           trade_count  \n",
       "timestamp                               \n",
       "2021-01-01 00:00:00+00:00         72.0  \n",
       "2021-01-01 01:00:00+00:00         65.0  \n",
       "2021-01-01 02:00:00+00:00         42.0  \n",
       "2021-01-01 03:00:00+00:00          3.0  \n",
       "2021-01-01 04:00:00+00:00         34.0  \n",
       "...                                ...  \n",
       "2022-10-08 01:00:00+00:00        389.0  \n",
       "2022-10-08 02:00:00+00:00        189.0  \n",
       "2022-10-08 03:00:00+00:00        282.0  \n",
       "2022-10-08 04:00:00+00:00        510.0  \n",
       "2022-10-08 05:00:00+00:00        160.0  \n",
       "\n",
       "[15464 rows x 6 columns]"
      ]
     },
     "execution_count": 92,
     "metadata": {},
     "output_type": "execute_result"
    }
   ],
   "source": [
    "# Create dataframe\n",
    "\n",
    "btc_df = btc_df.reset_index()\n",
    "btc_df = btc_df.set_index('timestamp')\n",
    "btc_df = btc_df.drop(columns=['symbol','vwap'])\n",
    "\n",
    "btc_df"
   ]
  },
  {
   "cell_type": "code",
   "execution_count": 93,
   "id": "eb5a63cb",
   "metadata": {},
   "outputs": [],
   "source": [
    "# Use the pct_change function to generate  returns from close prices\n",
    "btc_df[\"Actual Returns\"] = btc_df[\"close\"].pct_change()\n",
    "\n",
    "# Drop na\n",
    "btc_df=btc_df.dropna()"
   ]
  },
  {
   "cell_type": "code",
   "execution_count": 94,
   "id": "bd400da8",
   "metadata": {},
   "outputs": [
    {
     "name": "stderr",
     "output_type": "stream",
     "text": [
      "C:\\Users\\gtkhh\\AppData\\Local\\Temp\\ipykernel_21856\\2101336388.py:2: SettingWithCopyWarning: \n",
      "A value is trying to be set on a copy of a slice from a DataFrame.\n",
      "Try using .loc[row_indexer,col_indexer] = value instead\n",
      "\n",
      "See the caveats in the documentation: https://pandas.pydata.org/pandas-docs/stable/user_guide/indexing.html#returning-a-view-versus-a-copy\n",
      "  btc_df['Signal'] = 0.0\n"
     ]
    },
    {
     "data": {
      "text/html": [
       "<div>\n",
       "<style scoped>\n",
       "    .dataframe tbody tr th:only-of-type {\n",
       "        vertical-align: middle;\n",
       "    }\n",
       "\n",
       "    .dataframe tbody tr th {\n",
       "        vertical-align: top;\n",
       "    }\n",
       "\n",
       "    .dataframe thead th {\n",
       "        text-align: right;\n",
       "    }\n",
       "</style>\n",
       "<table border=\"1\" class=\"dataframe\">\n",
       "  <thead>\n",
       "    <tr style=\"text-align: right;\">\n",
       "      <th></th>\n",
       "      <th>open</th>\n",
       "      <th>high</th>\n",
       "      <th>low</th>\n",
       "      <th>close</th>\n",
       "      <th>volume</th>\n",
       "      <th>trade_count</th>\n",
       "      <th>Actual Returns</th>\n",
       "      <th>Signal</th>\n",
       "    </tr>\n",
       "    <tr>\n",
       "      <th>timestamp</th>\n",
       "      <th></th>\n",
       "      <th></th>\n",
       "      <th></th>\n",
       "      <th></th>\n",
       "      <th></th>\n",
       "      <th></th>\n",
       "      <th></th>\n",
       "      <th></th>\n",
       "    </tr>\n",
       "  </thead>\n",
       "  <tbody>\n",
       "    <tr>\n",
       "      <th>2021-01-01 01:00:00+00:00</th>\n",
       "      <td>29070.0</td>\n",
       "      <td>29481.0</td>\n",
       "      <td>29038.5</td>\n",
       "      <td>29404.5</td>\n",
       "      <td>4.6183</td>\n",
       "      <td>65.0</td>\n",
       "      <td>0.011681</td>\n",
       "      <td>1.0</td>\n",
       "    </tr>\n",
       "    <tr>\n",
       "      <th>2021-01-01 02:00:00+00:00</th>\n",
       "      <td>29528.0</td>\n",
       "      <td>29528.0</td>\n",
       "      <td>29218.0</td>\n",
       "      <td>29245.0</td>\n",
       "      <td>4.3423</td>\n",
       "      <td>42.0</td>\n",
       "      <td>-0.005424</td>\n",
       "      <td>0.0</td>\n",
       "    </tr>\n",
       "    <tr>\n",
       "      <th>2021-01-01 03:00:00+00:00</th>\n",
       "      <td>29400.5</td>\n",
       "      <td>29400.5</td>\n",
       "      <td>29337.0</td>\n",
       "      <td>29367.5</td>\n",
       "      <td>0.3089</td>\n",
       "      <td>3.0</td>\n",
       "      <td>0.004189</td>\n",
       "      <td>1.0</td>\n",
       "    </tr>\n",
       "    <tr>\n",
       "      <th>2021-01-01 04:00:00+00:00</th>\n",
       "      <td>29449.0</td>\n",
       "      <td>29449.0</td>\n",
       "      <td>29136.5</td>\n",
       "      <td>29189.5</td>\n",
       "      <td>2.0245</td>\n",
       "      <td>34.0</td>\n",
       "      <td>-0.006061</td>\n",
       "      <td>0.0</td>\n",
       "    </tr>\n",
       "    <tr>\n",
       "      <th>2021-01-01 05:00:00+00:00</th>\n",
       "      <td>29240.5</td>\n",
       "      <td>29240.5</td>\n",
       "      <td>29240.5</td>\n",
       "      <td>29240.5</td>\n",
       "      <td>0.0028</td>\n",
       "      <td>1.0</td>\n",
       "      <td>0.001747</td>\n",
       "      <td>1.0</td>\n",
       "    </tr>\n",
       "  </tbody>\n",
       "</table>\n",
       "</div>"
      ],
      "text/plain": [
       "                              open     high      low    close  volume  \\\n",
       "timestamp                                                               \n",
       "2021-01-01 01:00:00+00:00  29070.0  29481.0  29038.5  29404.5  4.6183   \n",
       "2021-01-01 02:00:00+00:00  29528.0  29528.0  29218.0  29245.0  4.3423   \n",
       "2021-01-01 03:00:00+00:00  29400.5  29400.5  29337.0  29367.5  0.3089   \n",
       "2021-01-01 04:00:00+00:00  29449.0  29449.0  29136.5  29189.5  2.0245   \n",
       "2021-01-01 05:00:00+00:00  29240.5  29240.5  29240.5  29240.5  0.0028   \n",
       "\n",
       "                           trade_count  Actual Returns  Signal  \n",
       "timestamp                                                       \n",
       "2021-01-01 01:00:00+00:00         65.0        0.011681     1.0  \n",
       "2021-01-01 02:00:00+00:00         42.0       -0.005424     0.0  \n",
       "2021-01-01 03:00:00+00:00          3.0        0.004189     1.0  \n",
       "2021-01-01 04:00:00+00:00         34.0       -0.006061     0.0  \n",
       "2021-01-01 05:00:00+00:00          1.0        0.001747     1.0  "
      ]
     },
     "execution_count": 94,
     "metadata": {},
     "output_type": "execute_result"
    }
   ],
   "source": [
    "# Initialize the new Signal column\n",
    "btc_df['Signal'] = 0.0\n",
    "\n",
    "# When Actual Returns are greater than or equal to 0, generate signal to buy stock long\n",
    "btc_df.loc[(btc_df['Actual Returns'] >= 0), 'Signal'] = 1\n",
    "\n",
    "# When Actual Returns are less than 0, generate signal to sell stock short\n",
    "btc_df.loc[(btc_df['Actual Returns'] < 0), 'Signal'] = 0\n",
    "\n",
    "btc_df.head()"
   ]
  },
  {
   "cell_type": "code",
   "execution_count": 95,
   "id": "a682b667",
   "metadata": {},
   "outputs": [
    {
     "data": {
      "text/html": [
       "<div>\n",
       "<style scoped>\n",
       "    .dataframe tbody tr th:only-of-type {\n",
       "        vertical-align: middle;\n",
       "    }\n",
       "\n",
       "    .dataframe tbody tr th {\n",
       "        vertical-align: top;\n",
       "    }\n",
       "\n",
       "    .dataframe thead th {\n",
       "        text-align: right;\n",
       "    }\n",
       "</style>\n",
       "<table border=\"1\" class=\"dataframe\">\n",
       "  <thead>\n",
       "    <tr style=\"text-align: right;\">\n",
       "      <th></th>\n",
       "      <th>open</th>\n",
       "      <th>high</th>\n",
       "      <th>low</th>\n",
       "      <th>close</th>\n",
       "      <th>volume</th>\n",
       "      <th>trade_count</th>\n",
       "      <th>Signal</th>\n",
       "    </tr>\n",
       "    <tr>\n",
       "      <th>timestamp</th>\n",
       "      <th></th>\n",
       "      <th></th>\n",
       "      <th></th>\n",
       "      <th></th>\n",
       "      <th></th>\n",
       "      <th></th>\n",
       "      <th></th>\n",
       "    </tr>\n",
       "  </thead>\n",
       "  <tbody>\n",
       "    <tr>\n",
       "      <th>2021-01-01 01:00:00+00:00</th>\n",
       "      <td>29070.0</td>\n",
       "      <td>29481.0</td>\n",
       "      <td>29038.5</td>\n",
       "      <td>29404.5</td>\n",
       "      <td>4.6183</td>\n",
       "      <td>65.0</td>\n",
       "      <td>1.0</td>\n",
       "    </tr>\n",
       "    <tr>\n",
       "      <th>2021-01-01 02:00:00+00:00</th>\n",
       "      <td>29528.0</td>\n",
       "      <td>29528.0</td>\n",
       "      <td>29218.0</td>\n",
       "      <td>29245.0</td>\n",
       "      <td>4.3423</td>\n",
       "      <td>42.0</td>\n",
       "      <td>0.0</td>\n",
       "    </tr>\n",
       "    <tr>\n",
       "      <th>2021-01-01 03:00:00+00:00</th>\n",
       "      <td>29400.5</td>\n",
       "      <td>29400.5</td>\n",
       "      <td>29337.0</td>\n",
       "      <td>29367.5</td>\n",
       "      <td>0.3089</td>\n",
       "      <td>3.0</td>\n",
       "      <td>1.0</td>\n",
       "    </tr>\n",
       "    <tr>\n",
       "      <th>2021-01-01 04:00:00+00:00</th>\n",
       "      <td>29449.0</td>\n",
       "      <td>29449.0</td>\n",
       "      <td>29136.5</td>\n",
       "      <td>29189.5</td>\n",
       "      <td>2.0245</td>\n",
       "      <td>34.0</td>\n",
       "      <td>0.0</td>\n",
       "    </tr>\n",
       "    <tr>\n",
       "      <th>2021-01-01 05:00:00+00:00</th>\n",
       "      <td>29240.5</td>\n",
       "      <td>29240.5</td>\n",
       "      <td>29240.5</td>\n",
       "      <td>29240.5</td>\n",
       "      <td>0.0028</td>\n",
       "      <td>1.0</td>\n",
       "      <td>1.0</td>\n",
       "    </tr>\n",
       "  </tbody>\n",
       "</table>\n",
       "</div>"
      ],
      "text/plain": [
       "                              open     high      low    close  volume  \\\n",
       "timestamp                                                               \n",
       "2021-01-01 01:00:00+00:00  29070.0  29481.0  29038.5  29404.5  4.6183   \n",
       "2021-01-01 02:00:00+00:00  29528.0  29528.0  29218.0  29245.0  4.3423   \n",
       "2021-01-01 03:00:00+00:00  29400.5  29400.5  29337.0  29367.5  0.3089   \n",
       "2021-01-01 04:00:00+00:00  29449.0  29449.0  29136.5  29189.5  2.0245   \n",
       "2021-01-01 05:00:00+00:00  29240.5  29240.5  29240.5  29240.5  0.0028   \n",
       "\n",
       "                           trade_count  Signal  \n",
       "timestamp                                       \n",
       "2021-01-01 01:00:00+00:00         65.0     1.0  \n",
       "2021-01-01 02:00:00+00:00         42.0     0.0  \n",
       "2021-01-01 03:00:00+00:00          3.0     1.0  \n",
       "2021-01-01 04:00:00+00:00         34.0     0.0  \n",
       "2021-01-01 05:00:00+00:00          1.0     1.0  "
      ]
     },
     "execution_count": 95,
     "metadata": {},
     "output_type": "execute_result"
    }
   ],
   "source": [
    "# Drop Actual Returns\n",
    "\n",
    "btc_df = btc_df.drop(columns='Actual Returns')\n",
    "btc_df.head()"
   ]
  },
  {
   "cell_type": "markdown",
   "id": "7f641cf2",
   "metadata": {},
   "source": [
    "#### The following code block is necessary for traditional ML, I believe with tensors it may be unnecessary"
   ]
  },
  {
   "cell_type": "code",
   "execution_count": 96,
   "id": "06ffd127",
   "metadata": {},
   "outputs": [],
   "source": [
    "# # Shift X data to predict the future Y signal value\n",
    "# btc_df[['open', 'high','low','close','volume', 'trade_count']]=btc_df[['open','high','low','close','volume','trade_count']].shift()\n",
    "# display(btc_df.head())\n",
    "\n",
    "# # Drop rows w/ empty values\n",
    "# btc_df = btc_df.dropna()\n",
    "# display(btc_df.head())"
   ]
  },
  {
   "cell_type": "code",
   "execution_count": 97,
   "id": "9f02eb97",
   "metadata": {},
   "outputs": [
    {
     "data": {
      "text/plain": [
       "[<matplotlib.lines.Line2D at 0x1e3bd075e80>]"
      ]
     },
     "execution_count": 97,
     "metadata": {},
     "output_type": "execute_result"
    },
    {
     "data": {
      "image/png": "[encoded data removed]",
      "text/plain": [
       "<Figure size 640x480 with 1 Axes>"
      ]
     },
     "metadata": {},
     "output_type": "display_data"
    }
   ],
   "source": [
    "plt.plot(range(len(btc_df)), btc_df[['close']])"
   ]
  },
  {
   "cell_type": "markdown",
   "id": "15ffe9ff",
   "metadata": {},
   "source": [
    "### Splitting data into 3D Tensors"
   ]
  },
  {
   "cell_type": "code",
   "execution_count": 98,
   "id": "c29be38c",
   "metadata": {},
   "outputs": [
    {
     "data": {
      "text/html": [
       "<div>\n",
       "<style scoped>\n",
       "    .dataframe tbody tr th:only-of-type {\n",
       "        vertical-align: middle;\n",
       "    }\n",
       "\n",
       "    .dataframe tbody tr th {\n",
       "        vertical-align: top;\n",
       "    }\n",
       "\n",
       "    .dataframe thead th {\n",
       "        text-align: right;\n",
       "    }\n",
       "</style>\n",
       "<table border=\"1\" class=\"dataframe\">\n",
       "  <thead>\n",
       "    <tr style=\"text-align: right;\">\n",
       "      <th></th>\n",
       "      <th>open</th>\n",
       "      <th>high</th>\n",
       "      <th>low</th>\n",
       "      <th>close</th>\n",
       "      <th>volume</th>\n",
       "      <th>trade_count</th>\n",
       "      <th>Signal</th>\n",
       "    </tr>\n",
       "    <tr>\n",
       "      <th>timestamp</th>\n",
       "      <th></th>\n",
       "      <th></th>\n",
       "      <th></th>\n",
       "      <th></th>\n",
       "      <th></th>\n",
       "      <th></th>\n",
       "      <th></th>\n",
       "    </tr>\n",
       "  </thead>\n",
       "  <tbody>\n",
       "    <tr>\n",
       "      <th>2021-01-01 01:00:00+00:00</th>\n",
       "      <td>29070.0</td>\n",
       "      <td>29481.0</td>\n",
       "      <td>29038.5</td>\n",
       "      <td>29404.5</td>\n",
       "      <td>4.6183</td>\n",
       "      <td>65.0</td>\n",
       "      <td>1.0</td>\n",
       "    </tr>\n",
       "    <tr>\n",
       "      <th>2021-01-01 02:00:00+00:00</th>\n",
       "      <td>29528.0</td>\n",
       "      <td>29528.0</td>\n",
       "      <td>29218.0</td>\n",
       "      <td>29245.0</td>\n",
       "      <td>4.3423</td>\n",
       "      <td>42.0</td>\n",
       "      <td>0.0</td>\n",
       "    </tr>\n",
       "    <tr>\n",
       "      <th>2021-01-01 03:00:00+00:00</th>\n",
       "      <td>29400.5</td>\n",
       "      <td>29400.5</td>\n",
       "      <td>29337.0</td>\n",
       "      <td>29367.5</td>\n",
       "      <td>0.3089</td>\n",
       "      <td>3.0</td>\n",
       "      <td>1.0</td>\n",
       "    </tr>\n",
       "    <tr>\n",
       "      <th>2021-01-01 04:00:00+00:00</th>\n",
       "      <td>29449.0</td>\n",
       "      <td>29449.0</td>\n",
       "      <td>29136.5</td>\n",
       "      <td>29189.5</td>\n",
       "      <td>2.0245</td>\n",
       "      <td>34.0</td>\n",
       "      <td>0.0</td>\n",
       "    </tr>\n",
       "    <tr>\n",
       "      <th>2021-01-01 05:00:00+00:00</th>\n",
       "      <td>29240.5</td>\n",
       "      <td>29240.5</td>\n",
       "      <td>29240.5</td>\n",
       "      <td>29240.5</td>\n",
       "      <td>0.0028</td>\n",
       "      <td>1.0</td>\n",
       "      <td>1.0</td>\n",
       "    </tr>\n",
       "  </tbody>\n",
       "</table>\n",
       "</div>"
      ],
      "text/plain": [
       "                              open     high      low    close  volume  \\\n",
       "timestamp                                                               \n",
       "2021-01-01 01:00:00+00:00  29070.0  29481.0  29038.5  29404.5  4.6183   \n",
       "2021-01-01 02:00:00+00:00  29528.0  29528.0  29218.0  29245.0  4.3423   \n",
       "2021-01-01 03:00:00+00:00  29400.5  29400.5  29337.0  29367.5  0.3089   \n",
       "2021-01-01 04:00:00+00:00  29449.0  29449.0  29136.5  29189.5  2.0245   \n",
       "2021-01-01 05:00:00+00:00  29240.5  29240.5  29240.5  29240.5  0.0028   \n",
       "\n",
       "                           trade_count  Signal  \n",
       "timestamp                                       \n",
       "2021-01-01 01:00:00+00:00         65.0     1.0  \n",
       "2021-01-01 02:00:00+00:00         42.0     0.0  \n",
       "2021-01-01 03:00:00+00:00          3.0     1.0  \n",
       "2021-01-01 04:00:00+00:00         34.0     0.0  \n",
       "2021-01-01 05:00:00+00:00          1.0     1.0  "
      ]
     },
     "metadata": {},
     "output_type": "display_data"
    }
   ],
   "source": [
    "# Split test and train data\n",
    "\n",
    "split_ratio=.7\n",
    "train_count=int(len(btc_df)*.7)\n",
    "\n",
    "train=btc_df.iloc[:train_count]\n",
    "test=btc_df.iloc[train_count:]\n",
    "\n",
    "display(train.head())"
   ]
  },
  {
   "cell_type": "code",
   "execution_count": 99,
   "id": "a9ffb6e5",
   "metadata": {},
   "outputs": [
    {
     "data": {
      "text/plain": [
       "array([[1.42664158e-03, 1.03804497e-02, 3.05961893e-02, ...,\n",
       "        3.74333957e-03, 1.15419297e-02, 1.00000000e+00],\n",
       "       [1.29912760e-02, 1.15560669e-02, 3.50092194e-02, ...,\n",
       "        3.51961948e-03, 7.39404869e-03, 0.00000000e+00],\n",
       "       [9.77186360e-03, 8.36689262e-03, 3.79348494e-02, ...,\n",
       "        2.50226051e-04, 3.60685302e-04, 1.00000000e+00],\n",
       "       ...,\n",
       "       [4.49821354e-01, 4.47660022e-01, 4.67019053e-01, ...,\n",
       "        3.11740968e-02, 2.63300271e-02, 1.00000000e+00],\n",
       "       [4.52699888e-01, 4.50561545e-01, 4.68985864e-01, ...,\n",
       "        5.26718136e-02, 2.84941389e-02, 1.00000000e+00],\n",
       "       [4.54947164e-01, 4.54488607e-01, 4.69723417e-01, ...,\n",
       "        9.03601366e-02, 3.64292155e-02, 1.00000000e+00]])"
      ]
     },
     "execution_count": 99,
     "metadata": {},
     "output_type": "execute_result"
    }
   ],
   "source": [
    "# Create a MinMaxScaler instance\n",
    "scaler = MinMaxScaler()\n",
    "\n",
    "# Fit the scaler to the features training dataset\n",
    "train_scaled = scaler.fit_transform(train)\n",
    "\n",
    "train_scaled"
   ]
  },
  {
   "cell_type": "code",
   "execution_count": 100,
   "id": "fd279032",
   "metadata": {},
   "outputs": [
    {
     "data": {
      "text/plain": [
       "array([[9.72624052e-01, 9.72506309e-01, 9.75310682e-01, ...,\n",
       "        2.89050754e-02, 3.42267084e-02, 0.00000000e+00],\n",
       "       [9.69346883e-01, 9.61747908e-01, 9.64668165e-01, ...,\n",
       "        6.54317951e-03, 9.97795568e-03, 0.00000000e+00],\n",
       "       [9.67559337e-01, 9.62910081e-01, 9.70683501e-01, ...,\n",
       "        6.54401286e-04, 2.20443207e-03, 1.00000000e+00],\n",
       "       ...,\n",
       "       [5.93862756e-02, 4.85124186e-02, 6.31279746e-02, ...,\n",
       "        6.46584471e-03, 3.19062536e-02, 0.00000000e+00],\n",
       "       [5.73670098e-02, 4.71842210e-02, 6.04508197e-02, ...,\n",
       "        4.29507581e-02, 5.83594384e-02, 0.00000000e+00],\n",
       "       [5.52815386e-02, 4.55571789e-02, 6.10457430e-02, ...,\n",
       "        1.34820332e-02, 1.77514793e-02, 1.00000000e+00]])"
      ]
     },
     "execution_count": 100,
     "metadata": {},
     "output_type": "execute_result"
    }
   ],
   "source": [
    "# Scale test data\n",
    "test_scaled = scaler.fit_transform(test)\n",
    "\n",
    "test_scaled"
   ]
  },
  {
   "cell_type": "code",
   "execution_count": 101,
   "id": "40f827bf",
   "metadata": {},
   "outputs": [
    {
     "data": {
      "text/plain": [
       "(10764, 60, 5)"
      ]
     },
     "execution_count": 101,
     "metadata": {},
     "output_type": "execute_result"
    }
   ],
   "source": [
    "# Set global candles variable\n",
    "candles=60\n",
    "\n",
    "# Create X training set\n",
    "X_train = []\n",
    "\n",
    "for i in range(len(train_scaled) - candles):\n",
    "    X_train.append(train_scaled[:,:5][i:i+candles])\n",
    "\n",
    "X_train = np.array(X_train)\n",
    "X_train.shape"
   ]
  },
  {
   "cell_type": "code",
   "execution_count": 102,
   "id": "a60d833c",
   "metadata": {},
   "outputs": [
    {
     "data": {
      "text/plain": [
       "(10764,)"
      ]
     },
     "execution_count": 102,
     "metadata": {},
     "output_type": "execute_result"
    }
   ],
   "source": [
    "# Create y training set\n",
    "y_train = []\n",
    "\n",
    "for i in range(len(train_scaled) - candles):\n",
    "    y_train.append(train_scaled[:,(6)][i+candles])\n",
    "\n",
    "y_train = np.array(y_train)\n",
    "y_train.shape"
   ]
  },
  {
   "cell_type": "code",
   "execution_count": 103,
   "id": "990fdfe6",
   "metadata": {},
   "outputs": [
    {
     "data": {
      "text/plain": [
       "(4579, 60, 5)"
      ]
     },
     "execution_count": 103,
     "metadata": {},
     "output_type": "execute_result"
    }
   ],
   "source": [
    "# Create X test set\n",
    "X_test = []\n",
    "\n",
    "for i in range(len(test_scaled) - candles):\n",
    "    X_test.append(test_scaled[:,:5][i  : i+candles])\n",
    "\n",
    "X_test = np.array(X_test)\n",
    "X_test.shape"
   ]
  },
  {
   "cell_type": "code",
   "execution_count": 104,
   "id": "51499669",
   "metadata": {},
   "outputs": [
    {
     "data": {
      "text/plain": [
       "(4579,)"
      ]
     },
     "execution_count": 104,
     "metadata": {},
     "output_type": "execute_result"
    }
   ],
   "source": [
    "# Create y test set\n",
    "y_test = []\n",
    "\n",
    "for i in range(len(test_scaled) - candles):\n",
    "    y_test.append(test_scaled[:,(6)][i+candles])\n",
    "\n",
    "y_test = np.array(y_test)\n",
    "y_test.shape"
   ]
  },
  {
   "cell_type": "markdown",
   "id": "737757e8",
   "metadata": {},
   "source": [
    "## Model Creation"
   ]
  },
  {
   "cell_type": "code",
   "execution_count": 105,
   "id": "a7c185f9",
   "metadata": {},
   "outputs": [
    {
     "data": {
      "text/plain": [
       "[PhysicalDevice(name='/physical_device:CPU:0', device_type='CPU'),\n",
       " PhysicalDevice(name='/physical_device:GPU:0', device_type='GPU')]"
      ]
     },
     "execution_count": 105,
     "metadata": {},
     "output_type": "execute_result"
    }
   ],
   "source": [
    "# Check if GPU is working\n",
    "\n",
    "tf.config.list_physical_devices()"
   ]
  },
  {
   "cell_type": "code",
   "execution_count": 106,
   "id": "35540597",
   "metadata": {},
   "outputs": [
    {
     "data": {
      "text/plain": [
       "64"
      ]
     },
     "metadata": {},
     "output_type": "display_data"
    },
    {
     "data": {
      "text/plain": [
       "64"
      ]
     },
     "metadata": {},
     "output_type": "display_data"
    },
    {
     "data": {
      "text/plain": [
       "64"
      ]
     },
     "metadata": {},
     "output_type": "display_data"
    }
   ],
   "source": [
    "# Create the Sequential model instance\n",
    "class_nn = Sequential()\n",
    "\n",
    "# Define the number of neurons in the output layer\n",
    "number_output_neurons = 1\n",
    "\n",
    "#Define the number of hidden nodes for the first hidden layer\n",
    "hidden_nodes_layer1 = 64\n",
    "\n",
    "# Define hidden nodes for all hidden layers\n",
    "hidden_nodes = 64\n",
    "display(hidden_nodes)\n",
    "\n",
    "# Review the number hidden nodes in the first layer\n",
    "display(hidden_nodes_layer1)\n",
    "\n",
    "#Define the number of hidden nodes for the second hidden layer\n",
    "hidden_nodes_layer2 = 64\n",
    "\n",
    "# Review the number hidden nodes in the second layer\n",
    "display(hidden_nodes_layer2)\n",
    "\n",
    "kernelSize=1"
   ]
  },
  {
   "cell_type": "code",
   "execution_count": 107,
   "id": "c22c1c66",
   "metadata": {},
   "outputs": [],
   "source": [
    "# # Add first cnn layer\n",
    "# class_nn.add(Conv1D(filters=32, kernel_size=kernelSize, padding='same', activation='relu', input_shape=(candles,len(X.columns))))"
   ]
  },
  {
   "cell_type": "code",
   "execution_count": 108,
   "id": "af4350a0",
   "metadata": {},
   "outputs": [],
   "source": [
    "# #Add second cnn layer\n",
    "# class_nn.add(Conv1D(filters=64, kernel_size=kernelSize, padding='same'))"
   ]
  },
  {
   "cell_type": "code",
   "execution_count": 109,
   "id": "3dd184fc",
   "metadata": {},
   "outputs": [],
   "source": [
    "# Add the first hidden layer\n",
    "class_nn.add(LSTM(units=hidden_nodes, return_sequences=True,input_shape=(candles,(len(btc_df.columns)-2))))"
   ]
  },
  {
   "cell_type": "code",
   "execution_count": 110,
   "id": "318dba3b",
   "metadata": {},
   "outputs": [],
   "source": [
    "# # Add dropout layer\n",
    "class_nn.add(Dropout(rate=0.2))"
   ]
  },
  {
   "cell_type": "code",
   "execution_count": 111,
   "id": "a0a0c87c",
   "metadata": {},
   "outputs": [],
   "source": [
    "#Add the second hidden layer\n",
    "class_nn.add(LSTM(units=hidden_nodes, return_sequences=False))\n"
   ]
  },
  {
   "cell_type": "code",
   "execution_count": 112,
   "id": "32535ceb",
   "metadata": {},
   "outputs": [],
   "source": [
    "# # Add dropout layer\n",
    "class_nn.add(Dropout(rate=0.2))"
   ]
  },
  {
   "cell_type": "code",
   "execution_count": 113,
   "id": "fd4ad807",
   "metadata": {},
   "outputs": [],
   "source": [
    "# # #Add the third hidden layer\n",
    "# class_nn.add(LSTM(units=hidden_nodes_layer2))"
   ]
  },
  {
   "cell_type": "code",
   "execution_count": 114,
   "id": "e74381da",
   "metadata": {},
   "outputs": [],
   "source": [
    "# # Add dropout layer\n",
    "# class_nn.add(Dropout(rate=0.2))"
   ]
  },
  {
   "cell_type": "code",
   "execution_count": 115,
   "id": "6b293aeb",
   "metadata": {},
   "outputs": [],
   "source": [
    "# Add Dense layer\n",
    "# class_nn.add(Dense(units=6, activation='relu'))"
   ]
  },
  {
   "cell_type": "code",
   "execution_count": 116,
   "id": "21bfb7b4",
   "metadata": {},
   "outputs": [],
   "source": [
    "# Add the output layer to the model specifying the number of output neurons and activation function\n",
    "class_nn.add(Dense(units=1,  activation='sigmoid'))\n"
   ]
  },
  {
   "cell_type": "code",
   "execution_count": 117,
   "id": "a32137c2",
   "metadata": {},
   "outputs": [
    {
     "name": "stdout",
     "output_type": "stream",
     "text": [
      "Model: \"sequential_3\"\n",
      "_________________________________________________________________\n",
      " Layer (type)                Output Shape              Param #   \n",
      "=================================================================\n",
      " lstm_8 (LSTM)               (None, 60, 64)            17920     \n",
      "                                                                 \n",
      " dropout_8 (Dropout)         (None, 60, 64)            0         \n",
      "                                                                 \n",
      " lstm_9 (LSTM)               (None, 64)                33024     \n",
      "                                                                 \n",
      " dropout_9 (Dropout)         (None, 64)                0         \n",
      "                                                                 \n",
      " dense_4 (Dense)             (None, 1)                 65        \n",
      "                                                                 \n",
      "=================================================================\n",
      "Total params: 51,009\n",
      "Trainable params: 51,009\n",
      "Non-trainable params: 0\n",
      "_________________________________________________________________\n"
     ]
    }
   ],
   "source": [
    "# Display the Sequential model summary, subclassed model requires build\n",
    "class_nn.build(X_train.shape)\n",
    "class_nn.summary()"
   ]
  },
  {
   "cell_type": "code",
   "execution_count": 118,
   "id": "278bc04e",
   "metadata": {},
   "outputs": [],
   "source": [
    "# Compile the Sequential model\n",
    "# class_nn.compile(loss='binary_crossentropy', optimizer='adam', metrics=('accuracy','Precision', 'Recall'))\n",
    "\n",
    "class_nn.compile(loss='binary_crossentropy', optimizer='adam', metrics=('accuracy'))"
   ]
  },
  {
   "cell_type": "code",
   "execution_count": 119,
   "id": "7881e7f5",
   "metadata": {},
   "outputs": [
    {
     "name": "stdout",
     "output_type": "stream",
     "text": [
      "Epoch 1/60\n",
      "303/303 [==============================] - 6s 14ms/step - loss: 0.6935 - accuracy: 0.4987 - val_loss: 0.6950 - val_accuracy: 0.5125\n",
      "Epoch 2/60\n",
      "303/303 [==============================] - 4s 12ms/step - loss: 0.6935 - accuracy: 0.5091 - val_loss: 0.6930 - val_accuracy: 0.5032\n",
      "Epoch 3/60\n",
      "303/303 [==============================] - 4s 12ms/step - loss: 0.6934 - accuracy: 0.5002 - val_loss: 0.6928 - val_accuracy: 0.5125\n",
      "Epoch 4/60\n",
      "303/303 [==============================] - 4s 12ms/step - loss: 0.6928 - accuracy: 0.5129 - val_loss: 0.6961 - val_accuracy: 0.4875\n",
      "Epoch 5/60\n",
      "303/303 [==============================] - 4s 12ms/step - loss: 0.6933 - accuracy: 0.5086 - val_loss: 0.6928 - val_accuracy: 0.5125\n",
      "Epoch 6/60\n",
      "303/303 [==============================] - 4s 12ms/step - loss: 0.6930 - accuracy: 0.5156 - val_loss: 0.6928 - val_accuracy: 0.5125\n",
      "Epoch 7/60\n",
      "303/303 [==============================] - 3s 11ms/step - loss: 0.6927 - accuracy: 0.5174 - val_loss: 0.6928 - val_accuracy: 0.5125\n",
      "Epoch 8/60\n",
      "303/303 [==============================] - 3s 11ms/step - loss: 0.6932 - accuracy: 0.5063 - val_loss: 0.6927 - val_accuracy: 0.5125\n",
      "Epoch 9/60\n",
      "303/303 [==============================] - 4s 12ms/step - loss: 0.6931 - accuracy: 0.5070 - val_loss: 0.6929 - val_accuracy: 0.5125\n",
      "Epoch 10/60\n",
      "303/303 [==============================] - 3s 11ms/step - loss: 0.6931 - accuracy: 0.5104 - val_loss: 0.6928 - val_accuracy: 0.5125\n",
      "Epoch 11/60\n",
      "303/303 [==============================] - 3s 11ms/step - loss: 0.6932 - accuracy: 0.5063 - val_loss: 0.6928 - val_accuracy: 0.5125\n",
      "Epoch 12/60\n",
      "303/303 [==============================] - 3s 11ms/step - loss: 0.6930 - accuracy: 0.5076 - val_loss: 0.6928 - val_accuracy: 0.5125\n",
      "Epoch 13/60\n",
      "303/303 [==============================] - 3s 11ms/step - loss: 0.6930 - accuracy: 0.5040 - val_loss: 0.6927 - val_accuracy: 0.5125\n",
      "Epoch 14/60\n",
      "303/303 [==============================] - 4s 12ms/step - loss: 0.6931 - accuracy: 0.5029 - val_loss: 0.6929 - val_accuracy: 0.5125\n",
      "Epoch 15/60\n",
      "303/303 [==============================] - 3s 11ms/step - loss: 0.6930 - accuracy: 0.5117 - val_loss: 0.6927 - val_accuracy: 0.5125\n",
      "Epoch 16/60\n",
      "303/303 [==============================] - 3s 11ms/step - loss: 0.6930 - accuracy: 0.5069 - val_loss: 0.6928 - val_accuracy: 0.5125\n",
      "Epoch 17/60\n",
      "303/303 [==============================] - 3s 11ms/step - loss: 0.6929 - accuracy: 0.5100 - val_loss: 0.6927 - val_accuracy: 0.5125\n",
      "Epoch 18/60\n",
      "303/303 [==============================] - 3s 11ms/step - loss: 0.6930 - accuracy: 0.5105 - val_loss: 0.6928 - val_accuracy: 0.5125\n",
      "Epoch 19/60\n",
      "303/303 [==============================] - 3s 11ms/step - loss: 0.6929 - accuracy: 0.5113 - val_loss: 0.6929 - val_accuracy: 0.5125\n",
      "Epoch 20/60\n",
      "303/303 [==============================] - 3s 11ms/step - loss: 0.6930 - accuracy: 0.5036 - val_loss: 0.6928 - val_accuracy: 0.5125\n",
      "Epoch 21/60\n",
      "303/303 [==============================] - 3s 11ms/step - loss: 0.6929 - accuracy: 0.5110 - val_loss: 0.6928 - val_accuracy: 0.5125\n",
      "Epoch 22/60\n",
      "303/303 [==============================] - 3s 11ms/step - loss: 0.6929 - accuracy: 0.5119 - val_loss: 0.6928 - val_accuracy: 0.5088\n",
      "Epoch 23/60\n",
      "303/303 [==============================] - 3s 11ms/step - loss: 0.6932 - accuracy: 0.5020 - val_loss: 0.6928 - val_accuracy: 0.5125\n",
      "Epoch 24/60\n",
      "303/303 [==============================] - 3s 11ms/step - loss: 0.6928 - accuracy: 0.5122 - val_loss: 0.6927 - val_accuracy: 0.5125\n",
      "Epoch 25/60\n",
      "303/303 [==============================] - 3s 11ms/step - loss: 0.6929 - accuracy: 0.5125 - val_loss: 0.6928 - val_accuracy: 0.5125\n",
      "Epoch 26/60\n",
      "303/303 [==============================] - 3s 11ms/step - loss: 0.6930 - accuracy: 0.5104 - val_loss: 0.6927 - val_accuracy: 0.5125\n",
      "Epoch 27/60\n",
      "303/303 [==============================] - 3s 11ms/step - loss: 0.6929 - accuracy: 0.5112 - val_loss: 0.6928 - val_accuracy: 0.5125\n",
      "Epoch 28/60\n",
      "303/303 [==============================] - 3s 11ms/step - loss: 0.6928 - accuracy: 0.5053 - val_loss: 0.6927 - val_accuracy: 0.5125\n",
      "Epoch 29/60\n",
      "303/303 [==============================] - 3s 11ms/step - loss: 0.6929 - accuracy: 0.5118 - val_loss: 0.6928 - val_accuracy: 0.5125\n",
      "Epoch 30/60\n",
      "303/303 [==============================] - 3s 11ms/step - loss: 0.6929 - accuracy: 0.5126 - val_loss: 0.6929 - val_accuracy: 0.5125\n",
      "Epoch 31/60\n",
      "303/303 [==============================] - 3s 11ms/step - loss: 0.6928 - accuracy: 0.5113 - val_loss: 0.6928 - val_accuracy: 0.5125\n",
      "Epoch 32/60\n",
      "303/303 [==============================] - 3s 11ms/step - loss: 0.6930 - accuracy: 0.5146 - val_loss: 0.6929 - val_accuracy: 0.5125\n",
      "Epoch 33/60\n",
      "303/303 [==============================] - 4s 13ms/step - loss: 0.6929 - accuracy: 0.5089 - val_loss: 0.6928 - val_accuracy: 0.5125\n",
      "Epoch 34/60\n",
      "303/303 [==============================] - 4s 12ms/step - loss: 0.6928 - accuracy: 0.5061 - val_loss: 0.6929 - val_accuracy: 0.5107\n",
      "Epoch 35/60\n",
      "303/303 [==============================] - 3s 11ms/step - loss: 0.6928 - accuracy: 0.5140 - val_loss: 0.6929 - val_accuracy: 0.5088\n",
      "Epoch 36/60\n",
      "303/303 [==============================] - 3s 11ms/step - loss: 0.6928 - accuracy: 0.5180 - val_loss: 0.6929 - val_accuracy: 0.5060\n",
      "Epoch 37/60\n",
      "303/303 [==============================] - 3s 11ms/step - loss: 0.6927 - accuracy: 0.5179 - val_loss: 0.6929 - val_accuracy: 0.5079\n",
      "Epoch 38/60\n",
      "303/303 [==============================] - 4s 12ms/step - loss: 0.6928 - accuracy: 0.5117 - val_loss: 0.6931 - val_accuracy: 0.5097\n",
      "Epoch 39/60\n",
      "303/303 [==============================] - 4s 13ms/step - loss: 0.6928 - accuracy: 0.5094 - val_loss: 0.6929 - val_accuracy: 0.5088\n",
      "Epoch 40/60\n",
      "303/303 [==============================] - 4s 13ms/step - loss: 0.6926 - accuracy: 0.5125 - val_loss: 0.6932 - val_accuracy: 0.5070\n",
      "Epoch 41/60\n",
      "303/303 [==============================] - 5s 15ms/step - loss: 0.6926 - accuracy: 0.5187 - val_loss: 0.6929 - val_accuracy: 0.4986\n",
      "Epoch 42/60\n",
      "303/303 [==============================] - 4s 14ms/step - loss: 0.6927 - accuracy: 0.5112 - val_loss: 0.6929 - val_accuracy: 0.5060\n",
      "Epoch 43/60\n",
      "303/303 [==============================] - 5s 16ms/step - loss: 0.6927 - accuracy: 0.5089 - val_loss: 0.6929 - val_accuracy: 0.5023\n",
      "Epoch 44/60\n",
      "303/303 [==============================] - 4s 12ms/step - loss: 0.6926 - accuracy: 0.5121 - val_loss: 0.6929 - val_accuracy: 0.5042\n",
      "Epoch 45/60\n",
      "303/303 [==============================] - 4s 12ms/step - loss: 0.6926 - accuracy: 0.5181 - val_loss: 0.6930 - val_accuracy: 0.5088\n",
      "Epoch 46/60\n",
      "303/303 [==============================] - 3s 11ms/step - loss: 0.6929 - accuracy: 0.5079 - val_loss: 0.6932 - val_accuracy: 0.5088\n",
      "Epoch 47/60\n",
      "303/303 [==============================] - 4s 12ms/step - loss: 0.6927 - accuracy: 0.5094 - val_loss: 0.6930 - val_accuracy: 0.5107\n",
      "Epoch 48/60\n",
      "303/303 [==============================] - 4s 13ms/step - loss: 0.6926 - accuracy: 0.5075 - val_loss: 0.6930 - val_accuracy: 0.5051\n",
      "Epoch 49/60\n",
      "303/303 [==============================] - 4s 12ms/step - loss: 0.6923 - accuracy: 0.5157 - val_loss: 0.6928 - val_accuracy: 0.5042\n",
      "Epoch 50/60\n",
      "303/303 [==============================] - 4s 12ms/step - loss: 0.6923 - accuracy: 0.5200 - val_loss: 0.6929 - val_accuracy: 0.5097\n",
      "Epoch 51/60\n",
      "303/303 [==============================] - 3s 11ms/step - loss: 0.6924 - accuracy: 0.5134 - val_loss: 0.6930 - val_accuracy: 0.5107\n",
      "Epoch 52/60\n",
      "303/303 [==============================] - 4s 12ms/step - loss: 0.6924 - accuracy: 0.5136 - val_loss: 0.6930 - val_accuracy: 0.5107\n",
      "Epoch 53/60\n",
      "303/303 [==============================] - 3s 11ms/step - loss: 0.6926 - accuracy: 0.5176 - val_loss: 0.6935 - val_accuracy: 0.5135\n",
      "Epoch 54/60\n",
      "303/303 [==============================] - 4s 12ms/step - loss: 0.6926 - accuracy: 0.5094 - val_loss: 0.6937 - val_accuracy: 0.4977\n",
      "Epoch 55/60\n",
      "303/303 [==============================] - 3s 12ms/step - loss: 0.6925 - accuracy: 0.5101 - val_loss: 0.6930 - val_accuracy: 0.4912\n",
      "Epoch 56/60\n",
      "303/303 [==============================] - 3s 11ms/step - loss: 0.6926 - accuracy: 0.5152 - val_loss: 0.6932 - val_accuracy: 0.5088\n",
      "Epoch 57/60\n",
      "303/303 [==============================] - 3s 11ms/step - loss: 0.6926 - accuracy: 0.5142 - val_loss: 0.6933 - val_accuracy: 0.5079\n",
      "Epoch 58/60\n",
      "303/303 [==============================] - 3s 12ms/step - loss: 0.6925 - accuracy: 0.5115 - val_loss: 0.6932 - val_accuracy: 0.5060\n",
      "Epoch 59/60\n",
      "303/303 [==============================] - 3s 11ms/step - loss: 0.6927 - accuracy: 0.5180 - val_loss: 0.6932 - val_accuracy: 0.5125\n",
      "Epoch 60/60\n",
      "303/303 [==============================] - 3s 11ms/step - loss: 0.6927 - accuracy: 0.5106 - val_loss: 0.6926 - val_accuracy: 0.5153\n"
     ]
    }
   ],
   "source": [
    "# Fit the model using epochs and the training data\n",
    "class_model = class_nn.fit(X_train, y_train, epochs=60, validation_split=0.1)"
   ]
  },
  {
   "cell_type": "code",
   "execution_count": 120,
   "id": "27737358",
   "metadata": {},
   "outputs": [
    {
     "name": "stdout",
     "output_type": "stream",
     "text": [
      "144/144 [==============================] - 1s 6ms/step - loss: 0.6938 - accuracy: 0.5010\n",
      "Loss: 0.6937634944915771, Accuracy: 0.5009827613830566\n"
     ]
    }
   ],
   "source": [
    "# Evaluate the model loss and accuracy metrics using the evaluate method and the test data\n",
    "# model_loss, model_accuracy, model_precision, model_recall = class_nn.evaluate(X_test, y_test)\n",
    "\n",
    "model_loss, model_accuracy = class_nn.evaluate(X_test, y_test)\n",
    "\n",
    "# Display the model loss and accuracy results\n",
    "# print(f\"Loss: {model_loss}, Accuracy: {model_accuracy}, Precision: {model_precision}, Recall: {model_recall}\")\n",
    "\n",
    "print(f\"Loss: {model_loss}, Accuracy: {model_accuracy}\")"
   ]
  },
  {
   "cell_type": "code",
   "execution_count": 121,
   "id": "2b76f42d",
   "metadata": {},
   "outputs": [
    {
     "data": {
      "image/png": "[encoded data removed]",
      "text/plain": [
       "<Figure size 640x480 with 1 Axes>"
      ]
     },
     "metadata": {},
     "output_type": "display_data"
    }
   ],
   "source": [
    "# Train vs test for loss\n",
    "plt.plot(class_model.history[\"loss\"])\n",
    "plt.plot(class_model.history[\"accuracy\"])\n",
    "plt.plot(class_model.history[\"val_loss\"])\n",
    "plt.plot(class_model.history[\"val_accuracy\"])\n",
    "plt.title(\"Training Vs. Validation 2 LSTM, w/ Dropout\")\n",
    "plt.legend([\"loss\", \"accuracy\",\"val_loss\",\"val_accuracy\"])\n",
    "plt.show()"
   ]
  },
  {
   "cell_type": "code",
   "execution_count": 122,
   "id": "e9607f67",
   "metadata": {},
   "outputs": [],
   "source": [
    "# Set the file path for the first alternative model\n",
    "file_path = Path('Models/class_class_nn.h5')\n",
    "\n",
    "# Export your model to a HDF5 file\n",
    "class_nn.save(file_path)"
   ]
  },
  {
   "cell_type": "code",
   "execution_count": null,
   "id": "2390e485",
   "metadata": {},
   "outputs": [],
   "source": []
  }
 ],
 "metadata": {
  "kernelspec": {
   "display_name": "Python 3.8.13 ('dev')",
   "language": "python",
   "name": "python3"
  },
  "language_info": {
   "codemirror_mode": {
    "name": "ipython",
    "version": 3
   },
   "file_extension": ".py",
   "mimetype": "text/x-python",
   "name": "python",
   "nbconvert_exporter": "python",
   "pygments_lexer": "ipython3",
   "version": "3.8.13"
  },
  "vscode": {
   "interpreter": {
    "hash": "e0193224db03a40cbeeb1d1467a8281023d0cf41b04cb80c5135a7c4428e4098"
   }
  }
 },
 "nbformat": 4,
 "nbformat_minor": 5
}
