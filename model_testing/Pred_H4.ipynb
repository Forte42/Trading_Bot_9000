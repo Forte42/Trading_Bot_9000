{
 "cells": [
  {
   "cell_type": "markdown",
   "metadata": {},
   "source": [
    "# Forex predictions using Machine Learning\n",
    "# Loading and preparing data"
   ]
  },
  {
   "cell_type": "code",
   "execution_count": 288,
   "metadata": {
    "scrolled": true
   },
   "outputs": [
    {
     "name": "stdout",
     "output_type": "stream",
     "text": [
      "[*********************100%***********************]  1 of 1 completed\n"
     ]
    },
    {
     "data": {
      "text/html": [
       "<div>\n",
       "<style scoped>\n",
       "    .dataframe tbody tr th:only-of-type {\n",
       "        vertical-align: middle;\n",
       "    }\n",
       "\n",
       "    .dataframe tbody tr th {\n",
       "        vertical-align: top;\n",
       "    }\n",
       "\n",
       "    .dataframe thead th {\n",
       "        text-align: right;\n",
       "    }\n",
       "</style>\n",
       "<table border=\"1\" class=\"dataframe\">\n",
       "  <thead>\n",
       "    <tr style=\"text-align: right;\">\n",
       "      <th></th>\n",
       "      <th>Open</th>\n",
       "      <th>High</th>\n",
       "      <th>Low</th>\n",
       "      <th>Close</th>\n",
       "      <th>Adj Close</th>\n",
       "      <th>Volume</th>\n",
       "    </tr>\n",
       "    <tr>\n",
       "      <th>Date</th>\n",
       "      <th></th>\n",
       "      <th></th>\n",
       "      <th></th>\n",
       "      <th></th>\n",
       "      <th></th>\n",
       "      <th></th>\n",
       "    </tr>\n",
       "  </thead>\n",
       "  <tbody>\n",
       "    <tr>\n",
       "      <th>2014-09-17</th>\n",
       "      <td>465.864014</td>\n",
       "      <td>468.174011</td>\n",
       "      <td>452.421997</td>\n",
       "      <td>457.334015</td>\n",
       "      <td>457.334015</td>\n",
       "      <td>21056800</td>\n",
       "    </tr>\n",
       "    <tr>\n",
       "      <th>2014-09-18</th>\n",
       "      <td>456.859985</td>\n",
       "      <td>456.859985</td>\n",
       "      <td>413.104004</td>\n",
       "      <td>424.440002</td>\n",
       "      <td>424.440002</td>\n",
       "      <td>34483200</td>\n",
       "    </tr>\n",
       "    <tr>\n",
       "      <th>2014-09-19</th>\n",
       "      <td>424.102997</td>\n",
       "      <td>427.834991</td>\n",
       "      <td>384.532013</td>\n",
       "      <td>394.795990</td>\n",
       "      <td>394.795990</td>\n",
       "      <td>37919700</td>\n",
       "    </tr>\n",
       "    <tr>\n",
       "      <th>2014-09-20</th>\n",
       "      <td>394.673004</td>\n",
       "      <td>423.295990</td>\n",
       "      <td>389.882996</td>\n",
       "      <td>408.903992</td>\n",
       "      <td>408.903992</td>\n",
       "      <td>36863600</td>\n",
       "    </tr>\n",
       "    <tr>\n",
       "      <th>2014-09-21</th>\n",
       "      <td>408.084991</td>\n",
       "      <td>412.425995</td>\n",
       "      <td>393.181000</td>\n",
       "      <td>398.821014</td>\n",
       "      <td>398.821014</td>\n",
       "      <td>26580100</td>\n",
       "    </tr>\n",
       "  </tbody>\n",
       "</table>\n",
       "</div>"
      ],
      "text/plain": [
       "                  Open        High         Low       Close   Adj Close  \\\n",
       "Date                                                                     \n",
       "2014-09-17  465.864014  468.174011  452.421997  457.334015  457.334015   \n",
       "2014-09-18  456.859985  456.859985  413.104004  424.440002  424.440002   \n",
       "2014-09-19  424.102997  427.834991  384.532013  394.795990  394.795990   \n",
       "2014-09-20  394.673004  423.295990  389.882996  408.903992  408.903992   \n",
       "2014-09-21  408.084991  412.425995  393.181000  398.821014  398.821014   \n",
       "\n",
       "              Volume  \n",
       "Date                  \n",
       "2014-09-17  21056800  \n",
       "2014-09-18  34483200  \n",
       "2014-09-19  37919700  \n",
       "2014-09-20  36863600  \n",
       "2014-09-21  26580100  "
      ]
     },
     "execution_count": 288,
     "metadata": {},
     "output_type": "execute_result"
    }
   ],
   "source": [
    "# import pandas as pd\n",
    "# df = pd.read_csv(\"EURUSD_Candlestick_4_Hour_ASK_05.05.2003-16.10.2021.csv\")\n",
    "# df.tail()\n",
    "import yfinance as yf\n",
    "import pandas_ta as ta\n",
    "df = yf.download(tickers = 'BTC-USD', period='max')\n",
    "df.head()"
   ]
  },
  {
   "cell_type": "code",
   "execution_count": 289,
   "metadata": {},
   "outputs": [],
   "source": [
    "#Check if any zero volumes are available\n",
    "indexZeros = df[ df['Volume'] == 0 ].index\n",
    "\n",
    "df.drop(indexZeros , inplace=True)\n",
    "df.loc[(df[\"Volume\"] == 0 )]\n",
    "df.isna().sum()\n",
    "df = df.reset_index()"
   ]
  },
  {
   "cell_type": "code",
   "execution_count": 290,
   "metadata": {},
   "outputs": [
    {
     "data": {
      "text/html": [
       "<div>\n",
       "<style scoped>\n",
       "    .dataframe tbody tr th:only-of-type {\n",
       "        vertical-align: middle;\n",
       "    }\n",
       "\n",
       "    .dataframe tbody tr th {\n",
       "        vertical-align: top;\n",
       "    }\n",
       "\n",
       "    .dataframe thead th {\n",
       "        text-align: right;\n",
       "    }\n",
       "</style>\n",
       "<table border=\"1\" class=\"dataframe\">\n",
       "  <thead>\n",
       "    <tr style=\"text-align: right;\">\n",
       "      <th></th>\n",
       "      <th>Date</th>\n",
       "      <th>Open</th>\n",
       "      <th>High</th>\n",
       "      <th>Low</th>\n",
       "      <th>Close</th>\n",
       "      <th>Adj Close</th>\n",
       "      <th>Volume</th>\n",
       "    </tr>\n",
       "  </thead>\n",
       "  <tbody>\n",
       "    <tr>\n",
       "      <th>1000</th>\n",
       "      <td>2017-06-13</td>\n",
       "      <td>2680.909912</td>\n",
       "      <td>2789.040039</td>\n",
       "      <td>2650.379883</td>\n",
       "      <td>2717.020020</td>\n",
       "      <td>2717.020020</td>\n",
       "      <td>1781200000</td>\n",
       "    </tr>\n",
       "    <tr>\n",
       "      <th>1001</th>\n",
       "      <td>2017-06-14</td>\n",
       "      <td>2716.879883</td>\n",
       "      <td>2786.830078</td>\n",
       "      <td>2412.939941</td>\n",
       "      <td>2506.370117</td>\n",
       "      <td>2506.370117</td>\n",
       "      <td>1696560000</td>\n",
       "    </tr>\n",
       "    <tr>\n",
       "      <th>1002</th>\n",
       "      <td>2017-06-15</td>\n",
       "      <td>2499.580078</td>\n",
       "      <td>2534.709961</td>\n",
       "      <td>2212.959961</td>\n",
       "      <td>2464.580078</td>\n",
       "      <td>2464.580078</td>\n",
       "      <td>2026259968</td>\n",
       "    </tr>\n",
       "    <tr>\n",
       "      <th>1003</th>\n",
       "      <td>2017-06-16</td>\n",
       "      <td>2469.570068</td>\n",
       "      <td>2539.919922</td>\n",
       "      <td>2385.149902</td>\n",
       "      <td>2518.560059</td>\n",
       "      <td>2518.560059</td>\n",
       "      <td>1195190016</td>\n",
       "    </tr>\n",
       "    <tr>\n",
       "      <th>1004</th>\n",
       "      <td>2017-06-17</td>\n",
       "      <td>2514.010010</td>\n",
       "      <td>2685.189941</td>\n",
       "      <td>2484.959961</td>\n",
       "      <td>2655.879883</td>\n",
       "      <td>2655.879883</td>\n",
       "      <td>1534509952</td>\n",
       "    </tr>\n",
       "  </tbody>\n",
       "</table>\n",
       "</div>"
      ],
      "text/plain": [
       "           Date         Open         High          Low        Close  \\\n",
       "1000 2017-06-13  2680.909912  2789.040039  2650.379883  2717.020020   \n",
       "1001 2017-06-14  2716.879883  2786.830078  2412.939941  2506.370117   \n",
       "1002 2017-06-15  2499.580078  2534.709961  2212.959961  2464.580078   \n",
       "1003 2017-06-16  2469.570068  2539.919922  2385.149902  2518.560059   \n",
       "1004 2017-06-17  2514.010010  2685.189941  2484.959961  2655.879883   \n",
       "\n",
       "        Adj Close      Volume  \n",
       "1000  2717.020020  1781200000  \n",
       "1001  2506.370117  1696560000  \n",
       "1002  2464.580078  2026259968  \n",
       "1003  2518.560059  1195190016  \n",
       "1004  2655.879883  1534509952  "
      ]
     },
     "execution_count": 290,
     "metadata": {},
     "output_type": "execute_result"
    }
   ],
   "source": [
    "df = df.iloc[1000:,].copy()\n",
    "\n",
    "df.head()"
   ]
  },
  {
   "cell_type": "code",
   "execution_count": 291,
   "metadata": {},
   "outputs": [],
   "source": [
    "import numpy as np\n",
    "import pandas_ta as ta\n",
    "#df.ta.indicators()\n",
    "#help(ta.atr)\n",
    "df['ATR'] = df.ta.atr(length=20)\n",
    "df['RSI'] = df.ta.rsi()\n",
    "#df['Average'] = df.ta.midprice(length=1) #midprice\n",
    "df['MA40'] = df.ta.sma(length=40)\n",
    "df['MA80'] = df.ta.sma(length=80)\n",
    "df['MA160'] = df.ta.sma(length=160)\n",
    "\n",
    "from scipy.stats import linregress\n",
    "def get_slope(array):\n",
    "    y = np.array(array)\n",
    "    x = np.arange(len(y))\n",
    "    slope, intercept, r_value, p_value, std_err = linregress(x,y)\n",
    "    return slope\n",
    "\n",
    "#!!!!!!!!!!!!!!!!!!!!!!!!!!!!!\n",
    "backrollingN = 6\n",
    "#!!!!!!!!!!!!!!!!!!!!!!!!!!!!!\n",
    "df['slopeMA40'] = df['MA40'].rolling(window=backrollingN).apply(get_slope, raw=True)\n",
    "df['slopeMA80'] = df['MA80'].rolling(window=backrollingN).apply(get_slope, raw=True)\n",
    "df['slopeMA160'] = df['MA160'].rolling(window=backrollingN).apply(get_slope, raw=True)\n",
    "#df['AverageSlope'] = df['Average'].rolling(window=backrollingN).apply(get_slope, raw=True)\n",
    "df['RSISlope'] = df['RSI'].rolling(window=backrollingN).apply(get_slope, raw=True)"
   ]
  },
  {
   "cell_type": "code",
   "execution_count": 292,
   "metadata": {
    "scrolled": true
   },
   "outputs": [
    {
     "data": {
      "text/html": [
       "<div>\n",
       "<style scoped>\n",
       "    .dataframe tbody tr th:only-of-type {\n",
       "        vertical-align: middle;\n",
       "    }\n",
       "\n",
       "    .dataframe tbody tr th {\n",
       "        vertical-align: top;\n",
       "    }\n",
       "\n",
       "    .dataframe thead th {\n",
       "        text-align: right;\n",
       "    }\n",
       "</style>\n",
       "<table border=\"1\" class=\"dataframe\">\n",
       "  <thead>\n",
       "    <tr style=\"text-align: right;\">\n",
       "      <th></th>\n",
       "      <th>Date</th>\n",
       "      <th>Open</th>\n",
       "      <th>High</th>\n",
       "      <th>Low</th>\n",
       "      <th>Close</th>\n",
       "      <th>Adj Close</th>\n",
       "      <th>Volume</th>\n",
       "      <th>ATR</th>\n",
       "      <th>RSI</th>\n",
       "      <th>MA40</th>\n",
       "      <th>MA80</th>\n",
       "      <th>MA160</th>\n",
       "      <th>slopeMA40</th>\n",
       "      <th>slopeMA80</th>\n",
       "      <th>slopeMA160</th>\n",
       "      <th>RSISlope</th>\n",
       "    </tr>\n",
       "  </thead>\n",
       "  <tbody>\n",
       "    <tr>\n",
       "      <th>1164</th>\n",
       "      <td>2017-11-24</td>\n",
       "      <td>8074.020020</td>\n",
       "      <td>8374.160156</td>\n",
       "      <td>7940.930176</td>\n",
       "      <td>8253.690430</td>\n",
       "      <td>8253.690430</td>\n",
       "      <td>5058610176</td>\n",
       "      <td>442.677361</td>\n",
       "      <td>66.107411</td>\n",
       "      <td>6758.857483</td>\n",
       "      <td>5521.423621</td>\n",
       "      <td>4353.851308</td>\n",
       "      <td>65.611426</td>\n",
       "      <td>45.472807</td>\n",
       "      <td>35.033692</td>\n",
       "      <td>-0.551028</td>\n",
       "    </tr>\n",
       "    <tr>\n",
       "      <th>1165</th>\n",
       "      <td>2017-11-25</td>\n",
       "      <td>8241.709961</td>\n",
       "      <td>8790.919922</td>\n",
       "      <td>8191.149902</td>\n",
       "      <td>8790.919922</td>\n",
       "      <td>8790.919922</td>\n",
       "      <td>4342060032</td>\n",
       "      <td>450.533652</td>\n",
       "      <td>70.985898</td>\n",
       "      <td>6835.490735</td>\n",
       "      <td>5573.846118</td>\n",
       "      <td>4392.867744</td>\n",
       "      <td>64.118529</td>\n",
       "      <td>47.512711</td>\n",
       "      <td>35.681023</td>\n",
       "      <td>0.176289</td>\n",
       "    </tr>\n",
       "    <tr>\n",
       "      <th>1166</th>\n",
       "      <td>2017-11-26</td>\n",
       "      <td>8789.040039</td>\n",
       "      <td>9522.929688</td>\n",
       "      <td>8775.589844</td>\n",
       "      <td>9330.549805</td>\n",
       "      <td>9330.549805</td>\n",
       "      <td>5475579904</td>\n",
       "      <td>465.376938</td>\n",
       "      <td>74.894879</td>\n",
       "      <td>6928.616736</td>\n",
       "      <td>5632.979492</td>\n",
       "      <td>4434.998680</td>\n",
       "      <td>69.296346</td>\n",
       "      <td>50.311008</td>\n",
       "      <td>36.987966</td>\n",
       "      <td>1.542398</td>\n",
       "    </tr>\n",
       "    <tr>\n",
       "      <th>1167</th>\n",
       "      <td>2017-11-27</td>\n",
       "      <td>9352.719727</td>\n",
       "      <td>9818.349609</td>\n",
       "      <td>9352.719727</td>\n",
       "      <td>9818.349609</td>\n",
       "      <td>9818.349609</td>\n",
       "      <td>5653320192</td>\n",
       "      <td>466.498295</td>\n",
       "      <td>77.805763</td>\n",
       "      <td>7034.308228</td>\n",
       "      <td>5702.849487</td>\n",
       "      <td>4479.352177</td>\n",
       "      <td>78.689638</td>\n",
       "      <td>54.845407</td>\n",
       "      <td>38.924571</td>\n",
       "      <td>2.478835</td>\n",
       "    </tr>\n",
       "    <tr>\n",
       "      <th>1168</th>\n",
       "      <td>2017-11-28</td>\n",
       "      <td>9823.429688</td>\n",
       "      <td>10125.700195</td>\n",
       "      <td>9736.299805</td>\n",
       "      <td>10058.799805</td>\n",
       "      <td>10058.799805</td>\n",
       "      <td>6348819968</td>\n",
       "      <td>462.642702</td>\n",
       "      <td>79.092620</td>\n",
       "      <td>7143.065222</td>\n",
       "      <td>5775.758734</td>\n",
       "      <td>4525.412801</td>\n",
       "      <td>90.355843</td>\n",
       "      <td>60.497402</td>\n",
       "      <td>41.467788</td>\n",
       "      <td>3.292003</td>\n",
       "    </tr>\n",
       "  </tbody>\n",
       "</table>\n",
       "</div>"
      ],
      "text/plain": [
       "           Date         Open          High          Low         Close  \\\n",
       "1164 2017-11-24  8074.020020   8374.160156  7940.930176   8253.690430   \n",
       "1165 2017-11-25  8241.709961   8790.919922  8191.149902   8790.919922   \n",
       "1166 2017-11-26  8789.040039   9522.929688  8775.589844   9330.549805   \n",
       "1167 2017-11-27  9352.719727   9818.349609  9352.719727   9818.349609   \n",
       "1168 2017-11-28  9823.429688  10125.700195  9736.299805  10058.799805   \n",
       "\n",
       "         Adj Close      Volume         ATR        RSI         MA40  \\\n",
       "1164   8253.690430  5058610176  442.677361  66.107411  6758.857483   \n",
       "1165   8790.919922  4342060032  450.533652  70.985898  6835.490735   \n",
       "1166   9330.549805  5475579904  465.376938  74.894879  6928.616736   \n",
       "1167   9818.349609  5653320192  466.498295  77.805763  7034.308228   \n",
       "1168  10058.799805  6348819968  462.642702  79.092620  7143.065222   \n",
       "\n",
       "             MA80        MA160  slopeMA40  slopeMA80  slopeMA160  RSISlope  \n",
       "1164  5521.423621  4353.851308  65.611426  45.472807   35.033692 -0.551028  \n",
       "1165  5573.846118  4392.867744  64.118529  47.512711   35.681023  0.176289  \n",
       "1166  5632.979492  4434.998680  69.296346  50.311008   36.987966  1.542398  \n",
       "1167  5702.849487  4479.352177  78.689638  54.845407   38.924571  2.478835  \n",
       "1168  5775.758734  4525.412801  90.355843  60.497402   41.467788  3.292003  "
      ]
     },
     "execution_count": 292,
     "metadata": {},
     "output_type": "execute_result"
    }
   ],
   "source": [
    "df = df.dropna()\n",
    "df.head()"
   ]
  },
  {
   "cell_type": "markdown",
   "metadata": {},
   "source": [
    "# Target categories"
   ]
  },
  {
   "cell_type": "code",
   "execution_count": 293,
   "metadata": {},
   "outputs": [],
   "source": [
    "#Target flexible way\n",
    "pipdiff = 80000000*1e-5 #for TP\n",
    "SLTPRatio = 2 #pipdiff/Ratio gives SL\n",
    "\n",
    "def mytarget(barsupfront, df1):\n",
    "    length = len(df1)\n",
    "    high = list(df1['High'])\n",
    "    low = list(df1['Low'])\n",
    "    close = list(df1['Close'])\n",
    "    open = list(df1['Open'])\n",
    "    trendcat = [None] * length\n",
    "    \n",
    "    for line in range (0,length-barsupfront-2):\n",
    "        valueOpenLow = 0\n",
    "        valueOpenHigh = 0\n",
    "        for i in range(1,barsupfront+2):\n",
    "            value1 = open[line+1]-low[line+i]\n",
    "            value2 = open[line+1]-high[line+i]\n",
    "            valueOpenLow = max(value1, valueOpenLow)\n",
    "            valueOpenHigh = min(value2, valueOpenHigh)\n",
    "\n",
    "            if ( (valueOpenLow >= pipdiff) and (-valueOpenHigh <= (pipdiff/SLTPRatio)) ):\n",
    "                trendcat[line] = 1 #-1 downtrend\n",
    "                break\n",
    "            elif ( (valueOpenLow <= (pipdiff/SLTPRatio)) and (-valueOpenHigh >= pipdiff) ):\n",
    "                trendcat[line] = 2 # uptrend\n",
    "                break\n",
    "            else:\n",
    "                trendcat[line] = 0 # no clear trend\n",
    "            \n",
    "    return trendcat"
   ]
  },
  {
   "cell_type": "code",
   "execution_count": 294,
   "metadata": {},
   "outputs": [
    {
     "name": "stderr",
     "output_type": "stream",
     "text": [
      "C:\\Users\\deerr\\anaconda3\\envs\\dev\\envs\\dev\\lib\\site-packages\\ipykernel_launcher.py:1: SettingWithCopyWarning: \n",
      "A value is trying to be set on a copy of a slice from a DataFrame.\n",
      "Try using .loc[row_indexer,col_indexer] = value instead\n",
      "\n",
      "See the caveats in the documentation: https://pandas.pydata.org/pandas-docs/stable/user_guide/indexing.html#returning-a-view-versus-a-copy\n",
      "  \"\"\"Entry point for launching an IPython kernel.\n"
     ]
    },
    {
     "data": {
      "text/html": [
       "<div>\n",
       "<style scoped>\n",
       "    .dataframe tbody tr th:only-of-type {\n",
       "        vertical-align: middle;\n",
       "    }\n",
       "\n",
       "    .dataframe tbody tr th {\n",
       "        vertical-align: top;\n",
       "    }\n",
       "\n",
       "    .dataframe thead th {\n",
       "        text-align: right;\n",
       "    }\n",
       "</style>\n",
       "<table border=\"1\" class=\"dataframe\">\n",
       "  <thead>\n",
       "    <tr style=\"text-align: right;\">\n",
       "      <th></th>\n",
       "      <th>Date</th>\n",
       "      <th>Open</th>\n",
       "      <th>High</th>\n",
       "      <th>Low</th>\n",
       "      <th>Close</th>\n",
       "      <th>Adj Close</th>\n",
       "      <th>Volume</th>\n",
       "      <th>ATR</th>\n",
       "      <th>RSI</th>\n",
       "      <th>MA40</th>\n",
       "      <th>MA80</th>\n",
       "      <th>MA160</th>\n",
       "      <th>slopeMA40</th>\n",
       "      <th>slopeMA80</th>\n",
       "      <th>slopeMA160</th>\n",
       "      <th>RSISlope</th>\n",
       "      <th>Daily_Return</th>\n",
       "    </tr>\n",
       "  </thead>\n",
       "  <tbody>\n",
       "    <tr>\n",
       "      <th>1164</th>\n",
       "      <td>2017-11-24</td>\n",
       "      <td>8074.020020</td>\n",
       "      <td>8374.160156</td>\n",
       "      <td>7940.930176</td>\n",
       "      <td>8253.690430</td>\n",
       "      <td>8253.690430</td>\n",
       "      <td>5058610176</td>\n",
       "      <td>442.677361</td>\n",
       "      <td>66.107411</td>\n",
       "      <td>6758.857483</td>\n",
       "      <td>5521.423621</td>\n",
       "      <td>4353.851308</td>\n",
       "      <td>65.611426</td>\n",
       "      <td>45.472807</td>\n",
       "      <td>35.033692</td>\n",
       "      <td>-0.551028</td>\n",
       "      <td>0.065090</td>\n",
       "    </tr>\n",
       "    <tr>\n",
       "      <th>1165</th>\n",
       "      <td>2017-11-25</td>\n",
       "      <td>8241.709961</td>\n",
       "      <td>8790.919922</td>\n",
       "      <td>8191.149902</td>\n",
       "      <td>8790.919922</td>\n",
       "      <td>8790.919922</td>\n",
       "      <td>4342060032</td>\n",
       "      <td>450.533652</td>\n",
       "      <td>70.985898</td>\n",
       "      <td>6835.490735</td>\n",
       "      <td>5573.846118</td>\n",
       "      <td>4392.867744</td>\n",
       "      <td>64.118529</td>\n",
       "      <td>47.512711</td>\n",
       "      <td>35.681023</td>\n",
       "      <td>0.176289</td>\n",
       "      <td>0.061385</td>\n",
       "    </tr>\n",
       "    <tr>\n",
       "      <th>1166</th>\n",
       "      <td>2017-11-26</td>\n",
       "      <td>8789.040039</td>\n",
       "      <td>9522.929688</td>\n",
       "      <td>8775.589844</td>\n",
       "      <td>9330.549805</td>\n",
       "      <td>9330.549805</td>\n",
       "      <td>5475579904</td>\n",
       "      <td>465.376938</td>\n",
       "      <td>74.894879</td>\n",
       "      <td>6928.616736</td>\n",
       "      <td>5632.979492</td>\n",
       "      <td>4434.998680</td>\n",
       "      <td>69.296346</td>\n",
       "      <td>50.311008</td>\n",
       "      <td>36.987966</td>\n",
       "      <td>1.542398</td>\n",
       "      <td>0.052280</td>\n",
       "    </tr>\n",
       "    <tr>\n",
       "      <th>1167</th>\n",
       "      <td>2017-11-27</td>\n",
       "      <td>9352.719727</td>\n",
       "      <td>9818.349609</td>\n",
       "      <td>9352.719727</td>\n",
       "      <td>9818.349609</td>\n",
       "      <td>9818.349609</td>\n",
       "      <td>5653320192</td>\n",
       "      <td>466.498295</td>\n",
       "      <td>77.805763</td>\n",
       "      <td>7034.308228</td>\n",
       "      <td>5702.849487</td>\n",
       "      <td>4479.352177</td>\n",
       "      <td>78.689638</td>\n",
       "      <td>54.845407</td>\n",
       "      <td>38.924571</td>\n",
       "      <td>2.478835</td>\n",
       "      <td>0.024490</td>\n",
       "    </tr>\n",
       "    <tr>\n",
       "      <th>1168</th>\n",
       "      <td>2017-11-28</td>\n",
       "      <td>9823.429688</td>\n",
       "      <td>10125.700195</td>\n",
       "      <td>9736.299805</td>\n",
       "      <td>10058.799805</td>\n",
       "      <td>10058.799805</td>\n",
       "      <td>6348819968</td>\n",
       "      <td>462.642702</td>\n",
       "      <td>79.092620</td>\n",
       "      <td>7143.065222</td>\n",
       "      <td>5775.758734</td>\n",
       "      <td>4525.412801</td>\n",
       "      <td>90.355843</td>\n",
       "      <td>60.497402</td>\n",
       "      <td>41.467788</td>\n",
       "      <td>3.292003</td>\n",
       "      <td>-0.016919</td>\n",
       "    </tr>\n",
       "  </tbody>\n",
       "</table>\n",
       "</div>"
      ],
      "text/plain": [
       "           Date         Open          High          Low         Close  \\\n",
       "1164 2017-11-24  8074.020020   8374.160156  7940.930176   8253.690430   \n",
       "1165 2017-11-25  8241.709961   8790.919922  8191.149902   8790.919922   \n",
       "1166 2017-11-26  8789.040039   9522.929688  8775.589844   9330.549805   \n",
       "1167 2017-11-27  9352.719727   9818.349609  9352.719727   9818.349609   \n",
       "1168 2017-11-28  9823.429688  10125.700195  9736.299805  10058.799805   \n",
       "\n",
       "         Adj Close      Volume         ATR        RSI         MA40  \\\n",
       "1164   8253.690430  5058610176  442.677361  66.107411  6758.857483   \n",
       "1165   8790.919922  4342060032  450.533652  70.985898  6835.490735   \n",
       "1166   9330.549805  5475579904  465.376938  74.894879  6928.616736   \n",
       "1167   9818.349609  5653320192  466.498295  77.805763  7034.308228   \n",
       "1168  10058.799805  6348819968  462.642702  79.092620  7143.065222   \n",
       "\n",
       "             MA80        MA160  slopeMA40  slopeMA80  slopeMA160  RSISlope  \\\n",
       "1164  5521.423621  4353.851308  65.611426  45.472807   35.033692 -0.551028   \n",
       "1165  5573.846118  4392.867744  64.118529  47.512711   35.681023  0.176289   \n",
       "1166  5632.979492  4434.998680  69.296346  50.311008   36.987966  1.542398   \n",
       "1167  5702.849487  4479.352177  78.689638  54.845407   38.924571  2.478835   \n",
       "1168  5775.758734  4525.412801  90.355843  60.497402   41.467788  3.292003   \n",
       "\n",
       "      Daily_Return  \n",
       "1164      0.065090  \n",
       "1165      0.061385  \n",
       "1166      0.052280  \n",
       "1167      0.024490  \n",
       "1168     -0.016919  "
      ]
     },
     "execution_count": 294,
     "metadata": {},
     "output_type": "execute_result"
    }
   ],
   "source": [
    "df[\"Daily_Return\"] = df[\"Close\"].pct_change().shift(-1)\n",
    "df.head()"
   ]
  },
  {
   "cell_type": "code",
   "execution_count": 295,
   "metadata": {},
   "outputs": [
    {
     "data": {
      "text/plain": [
       "1773"
      ]
     },
     "execution_count": 295,
     "metadata": {},
     "output_type": "execute_result"
    }
   ],
   "source": [
    "len(df)"
   ]
  },
  {
   "cell_type": "code",
   "execution_count": 296,
   "metadata": {
    "scrolled": true
   },
   "outputs": [
    {
     "name": "stderr",
     "output_type": "stream",
     "text": [
      "C:\\Users\\deerr\\anaconda3\\envs\\dev\\envs\\dev\\lib\\site-packages\\ipykernel_launcher.py:2: SettingWithCopyWarning: \n",
      "A value is trying to be set on a copy of a slice from a DataFrame.\n",
      "Try using .loc[row_indexer,col_indexer] = value instead\n",
      "\n",
      "See the caveats in the documentation: https://pandas.pydata.org/pandas-docs/stable/user_guide/indexing.html#returning-a-view-versus-a-copy\n",
      "  \n"
     ]
    },
    {
     "data": {
      "text/plain": [
       "<AxesSubplot:>"
      ]
     },
     "execution_count": 296,
     "metadata": {},
     "output_type": "execute_result"
    },
    {
     "data": {
      "image/png": "[encoded data removed]",
      "text/plain": [
       "<Figure size 432x288 with 1 Axes>"
      ]
     },
     "metadata": {
      "needs_background": "light"
     },
     "output_type": "display_data"
    }
   ],
   "source": [
    "# mytarget(barsfront to take into account, dataframe)\n",
    "df['mytarget'] = mytarget(30, df)\n",
    "df['mytarget'].hist()"
   ]
  },
  {
   "cell_type": "code",
   "execution_count": 297,
   "metadata": {},
   "outputs": [
    {
     "data": {
      "text/plain": [
       "<AxesSubplot:xlabel='mytarget', ylabel='Daily_Return'>"
      ]
     },
     "execution_count": 297,
     "metadata": {},
     "output_type": "execute_result"
    },
    {
     "data": {
      "image/png": "[encoded data removed]",
      "text/plain": [
       "<Figure size 432x288 with 1 Axes>"
      ]
     },
     "metadata": {
      "needs_background": "light"
     },
     "output_type": "display_data"
    }
   ],
   "source": [
    "df[[\"mytarget\",\"Daily_Return\"]].plot(kind=\"scatter\", x = \"mytarget\", y =\"Daily_Return\")"
   ]
  },
  {
   "cell_type": "code",
   "execution_count": 298,
   "metadata": {},
   "outputs": [
    {
     "data": {
      "text/html": [
       "<div>\n",
       "<style scoped>\n",
       "    .dataframe tbody tr th:only-of-type {\n",
       "        vertical-align: middle;\n",
       "    }\n",
       "\n",
       "    .dataframe tbody tr th {\n",
       "        vertical-align: top;\n",
       "    }\n",
       "\n",
       "    .dataframe thead th {\n",
       "        text-align: right;\n",
       "    }\n",
       "</style>\n",
       "<table border=\"1\" class=\"dataframe\">\n",
       "  <thead>\n",
       "    <tr style=\"text-align: right;\">\n",
       "      <th></th>\n",
       "      <th>Open</th>\n",
       "      <th>High</th>\n",
       "      <th>Low</th>\n",
       "      <th>Close</th>\n",
       "      <th>Adj Close</th>\n",
       "      <th>Volume</th>\n",
       "      <th>ATR</th>\n",
       "      <th>RSI</th>\n",
       "      <th>MA40</th>\n",
       "      <th>MA80</th>\n",
       "      <th>MA160</th>\n",
       "      <th>slopeMA40</th>\n",
       "      <th>slopeMA80</th>\n",
       "      <th>slopeMA160</th>\n",
       "      <th>RSISlope</th>\n",
       "      <th>Daily_Return</th>\n",
       "      <th>mytarget</th>\n",
       "    </tr>\n",
       "  </thead>\n",
       "  <tbody>\n",
       "    <tr>\n",
       "      <th>1164</th>\n",
       "      <td>8074.020020</td>\n",
       "      <td>8374.160156</td>\n",
       "      <td>7940.930176</td>\n",
       "      <td>8253.690430</td>\n",
       "      <td>8253.690430</td>\n",
       "      <td>5058610176</td>\n",
       "      <td>442.677361</td>\n",
       "      <td>66.107411</td>\n",
       "      <td>6758.857483</td>\n",
       "      <td>5521.423621</td>\n",
       "      <td>4353.851308</td>\n",
       "      <td>65.611426</td>\n",
       "      <td>45.472807</td>\n",
       "      <td>35.033692</td>\n",
       "      <td>-0.551028</td>\n",
       "      <td>0.065090</td>\n",
       "      <td>2.0</td>\n",
       "    </tr>\n",
       "    <tr>\n",
       "      <th>1165</th>\n",
       "      <td>8241.709961</td>\n",
       "      <td>8790.919922</td>\n",
       "      <td>8191.149902</td>\n",
       "      <td>8790.919922</td>\n",
       "      <td>8790.919922</td>\n",
       "      <td>4342060032</td>\n",
       "      <td>450.533652</td>\n",
       "      <td>70.985898</td>\n",
       "      <td>6835.490735</td>\n",
       "      <td>5573.846118</td>\n",
       "      <td>4392.867744</td>\n",
       "      <td>64.118529</td>\n",
       "      <td>47.512711</td>\n",
       "      <td>35.681023</td>\n",
       "      <td>0.176289</td>\n",
       "      <td>0.061385</td>\n",
       "      <td>2.0</td>\n",
       "    </tr>\n",
       "    <tr>\n",
       "      <th>1166</th>\n",
       "      <td>8789.040039</td>\n",
       "      <td>9522.929688</td>\n",
       "      <td>8775.589844</td>\n",
       "      <td>9330.549805</td>\n",
       "      <td>9330.549805</td>\n",
       "      <td>5475579904</td>\n",
       "      <td>465.376938</td>\n",
       "      <td>74.894879</td>\n",
       "      <td>6928.616736</td>\n",
       "      <td>5632.979492</td>\n",
       "      <td>4434.998680</td>\n",
       "      <td>69.296346</td>\n",
       "      <td>50.311008</td>\n",
       "      <td>36.987966</td>\n",
       "      <td>1.542398</td>\n",
       "      <td>0.052280</td>\n",
       "      <td>2.0</td>\n",
       "    </tr>\n",
       "    <tr>\n",
       "      <th>1167</th>\n",
       "      <td>9352.719727</td>\n",
       "      <td>9818.349609</td>\n",
       "      <td>9352.719727</td>\n",
       "      <td>9818.349609</td>\n",
       "      <td>9818.349609</td>\n",
       "      <td>5653320192</td>\n",
       "      <td>466.498295</td>\n",
       "      <td>77.805763</td>\n",
       "      <td>7034.308228</td>\n",
       "      <td>5702.849487</td>\n",
       "      <td>4479.352177</td>\n",
       "      <td>78.689638</td>\n",
       "      <td>54.845407</td>\n",
       "      <td>38.924571</td>\n",
       "      <td>2.478835</td>\n",
       "      <td>0.024490</td>\n",
       "      <td>2.0</td>\n",
       "    </tr>\n",
       "    <tr>\n",
       "      <th>1168</th>\n",
       "      <td>9823.429688</td>\n",
       "      <td>10125.700195</td>\n",
       "      <td>9736.299805</td>\n",
       "      <td>10058.799805</td>\n",
       "      <td>10058.799805</td>\n",
       "      <td>6348819968</td>\n",
       "      <td>462.642702</td>\n",
       "      <td>79.092620</td>\n",
       "      <td>7143.065222</td>\n",
       "      <td>5775.758734</td>\n",
       "      <td>4525.412801</td>\n",
       "      <td>90.355843</td>\n",
       "      <td>60.497402</td>\n",
       "      <td>41.467788</td>\n",
       "      <td>3.292003</td>\n",
       "      <td>-0.016919</td>\n",
       "      <td>0.0</td>\n",
       "    </tr>\n",
       "  </tbody>\n",
       "</table>\n",
       "</div>"
      ],
      "text/plain": [
       "             Open          High          Low         Close     Adj Close  \\\n",
       "1164  8074.020020   8374.160156  7940.930176   8253.690430   8253.690430   \n",
       "1165  8241.709961   8790.919922  8191.149902   8790.919922   8790.919922   \n",
       "1166  8789.040039   9522.929688  8775.589844   9330.549805   9330.549805   \n",
       "1167  9352.719727   9818.349609  9352.719727   9818.349609   9818.349609   \n",
       "1168  9823.429688  10125.700195  9736.299805  10058.799805  10058.799805   \n",
       "\n",
       "          Volume         ATR        RSI         MA40         MA80  \\\n",
       "1164  5058610176  442.677361  66.107411  6758.857483  5521.423621   \n",
       "1165  4342060032  450.533652  70.985898  6835.490735  5573.846118   \n",
       "1166  5475579904  465.376938  74.894879  6928.616736  5632.979492   \n",
       "1167  5653320192  466.498295  77.805763  7034.308228  5702.849487   \n",
       "1168  6348819968  462.642702  79.092620  7143.065222  5775.758734   \n",
       "\n",
       "            MA160  slopeMA40  slopeMA80  slopeMA160  RSISlope  Daily_Return  \\\n",
       "1164  4353.851308  65.611426  45.472807   35.033692 -0.551028      0.065090   \n",
       "1165  4392.867744  64.118529  47.512711   35.681023  0.176289      0.061385   \n",
       "1166  4434.998680  69.296346  50.311008   36.987966  1.542398      0.052280   \n",
       "1167  4479.352177  78.689638  54.845407   38.924571  2.478835      0.024490   \n",
       "1168  4525.412801  90.355843  60.497402   41.467788  3.292003     -0.016919   \n",
       "\n",
       "      mytarget  \n",
       "1164       2.0  \n",
       "1165       2.0  \n",
       "1166       2.0  \n",
       "1167       2.0  \n",
       "1168       0.0  "
      ]
     },
     "execution_count": 298,
     "metadata": {},
     "output_type": "execute_result"
    }
   ],
   "source": [
    "# from datetime import datetime\n",
    "# datetime.strptime(df[\"Date\"], '%b %d %Y %I:%M%p')\n",
    "\n",
    "# df[\"Date\"] = pd.to_datetime((df.Date))\n",
    "df = df.drop(columns = \"Date\")\n",
    "\n",
    "df.head()"
   ]
  },
  {
   "cell_type": "code",
   "execution_count": 299,
   "metadata": {},
   "outputs": [
    {
     "data": {
      "text/html": [
       "<div>\n",
       "<style scoped>\n",
       "    .dataframe tbody tr th:only-of-type {\n",
       "        vertical-align: middle;\n",
       "    }\n",
       "\n",
       "    .dataframe tbody tr th {\n",
       "        vertical-align: top;\n",
       "    }\n",
       "\n",
       "    .dataframe thead th {\n",
       "        text-align: right;\n",
       "    }\n",
       "</style>\n",
       "<table border=\"1\" class=\"dataframe\">\n",
       "  <thead>\n",
       "    <tr style=\"text-align: right;\">\n",
       "      <th></th>\n",
       "      <th>Close</th>\n",
       "      <th>Adj Close</th>\n",
       "      <th>Volume</th>\n",
       "      <th>ATR</th>\n",
       "      <th>RSI</th>\n",
       "      <th>MA40</th>\n",
       "      <th>MA80</th>\n",
       "      <th>MA160</th>\n",
       "      <th>slopeMA40</th>\n",
       "      <th>slopeMA80</th>\n",
       "      <th>slopeMA160</th>\n",
       "      <th>RSISlope</th>\n",
       "    </tr>\n",
       "  </thead>\n",
       "  <tbody>\n",
       "    <tr>\n",
       "      <th>1164</th>\n",
       "      <td>8253.690430</td>\n",
       "      <td>8253.690430</td>\n",
       "      <td>5058610176</td>\n",
       "      <td>442.677361</td>\n",
       "      <td>66.107411</td>\n",
       "      <td>6758.857483</td>\n",
       "      <td>5521.423621</td>\n",
       "      <td>4353.851308</td>\n",
       "      <td>65.611426</td>\n",
       "      <td>45.472807</td>\n",
       "      <td>35.033692</td>\n",
       "      <td>-0.551028</td>\n",
       "    </tr>\n",
       "    <tr>\n",
       "      <th>1165</th>\n",
       "      <td>8790.919922</td>\n",
       "      <td>8790.919922</td>\n",
       "      <td>4342060032</td>\n",
       "      <td>450.533652</td>\n",
       "      <td>70.985898</td>\n",
       "      <td>6835.490735</td>\n",
       "      <td>5573.846118</td>\n",
       "      <td>4392.867744</td>\n",
       "      <td>64.118529</td>\n",
       "      <td>47.512711</td>\n",
       "      <td>35.681023</td>\n",
       "      <td>0.176289</td>\n",
       "    </tr>\n",
       "    <tr>\n",
       "      <th>1166</th>\n",
       "      <td>9330.549805</td>\n",
       "      <td>9330.549805</td>\n",
       "      <td>5475579904</td>\n",
       "      <td>465.376938</td>\n",
       "      <td>74.894879</td>\n",
       "      <td>6928.616736</td>\n",
       "      <td>5632.979492</td>\n",
       "      <td>4434.998680</td>\n",
       "      <td>69.296346</td>\n",
       "      <td>50.311008</td>\n",
       "      <td>36.987966</td>\n",
       "      <td>1.542398</td>\n",
       "    </tr>\n",
       "    <tr>\n",
       "      <th>1167</th>\n",
       "      <td>9818.349609</td>\n",
       "      <td>9818.349609</td>\n",
       "      <td>5653320192</td>\n",
       "      <td>466.498295</td>\n",
       "      <td>77.805763</td>\n",
       "      <td>7034.308228</td>\n",
       "      <td>5702.849487</td>\n",
       "      <td>4479.352177</td>\n",
       "      <td>78.689638</td>\n",
       "      <td>54.845407</td>\n",
       "      <td>38.924571</td>\n",
       "      <td>2.478835</td>\n",
       "    </tr>\n",
       "    <tr>\n",
       "      <th>1168</th>\n",
       "      <td>10058.799805</td>\n",
       "      <td>10058.799805</td>\n",
       "      <td>6348819968</td>\n",
       "      <td>462.642702</td>\n",
       "      <td>79.092620</td>\n",
       "      <td>7143.065222</td>\n",
       "      <td>5775.758734</td>\n",
       "      <td>4525.412801</td>\n",
       "      <td>90.355843</td>\n",
       "      <td>60.497402</td>\n",
       "      <td>41.467788</td>\n",
       "      <td>3.292003</td>\n",
       "    </tr>\n",
       "  </tbody>\n",
       "</table>\n",
       "</div>"
      ],
      "text/plain": [
       "             Close     Adj Close      Volume         ATR        RSI  \\\n",
       "1164   8253.690430   8253.690430  5058610176  442.677361  66.107411   \n",
       "1165   8790.919922   8790.919922  4342060032  450.533652  70.985898   \n",
       "1166   9330.549805   9330.549805  5475579904  465.376938  74.894879   \n",
       "1167   9818.349609   9818.349609  5653320192  466.498295  77.805763   \n",
       "1168  10058.799805  10058.799805  6348819968  462.642702  79.092620   \n",
       "\n",
       "             MA40         MA80        MA160  slopeMA40  slopeMA80  slopeMA160  \\\n",
       "1164  6758.857483  5521.423621  4353.851308  65.611426  45.472807   35.033692   \n",
       "1165  6835.490735  5573.846118  4392.867744  64.118529  47.512711   35.681023   \n",
       "1166  6928.616736  5632.979492  4434.998680  69.296346  50.311008   36.987966   \n",
       "1167  7034.308228  5702.849487  4479.352177  78.689638  54.845407   38.924571   \n",
       "1168  7143.065222  5775.758734  4525.412801  90.355843  60.497402   41.467788   \n",
       "\n",
       "      RSISlope  \n",
       "1164 -0.551028  \n",
       "1165  0.176289  \n",
       "1166  1.542398  \n",
       "1167  2.478835  \n",
       "1168  3.292003  "
      ]
     },
     "execution_count": 299,
     "metadata": {},
     "output_type": "execute_result"
    }
   ],
   "source": [
    "df=df.dropna()\n",
    "X = df.drop(columns=[\"Daily_Return\",\"mytarget\"])\n",
    "\n",
    "X=X.drop(columns=['Open', 'High', 'Low'])\n",
    "\n",
    "y=df[\"mytarget\"]\n",
    "last_train=int(len(X)*.75)\n",
    "X_train=X.loc[:last_train, :]\n",
    "X_test=X.loc[last_train:, :]\n",
    "y_train=y.loc[:last_train]\n",
    "y_test=y.loc[last_train:]\n",
    "\n",
    "X_train.head()"
   ]
  },
  {
   "cell_type": "code",
   "execution_count": 300,
   "metadata": {},
   "outputs": [],
   "source": [
    "from sklearn.ensemble import RandomForestClassifier\n",
    "from sklearn.ensemble import GradientBoostingClassifier\n",
    "from sklearn.preprocessing import StandardScaler\n",
    "from sklearn.svm import SVC\n",
    "from sklearn.metrics import accuracy_score\n",
    "\n",
    "scaler=StandardScaler()\n",
    "scaler.fit(X_train)\n",
    "X_train_scaled=scaler.transform(X_train)\n",
    "X_test_scaled=scaler.transform(X_test)\n",
    "\n",
    "#rf=RandomForestClassifier()\n",
    "rf=GradientBoostingClassifier()\n",
    "#rf=SVC()\n",
    "\n",
    "model = rf.fit(X_train_scaled, y_train)\n",
    "\n",
    "rf_pred_train = model.predict(X_train_scaled)\n",
    "\n",
    "rf_pred_test = model.predict(X_test_scaled)"
   ]
  },
  {
   "cell_type": "code",
   "execution_count": 301,
   "metadata": {},
   "outputs": [
    {
     "data": {
      "text/plain": [
       "1.0"
      ]
     },
     "metadata": {},
     "output_type": "display_data"
    },
    {
     "data": {
      "text/plain": [
       "0.37625"
      ]
     },
     "metadata": {},
     "output_type": "display_data"
    }
   ],
   "source": [
    "display(rf.score(X_train_scaled, y_train))\n",
    "display(rf.score(X_test_scaled, y_test))"
   ]
  },
  {
   "cell_type": "code",
   "execution_count": 302,
   "metadata": {},
   "outputs": [],
   "source": [
    "# from sklearn.metrics import classification_report\n",
    "# print(classification_report(y_train, rf_pred_train))"
   ]
  },
  {
   "cell_type": "code",
   "execution_count": 303,
   "metadata": {},
   "outputs": [
    {
     "name": "stdout",
     "output_type": "stream",
     "text": [
      "Accuracy train: 100.00%\n",
      "Accuracy test: 37.62%\n",
      "0.0    38.598507\n",
      "2.0    33.141872\n",
      "1.0    28.259621\n",
      "Name: mytarget, dtype: float64\n"
     ]
    }
   ],
   "source": [
    "accuracy_train = accuracy_score(y_train, rf_pred_train)\n",
    "accuracy_test = accuracy_score(y_test, rf_pred_test)\n",
    "print(\"Accuracy train: %.2f%%\" % (accuracy_train * 100.0))\n",
    "print(\"Accuracy test: %.2f%%\" % (accuracy_test * 100.0))\n",
    "\n",
    "#------------------------------------------------------------------\n",
    "#--- How should I compare my accuracy ?\n",
    "print(df['mytarget'].value_counts()*100/df['mytarget'].count())"
   ]
  },
  {
   "cell_type": "code",
   "execution_count": 304,
   "metadata": {},
   "outputs": [
    {
     "name": "stdout",
     "output_type": "stream",
     "text": [
      "Accuracy Gambler: 33.50%\n"
     ]
    }
   ],
   "source": [
    "# Random Model, gambler?\n",
    "gamble_test = np.random.choice([0, 1, 2], len(rf_pred_test))\n",
    "accuracy_test = accuracy_score(y_test, gamble_test)\n",
    "print(\"Accuracy Gambler: %.2f%%\" % (accuracy_test * 100.0))"
   ]
  },
  {
   "cell_type": "code",
   "execution_count": 305,
   "metadata": {},
   "outputs": [
    {
     "data": {
      "text/plain": [
       "1603"
      ]
     },
     "execution_count": 305,
     "metadata": {},
     "output_type": "execute_result"
    }
   ],
   "source": [
    "len(rf_pred)"
   ]
  },
  {
   "cell_type": "markdown",
   "metadata": {},
   "source": [
    "# Quick analysis example"
   ]
  },
  {
   "cell_type": "code",
   "execution_count": 307,
   "metadata": {},
   "outputs": [
    {
     "name": "stderr",
     "output_type": "stream",
     "text": [
      "C:\\Users\\deerr\\anaconda3\\envs\\dev\\envs\\dev\\lib\\site-packages\\ipykernel_launcher.py:5: UserWarning: To output multiple subplots, the figure containing the passed axes is being cleared\n",
      "  \"\"\"\n"
     ]
    },
    {
     "data": {
      "image/png": "[encoded data removed]",
      "text/plain": [
       "<Figure size 1080x1440 with 12 Axes>"
      ]
     },
     "metadata": {
      "needs_background": "light"
     },
     "output_type": "display_data"
    }
   ],
   "source": [
    "import matplotlib.pyplot as plt\n",
    "fig = plt.figure(figsize = (15,20))\n",
    "ax = fig.gca()\n",
    "df_model= df[[ 'ATR', 'RSI', 'MA40', 'MA80', 'MA160', 'slopeMA40', 'slopeMA80', 'slopeMA160', 'RSISlope', 'mytarget']] \n",
    "df_model.hist(ax = ax)\n",
    "plt.show()"
   ]
  },
  {
   "cell_type": "markdown",
   "metadata": {},
   "source": [
    "## Can we use the RSI alone as a trend indicator?"
   ]
  },
  {
   "cell_type": "code",
   "execution_count": 8,
   "metadata": {},
   "outputs": [
    {
     "data": {
      "image/png": "[encoded data removed]",
      "text/plain": [
       "<Figure size 432x288 with 1 Axes>"
      ]
     },
     "metadata": {
      "needs_background": "light"
     },
     "output_type": "display_data"
    }
   ],
   "source": [
    "from matplotlib import pyplot\n",
    "df_up=df.RSI[ df['mytarget'] == 2 ]\n",
    "df_down=df.RSI[ df['mytarget'] == 1 ]\n",
    "df_unclear=df.RSI[ df['mytarget'] == 0 ]\n",
    "pyplot.hist(df_unclear, bins=100, alpha=0.5, label='unclear')\n",
    "pyplot.hist(df_down, bins=100, alpha=0.5, label='down')\n",
    "pyplot.hist(df_up, bins=100, alpha=0.5, label='up')\n",
    "\n",
    "pyplot.legend(loc='upper right')\n",
    "pyplot.show()"
   ]
  },
  {
   "cell_type": "markdown",
   "metadata": {},
   "source": [
    "# Machine learning for trend prediction"
   ]
  },
  {
   "cell_type": "markdown",
   "metadata": {},
   "source": [
    "## 1 - the perfect model with precise prediction"
   ]
  },
  {
   "cell_type": "markdown",
   "metadata": {},
   "source": [
    "## 2 - less perfect model still with > 40% precision"
   ]
  },
  {
   "cell_type": "markdown",
   "metadata": {},
   "source": [
    "## 3 - much less perfect model with precision >35% taking into account our strategy, and our TP/SL ratio "
   ]
  },
  {
   "cell_type": "markdown",
   "metadata": {},
   "source": [
    "### can't let an automated program run your trades\n",
    "### it can be your version of a smart indicator (based on machine learning)\n",
    "\n",
    "## 4 - Our target has categorical values so we need a classificator, KNN?"
   ]
  },
  {
   "cell_type": "markdown",
   "metadata": {},
   "source": [
    "## Splitting features and target"
   ]
  },
  {
   "cell_type": "code",
   "execution_count": 287,
   "metadata": {},
   "outputs": [
    {
     "ename": "NameError",
     "evalue": "name 'df_model' is not defined",
     "output_type": "error",
     "traceback": [
      "\u001b[1;31m---------------------------------------------------------------------------\u001b[0m",
      "\u001b[1;31mNameError\u001b[0m                                 Traceback (most recent call last)",
      "\u001b[1;32m~\\AppData\\Local\\Temp\\ipykernel_55840\\134057479.py\u001b[0m in \u001b[0;36m<module>\u001b[1;34m\u001b[0m\n\u001b[1;32m----> 1\u001b[1;33m \u001b[0mdf_model\u001b[0m\u001b[1;33m=\u001b[0m\u001b[0mdf_model\u001b[0m\u001b[1;33m.\u001b[0m\u001b[0mdropna\u001b[0m\u001b[1;33m(\u001b[0m\u001b[1;33m)\u001b[0m\u001b[1;33m\u001b[0m\u001b[1;33m\u001b[0m\u001b[0m\n\u001b[0m\u001b[0;32m      2\u001b[0m \u001b[1;33m\u001b[0m\u001b[0m\n\u001b[0;32m      3\u001b[0m \u001b[0mattributes\u001b[0m\u001b[1;33m=\u001b[0m\u001b[1;33m[\u001b[0m\u001b[1;34m'ATR'\u001b[0m\u001b[1;33m,\u001b[0m \u001b[1;34m'RSI'\u001b[0m\u001b[1;33m,\u001b[0m \u001b[1;34m'MA40'\u001b[0m\u001b[1;33m,\u001b[0m \u001b[1;34m'MA80'\u001b[0m\u001b[1;33m,\u001b[0m \u001b[1;34m'MA160'\u001b[0m\u001b[1;33m,\u001b[0m \u001b[1;34m'slopeMA40'\u001b[0m\u001b[1;33m,\u001b[0m \u001b[1;34m'slopeMA80'\u001b[0m\u001b[1;33m,\u001b[0m \u001b[1;34m'slopeMA160'\u001b[0m\u001b[1;33m,\u001b[0m \u001b[1;34m'AverageSlope'\u001b[0m\u001b[1;33m,\u001b[0m \u001b[1;34m'RSISlope'\u001b[0m\u001b[1;33m]\u001b[0m\u001b[1;33m\u001b[0m\u001b[1;33m\u001b[0m\u001b[0m\n\u001b[0;32m      4\u001b[0m \u001b[0mX\u001b[0m \u001b[1;33m=\u001b[0m \u001b[0mdf_model\u001b[0m\u001b[1;33m[\u001b[0m\u001b[0mattributes\u001b[0m\u001b[1;33m]\u001b[0m\u001b[1;33m\u001b[0m\u001b[1;33m\u001b[0m\u001b[0m\n\u001b[0;32m      5\u001b[0m \u001b[0my\u001b[0m \u001b[1;33m=\u001b[0m \u001b[0mdf_model\u001b[0m\u001b[1;33m[\u001b[0m\u001b[1;34m\"mytarget\"\u001b[0m\u001b[1;33m]\u001b[0m\u001b[1;33m\u001b[0m\u001b[1;33m\u001b[0m\u001b[0m\n",
      "\u001b[1;31mNameError\u001b[0m: name 'df_model' is not defined"
     ]
    }
   ],
   "source": [
    "df_model=df_model.dropna()\n",
    "\n",
    "attributes=['ATR', 'RSI', 'MA40', 'MA80', 'MA160', 'slopeMA40', 'slopeMA80', 'slopeMA160', 'AverageSlope', 'RSISlope']\n",
    "X = df_model[attributes]\n",
    "y = df_model[\"mytarget\"]\n",
    "\n",
    "print(X)"
   ]
  },
  {
   "cell_type": "code",
   "execution_count": 10,
   "metadata": {},
   "outputs": [],
   "source": [
    "from sklearn.model_selection import train_test_split\n",
    "X_train, X_test, y_train, y_test = train_test_split(X, y, test_size=0.2, random_state=1)"
   ]
  },
  {
   "cell_type": "markdown",
   "metadata": {},
   "source": [
    "## Fitting the KNN model"
   ]
  },
  {
   "cell_type": "code",
   "execution_count": 11,
   "metadata": {},
   "outputs": [],
   "source": [
    "from sklearn.neighbors import KNeighborsClassifier\n",
    "\n",
    "model = KNeighborsClassifier(n_neighbors=200, weights='uniform', algorithm='kd_tree', leaf_size=30, p=1, metric='minkowski', metric_params=None, n_jobs=1)\n",
    "model.fit(X_train, y_train)\n",
    "\n",
    "y_pred_train = model.predict(X_train)\n",
    "y_pred_test = model.predict(X_test)"
   ]
  },
  {
   "cell_type": "markdown",
   "metadata": {},
   "source": [
    "## Quick evaluation of our fitting"
   ]
  },
  {
   "cell_type": "code",
   "execution_count": 12,
   "metadata": {},
   "outputs": [
    {
     "name": "stdout",
     "output_type": "stream",
     "text": [
      "Accuracy train: 38.66%\n",
      "Accuracy test: 37.46%\n",
      "0.0    36.545175\n",
      "2.0    32.034632\n",
      "1.0    31.420193\n",
      "Name: mytarget, dtype: float64\n",
      "Accuracy Gambler: 33.64%\n"
     ]
    }
   ],
   "source": [
    "from sklearn.metrics import accuracy_score\n",
    "accuracy_train = accuracy_score(y_train, y_pred_train)\n",
    "accuracy_test = accuracy_score(y_test, y_pred_test)\n",
    "print(\"Accuracy train: %.2f%%\" % (accuracy_train * 100.0))\n",
    "print(\"Accuracy test: %.2f%%\" % (accuracy_test * 100.0))\n",
    "\n",
    "#------------------------------------------------------------------\n",
    "#--- How should I compare my accuracy ?\n",
    "print(df_model['mytarget'].value_counts()*100/df_model['mytarget'].count())\n",
    "\n",
    "# Random Model, gambler?\n",
    "pred_test = np.random.choice([0, 1, 2], len(y_pred_test))\n",
    "accuracy_test = accuracy_score(y_test, pred_test)\n",
    "print(\"Accuracy Gambler: %.2f%%\" % (accuracy_test * 100.0))"
   ]
  },
  {
   "cell_type": "markdown",
   "metadata": {},
   "source": [
    "## More powerful model XGBoost"
   ]
  },
  {
   "cell_type": "code",
   "execution_count": 13,
   "metadata": {},
   "outputs": [
    {
     "ename": "ModuleNotFoundError",
     "evalue": "No module named 'xgboost'",
     "output_type": "error",
     "traceback": [
      "\u001b[1;31m---------------------------------------------------------------------------\u001b[0m",
      "\u001b[1;31mModuleNotFoundError\u001b[0m                       Traceback (most recent call last)",
      "\u001b[1;32m~\\AppData\\Local\\Temp\\ipykernel_50876\\191735849.py\u001b[0m in \u001b[0;36m<module>\u001b[1;34m\u001b[0m\n\u001b[1;32m----> 1\u001b[1;33m \u001b[1;32mfrom\u001b[0m \u001b[0mxgboost\u001b[0m \u001b[1;32mimport\u001b[0m \u001b[0mXGBClassifier\u001b[0m\u001b[1;33m\u001b[0m\u001b[1;33m\u001b[0m\u001b[0m\n\u001b[0m\u001b[0;32m      2\u001b[0m \u001b[0mmodel\u001b[0m \u001b[1;33m=\u001b[0m \u001b[0mXGBClassifier\u001b[0m\u001b[1;33m(\u001b[0m\u001b[1;33m)\u001b[0m\u001b[1;33m\u001b[0m\u001b[1;33m\u001b[0m\u001b[0m\n\u001b[0;32m      3\u001b[0m \u001b[0mmodel\u001b[0m\u001b[1;33m.\u001b[0m\u001b[0mfit\u001b[0m\u001b[1;33m(\u001b[0m\u001b[0mX_train\u001b[0m\u001b[1;33m,\u001b[0m \u001b[0my_train\u001b[0m\u001b[1;33m)\u001b[0m\u001b[1;33m\u001b[0m\u001b[1;33m\u001b[0m\u001b[0m\n\u001b[0;32m      4\u001b[0m \u001b[0mpred_train\u001b[0m \u001b[1;33m=\u001b[0m \u001b[0mmodel\u001b[0m\u001b[1;33m.\u001b[0m\u001b[0mpredict\u001b[0m\u001b[1;33m(\u001b[0m\u001b[0mX_train\u001b[0m\u001b[1;33m)\u001b[0m\u001b[1;33m\u001b[0m\u001b[1;33m\u001b[0m\u001b[0m\n\u001b[0;32m      5\u001b[0m \u001b[0mpred_test\u001b[0m \u001b[1;33m=\u001b[0m \u001b[0mmodel\u001b[0m\u001b[1;33m.\u001b[0m\u001b[0mpredict\u001b[0m\u001b[1;33m(\u001b[0m\u001b[0mX_test\u001b[0m\u001b[1;33m)\u001b[0m\u001b[1;33m\u001b[0m\u001b[1;33m\u001b[0m\u001b[0m\n",
      "\u001b[1;31mModuleNotFoundError\u001b[0m: No module named 'xgboost'"
     ]
    }
   ],
   "source": [
    "from xgboost import XGBClassifier\n",
    "model = XGBClassifier()\n",
    "model.fit(X_train, y_train)\n",
    "pred_train = model.predict(X_train)\n",
    "pred_test = model.predict(X_test)\n",
    "acc_train = accuracy_score(y_train, pred_train)\n",
    "acc_test = accuracy_score(y_test, pred_test)\n",
    "print('****Train Results****')\n",
    "print(\"Accuracy: {:.4%}\".format(acc_train))\n",
    "print('****Test Results****')\n",
    "print(\"Accuracy: {:.4%}\".format(acc_test))"
   ]
  },
  {
   "cell_type": "markdown",
   "metadata": {},
   "source": [
    "## !!Data sampling shouldn't be random"
   ]
  },
  {
   "cell_type": "code",
   "execution_count": null,
   "metadata": {},
   "outputs": [],
   "source": [
    "#random sampling\n",
    "#X_train, X_test, y_train, y_test = train_test_split(X, y, test_size=0.2, random_state=10)\n",
    "\n",
    "#sequential sampling\n",
    "train_index = int(0.8 * len(X))\n",
    "X_train, X_test = X[:train_index], X[train_index:]\n",
    "y_train, y_test = y[:train_index], y[train_index:]\n",
    "\n",
    "model = XGBClassifier()\n",
    "model.fit(X_train, y_train)\n",
    "pred_train = model.predict(X_train)\n",
    "pred_test = model.predict(X_test)\n",
    "acc_train = accuracy_score(y_train, pred_train)\n",
    "acc_test = accuracy_score(y_test, pred_test)\n",
    "print('****Train Results****')\n",
    "print(\"Accuracy: {:.4%}\".format(acc_train))\n",
    "print('****Test Results****')\n",
    "print(\"Accuracy: {:.4%}\".format(acc_test))"
   ]
  },
  {
   "cell_type": "markdown",
   "metadata": {},
   "source": [
    "## Which features are most important for our model?"
   ]
  },
  {
   "cell_type": "code",
   "execution_count": null,
   "metadata": {},
   "outputs": [],
   "source": [
    "from matplotlib import pyplot\n",
    "from xgboost import plot_importance\n",
    "#plot feature importance\n",
    "plot_importance(model)\n",
    "pyplot.show()"
   ]
  },
  {
   "cell_type": "markdown",
   "metadata": {},
   "source": [
    "# Automated orders using python and Machine Learning\n",
    "## Previous videos\n",
    "### 1 - Install Anaconda, Jupyter NB, Pandas_TA (Technical Analysis)\n",
    "### 2 - Download price data from online resources, and add our technical indicators to our exchange price dataframe\n",
    "### 3 - Fit a Machine learning model and predict future price trends using KNN and XGBOOST classifiers\n",
    "### 4 - Save and Load a ML model,\n",
    "### - according to the model's advice\n",
    "### - passing orders (sell/buy) automatically\n",
    "### - send an email notification about newly applied trading operations"
   ]
  },
  {
   "cell_type": "markdown",
   "metadata": {},
   "source": [
    "## Load Machine Learning Model from Disk and Test it"
   ]
  },
  {
   "cell_type": "code",
   "execution_count": null,
   "metadata": {},
   "outputs": [],
   "source": [
    "import joblib\n",
    "\n",
    "# save your ML model to disk\n",
    "filename = 'mymodel1.sav'\n",
    "joblib.dump(model, filename)\n",
    "\n",
    "#load the model from disk\n",
    "loaded_model = joblib.load('mymodel1.sav')"
   ]
  },
  {
   "cell_type": "markdown",
   "metadata": {},
   "source": [
    "## Live Automated Orders with email notification"
   ]
  },
  {
   "cell_type": "code",
   "execution_count": null,
   "metadata": {},
   "outputs": [],
   "source": [
    "from apscheduler.schedulers.blocking import BlockingScheduler\n",
    "import json\n",
    "from oandapyV20 import API\n",
    "import oandapyV20.endpoints.orders as orders\n",
    "from oandapyV20.contrib.requests import MarketOrderRequest\n",
    "from oanda_candles import Pair, Gran, CandleCollector\n",
    "from oandapyV20.contrib.requests import TakeProfitDetails, StopLossDetails\n",
    "\n",
    "\n",
    "import smtplib\n",
    "gmail_user = 'email@gmail.com'\n",
    "gmail_password = 'email password here'\n",
    "sent_from = gmail_user\n",
    "to = ['email@gmail.com']\n",
    "subject = 'info CHF'\n"
   ]
  },
  {
   "cell_type": "code",
   "execution_count": null,
   "metadata": {},
   "outputs": [],
   "source": [
    "ModelPrediction = 0\n",
    "def some_job():\n",
    "    access_token=\"INSERT TOKEN HERE, YOU GET IT FROM YOUR OANDA ACCOUNT\"\n",
    "    collector = CandleCollector(access_token, Pair.USD_CHF, Gran.H4)\n",
    "    candles = collector.grab(2*161)\n",
    "\n",
    "    dfstream = pd.DataFrame(columns=['Open','Close','High','Low'])\n",
    "    i=0\n",
    "    for candle in candles:\n",
    "        dfstream.loc[i, ['Open']] = float(str(candle.bid.o))\n",
    "        dfstream.loc[i, ['Close']] = float(str(candle.bid.c))\n",
    "        dfstream.loc[i, ['High']] = float(str(candle.bid.h))\n",
    "        dfstream.loc[i, ['Low']] = float(str(candle.bid.l))\n",
    "        i=i+1\n",
    "\n",
    "    dfstream['Open'] = dfstream['Open'].astype(float)\n",
    "    dfstream['Close'] = dfstream['Close'].astype(float)\n",
    "    dfstream['High'] = dfstream['High'].astype(float)\n",
    "    dfstream['Low'] = dfstream['Low'].astype(float)\n",
    "\n",
    "    #dfstream['Average'] = (dfstream['High']+dfstream['Low'])/2\n",
    "    #dfstream['MA40'] = dfstream['Open'].rolling(window=40).mean()\n",
    "    #dfstream['MA80'] = dfstream['Open'].rolling(window=80).mean()\n",
    "    #dfstream['MA160'] = dfstream['Open'].rolling(window=160).mean()\n",
    "    \n",
    "    import numpy as np\n",
    "    import pandas_ta as ta\n",
    "    #attributes=['ATR', 'RSI', 'Average', \n",
    "    #'MA40', 'MA80', 'MA160', 'slopeMA40', \n",
    "    #'slopeMA80', 'slopeMA160', 'AverageSlope', 'RSISlope']\n",
    "    dfstream['ATR'] = dfstream.ta.atr(length=20)\n",
    "    dfstream['RSI'] = dfstream.ta.rsi()\n",
    "    dfstream['Average'] = dfstream.ta.midprice(length=1) #midprice\n",
    "    dfstream['MA40'] = dfstream.ta.sma(length=40)\n",
    "    dfstream['MA80'] = dfstream.ta.sma(length=80)\n",
    "    dfstream['MA160'] = dfstream.ta.sma(length=160)\n",
    "\n",
    "#from scipy.stats import linregress\n",
    "#def get_slope(array):\n",
    "#    y = np.array(array)\n",
    "#    x = np.arange(len(y))\n",
    "#    slope, intercept, r_value, p_value, std_err = linregress(x,y)\n",
    "#    return slope\n",
    "\n",
    "    #!!!!!!!!!!!!!!!!!!!!!!!!!!!!!\n",
    "    backrollingN = 6\n",
    "    #!!!!!!!!!!!!!!!!!!!!!!!!!!!!!\n",
    "    dfstream['slopeMA40'] = dfstream['MA40'].rolling(window=backrollingN).apply(get_slope, raw=True)\n",
    "    dfstream['slopeMA80'] = dfstream['MA80'].rolling(window=backrollingN).apply(get_slope, raw=True)\n",
    "    dfstream['slopeMA160'] = dfstream['MA160'].rolling(window=backrollingN).apply(get_slope, raw=True)\n",
    "    dfstream['AverageSlope'] = dfstream['Average'].rolling(window=backrollingN).apply(get_slope, raw=True)\n",
    "    dfstream['RSISlope'] = dfstream['RSI'].rolling(window=backrollingN).apply(get_slope, raw=True)\n",
    "\n",
    "    #________________________________________________________________________________________________\n",
    "    X_stream = dfstream.iloc[[320]]# !!! Index takes last CLOSED candle\n",
    "    #attributes=['ATR', 'RSI', 'Average', 'MA40', 'MA80', 'MA160', \n",
    "    #'slopeMA40', 'slopeMA80', 'slopeMA160', 'AverageSlope', 'RSISlope']\n",
    "    X_model = X_stream[attributes]\n",
    "    \n",
    "    # Apply the model for predictions\n",
    "    ModelPrediction = loaded_model.predict(X_model)\n",
    "  \n",
    "    msg = str(ModelPrediction) # 0 no clear trend, 1 downtrend, 2 uptrend\n",
    "    #------------------------------------\n",
    "    # send email with \n",
    "    server = smtplib.SMTP_SSL('smtp.gmail.com', 465)\n",
    "    server.ehlo()\n",
    "    server.login(gmail_user, gmail_password)\n",
    "    server.sendmail(sent_from, to, msg)\n",
    "    server.close()\n",
    "    #________________________________________________________________________________________________\n",
    "    \n",
    "    \n",
    "    # EXECUTING ORDERS\n",
    "    accountID = \"1432-432-0000\" #use your account ID\n",
    "    client = API(access_token)\n",
    "\n",
    "    candles = collector.grab(1)\n",
    "#    for candle in candles:\n",
    "#        print(candle.bid.o)\n",
    "#        print(candle.bid.c)\n",
    "    \n",
    "    pipdiff = 500*1e-5 #for TP\n",
    "    SLTPRatio = 2 #pipdiff/Ratio gives SL\n",
    "    \n",
    "    TPBuy = float(str(candle.bid.o))+pipdiff\n",
    "    SLBuy = float(str(candle.bid.o))-(pipdiff/SLTPRatio)\n",
    "    TPSell = float(str(candle.bid.o))-pipdiff\n",
    "    SLSell = float(str(candle.bid.o))+(pipdiff/SLTPRatio)\n",
    "    \n",
    "    #Sell\n",
    "    if ModelPrediction == 1:\n",
    "        mo = MarketOrderRequest(instrument=\"USD_CHF\", units=-1000, takeProfitOnFill=TakeProfitDetails(price=TPSell).data, stopLossOnFill=StopLossDetails(price=SLSell).data)\n",
    "        r = orders.OrderCreate(accountID, data=mo.data)\n",
    "        rv = client.request(r)\n",
    "        print(rv)\n",
    "    #Buy\n",
    "    elif ModelPrediction == 2:\n",
    "        mo = MarketOrderRequest(instrument=\"USD_CHF\", units=1000, takeProfitOnFill=TakeProfitDetails(price=TPBuy).data, stopLossOnFill=StopLossDetails(price=SLBuy).data)\n",
    "        r = orders.OrderCreate(accountID, data=mo.data)\n",
    "        rv = client.request(r)\n",
    "        print(rv)"
   ]
  },
  {
   "cell_type": "markdown",
   "metadata": {},
   "source": [
    "## Executing orders automatically every 4 Hours"
   ]
  },
  {
   "cell_type": "code",
   "execution_count": null,
   "metadata": {},
   "outputs": [],
   "source": [
    "#some_job()\n",
    "\n",
    "###################################################################\n",
    "## Interval time job ##############################################\n",
    "scheduler = BlockingScheduler(job_defaults={'misfire_grace_time': 15*60})\n",
    "scheduler.add_job(some_job, 'cron', day_of_week='mon-fri', hour='*/4', minute=5, jitter=120, timezone='America/New_York')\n",
    "#scheduler.add_job(some_job, 'interval', hours=4)\n",
    "scheduler.start()"
   ]
  },
  {
   "cell_type": "code",
   "execution_count": null,
   "metadata": {},
   "outputs": [],
   "source": []
  }
 ],
 "metadata": {
  "kernelspec": {
   "display_name": "Python 3 (ipykernel)",
   "language": "python",
   "name": "python3"
  },
  "language_info": {
   "codemirror_mode": {
    "name": "ipython",
    "version": 3
   },
   "file_extension": ".py",
   "mimetype": "text/x-python",
   "name": "python",
   "nbconvert_exporter": "python",
   "pygments_lexer": "ipython3",
   "version": "3.7.13"
  }
 },
 "nbformat": 4,
 "nbformat_minor": 4
}
