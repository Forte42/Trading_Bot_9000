{
 "cells": [
  {
   "cell_type": "code",
   "execution_count": null,
   "id": "3d2d2986-8f0f-4112-b2a2-03b767dffc76",
   "metadata": {},
   "outputs": [],
   "source": [
    "import pandas as pd\n",
    "import numpy as np\n",
    "from dotenv import load_dotenv\n",
    "import os\n",
    "import requests\n",
    "import alpaca_trade_api as tradeapi\n",
    "import datetime\n",
    "from alpaca.trading.client import TradingClient\n",
    "from alpaca.trading.requests import MarketOrderRequest\n",
    "from alpaca.trading.enums import OrderSide, TimeInForce\n",
    "from alpaca.trading.requests import LimitOrderRequest"
   ]
  },
  {
   "cell_type": "code",
   "execution_count": null,
   "id": "2a1a696d-9cc5-484a-b3bf-1aa0b010162b",
   "metadata": {},
   "outputs": [],
   "source": [
    "load_dotenv()"
   ]
  },
  {
   "cell_type": "code",
   "execution_count": null,
   "id": "559f825e-3b85-4576-9416-686c4c1c822f",
   "metadata": {},
   "outputs": [],
   "source": [
    "# Set api_key and secret_key\n",
    "alpaca_api_key = os.getenv(\"ALPACA_API_KEY\")\n",
    "alpaca_secret_key = os.getenv(\"ALPACA_SECRET_KEY\")"
   ]
  },
  {
   "cell_type": "code",
   "execution_count": null,
   "id": "8eb900ff-30e1-4ba4-b126-e31a772f3916",
   "metadata": {},
   "outputs": [],
   "source": [
    "# Helpful Site to Explain Order Types: https://alpaca.markets/docs/api-references/trading-api/orders/\n",
    "import alpaca_trade_api as tradeapi\n",
    "\n",
    "trading_client = TradingClient(alpaca_api_key, alpaca_secret_key, paper=True)\n",
    "\n",
    "qty = 1 \n",
    "base_url = 'https://paper-api.alpaca.markets'\n",
    "\n",
    "api = tradeapi.REST(\n",
    "    key_id=alpaca_api_key,\n",
    "    secret_key=alpaca_secret_key,\n",
    "    base_url=base_url,\n",
    "    api_version='v2'\n",
    ")\n",
    "\n",
    "# # Stop Limit Order: You have a price you want to buy and a stop, to prevent too much loss\n",
    "# api.submit_order(\n",
    "#     symbol='ETH/USD',\n",
    "#     side='buy',\n",
    "#     type='stop_limit',\n",
    "#     qty=qty,\n",
    "#     time_in_force='gtc',\n",
    "#     limit_price= 1332.00,\n",
    "#     stop_price=1331.90\n",
    "# )\n",
    "\n",
    "# # Limit Order BUY: You just have a price you want to Buy at\n",
    "# limit_order_data = LimitOrderRequest(\n",
    "#     symbol=\"ETH/USD\",\n",
    "#     qty=qty,\n",
    "#     side=OrderSide.BUY,\n",
    "#     type='limit',\n",
    "#     time_in_force=\"gtc\",\n",
    "#     limit_price=1334.20,\n",
    "#     )\n",
    "\n",
    "# trading_client.submit_order(limit_order_data)\n",
    "\n",
    "# # Limit Order SELL: You just have a price you want to Sell at\n",
    "# limit_order_data = LimitOrderRequest(\n",
    "#     symbol=\"ETH/USD\",\n",
    "#     qty=qty,\n",
    "#     side=OrderSide.SELL,\n",
    "#     type='limit',\n",
    "#     time_in_force=\"gtc\",\n",
    "#     limit_price=1334.10,\n",
    "#     )\n",
    "\n",
    "# trading_client.submit_order(limit_order_data)\n",
    "\n",
    "# Market Order BUY: You are buying shares at the current price\n",
    "market_order_data = MarketOrderRequest(\n",
    "    symbol=\"ETH/USD\",\n",
    "    qty=qty,\n",
    "    side=OrderSide.BUY,\n",
    "    type='market',\n",
    "    time_in_force=\"gtc\",\n",
    "    )\n",
    "\n",
    "trading_client.submit_order(market_order_data)\n",
    "\n",
    "# # Market Order SELL: You are selling shares at the current price\n",
    "# market_order_data = MarketOrderRequest(\n",
    "#     symbol=\"ETH/USD\",\n",
    "#     qty=qty,\n",
    "#     side=OrderSide.SELL,\n",
    "#     type='market',\n",
    "#     time_in_force=\"gtc\",\n",
    "#     )\n",
    "\n",
    "# trading_client.submit_order(market_order_data)"
   ]
  },
  {
   "cell_type": "code",
   "execution_count": null,
   "id": "031d0a5c-2956-49a6-826f-22e3c76d101b",
   "metadata": {},
   "outputs": [],
   "source": []
  },
  {
   "cell_type": "code",
   "execution_count": null,
   "id": "ecdebeca-5cd9-4202-b583-2f523d49946b",
   "metadata": {},
   "outputs": [],
   "source": []
  }
 ],
 "metadata": {
  "kernelspec": {
   "display_name": "Python (dev)",
   "language": "python",
   "name": "dev"
  },
  "language_info": {
   "codemirror_mode": {
    "name": "ipython",
    "version": 3
   },
   "file_extension": ".py",
   "mimetype": "text/x-python",
   "name": "python",
   "nbconvert_exporter": "python",
   "pygments_lexer": "ipython3",
   "version": "3.7.13"
  }
 },
 "nbformat": 4,
 "nbformat_minor": 5
}
