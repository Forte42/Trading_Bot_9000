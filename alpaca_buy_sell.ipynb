{
 "cells": [
  {
   "cell_type": "code",
   "execution_count": 21,
   "id": "3d2d2986-8f0f-4112-b2a2-03b767dffc76",
   "metadata": {},
   "outputs": [],
   "source": [
    "import pandas as pd\n",
    "import numpy as np\n",
    "from dotenv import load_dotenv\n",
    "import os\n",
    "import requests\n",
    "import alpaca_trade_api as tradeapi\n",
    "import datetime\n",
    "from alpaca.trading.client import TradingClient\n",
    "from alpaca.trading.requests import MarketOrderRequest\n",
    "from alpaca.trading.enums import OrderSide, TimeInForce\n",
    "from alpaca.trading.requests import LimitOrderRequest"
   ]
  },
  {
   "cell_type": "code",
   "execution_count": 2,
   "id": "2a1a696d-9cc5-484a-b3bf-1aa0b010162b",
   "metadata": {},
   "outputs": [
    {
     "data": {
      "text/plain": [
       "True"
      ]
     },
     "execution_count": 2,
     "metadata": {},
     "output_type": "execute_result"
    }
   ],
   "source": [
    "load_dotenv()"
   ]
  },
  {
   "cell_type": "code",
   "execution_count": 3,
   "id": "559f825e-3b85-4576-9416-686c4c1c822f",
   "metadata": {},
   "outputs": [],
   "source": [
    "# Set api_key and secret_key\n",
    "alpaca_api_key = os.getenv(\"ALPACA_API_KEY\")\n",
    "alpaca_secret_key = os.getenv(\"ALPACA_SECRET_KEY\")"
   ]
  },
  {
   "cell_type": "code",
   "execution_count": 5,
   "id": "4d116e07-0328-4bbe-84d9-8c5d46c0eb7d",
   "metadata": {},
   "outputs": [
    {
     "data": {
      "text/plain": [
       "{   'asset_class': <AssetClass.CRYPTO: 'crypto'>,\n",
       "    'asset_id': UUID('a1733398-6acc-4e92-af24-0d0667f78713'),\n",
       "    'canceled_at': None,\n",
       "    'client_order_id': '129f5761-71e3-48a2-a9d3-399de4811a14',\n",
       "    'created_at': datetime.datetime(2022, 9, 30, 4, 46, 3, 396484, tzinfo=datetime.timezone.utc),\n",
       "    'expired_at': None,\n",
       "    'extended_hours': False,\n",
       "    'failed_at': None,\n",
       "    'filled_at': None,\n",
       "    'filled_avg_price': None,\n",
       "    'filled_qty': '0',\n",
       "    'hwm': None,\n",
       "    'id': UUID('1e9b8eba-9b8c-4a0e-b0de-ad65997fa70f'),\n",
       "    'legs': None,\n",
       "    'limit_price': None,\n",
       "    'notional': None,\n",
       "    'order_class': <OrderClass.SIMPLE: 'simple'>,\n",
       "    'order_type': <OrderType.MARKET: 'market'>,\n",
       "    'qty': '0.676',\n",
       "    'replaced_at': None,\n",
       "    'replaced_by': None,\n",
       "    'replaces': None,\n",
       "    'side': <OrderSide.BUY: 'buy'>,\n",
       "    'status': <OrderStatus.PENDING_NEW: 'pending_new'>,\n",
       "    'stop_price': None,\n",
       "    'submitted_at': datetime.datetime(2022, 9, 30, 4, 46, 3, 395346, tzinfo=datetime.timezone.utc),\n",
       "    'symbol': 'ETH/USD',\n",
       "    'time_in_force': <TimeInForce.GTC: 'gtc'>,\n",
       "    'trail_percent': None,\n",
       "    'trail_price': None,\n",
       "    'type': <OrderType.MARKET: 'market'>,\n",
       "    'updated_at': datetime.datetime(2022, 9, 30, 4, 46, 3, 396528, tzinfo=datetime.timezone.utc)}"
      ]
     },
     "execution_count": 5,
     "metadata": {},
     "output_type": "execute_result"
    }
   ],
   "source": [
    "# Buy crypto example\n",
    "trading_client = TradingClient(alpaca_api_key, alpaca_secret_key, paper=True)\n",
    "qty = 0.676 # Number of shares you would like to purchase\n",
    "market_order_data = MarketOrderRequest(\n",
    "                    symbol=\"ETH/USD\",\n",
    "                    qty=qty,\n",
    "                    side=OrderSide.BUY,\n",
    "                    time_in_force=\"gtc\"\n",
    "                    )\n",
    "\n",
    "# Market order\n",
    "market_order = trading_client.submit_order( market_order_data)\n",
    "market_order"
   ]
  },
  {
   "cell_type": "code",
   "execution_count": 6,
   "id": "3d169a71-9ec7-417b-b5d9-c2bd9e9dba1f",
   "metadata": {},
   "outputs": [
    {
     "data": {
      "text/plain": [
       "[{   'asset_class': <AssetClass.CRYPTO: 'crypto'>,\n",
       "     'asset_id': UUID('35f33a69-f5d6-4dc9-b158-4485e5e92e4b'),\n",
       "     'avg_entry_price': '1330.45',\n",
       "     'change_today': '-0.0018751875187519',\n",
       "     'cost_basis': '1794.271479',\n",
       "     'current_price': '1330.7',\n",
       "     'exchange': <AssetExchange.FTXU: 'FTXU'>,\n",
       "     'lastday_price': '1333.2',\n",
       "     'market_value': '1794.608634',\n",
       "     'qty': '1.34862',\n",
       "     'side': <PositionSide.LONG: 'long'>,\n",
       "     'symbol': 'ETHUSD',\n",
       "     'unrealized_intraday_pl': '0.337155',\n",
       "     'unrealized_intraday_plpc': '0.0001879063474764',\n",
       "     'unrealized_pl': '0.337155',\n",
       "     'unrealized_plpc': '0.0001879063474764'}]"
      ]
     },
     "execution_count": 6,
     "metadata": {},
     "output_type": "execute_result"
    }
   ],
   "source": [
    "# List current position\n",
    "trading_client.get_all_positions()"
   ]
  },
  {
   "cell_type": "code",
   "execution_count": 7,
   "id": "70304f4e-7bd8-4f5c-910a-c66813e1e084",
   "metadata": {},
   "outputs": [
    {
     "data": {
      "text/plain": [
       "{   'asset_class': <AssetClass.CRYPTO: 'crypto'>,\n",
       "    'asset_id': UUID('a1733398-6acc-4e92-af24-0d0667f78713'),\n",
       "    'canceled_at': None,\n",
       "    'client_order_id': 'a42aba94-aade-4ff8-8893-560513023544',\n",
       "    'created_at': datetime.datetime(2022, 9, 30, 4, 48, 8, 222999, tzinfo=datetime.timezone.utc),\n",
       "    'expired_at': None,\n",
       "    'extended_hours': False,\n",
       "    'failed_at': None,\n",
       "    'filled_at': None,\n",
       "    'filled_avg_price': None,\n",
       "    'filled_qty': '0',\n",
       "    'hwm': None,\n",
       "    'id': UUID('c7ccdb23-98a6-4558-8e4b-9b36ffecc2a0'),\n",
       "    'legs': None,\n",
       "    'limit_price': None,\n",
       "    'notional': None,\n",
       "    'order_class': <OrderClass.SIMPLE: 'simple'>,\n",
       "    'order_type': <OrderType.MARKET: 'market'>,\n",
       "    'qty': '0.676',\n",
       "    'replaced_at': None,\n",
       "    'replaced_by': None,\n",
       "    'replaces': None,\n",
       "    'side': <OrderSide.SELL: 'sell'>,\n",
       "    'status': <OrderStatus.PENDING_NEW: 'pending_new'>,\n",
       "    'stop_price': None,\n",
       "    'submitted_at': datetime.datetime(2022, 9, 30, 4, 48, 8, 220739, tzinfo=datetime.timezone.utc),\n",
       "    'symbol': 'ETH/USD',\n",
       "    'time_in_force': <TimeInForce.GTC: 'gtc'>,\n",
       "    'trail_percent': None,\n",
       "    'trail_price': None,\n",
       "    'type': <OrderType.MARKET: 'market'>,\n",
       "    'updated_at': datetime.datetime(2022, 9, 30, 4, 48, 8, 223062, tzinfo=datetime.timezone.utc)}"
      ]
     },
     "execution_count": 7,
     "metadata": {},
     "output_type": "execute_result"
    }
   ],
   "source": [
    "# Sell crypto example\n",
    "trading_client = TradingClient(alpaca_api_key, alpaca_secret_key, paper=True)\n",
    "qtysell= 0.676\n",
    "market_order_data = MarketOrderRequest(\n",
    "                    symbol=\"ETH/USD\",\n",
    "                    qty=qtysell,\n",
    "                    side=OrderSide.SELL,\n",
    "                    time_in_force=\"gtc\"\n",
    "                    )\n",
    "\n",
    "\n",
    "# Market order\n",
    "market_order = trading_client.submit_order( market_order_data)\n",
    "market_order"
   ]
  },
  {
   "cell_type": "code",
   "execution_count": 25,
   "id": "b486702a-431a-441f-9ed5-f242f2c20101",
   "metadata": {},
   "outputs": [
    {
     "data": {
      "text/plain": [
       "{   'asset_class': <AssetClass.CRYPTO: 'crypto'>,\n",
       "    'asset_id': UUID('a1733398-6acc-4e92-af24-0d0667f78713'),\n",
       "    'canceled_at': None,\n",
       "    'client_order_id': '572dcfe7-c397-431b-a67f-8aeea0faa2b0',\n",
       "    'created_at': datetime.datetime(2022, 9, 30, 5, 5, 36, 136947, tzinfo=datetime.timezone.utc),\n",
       "    'expired_at': None,\n",
       "    'extended_hours': False,\n",
       "    'failed_at': None,\n",
       "    'filled_at': None,\n",
       "    'filled_avg_price': None,\n",
       "    'filled_qty': '0',\n",
       "    'hwm': None,\n",
       "    'id': UUID('64d41707-6406-4c43-8de7-ccb153f62f9c'),\n",
       "    'legs': None,\n",
       "    'limit_price': '200',\n",
       "    'notional': None,\n",
       "    'order_class': <OrderClass.SIMPLE: 'simple'>,\n",
       "    'order_type': <OrderType.LIMIT: 'limit'>,\n",
       "    'qty': '0.676',\n",
       "    'replaced_at': None,\n",
       "    'replaced_by': None,\n",
       "    'replaces': None,\n",
       "    'side': <OrderSide.BUY: 'buy'>,\n",
       "    'status': <OrderStatus.PENDING_NEW: 'pending_new'>,\n",
       "    'stop_price': None,\n",
       "    'submitted_at': datetime.datetime(2022, 9, 30, 5, 5, 36, 135823, tzinfo=datetime.timezone.utc),\n",
       "    'symbol': 'ETH/USD',\n",
       "    'time_in_force': <TimeInForce.GTC: 'gtc'>,\n",
       "    'trail_percent': None,\n",
       "    'trail_price': None,\n",
       "    'type': <OrderType.LIMIT: 'limit'>,\n",
       "    'updated_at': datetime.datetime(2022, 9, 30, 5, 5, 36, 137000, tzinfo=datetime.timezone.utc)}"
      ]
     },
     "execution_count": 25,
     "metadata": {},
     "output_type": "execute_result"
    }
   ],
   "source": [
    "# import alpaca_trade_api as tradeapi\n",
    "\n",
    "# api = tradeapi.REST(alpaca_api_key, alpaca_secret_key, paper=True)\n",
    "\n",
    "# Submit a limit order\n",
    "limit_order_data = LimitOrderRequest(\n",
    "    symbol=\"ETH/USD\",\n",
    "    qty=qty,\n",
    "    side=OrderSide.BUY,\n",
    "    type='limit',\n",
    "    time_in_force=\"gtc\",\n",
    "    limit_price=200.00,\n",
    "    )\n",
    "\n",
    "trading_client.submit_order(limit_order_data)"
   ]
  },
  {
   "cell_type": "code",
   "execution_count": 82,
   "id": "8eb900ff-30e1-4ba4-b126-e31a772f3916",
   "metadata": {},
   "outputs": [
    {
     "data": {
      "text/plain": [
       "Order({   'asset_class': 'crypto',\n",
       "    'asset_id': 'a1733398-6acc-4e92-af24-0d0667f78713',\n",
       "    'canceled_at': None,\n",
       "    'client_order_id': 'd50d89ea-f08f-4dff-8c28-8f837e949da1',\n",
       "    'created_at': '2022-09-30T06:16:45.014193035Z',\n",
       "    'expired_at': None,\n",
       "    'extended_hours': False,\n",
       "    'failed_at': None,\n",
       "    'filled_at': None,\n",
       "    'filled_avg_price': None,\n",
       "    'filled_qty': '0',\n",
       "    'hwm': None,\n",
       "    'id': 'b85dd9f8-6386-4ef6-8db8-22c3a07f880a',\n",
       "    'legs': None,\n",
       "    'limit_price': '1332',\n",
       "    'notional': None,\n",
       "    'order_class': '',\n",
       "    'order_type': 'stop_limit',\n",
       "    'qty': '0.676',\n",
       "    'replaced_at': None,\n",
       "    'replaced_by': None,\n",
       "    'replaces': None,\n",
       "    'side': 'buy',\n",
       "    'source': None,\n",
       "    'status': 'new',\n",
       "    'stop_price': '1331.9',\n",
       "    'submitted_at': '2022-09-30T06:16:45.013062275Z',\n",
       "    'subtag': None,\n",
       "    'symbol': 'ETH/USD',\n",
       "    'time_in_force': 'gtc',\n",
       "    'trail_percent': None,\n",
       "    'trail_price': None,\n",
       "    'type': 'stop_limit',\n",
       "    'updated_at': '2022-09-30T06:16:45.014193035Z'})"
      ]
     },
     "execution_count": 82,
     "metadata": {},
     "output_type": "execute_result"
    }
   ],
   "source": [
    "# Helpful Site to Explain Order Types: https://alpaca.markets/docs/api-references/trading-api/orders/\n",
    "import alpaca_trade_api as tradeapi\n",
    "\n",
    "base_url = 'https://paper-api.alpaca.markets'\n",
    "\n",
    "api = tradeapi.REST(\n",
    "    key_id=alpaca_api_key,\n",
    "    secret_key=alpaca_secret_key,\n",
    "    base_url=base_url,\n",
    "    api_version='v2'\n",
    ")\n",
    "\n",
    "# # Stop Limit Order: You have a price you want to buy and a stop, to prevent too much loss\n",
    "# api.submit_order(\n",
    "#     symbol='ETH/USD',\n",
    "#     side='buy',\n",
    "#     type='stop_limit',\n",
    "#     qty=qty,\n",
    "#     time_in_force='gtc',\n",
    "#     limit_price= 1332.00,\n",
    "#     stop_price=1331.90\n",
    "# )\n",
    "\n",
    "# # Limit Order BUY: You just have a price you want to Buy at\n",
    "# limit_order_data = LimitOrderRequest(\n",
    "#     symbol=\"ETH/USD\",\n",
    "#     qty=qty,\n",
    "#     side=OrderSide.BUY,\n",
    "#     type='limit',\n",
    "#     time_in_force=\"gtc\",\n",
    "#     limit_price=1334.20,\n",
    "#     )\n",
    "\n",
    "# trading_client.submit_order(limit_order_data)\n",
    "\n",
    "# # Limit Order SELL: You just have a price you want to Sell at\n",
    "# limit_order_data = LimitOrderRequest(\n",
    "#     symbol=\"ETH/USD\",\n",
    "#     qty=qty,\n",
    "#     side=OrderSide.SELL,\n",
    "#     type='limit',\n",
    "#     time_in_force=\"gtc\",\n",
    "#     limit_price=1334.10,\n",
    "#     )\n",
    "\n",
    "# trading_client.submit_order(limit_order_data)\n",
    "\n",
    "# # Market Order BUY: You are buying shares at the current price\n",
    "# market_order_data = MarketOrderRequest(\n",
    "#     symbol=\"ETH/USD\",\n",
    "#     qty=qty,\n",
    "#     side=OrderSide.BUY,\n",
    "#     type='market',\n",
    "#     time_in_force=\"gtc\",\n",
    "#     )\n",
    "\n",
    "# trading_client.submit_order(market_order_data)\n",
    "\n",
    "# # Market Order SELL: You are selling shares at the current price\n",
    "# market_order_data = MarketOrderRequest(\n",
    "#     symbol=\"ETH/USD\",\n",
    "#     qty=qty,\n",
    "#     side=OrderSide.SELL,\n",
    "#     type='market',\n",
    "#     time_in_force=\"gtc\",\n",
    "#     )\n",
    "\n",
    "# trading_client.submit_order(market_order_data)"
   ]
  },
  {
   "cell_type": "code",
   "execution_count": null,
   "id": "031d0a5c-2956-49a6-826f-22e3c76d101b",
   "metadata": {},
   "outputs": [],
   "source": []
  }
 ],
 "metadata": {
  "kernelspec": {
   "display_name": "Python (dev)",
   "language": "python",
   "name": "dev"
  },
  "language_info": {
   "codemirror_mode": {
    "name": "ipython",
    "version": 3
   },
   "file_extension": ".py",
   "mimetype": "text/x-python",
   "name": "python",
   "nbconvert_exporter": "python",
   "pygments_lexer": "ipython3",
   "version": "3.7.13"
  }
 },
 "nbformat": 4,
 "nbformat_minor": 5
}
