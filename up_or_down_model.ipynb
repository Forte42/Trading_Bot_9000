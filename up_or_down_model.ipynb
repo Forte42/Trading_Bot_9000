{
 "cells": [
  {
   "cell_type": "code",
   "execution_count": 4,
   "id": "3d2d2986-8f0f-4112-b2a2-03b767dffc76",
   "metadata": {},
   "outputs": [],
   "source": [
    "import pandas as pd\n",
    "import numpy as np\n",
    "# from dotenv import load_dotenv\n",
    "from pandas.tseries.offsets import DateOffset\n",
    "import os\n",
    "import requests\n",
    "import datetime\n",
    "from alpaca.data.historical import CryptoHistoricalDataClient\n",
    "from alpaca.data.requests import CryptoBarsRequest\n",
    "from alpaca.data.requests import CryptoLatestQuoteRequest\n",
    "from alpaca.data.requests import CryptoTradesRequest\n",
    "from alpaca.data.timeframe import TimeFrame\n",
    "from sklearn.preprocessing import MinMaxScaler\n",
    "from sklearn.preprocessing import StandardScaler\n",
    "import tensorflow as tf\n",
    "from tensorflow.keras.layers import Dense\n",
    "from tensorflow.keras.models import Sequential\n",
    "from tensorflow.keras.layers import LSTM\n",
    "import matplotlib.pyplot as plt\n",
    "from numpy.lib import math\n",
    "from tensorflow.keras.layers import Dropout\n",
    "from tensorflow.keras.layers import TimeDistributed\n",
    "from tensorflow.keras.layers import Bidirectional\n",
    "%matplotlib inline"
   ]
  },
  {
   "cell_type": "markdown",
   "id": "a38f52a9",
   "metadata": {},
   "source": [
    "## Data Retreival/Formatting"
   ]
  },
  {
   "cell_type": "code",
   "execution_count": 5,
   "id": "559f825e-3b85-4576-9416-686c4c1c822f",
   "metadata": {},
   "outputs": [],
   "source": [
    "# alpaca_api_key = os.getenv(\"ALPACA_API_KEY\")\n",
    "# alpaca_secret_key = os.getenv(\"ALPACA_SECRET_KEY\")"
   ]
  },
  {
   "cell_type": "code",
   "execution_count": 6,
   "id": "91637821-f0fc-4c21-9ce4-c7ff383aecb5",
   "metadata": {},
   "outputs": [],
   "source": [
    "# type(alpaca_api_key)"
   ]
  },
  {
   "cell_type": "code",
   "execution_count": 7,
   "id": "d1e11ecf-535d-43e9-a2c8-25231333ef73",
   "metadata": {},
   "outputs": [],
   "source": [
    "crypto_client = CryptoHistoricalDataClient()"
   ]
  },
  {
   "cell_type": "code",
   "execution_count": 8,
   "id": "f5e5c4e2-8dd6-439f-be3f-dee63af334e7",
   "metadata": {},
   "outputs": [
    {
     "data": {
      "text/html": [
       "<div>\n",
       "<style scoped>\n",
       "    .dataframe tbody tr th:only-of-type {\n",
       "        vertical-align: middle;\n",
       "    }\n",
       "\n",
       "    .dataframe tbody tr th {\n",
       "        vertical-align: top;\n",
       "    }\n",
       "\n",
       "    .dataframe thead th {\n",
       "        text-align: right;\n",
       "    }\n",
       "</style>\n",
       "<table border=\"1\" class=\"dataframe\">\n",
       "  <thead>\n",
       "    <tr style=\"text-align: right;\">\n",
       "      <th></th>\n",
       "      <th></th>\n",
       "      <th>open</th>\n",
       "      <th>high</th>\n",
       "      <th>low</th>\n",
       "      <th>close</th>\n",
       "      <th>volume</th>\n",
       "      <th>trade_count</th>\n",
       "      <th>vwap</th>\n",
       "    </tr>\n",
       "    <tr>\n",
       "      <th>symbol</th>\n",
       "      <th>timestamp</th>\n",
       "      <th></th>\n",
       "      <th></th>\n",
       "      <th></th>\n",
       "      <th></th>\n",
       "      <th></th>\n",
       "      <th></th>\n",
       "      <th></th>\n",
       "    </tr>\n",
       "  </thead>\n",
       "  <tbody>\n",
       "    <tr>\n",
       "      <th rowspan=\"11\" valign=\"top\">ETH/USD</th>\n",
       "      <th>2022-06-30 00:00:00+00:00</th>\n",
       "      <td>1097.4</td>\n",
       "      <td>1097.8</td>\n",
       "      <td>1097.4</td>\n",
       "      <td>1097.8</td>\n",
       "      <td>5.466</td>\n",
       "      <td>4.0</td>\n",
       "      <td>1097.592682</td>\n",
       "    </tr>\n",
       "    <tr>\n",
       "      <th>2022-06-30 00:01:00+00:00</th>\n",
       "      <td>1097.6</td>\n",
       "      <td>1097.6</td>\n",
       "      <td>1097.6</td>\n",
       "      <td>1097.6</td>\n",
       "      <td>0.456</td>\n",
       "      <td>1.0</td>\n",
       "      <td>1097.600000</td>\n",
       "    </tr>\n",
       "    <tr>\n",
       "      <th>2022-06-30 00:02:00+00:00</th>\n",
       "      <td>1097.5</td>\n",
       "      <td>1097.5</td>\n",
       "      <td>1096.8</td>\n",
       "      <td>1096.8</td>\n",
       "      <td>0.685</td>\n",
       "      <td>3.0</td>\n",
       "      <td>1096.801022</td>\n",
       "    </tr>\n",
       "    <tr>\n",
       "      <th>2022-06-30 00:03:00+00:00</th>\n",
       "      <td>1096.5</td>\n",
       "      <td>1103.5</td>\n",
       "      <td>1096.5</td>\n",
       "      <td>1103.5</td>\n",
       "      <td>63.758</td>\n",
       "      <td>50.0</td>\n",
       "      <td>1100.825691</td>\n",
       "    </tr>\n",
       "    <tr>\n",
       "      <th>2022-06-30 00:04:00+00:00</th>\n",
       "      <td>1101.9</td>\n",
       "      <td>1101.9</td>\n",
       "      <td>1101.9</td>\n",
       "      <td>1101.9</td>\n",
       "      <td>2.506</td>\n",
       "      <td>1.0</td>\n",
       "      <td>1101.900000</td>\n",
       "    </tr>\n",
       "    <tr>\n",
       "      <th>...</th>\n",
       "      <td>...</td>\n",
       "      <td>...</td>\n",
       "      <td>...</td>\n",
       "      <td>...</td>\n",
       "      <td>...</td>\n",
       "      <td>...</td>\n",
       "      <td>...</td>\n",
       "    </tr>\n",
       "    <tr>\n",
       "      <th>2022-10-05 13:58:00+00:00</th>\n",
       "      <td>1322.8</td>\n",
       "      <td>1323.4</td>\n",
       "      <td>1322.8</td>\n",
       "      <td>1323.3</td>\n",
       "      <td>0.063</td>\n",
       "      <td>6.0</td>\n",
       "      <td>1323.300000</td>\n",
       "    </tr>\n",
       "    <tr>\n",
       "      <th>2022-10-05 13:59:00+00:00</th>\n",
       "      <td>1323.0</td>\n",
       "      <td>1323.9</td>\n",
       "      <td>1323.0</td>\n",
       "      <td>1323.7</td>\n",
       "      <td>10.972</td>\n",
       "      <td>19.0</td>\n",
       "      <td>1323.723788</td>\n",
       "    </tr>\n",
       "    <tr>\n",
       "      <th>2022-10-05 14:00:00+00:00</th>\n",
       "      <td>1323.6</td>\n",
       "      <td>1324.2</td>\n",
       "      <td>1320.2</td>\n",
       "      <td>1320.2</td>\n",
       "      <td>325.683</td>\n",
       "      <td>94.0</td>\n",
       "      <td>1321.945132</td>\n",
       "    </tr>\n",
       "    <tr>\n",
       "      <th>2022-10-05 14:01:00+00:00</th>\n",
       "      <td>1320.9</td>\n",
       "      <td>1322.0</td>\n",
       "      <td>1320.1</td>\n",
       "      <td>1320.1</td>\n",
       "      <td>60.701</td>\n",
       "      <td>31.0</td>\n",
       "      <td>1321.681094</td>\n",
       "    </tr>\n",
       "    <tr>\n",
       "      <th>2022-10-05 14:02:00+00:00</th>\n",
       "      <td>1320.6</td>\n",
       "      <td>1320.9</td>\n",
       "      <td>1319.0</td>\n",
       "      <td>1319.9</td>\n",
       "      <td>25.705</td>\n",
       "      <td>12.0</td>\n",
       "      <td>1320.104711</td>\n",
       "    </tr>\n",
       "  </tbody>\n",
       "</table>\n",
       "<p>133638 rows × 7 columns</p>\n",
       "</div>"
      ],
      "text/plain": [
       "                                     open    high     low   close   volume  \\\n",
       "symbol  timestamp                                                            \n",
       "ETH/USD 2022-06-30 00:00:00+00:00  1097.4  1097.8  1097.4  1097.8    5.466   \n",
       "        2022-06-30 00:01:00+00:00  1097.6  1097.6  1097.6  1097.6    0.456   \n",
       "        2022-06-30 00:02:00+00:00  1097.5  1097.5  1096.8  1096.8    0.685   \n",
       "        2022-06-30 00:03:00+00:00  1096.5  1103.5  1096.5  1103.5   63.758   \n",
       "        2022-06-30 00:04:00+00:00  1101.9  1101.9  1101.9  1101.9    2.506   \n",
       "...                                   ...     ...     ...     ...      ...   \n",
       "        2022-10-05 13:58:00+00:00  1322.8  1323.4  1322.8  1323.3    0.063   \n",
       "        2022-10-05 13:59:00+00:00  1323.0  1323.9  1323.0  1323.7   10.972   \n",
       "        2022-10-05 14:00:00+00:00  1323.6  1324.2  1320.2  1320.2  325.683   \n",
       "        2022-10-05 14:01:00+00:00  1320.9  1322.0  1320.1  1320.1   60.701   \n",
       "        2022-10-05 14:02:00+00:00  1320.6  1320.9  1319.0  1319.9   25.705   \n",
       "\n",
       "                                   trade_count         vwap  \n",
       "symbol  timestamp                                            \n",
       "ETH/USD 2022-06-30 00:00:00+00:00          4.0  1097.592682  \n",
       "        2022-06-30 00:01:00+00:00          1.0  1097.600000  \n",
       "        2022-06-30 00:02:00+00:00          3.0  1096.801022  \n",
       "        2022-06-30 00:03:00+00:00         50.0  1100.825691  \n",
       "        2022-06-30 00:04:00+00:00          1.0  1101.900000  \n",
       "...                                        ...          ...  \n",
       "        2022-10-05 13:58:00+00:00          6.0  1323.300000  \n",
       "        2022-10-05 13:59:00+00:00         19.0  1323.723788  \n",
       "        2022-10-05 14:00:00+00:00         94.0  1321.945132  \n",
       "        2022-10-05 14:01:00+00:00         31.0  1321.681094  \n",
       "        2022-10-05 14:02:00+00:00         12.0  1320.104711  \n",
       "\n",
       "[133638 rows x 7 columns]"
      ]
     },
     "execution_count": 8,
     "metadata": {},
     "output_type": "execute_result"
    }
   ],
   "source": [
    "request_params = CryptoBarsRequest(\n",
    "    symbol_or_symbols=[\"ETH/USD\"],\n",
    "    timeframe=TimeFrame.Minute, start='2022-06-30 00:00:00'\n",
    ")\n",
    "\n",
    "eth_bars = crypto_client.get_crypto_bars(request_params)\n",
    "\n",
    "eth_df = eth_bars.df\n",
    "\n",
    "eth_df"
   ]
  },
  {
   "cell_type": "code",
   "execution_count": 9,
   "id": "e43a2c0d-1047-4e64-9fc6-b1f8ac1b0dd2",
   "metadata": {},
   "outputs": [
    {
     "data": {
      "text/plain": [
       "open           float64\n",
       "high           float64\n",
       "low            float64\n",
       "close          float64\n",
       "volume         float64\n",
       "trade_count    float64\n",
       "vwap           float64\n",
       "dtype: object"
      ]
     },
     "execution_count": 9,
     "metadata": {},
     "output_type": "execute_result"
    }
   ],
   "source": [
    "eth_df.dtypes"
   ]
  },
  {
   "cell_type": "code",
   "execution_count": 10,
   "id": "6d4a2203",
   "metadata": {},
   "outputs": [
    {
     "data": {
      "text/html": [
       "<div>\n",
       "<style scoped>\n",
       "    .dataframe tbody tr th:only-of-type {\n",
       "        vertical-align: middle;\n",
       "    }\n",
       "\n",
       "    .dataframe tbody tr th {\n",
       "        vertical-align: top;\n",
       "    }\n",
       "\n",
       "    .dataframe thead th {\n",
       "        text-align: right;\n",
       "    }\n",
       "</style>\n",
       "<table border=\"1\" class=\"dataframe\">\n",
       "  <thead>\n",
       "    <tr style=\"text-align: right;\">\n",
       "      <th></th>\n",
       "      <th>open</th>\n",
       "      <th>high</th>\n",
       "      <th>low</th>\n",
       "      <th>close</th>\n",
       "      <th>volume</th>\n",
       "      <th>trade_count</th>\n",
       "      <th>vwap</th>\n",
       "    </tr>\n",
       "    <tr>\n",
       "      <th>timestamp</th>\n",
       "      <th></th>\n",
       "      <th></th>\n",
       "      <th></th>\n",
       "      <th></th>\n",
       "      <th></th>\n",
       "      <th></th>\n",
       "      <th></th>\n",
       "    </tr>\n",
       "  </thead>\n",
       "  <tbody>\n",
       "    <tr>\n",
       "      <th>2022-06-30 00:00:00+00:00</th>\n",
       "      <td>1097.4</td>\n",
       "      <td>1097.8</td>\n",
       "      <td>1097.4</td>\n",
       "      <td>1097.8</td>\n",
       "      <td>5.466</td>\n",
       "      <td>4.0</td>\n",
       "      <td>1097.592682</td>\n",
       "    </tr>\n",
       "    <tr>\n",
       "      <th>2022-06-30 00:01:00+00:00</th>\n",
       "      <td>1097.6</td>\n",
       "      <td>1097.6</td>\n",
       "      <td>1097.6</td>\n",
       "      <td>1097.6</td>\n",
       "      <td>0.456</td>\n",
       "      <td>1.0</td>\n",
       "      <td>1097.600000</td>\n",
       "    </tr>\n",
       "    <tr>\n",
       "      <th>2022-06-30 00:02:00+00:00</th>\n",
       "      <td>1097.5</td>\n",
       "      <td>1097.5</td>\n",
       "      <td>1096.8</td>\n",
       "      <td>1096.8</td>\n",
       "      <td>0.685</td>\n",
       "      <td>3.0</td>\n",
       "      <td>1096.801022</td>\n",
       "    </tr>\n",
       "    <tr>\n",
       "      <th>2022-06-30 00:03:00+00:00</th>\n",
       "      <td>1096.5</td>\n",
       "      <td>1103.5</td>\n",
       "      <td>1096.5</td>\n",
       "      <td>1103.5</td>\n",
       "      <td>63.758</td>\n",
       "      <td>50.0</td>\n",
       "      <td>1100.825691</td>\n",
       "    </tr>\n",
       "    <tr>\n",
       "      <th>2022-06-30 00:04:00+00:00</th>\n",
       "      <td>1101.9</td>\n",
       "      <td>1101.9</td>\n",
       "      <td>1101.9</td>\n",
       "      <td>1101.9</td>\n",
       "      <td>2.506</td>\n",
       "      <td>1.0</td>\n",
       "      <td>1101.900000</td>\n",
       "    </tr>\n",
       "    <tr>\n",
       "      <th>...</th>\n",
       "      <td>...</td>\n",
       "      <td>...</td>\n",
       "      <td>...</td>\n",
       "      <td>...</td>\n",
       "      <td>...</td>\n",
       "      <td>...</td>\n",
       "      <td>...</td>\n",
       "    </tr>\n",
       "    <tr>\n",
       "      <th>2022-10-05 13:58:00+00:00</th>\n",
       "      <td>1322.8</td>\n",
       "      <td>1323.4</td>\n",
       "      <td>1322.8</td>\n",
       "      <td>1323.3</td>\n",
       "      <td>0.063</td>\n",
       "      <td>6.0</td>\n",
       "      <td>1323.300000</td>\n",
       "    </tr>\n",
       "    <tr>\n",
       "      <th>2022-10-05 13:59:00+00:00</th>\n",
       "      <td>1323.0</td>\n",
       "      <td>1323.9</td>\n",
       "      <td>1323.0</td>\n",
       "      <td>1323.7</td>\n",
       "      <td>10.972</td>\n",
       "      <td>19.0</td>\n",
       "      <td>1323.723788</td>\n",
       "    </tr>\n",
       "    <tr>\n",
       "      <th>2022-10-05 14:00:00+00:00</th>\n",
       "      <td>1323.6</td>\n",
       "      <td>1324.2</td>\n",
       "      <td>1320.2</td>\n",
       "      <td>1320.2</td>\n",
       "      <td>325.683</td>\n",
       "      <td>94.0</td>\n",
       "      <td>1321.945132</td>\n",
       "    </tr>\n",
       "    <tr>\n",
       "      <th>2022-10-05 14:01:00+00:00</th>\n",
       "      <td>1320.9</td>\n",
       "      <td>1322.0</td>\n",
       "      <td>1320.1</td>\n",
       "      <td>1320.1</td>\n",
       "      <td>60.701</td>\n",
       "      <td>31.0</td>\n",
       "      <td>1321.681094</td>\n",
       "    </tr>\n",
       "    <tr>\n",
       "      <th>2022-10-05 14:02:00+00:00</th>\n",
       "      <td>1320.6</td>\n",
       "      <td>1320.9</td>\n",
       "      <td>1319.0</td>\n",
       "      <td>1319.9</td>\n",
       "      <td>25.705</td>\n",
       "      <td>12.0</td>\n",
       "      <td>1320.104711</td>\n",
       "    </tr>\n",
       "  </tbody>\n",
       "</table>\n",
       "<p>133638 rows × 7 columns</p>\n",
       "</div>"
      ],
      "text/plain": [
       "                             open    high     low   close   volume  \\\n",
       "timestamp                                                            \n",
       "2022-06-30 00:00:00+00:00  1097.4  1097.8  1097.4  1097.8    5.466   \n",
       "2022-06-30 00:01:00+00:00  1097.6  1097.6  1097.6  1097.6    0.456   \n",
       "2022-06-30 00:02:00+00:00  1097.5  1097.5  1096.8  1096.8    0.685   \n",
       "2022-06-30 00:03:00+00:00  1096.5  1103.5  1096.5  1103.5   63.758   \n",
       "2022-06-30 00:04:00+00:00  1101.9  1101.9  1101.9  1101.9    2.506   \n",
       "...                           ...     ...     ...     ...      ...   \n",
       "2022-10-05 13:58:00+00:00  1322.8  1323.4  1322.8  1323.3    0.063   \n",
       "2022-10-05 13:59:00+00:00  1323.0  1323.9  1323.0  1323.7   10.972   \n",
       "2022-10-05 14:00:00+00:00  1323.6  1324.2  1320.2  1320.2  325.683   \n",
       "2022-10-05 14:01:00+00:00  1320.9  1322.0  1320.1  1320.1   60.701   \n",
       "2022-10-05 14:02:00+00:00  1320.6  1320.9  1319.0  1319.9   25.705   \n",
       "\n",
       "                           trade_count         vwap  \n",
       "timestamp                                            \n",
       "2022-06-30 00:00:00+00:00          4.0  1097.592682  \n",
       "2022-06-30 00:01:00+00:00          1.0  1097.600000  \n",
       "2022-06-30 00:02:00+00:00          3.0  1096.801022  \n",
       "2022-06-30 00:03:00+00:00         50.0  1100.825691  \n",
       "2022-06-30 00:04:00+00:00          1.0  1101.900000  \n",
       "...                                ...          ...  \n",
       "2022-10-05 13:58:00+00:00          6.0  1323.300000  \n",
       "2022-10-05 13:59:00+00:00         19.0  1323.723788  \n",
       "2022-10-05 14:00:00+00:00         94.0  1321.945132  \n",
       "2022-10-05 14:01:00+00:00         31.0  1321.681094  \n",
       "2022-10-05 14:02:00+00:00         12.0  1320.104711  \n",
       "\n",
       "[133638 rows x 7 columns]"
      ]
     },
     "execution_count": 10,
     "metadata": {},
     "output_type": "execute_result"
    }
   ],
   "source": [
    "eth_df = eth_df.reset_index()\n",
    "eth_df = eth_df.set_index('timestamp')\n",
    "eth_df = eth_df.drop(columns=['symbol'])\n",
    "\n",
    "eth_df"
   ]
  },
  {
   "cell_type": "code",
   "execution_count": 11,
   "id": "eb5a63cb",
   "metadata": {},
   "outputs": [],
   "source": [
    "# Use the pct_change function to generate  returns from close prices\n",
    "eth_df[\"Actual Returns\"] = eth_df[\"close\"].pct_change()\n",
    "\n",
    "# Drop na\n",
    "eth_df=eth_df.dropna()"
   ]
  },
  {
   "cell_type": "code",
   "execution_count": 12,
   "id": "bd400da8",
   "metadata": {},
   "outputs": [
    {
     "name": "stderr",
     "output_type": "stream",
     "text": [
      "C:\\Users\\gtkhh\\AppData\\Local\\Temp\\ipykernel_21992\\3664761026.py:2: SettingWithCopyWarning: \n",
      "A value is trying to be set on a copy of a slice from a DataFrame.\n",
      "Try using .loc[row_indexer,col_indexer] = value instead\n",
      "\n",
      "See the caveats in the documentation: https://pandas.pydata.org/pandas-docs/stable/user_guide/indexing.html#returning-a-view-versus-a-copy\n",
      "  eth_df['Signal'] = 0.0\n"
     ]
    },
    {
     "data": {
      "text/html": [
       "<div>\n",
       "<style scoped>\n",
       "    .dataframe tbody tr th:only-of-type {\n",
       "        vertical-align: middle;\n",
       "    }\n",
       "\n",
       "    .dataframe tbody tr th {\n",
       "        vertical-align: top;\n",
       "    }\n",
       "\n",
       "    .dataframe thead th {\n",
       "        text-align: right;\n",
       "    }\n",
       "</style>\n",
       "<table border=\"1\" class=\"dataframe\">\n",
       "  <thead>\n",
       "    <tr style=\"text-align: right;\">\n",
       "      <th></th>\n",
       "      <th>open</th>\n",
       "      <th>high</th>\n",
       "      <th>low</th>\n",
       "      <th>close</th>\n",
       "      <th>volume</th>\n",
       "      <th>trade_count</th>\n",
       "      <th>vwap</th>\n",
       "      <th>Actual Returns</th>\n",
       "      <th>Signal</th>\n",
       "    </tr>\n",
       "    <tr>\n",
       "      <th>timestamp</th>\n",
       "      <th></th>\n",
       "      <th></th>\n",
       "      <th></th>\n",
       "      <th></th>\n",
       "      <th></th>\n",
       "      <th></th>\n",
       "      <th></th>\n",
       "      <th></th>\n",
       "      <th></th>\n",
       "    </tr>\n",
       "  </thead>\n",
       "  <tbody>\n",
       "    <tr>\n",
       "      <th>2022-06-30 00:01:00+00:00</th>\n",
       "      <td>1097.6</td>\n",
       "      <td>1097.6</td>\n",
       "      <td>1097.6</td>\n",
       "      <td>1097.6</td>\n",
       "      <td>0.456</td>\n",
       "      <td>1.0</td>\n",
       "      <td>1097.600000</td>\n",
       "      <td>-0.000182</td>\n",
       "      <td>0.0</td>\n",
       "    </tr>\n",
       "    <tr>\n",
       "      <th>2022-06-30 00:02:00+00:00</th>\n",
       "      <td>1097.5</td>\n",
       "      <td>1097.5</td>\n",
       "      <td>1096.8</td>\n",
       "      <td>1096.8</td>\n",
       "      <td>0.685</td>\n",
       "      <td>3.0</td>\n",
       "      <td>1096.801022</td>\n",
       "      <td>-0.000729</td>\n",
       "      <td>0.0</td>\n",
       "    </tr>\n",
       "    <tr>\n",
       "      <th>2022-06-30 00:03:00+00:00</th>\n",
       "      <td>1096.5</td>\n",
       "      <td>1103.5</td>\n",
       "      <td>1096.5</td>\n",
       "      <td>1103.5</td>\n",
       "      <td>63.758</td>\n",
       "      <td>50.0</td>\n",
       "      <td>1100.825691</td>\n",
       "      <td>0.006109</td>\n",
       "      <td>1.0</td>\n",
       "    </tr>\n",
       "    <tr>\n",
       "      <th>2022-06-30 00:04:00+00:00</th>\n",
       "      <td>1101.9</td>\n",
       "      <td>1101.9</td>\n",
       "      <td>1101.9</td>\n",
       "      <td>1101.9</td>\n",
       "      <td>2.506</td>\n",
       "      <td>1.0</td>\n",
       "      <td>1101.900000</td>\n",
       "      <td>-0.001450</td>\n",
       "      <td>0.0</td>\n",
       "    </tr>\n",
       "    <tr>\n",
       "      <th>2022-06-30 00:05:00+00:00</th>\n",
       "      <td>1101.5</td>\n",
       "      <td>1101.5</td>\n",
       "      <td>1101.5</td>\n",
       "      <td>1101.5</td>\n",
       "      <td>3.160</td>\n",
       "      <td>1.0</td>\n",
       "      <td>1101.500000</td>\n",
       "      <td>-0.000363</td>\n",
       "      <td>0.0</td>\n",
       "    </tr>\n",
       "    <tr>\n",
       "      <th>...</th>\n",
       "      <td>...</td>\n",
       "      <td>...</td>\n",
       "      <td>...</td>\n",
       "      <td>...</td>\n",
       "      <td>...</td>\n",
       "      <td>...</td>\n",
       "      <td>...</td>\n",
       "      <td>...</td>\n",
       "      <td>...</td>\n",
       "    </tr>\n",
       "    <tr>\n",
       "      <th>2022-10-05 13:58:00+00:00</th>\n",
       "      <td>1322.8</td>\n",
       "      <td>1323.4</td>\n",
       "      <td>1322.8</td>\n",
       "      <td>1323.3</td>\n",
       "      <td>0.063</td>\n",
       "      <td>6.0</td>\n",
       "      <td>1323.300000</td>\n",
       "      <td>0.000378</td>\n",
       "      <td>1.0</td>\n",
       "    </tr>\n",
       "    <tr>\n",
       "      <th>2022-10-05 13:59:00+00:00</th>\n",
       "      <td>1323.0</td>\n",
       "      <td>1323.9</td>\n",
       "      <td>1323.0</td>\n",
       "      <td>1323.7</td>\n",
       "      <td>10.972</td>\n",
       "      <td>19.0</td>\n",
       "      <td>1323.723788</td>\n",
       "      <td>0.000302</td>\n",
       "      <td>1.0</td>\n",
       "    </tr>\n",
       "    <tr>\n",
       "      <th>2022-10-05 14:00:00+00:00</th>\n",
       "      <td>1323.6</td>\n",
       "      <td>1324.2</td>\n",
       "      <td>1320.2</td>\n",
       "      <td>1320.2</td>\n",
       "      <td>325.683</td>\n",
       "      <td>94.0</td>\n",
       "      <td>1321.945132</td>\n",
       "      <td>-0.002644</td>\n",
       "      <td>0.0</td>\n",
       "    </tr>\n",
       "    <tr>\n",
       "      <th>2022-10-05 14:01:00+00:00</th>\n",
       "      <td>1320.9</td>\n",
       "      <td>1322.0</td>\n",
       "      <td>1320.1</td>\n",
       "      <td>1320.1</td>\n",
       "      <td>60.701</td>\n",
       "      <td>31.0</td>\n",
       "      <td>1321.681094</td>\n",
       "      <td>-0.000076</td>\n",
       "      <td>0.0</td>\n",
       "    </tr>\n",
       "    <tr>\n",
       "      <th>2022-10-05 14:02:00+00:00</th>\n",
       "      <td>1320.6</td>\n",
       "      <td>1320.9</td>\n",
       "      <td>1319.0</td>\n",
       "      <td>1319.9</td>\n",
       "      <td>25.705</td>\n",
       "      <td>12.0</td>\n",
       "      <td>1320.104711</td>\n",
       "      <td>-0.000152</td>\n",
       "      <td>0.0</td>\n",
       "    </tr>\n",
       "  </tbody>\n",
       "</table>\n",
       "<p>133637 rows × 9 columns</p>\n",
       "</div>"
      ],
      "text/plain": [
       "                             open    high     low   close   volume  \\\n",
       "timestamp                                                            \n",
       "2022-06-30 00:01:00+00:00  1097.6  1097.6  1097.6  1097.6    0.456   \n",
       "2022-06-30 00:02:00+00:00  1097.5  1097.5  1096.8  1096.8    0.685   \n",
       "2022-06-30 00:03:00+00:00  1096.5  1103.5  1096.5  1103.5   63.758   \n",
       "2022-06-30 00:04:00+00:00  1101.9  1101.9  1101.9  1101.9    2.506   \n",
       "2022-06-30 00:05:00+00:00  1101.5  1101.5  1101.5  1101.5    3.160   \n",
       "...                           ...     ...     ...     ...      ...   \n",
       "2022-10-05 13:58:00+00:00  1322.8  1323.4  1322.8  1323.3    0.063   \n",
       "2022-10-05 13:59:00+00:00  1323.0  1323.9  1323.0  1323.7   10.972   \n",
       "2022-10-05 14:00:00+00:00  1323.6  1324.2  1320.2  1320.2  325.683   \n",
       "2022-10-05 14:01:00+00:00  1320.9  1322.0  1320.1  1320.1   60.701   \n",
       "2022-10-05 14:02:00+00:00  1320.6  1320.9  1319.0  1319.9   25.705   \n",
       "\n",
       "                           trade_count         vwap  Actual Returns  Signal  \n",
       "timestamp                                                                    \n",
       "2022-06-30 00:01:00+00:00          1.0  1097.600000       -0.000182     0.0  \n",
       "2022-06-30 00:02:00+00:00          3.0  1096.801022       -0.000729     0.0  \n",
       "2022-06-30 00:03:00+00:00         50.0  1100.825691        0.006109     1.0  \n",
       "2022-06-30 00:04:00+00:00          1.0  1101.900000       -0.001450     0.0  \n",
       "2022-06-30 00:05:00+00:00          1.0  1101.500000       -0.000363     0.0  \n",
       "...                                ...          ...             ...     ...  \n",
       "2022-10-05 13:58:00+00:00          6.0  1323.300000        0.000378     1.0  \n",
       "2022-10-05 13:59:00+00:00         19.0  1323.723788        0.000302     1.0  \n",
       "2022-10-05 14:00:00+00:00         94.0  1321.945132       -0.002644     0.0  \n",
       "2022-10-05 14:01:00+00:00         31.0  1321.681094       -0.000076     0.0  \n",
       "2022-10-05 14:02:00+00:00         12.0  1320.104711       -0.000152     0.0  \n",
       "\n",
       "[133637 rows x 9 columns]"
      ]
     },
     "execution_count": 12,
     "metadata": {},
     "output_type": "execute_result"
    }
   ],
   "source": [
    "# Initialize the new Signal column\n",
    "eth_df['Signal'] = 0.0\n",
    "\n",
    "# When Actual Returns are greater than or equal to 0, generate signal to buy stock long\n",
    "eth_df.loc[(eth_df['Actual Returns'] >= 0), 'Signal'] = 1\n",
    "\n",
    "# When Actual Returns are less than 0, generate signal to sell stock short\n",
    "eth_df.loc[(eth_df['Actual Returns'] < 0), 'Signal'] = 0\n",
    "\n",
    "eth_df"
   ]
  },
  {
   "cell_type": "code",
   "execution_count": 13,
   "id": "06ffd127",
   "metadata": {},
   "outputs": [
    {
     "data": {
      "text/html": [
       "<div>\n",
       "<style scoped>\n",
       "    .dataframe tbody tr th:only-of-type {\n",
       "        vertical-align: middle;\n",
       "    }\n",
       "\n",
       "    .dataframe tbody tr th {\n",
       "        vertical-align: top;\n",
       "    }\n",
       "\n",
       "    .dataframe thead th {\n",
       "        text-align: right;\n",
       "    }\n",
       "</style>\n",
       "<table border=\"1\" class=\"dataframe\">\n",
       "  <thead>\n",
       "    <tr style=\"text-align: right;\">\n",
       "      <th></th>\n",
       "      <th>open</th>\n",
       "      <th>high</th>\n",
       "      <th>low</th>\n",
       "      <th>close</th>\n",
       "      <th>volume</th>\n",
       "      <th>trade_count</th>\n",
       "    </tr>\n",
       "    <tr>\n",
       "      <th>timestamp</th>\n",
       "      <th></th>\n",
       "      <th></th>\n",
       "      <th></th>\n",
       "      <th></th>\n",
       "      <th></th>\n",
       "      <th></th>\n",
       "    </tr>\n",
       "  </thead>\n",
       "  <tbody>\n",
       "    <tr>\n",
       "      <th>2022-06-30 00:02:00+00:00</th>\n",
       "      <td>1097.6</td>\n",
       "      <td>1097.6</td>\n",
       "      <td>1097.6</td>\n",
       "      <td>1097.6</td>\n",
       "      <td>0.456</td>\n",
       "      <td>1.0</td>\n",
       "    </tr>\n",
       "    <tr>\n",
       "      <th>2022-06-30 00:03:00+00:00</th>\n",
       "      <td>1097.5</td>\n",
       "      <td>1097.5</td>\n",
       "      <td>1096.8</td>\n",
       "      <td>1096.8</td>\n",
       "      <td>0.685</td>\n",
       "      <td>3.0</td>\n",
       "    </tr>\n",
       "    <tr>\n",
       "      <th>2022-06-30 00:04:00+00:00</th>\n",
       "      <td>1096.5</td>\n",
       "      <td>1103.5</td>\n",
       "      <td>1096.5</td>\n",
       "      <td>1103.5</td>\n",
       "      <td>63.758</td>\n",
       "      <td>50.0</td>\n",
       "    </tr>\n",
       "    <tr>\n",
       "      <th>2022-06-30 00:05:00+00:00</th>\n",
       "      <td>1101.9</td>\n",
       "      <td>1101.9</td>\n",
       "      <td>1101.9</td>\n",
       "      <td>1101.9</td>\n",
       "      <td>2.506</td>\n",
       "      <td>1.0</td>\n",
       "    </tr>\n",
       "    <tr>\n",
       "      <th>2022-06-30 00:06:00+00:00</th>\n",
       "      <td>1101.5</td>\n",
       "      <td>1101.5</td>\n",
       "      <td>1101.5</td>\n",
       "      <td>1101.5</td>\n",
       "      <td>3.160</td>\n",
       "      <td>1.0</td>\n",
       "    </tr>\n",
       "  </tbody>\n",
       "</table>\n",
       "</div>"
      ],
      "text/plain": [
       "                             open    high     low   close  volume  trade_count\n",
       "timestamp                                                                     \n",
       "2022-06-30 00:02:00+00:00  1097.6  1097.6  1097.6  1097.6   0.456          1.0\n",
       "2022-06-30 00:03:00+00:00  1097.5  1097.5  1096.8  1096.8   0.685          3.0\n",
       "2022-06-30 00:04:00+00:00  1096.5  1103.5  1096.5  1103.5  63.758         50.0\n",
       "2022-06-30 00:05:00+00:00  1101.9  1101.9  1101.9  1101.9   2.506          1.0\n",
       "2022-06-30 00:06:00+00:00  1101.5  1101.5  1101.5  1101.5   3.160          1.0"
      ]
     },
     "execution_count": 13,
     "metadata": {},
     "output_type": "execute_result"
    }
   ],
   "source": [
    "# Assign a copy of the sma_fast and sma_slow columns to a features DataFrame called X\n",
    "X = eth_df[['open', 'high','low','close','volume', 'trade_count']].shift().dropna()\n",
    "# Review the DataFrame\n",
    "X.head()"
   ]
  },
  {
   "cell_type": "code",
   "execution_count": 14,
   "id": "9f02eb97",
   "metadata": {},
   "outputs": [
    {
     "data": {
      "text/plain": [
       "[<matplotlib.lines.Line2D at 0x2b0b5c1e790>]"
      ]
     },
     "execution_count": 14,
     "metadata": {},
     "output_type": "execute_result"
    },
    {
     "data": {
      "image/png": "[encoded data removed]",
      "text/plain": [
       "<Figure size 640x480 with 1 Axes>"
      ]
     },
     "metadata": {},
     "output_type": "display_data"
    }
   ],
   "source": [
    "plt.plot(range(len(X)), X[['close']])"
   ]
  },
  {
   "cell_type": "code",
   "execution_count": 15,
   "id": "c29be38c",
   "metadata": {},
   "outputs": [
    {
     "data": {
      "text/plain": [
       "array([[-1.78768708, -1.79018654, -1.78513331, -1.78761427, -0.22656237,\n",
       "        -0.71723401],\n",
       "       [-1.78812076, -1.79061998, -1.78860474, -1.79108384, -0.22551091,\n",
       "        -0.64790416],\n",
       "       [-1.7924575 , -1.76461372, -1.78990653, -1.76202619,  0.06408942,\n",
       "         0.98134748],\n",
       "       ...,\n",
       "       [-0.81018529, -0.80931726, -0.80705721, -0.80702694, -0.17827805,\n",
       "        -0.0932653 ],\n",
       "       [-0.80758324, -0.80801694, -0.81920723, -0.82220631,  1.26672078,\n",
       "         2.50660434],\n",
       "       [-0.81929245, -0.81755257, -0.81964116, -0.82264   ,  0.05005317,\n",
       "         0.32271384]])"
      ]
     },
     "execution_count": 15,
     "metadata": {},
     "output_type": "execute_result"
    }
   ],
   "source": [
    "# Create a StandardScaler instance\n",
    "scaler = StandardScaler()\n",
    "\n",
    "# Fit the scaler to the features training dataset\n",
    "X_scaled = scaler.fit_transform(X)\n",
    "\n",
    "X_scaled"
   ]
  },
  {
   "cell_type": "markdown",
   "id": "14beb8a6",
   "metadata": {},
   "source": [
    "### Data Split for Training"
   ]
  },
  {
   "cell_type": "code",
   "execution_count": 16,
   "id": "9d2d26db",
   "metadata": {},
   "outputs": [
    {
     "data": {
      "text/plain": [
       "106910"
      ]
     },
     "execution_count": 16,
     "metadata": {},
     "output_type": "execute_result"
    }
   ],
   "source": [
    "# get array representation of dataframe\n",
    "dataset = eth_df.values\n",
    "\n",
    "# get number of rows to train the model on\n",
    "training_data_len = math.ceil(len(dataset) * 0.8)\n",
    "\n",
    "training_data_len"
   ]
  },
  {
   "cell_type": "code",
   "execution_count": 17,
   "id": "4fdaef59",
   "metadata": {},
   "outputs": [],
   "source": [
    "# create train dataset\n",
    "train_data = X_scaled[0:training_data_len, :]\n",
    "\n",
    "# Create blank array\n",
    "X_train = []\n",
    "candles = 60\n",
    "\n",
    "for i in range(candles, len(train_data)):\n",
    "    X_train.append(train_data[i-candles:i, 0:6])\n",
    "\n",
    "\n",
    "# create test dataset\n",
    "test_data = X_scaled[training_data_len - candles: , :]\n",
    "\n",
    "# Create blank array\n",
    "X_test = []\n",
    "\n",
    "for i in range(candles, len(test_data)):\n",
    "    X_test.append(test_data[i-candles:i, 0:6])\n"
   ]
  },
  {
   "cell_type": "code",
   "execution_count": 18,
   "id": "8c8a1c2c",
   "metadata": {},
   "outputs": [
    {
     "data": {
      "text/plain": [
       "(106850, 60, 6)"
      ]
     },
     "metadata": {},
     "output_type": "display_data"
    },
    {
     "data": {
      "text/plain": [
       "106850"
      ]
     },
     "metadata": {},
     "output_type": "display_data"
    },
    {
     "data": {
      "text/plain": [
       "26726"
      ]
     },
     "metadata": {},
     "output_type": "display_data"
    }
   ],
   "source": [
    "# Convert lists to array\n",
    "\n",
    "X_train = np.array(X_train)\n",
    "X_test = np.array(X_test)\n",
    "\n",
    "display(X_train.shape)\n",
    "display(len(X_train))\n",
    "display(len(X_test))\n"
   ]
  },
  {
   "cell_type": "code",
   "execution_count": 19,
   "id": "00e85d17",
   "metadata": {},
   "outputs": [
    {
     "data": {
      "text/plain": [
       "timestamp\n",
       "2022-06-30 00:01:00+00:00    0.0\n",
       "2022-06-30 00:02:00+00:00    0.0\n",
       "2022-06-30 00:03:00+00:00    1.0\n",
       "2022-06-30 00:04:00+00:00    0.0\n",
       "2022-06-30 00:05:00+00:00    0.0\n",
       "                            ... \n",
       "2022-10-05 13:58:00+00:00    1.0\n",
       "2022-10-05 13:59:00+00:00    1.0\n",
       "2022-10-05 14:00:00+00:00    0.0\n",
       "2022-10-05 14:01:00+00:00    0.0\n",
       "2022-10-05 14:02:00+00:00    0.0\n",
       "Name: Signal, Length: 133637, dtype: float64"
      ]
     },
     "metadata": {},
     "output_type": "display_data"
    },
    {
     "data": {
      "text/plain": [
       "timestamp\n",
       "2022-06-30 00:01:00+00:00    0.0\n",
       "2022-06-30 00:02:00+00:00    0.0\n",
       "2022-06-30 00:03:00+00:00    1.0\n",
       "2022-06-30 00:04:00+00:00    0.0\n",
       "2022-06-30 00:05:00+00:00    0.0\n",
       "                            ... \n",
       "2022-10-05 13:58:00+00:00    1.0\n",
       "2022-10-05 13:59:00+00:00    1.0\n",
       "2022-10-05 14:00:00+00:00    0.0\n",
       "2022-10-05 14:01:00+00:00    0.0\n",
       "2022-10-05 14:02:00+00:00    0.0\n",
       "Name: Signal, Length: 133637, dtype: float64"
      ]
     },
     "metadata": {},
     "output_type": "display_data"
    }
   ],
   "source": [
    "# Create the target set selecting the Signal column and assiging it to y\n",
    "y = eth_df['Signal']\n",
    "\n",
    "# Review the value counts\n",
    "display(y)\n",
    "\n",
    "# Drop first row\n",
    "# y = y.iloc[1:-candles]\n",
    "y.iloc[candles+1:]\n",
    "\n",
    "display(y)"
   ]
  },
  {
   "cell_type": "code",
   "execution_count": 20,
   "id": "8a369845",
   "metadata": {},
   "outputs": [
    {
     "data": {
      "text/plain": [
       "106850"
      ]
     },
     "metadata": {},
     "output_type": "display_data"
    },
    {
     "data": {
      "text/plain": [
       "26787"
      ]
     },
     "metadata": {},
     "output_type": "display_data"
    }
   ],
   "source": [
    "# Splitting Y data\n",
    "\n",
    "y_train = y.iloc[0:len(X_train)]\n",
    "y_test = y.iloc[len(X_train):]\n",
    "\n",
    "display(y_train.count())\n",
    "display(y_test.count())"
   ]
  },
  {
   "cell_type": "markdown",
   "id": "737757e8",
   "metadata": {},
   "source": [
    "## Model Creation"
   ]
  },
  {
   "cell_type": "code",
   "execution_count": 21,
   "id": "35482cbd",
   "metadata": {},
   "outputs": [
    {
     "data": {
      "text/plain": [
       "6"
      ]
     },
     "execution_count": 21,
     "metadata": {},
     "output_type": "execute_result"
    }
   ],
   "source": [
    "# Define the the number of inputs (features) to the model\n",
    "number_input_features = len(X.columns)\n",
    "\n",
    "# Review the number of features\n",
    "number_input_features\n"
   ]
  },
  {
   "cell_type": "code",
   "execution_count": 22,
   "id": "35540597",
   "metadata": {},
   "outputs": [
    {
     "data": {
      "text/plain": [
       "5"
      ]
     },
     "metadata": {},
     "output_type": "display_data"
    },
    {
     "data": {
      "text/plain": [
       "64"
      ]
     },
     "metadata": {},
     "output_type": "display_data"
    },
    {
     "data": {
      "text/plain": [
       "64"
      ]
     },
     "metadata": {},
     "output_type": "display_data"
    }
   ],
   "source": [
    "# Create the Sequential model instance\n",
    "nn = Sequential()\n",
    "\n",
    "# Define the number of neurons in the output layer\n",
    "number_output_neurons = 1\n",
    "\n",
    "#Define the number of hidden nodes for the first hidden layer\n",
    "# hidden_nodes_layer1 = (number_input_features + 1) // 2\n",
    "hidden_nodes_layer1 = 64\n",
    "\n",
    "# Define hidden nodes for all hidden layers\n",
    "hidden_nodes = math.ceil(((number_input_features+1)*2)/3)\n",
    "display(hidden_nodes)\n",
    "\n",
    "# Review the number hidden nodes in the first layer\n",
    "display(hidden_nodes_layer1)\n",
    "\n",
    "#Define the number of hidden nodes for the second hidden layer\n",
    "# hidden_nodes_layer2 = (hidden_nodes_layer1 + 1) //2\n",
    "hidden_nodes_layer2 = 64\n",
    "\n",
    "# Review the number hidden nodes in the second layer\n",
    "display(hidden_nodes_layer2)"
   ]
  },
  {
   "cell_type": "code",
   "execution_count": 23,
   "id": "3dd184fc",
   "metadata": {},
   "outputs": [],
   "source": [
    "# Add the first hidden layer\n",
    "nn.add(LSTM(units=hidden_nodes_layer1, return_sequences=True, input_shape=(candles,len(X.columns))))"
   ]
  },
  {
   "cell_type": "code",
   "execution_count": 24,
   "id": "318dba3b",
   "metadata": {},
   "outputs": [],
   "source": [
    "# # Add dropout layer\n",
    "nn.add(Dropout(rate=0.2))"
   ]
  },
  {
   "cell_type": "code",
   "execution_count": 25,
   "id": "a0a0c87c",
   "metadata": {},
   "outputs": [],
   "source": [
    "#Add the second hidden layer\n",
    "nn.add(LSTM(units=hidden_nodes_layer2, return_sequences=True))\n"
   ]
  },
  {
   "cell_type": "code",
   "execution_count": 26,
   "id": "32535ceb",
   "metadata": {},
   "outputs": [],
   "source": [
    "# # Add dropout layer\n",
    "nn.add(Dropout(rate=0.2))"
   ]
  },
  {
   "cell_type": "code",
   "execution_count": 27,
   "id": "fd4ad807",
   "metadata": {},
   "outputs": [],
   "source": [
    "# #Add the third hidden layer\n",
    "nn.add(LSTM(units=hidden_nodes_layer2))"
   ]
  },
  {
   "cell_type": "code",
   "execution_count": 28,
   "id": "e74381da",
   "metadata": {},
   "outputs": [],
   "source": [
    "# Add dropout layer\n",
    "nn.add(Dropout(rate=0.2))"
   ]
  },
  {
   "cell_type": "code",
   "execution_count": 29,
   "id": "6b293aeb",
   "metadata": {},
   "outputs": [],
   "source": [
    "# Add Dense layer\n",
    "# nn.add(Dense(units=6, activation='relu'))"
   ]
  },
  {
   "cell_type": "code",
   "execution_count": 30,
   "id": "21bfb7b4",
   "metadata": {},
   "outputs": [],
   "source": [
    "# Add the output layer to the model specifying the number of output neurons and activation function\n",
    "nn.add(Dense(units=1,  activation='sigmoid'))\n"
   ]
  },
  {
   "cell_type": "code",
   "execution_count": 31,
   "id": "a32137c2",
   "metadata": {},
   "outputs": [
    {
     "name": "stdout",
     "output_type": "stream",
     "text": [
      "Model: \"sequential\"\n",
      "_________________________________________________________________\n",
      "Layer (type)                 Output Shape              Param #   \n",
      "=================================================================\n",
      "lstm (LSTM)                  (None, 60, 64)            18176     \n",
      "_________________________________________________________________\n",
      "dropout (Dropout)            (None, 60, 64)            0         \n",
      "_________________________________________________________________\n",
      "lstm_1 (LSTM)                (None, 60, 64)            33024     \n",
      "_________________________________________________________________\n",
      "dropout_1 (Dropout)          (None, 60, 64)            0         \n",
      "_________________________________________________________________\n",
      "lstm_2 (LSTM)                (None, 64)                33024     \n",
      "_________________________________________________________________\n",
      "dropout_2 (Dropout)          (None, 64)                0         \n",
      "_________________________________________________________________\n",
      "dense (Dense)                (None, 1)                 65        \n",
      "=================================================================\n",
      "Total params: 84,289\n",
      "Trainable params: 84,289\n",
      "Non-trainable params: 0\n",
      "_________________________________________________________________\n"
     ]
    }
   ],
   "source": [
    "# Display the Sequential model summary, subclassed model requires build\n",
    "nn.build(X_train.shape)\n",
    "nn.summary()"
   ]
  },
  {
   "cell_type": "code",
   "execution_count": 32,
   "id": "278bc04e",
   "metadata": {},
   "outputs": [],
   "source": [
    "# Compile the Sequential model\n",
    "# nn.compile(loss='binary_crossentropy', optimizer='adam', metrics=('accuracy','Precision', 'Recall'))\n",
    "\n",
    "nn.compile(loss='binary_crossentropy', optimizer='adam', metrics=('accuracy'))"
   ]
  },
  {
   "cell_type": "code",
   "execution_count": null,
   "id": "b4ab1725",
   "metadata": {},
   "outputs": [],
   "source": []
  },
  {
   "cell_type": "code",
   "execution_count": 33,
   "id": "7881e7f5",
   "metadata": {},
   "outputs": [
    {
     "name": "stdout",
     "output_type": "stream",
     "text": [
      "Epoch 1/30\n",
      "3340/3340 [==============================] - 140s 42ms/step - loss: 0.6929 - accuracy: 0.5158\n",
      "Epoch 2/30\n",
      " 862/3340 [======>.......................] - ETA: 1:48 - loss: 0.6927 - accuracy: 0.5175"
     ]
    }
   ],
   "source": [
    "# Fit the model using epochs and the training data\n",
    "model_01 = nn.fit(X_train, y_train, epochs=30)"
   ]
  },
  {
   "cell_type": "code",
   "execution_count": null,
   "id": "27737358",
   "metadata": {},
   "outputs": [
    {
     "ename": "NameError",
     "evalue": "name 'nn' is not defined",
     "output_type": "error",
     "traceback": [
      "\u001b[1;31m---------------------------------------------------------------------------\u001b[0m",
      "\u001b[1;31mNameError\u001b[0m                                 Traceback (most recent call last)",
      "\u001b[1;32mc:\\Users\\gtkhh\\Desktop\\Fintech-Workspace\\Project_2\\Trading_Bot_9000\\ETH.ipynb Cell 35\u001b[0m in \u001b[0;36m<cell line: 4>\u001b[1;34m()\u001b[0m\n\u001b[0;32m      <a href='vscode-notebook-cell:/c%3A/Users/gtkhh/Desktop/Fintech-Workspace/Project_2/Trading_Bot_9000/ETH.ipynb#X45sZmlsZQ%3D%3D?line=0'>1</a>\u001b[0m \u001b[39m# Evaluate the model loss and accuracy metrics using the evaluate method and the test data\u001b[39;00m\n\u001b[0;32m      <a href='vscode-notebook-cell:/c%3A/Users/gtkhh/Desktop/Fintech-Workspace/Project_2/Trading_Bot_9000/ETH.ipynb#X45sZmlsZQ%3D%3D?line=1'>2</a>\u001b[0m \u001b[39m# model_loss, model_accuracy, model_precision, model_recall = nn.evaluate(X_test, y_test)\u001b[39;00m\n\u001b[1;32m----> <a href='vscode-notebook-cell:/c%3A/Users/gtkhh/Desktop/Fintech-Workspace/Project_2/Trading_Bot_9000/ETH.ipynb#X45sZmlsZQ%3D%3D?line=3'>4</a>\u001b[0m model_loss, model_accuracy \u001b[39m=\u001b[39m nn\u001b[39m.\u001b[39mevaluate(X_test, y_test)\n\u001b[0;32m      <a href='vscode-notebook-cell:/c%3A/Users/gtkhh/Desktop/Fintech-Workspace/Project_2/Trading_Bot_9000/ETH.ipynb#X45sZmlsZQ%3D%3D?line=5'>6</a>\u001b[0m \u001b[39m# Display the model loss and accuracy results\u001b[39;00m\n\u001b[0;32m      <a href='vscode-notebook-cell:/c%3A/Users/gtkhh/Desktop/Fintech-Workspace/Project_2/Trading_Bot_9000/ETH.ipynb#X45sZmlsZQ%3D%3D?line=6'>7</a>\u001b[0m \u001b[39m# print(f\"Loss: {model_loss}, Accuracy: {model_accuracy}, Precision: {model_precision}, Recall: {model_recall}\")\u001b[39;00m\n\u001b[0;32m      <a href='vscode-notebook-cell:/c%3A/Users/gtkhh/Desktop/Fintech-Workspace/Project_2/Trading_Bot_9000/ETH.ipynb#X45sZmlsZQ%3D%3D?line=8'>9</a>\u001b[0m \u001b[39mprint\u001b[39m(\u001b[39mf\u001b[39m\u001b[39m\"\u001b[39m\u001b[39mLoss: \u001b[39m\u001b[39m{\u001b[39;00mmodel_loss\u001b[39m}\u001b[39;00m\u001b[39m, Accuracy: \u001b[39m\u001b[39m{\u001b[39;00mmodel_accuracy\u001b[39m}\u001b[39;00m\u001b[39m\"\u001b[39m)\n",
      "\u001b[1;31mNameError\u001b[0m: name 'nn' is not defined"
     ]
    }
   ],
   "source": [
    "# Evaluate the model loss and accuracy metrics using the evaluate method and the test data\n",
    "# model_loss, model_accuracy, model_precision, model_recall = nn.evaluate(X_test, y_test)\n",
    "\n",
    "model_loss, model_accuracy = nn.evaluate(X_test, y_test)\n",
    "\n",
    "# Display the model loss and accuracy results\n",
    "# print(f\"Loss: {model_loss}, Accuracy: {model_accuracy}, Precision: {model_precision}, Recall: {model_recall}\")\n",
    "\n",
    "print(f\"Loss: {model_loss}, Accuracy: {model_accuracy}\")"
   ]
  },
  {
   "cell_type": "code",
   "execution_count": null,
   "id": "2b76f42d",
   "metadata": {},
   "outputs": [
    {
     "ename": "NameError",
     "evalue": "name 'model_01' is not defined",
     "output_type": "error",
     "traceback": [
      "\u001b[1;31m---------------------------------------------------------------------------\u001b[0m",
      "\u001b[1;31mNameError\u001b[0m                                 Traceback (most recent call last)",
      "\u001b[1;32mc:\\Users\\gtkhh\\Desktop\\Fintech-Workspace\\Project_2\\Trading_Bot_9000\\ETH.ipynb Cell 36\u001b[0m in \u001b[0;36m<cell line: 2>\u001b[1;34m()\u001b[0m\n\u001b[0;32m      <a href='vscode-notebook-cell:/c%3A/Users/gtkhh/Desktop/Fintech-Workspace/Project_2/Trading_Bot_9000/ETH.ipynb#X46sZmlsZQ%3D%3D?line=0'>1</a>\u001b[0m \u001b[39m# Train vs test for loss\u001b[39;00m\n\u001b[1;32m----> <a href='vscode-notebook-cell:/c%3A/Users/gtkhh/Desktop/Fintech-Workspace/Project_2/Trading_Bot_9000/ETH.ipynb#X46sZmlsZQ%3D%3D?line=1'>2</a>\u001b[0m plt\u001b[39m.\u001b[39mplot(model_01\u001b[39m.\u001b[39mhistory[\u001b[39m\"\u001b[39m\u001b[39mloss\u001b[39m\u001b[39m\"\u001b[39m])\n\u001b[0;32m      <a href='vscode-notebook-cell:/c%3A/Users/gtkhh/Desktop/Fintech-Workspace/Project_2/Trading_Bot_9000/ETH.ipynb#X46sZmlsZQ%3D%3D?line=2'>3</a>\u001b[0m plt\u001b[39m.\u001b[39mplot(model_01\u001b[39m.\u001b[39mhistory[\u001b[39m\"\u001b[39m\u001b[39maccuracy\u001b[39m\u001b[39m\"\u001b[39m])\n\u001b[0;32m      <a href='vscode-notebook-cell:/c%3A/Users/gtkhh/Desktop/Fintech-Workspace/Project_2/Trading_Bot_9000/ETH.ipynb#X46sZmlsZQ%3D%3D?line=3'>4</a>\u001b[0m plt\u001b[39m.\u001b[39mplot(model_01\u001b[39m.\u001b[39mhistory[\u001b[39m\"\u001b[39m\u001b[39mval_loss\u001b[39m\u001b[39m\"\u001b[39m])\n",
      "\u001b[1;31mNameError\u001b[0m: name 'model_01' is not defined"
     ]
    }
   ],
   "source": [
    "# Train vs test for loss\n",
    "plt.plot(model_01.history[\"loss\"])\n",
    "plt.plot(model_01.history[\"accuracy\"])\n",
    "plt.plot(model_01.history[\"val_loss\"])\n",
    "plt.plot(model_01.history[\"val_accuracy\"])\n",
    "plt.title(\"Training Vs. Validation 2 non Bidirectional LSTM, NoDropout\")\n",
    "plt.legend([\"loss\", \"accuracy\",\"val_loss\",\"val_accuracy\"])\n",
    "plt.show()"
   ]
  },
  {
   "cell_type": "code",
   "execution_count": null,
   "id": "e9607f67",
   "metadata": {},
   "outputs": [],
   "source": []
  }
 ],
 "metadata": {
  "kernelspec": {
   "display_name": "Python 3.8.13 ('dev')",
   "language": "python",
   "name": "python3"
  },
  "language_info": {
   "codemirror_mode": {
    "name": "ipython",
    "version": 3
   },
   "file_extension": ".py",
   "mimetype": "text/x-python",
   "name": "python",
   "nbconvert_exporter": "python",
   "pygments_lexer": "ipython3",
   "version": "3.8.13"
  },
  "vscode": {
   "interpreter": {
    "hash": "e0193224db03a40cbeeb1d1467a8281023d0cf41b04cb80c5135a7c4428e4098"
   }
  }
 },
 "nbformat": 4,
 "nbformat_minor": 5
}
