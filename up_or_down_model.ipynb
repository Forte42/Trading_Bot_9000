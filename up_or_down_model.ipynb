{
 "cells": [
  {
   "cell_type": "code",
   "execution_count": 1,
   "id": "3d2d2986-8f0f-4112-b2a2-03b767dffc76",
   "metadata": {},
   "outputs": [],
   "source": [
    "import pandas as pd\n",
    "import numpy as np\n",
    "# from dotenv import load_dotenv\n",
    "from pandas.tseries.offsets import DateOffset\n",
    "import os\n",
    "import requests\n",
    "import datetime\n",
    "from alpaca.data.historical import CryptoHistoricalDataClient\n",
    "from alpaca.data.requests import CryptoBarsRequest\n",
    "from alpaca.data.requests import CryptoLatestQuoteRequest\n",
    "from alpaca.data.requests import CryptoTradesRequest\n",
    "from alpaca.data.timeframe import TimeFrame\n",
    "from sklearn.preprocessing import MinMaxScaler\n",
    "from sklearn.preprocessing import StandardScaler\n",
    "import tensorflow as tf\n",
    "from tensorflow.keras.layers import Dense, Conv1D\n",
    "from tensorflow.keras.models import Sequential\n",
    "from tensorflow.keras.layers import LSTM\n",
    "import matplotlib.pyplot as plt\n",
    "from numpy.lib import math\n",
    "from tensorflow.keras.layers import Dropout\n",
    "from tensorflow.keras.layers import TimeDistributed\n",
    "from tensorflow.keras.layers import Bidirectional\n",
    "from pathlib import Path\n",
    "%matplotlib inline"
   ]
  },
  {
   "cell_type": "markdown",
   "id": "a38f52a9",
   "metadata": {},
   "source": [
    "## Data Retreival/Formatting"
   ]
  },
  {
   "cell_type": "code",
   "execution_count": 2,
   "id": "559f825e-3b85-4576-9416-686c4c1c822f",
   "metadata": {},
   "outputs": [],
   "source": [
    "# alpaca_api_key = os.getenv(\"ALPACA_API_KEY\")\n",
    "# alpaca_secret_key = os.getenv(\"ALPACA_SECRET_KEY\")"
   ]
  },
  {
   "cell_type": "code",
   "execution_count": 3,
   "id": "91637821-f0fc-4c21-9ce4-c7ff383aecb5",
   "metadata": {},
   "outputs": [],
   "source": [
    "# type(alpaca_api_key)"
   ]
  },
  {
   "cell_type": "code",
   "execution_count": 4,
   "id": "d1e11ecf-535d-43e9-a2c8-25231333ef73",
   "metadata": {},
   "outputs": [],
   "source": [
    "crypto_client = CryptoHistoricalDataClient()"
   ]
  },
  {
   "cell_type": "code",
   "execution_count": 5,
   "id": "f5e5c4e2-8dd6-439f-be3f-dee63af334e7",
   "metadata": {},
   "outputs": [
    {
     "data": {
      "text/html": [
       "<div>\n",
       "<style scoped>\n",
       "    .dataframe tbody tr th:only-of-type {\n",
       "        vertical-align: middle;\n",
       "    }\n",
       "\n",
       "    .dataframe tbody tr th {\n",
       "        vertical-align: top;\n",
       "    }\n",
       "\n",
       "    .dataframe thead th {\n",
       "        text-align: right;\n",
       "    }\n",
       "</style>\n",
       "<table border=\"1\" class=\"dataframe\">\n",
       "  <thead>\n",
       "    <tr style=\"text-align: right;\">\n",
       "      <th></th>\n",
       "      <th></th>\n",
       "      <th>open</th>\n",
       "      <th>high</th>\n",
       "      <th>low</th>\n",
       "      <th>close</th>\n",
       "      <th>volume</th>\n",
       "      <th>trade_count</th>\n",
       "      <th>vwap</th>\n",
       "    </tr>\n",
       "    <tr>\n",
       "      <th>symbol</th>\n",
       "      <th>timestamp</th>\n",
       "      <th></th>\n",
       "      <th></th>\n",
       "      <th></th>\n",
       "      <th></th>\n",
       "      <th></th>\n",
       "      <th></th>\n",
       "      <th></th>\n",
       "    </tr>\n",
       "  </thead>\n",
       "  <tbody>\n",
       "    <tr>\n",
       "      <th rowspan=\"11\" valign=\"top\">BTC/USD</th>\n",
       "      <th>2021-01-01 00:00:00+00:00</th>\n",
       "      <td>28973.0</td>\n",
       "      <td>29073.5</td>\n",
       "      <td>28775.0</td>\n",
       "      <td>29065.0</td>\n",
       "      <td>3.4437</td>\n",
       "      <td>72.0</td>\n",
       "      <td>28968.839097</td>\n",
       "    </tr>\n",
       "    <tr>\n",
       "      <th>2021-01-01 01:00:00+00:00</th>\n",
       "      <td>29070.0</td>\n",
       "      <td>29481.0</td>\n",
       "      <td>29038.5</td>\n",
       "      <td>29404.5</td>\n",
       "      <td>4.6183</td>\n",
       "      <td>65.0</td>\n",
       "      <td>29359.399487</td>\n",
       "    </tr>\n",
       "    <tr>\n",
       "      <th>2021-01-01 02:00:00+00:00</th>\n",
       "      <td>29528.0</td>\n",
       "      <td>29528.0</td>\n",
       "      <td>29218.0</td>\n",
       "      <td>29245.0</td>\n",
       "      <td>4.3423</td>\n",
       "      <td>42.0</td>\n",
       "      <td>29361.540923</td>\n",
       "    </tr>\n",
       "    <tr>\n",
       "      <th>2021-01-01 03:00:00+00:00</th>\n",
       "      <td>29400.5</td>\n",
       "      <td>29400.5</td>\n",
       "      <td>29337.0</td>\n",
       "      <td>29367.5</td>\n",
       "      <td>0.3089</td>\n",
       "      <td>3.0</td>\n",
       "      <td>29400.447394</td>\n",
       "    </tr>\n",
       "    <tr>\n",
       "      <th>2021-01-01 04:00:00+00:00</th>\n",
       "      <td>29449.0</td>\n",
       "      <td>29449.0</td>\n",
       "      <td>29136.5</td>\n",
       "      <td>29189.5</td>\n",
       "      <td>2.0245</td>\n",
       "      <td>34.0</td>\n",
       "      <td>29302.743369</td>\n",
       "    </tr>\n",
       "    <tr>\n",
       "      <th>...</th>\n",
       "      <td>...</td>\n",
       "      <td>...</td>\n",
       "      <td>...</td>\n",
       "      <td>...</td>\n",
       "      <td>...</td>\n",
       "      <td>...</td>\n",
       "      <td>...</td>\n",
       "    </tr>\n",
       "    <tr>\n",
       "      <th>2022-10-05 17:00:00+00:00</th>\n",
       "      <td>20238.0</td>\n",
       "      <td>20321.0</td>\n",
       "      <td>20169.0</td>\n",
       "      <td>20173.0</td>\n",
       "      <td>194.8648</td>\n",
       "      <td>879.0</td>\n",
       "      <td>20240.035003</td>\n",
       "    </tr>\n",
       "    <tr>\n",
       "      <th>2022-10-05 18:00:00+00:00</th>\n",
       "      <td>20178.0</td>\n",
       "      <td>20269.0</td>\n",
       "      <td>20077.0</td>\n",
       "      <td>20269.0</td>\n",
       "      <td>126.6447</td>\n",
       "      <td>651.0</td>\n",
       "      <td>20145.006872</td>\n",
       "    </tr>\n",
       "    <tr>\n",
       "      <th>2022-10-05 19:00:00+00:00</th>\n",
       "      <td>20287.0</td>\n",
       "      <td>20344.0</td>\n",
       "      <td>20110.0</td>\n",
       "      <td>20121.0</td>\n",
       "      <td>135.7122</td>\n",
       "      <td>840.0</td>\n",
       "      <td>20233.696219</td>\n",
       "    </tr>\n",
       "    <tr>\n",
       "      <th>2022-10-05 20:00:00+00:00</th>\n",
       "      <td>20137.0</td>\n",
       "      <td>20173.0</td>\n",
       "      <td>19986.0</td>\n",
       "      <td>19989.0</td>\n",
       "      <td>109.6264</td>\n",
       "      <td>578.0</td>\n",
       "      <td>20105.417490</td>\n",
       "    </tr>\n",
       "    <tr>\n",
       "      <th>2022-10-05 21:00:00+00:00</th>\n",
       "      <td>19989.0</td>\n",
       "      <td>20093.0</td>\n",
       "      <td>19989.0</td>\n",
       "      <td>20062.0</td>\n",
       "      <td>67.8298</td>\n",
       "      <td>447.0</td>\n",
       "      <td>20043.715625</td>\n",
       "    </tr>\n",
       "  </tbody>\n",
       "</table>\n",
       "<p>15408 rows × 7 columns</p>\n",
       "</div>"
      ],
      "text/plain": [
       "                                      open     high      low    close  \\\n",
       "symbol  timestamp                                                       \n",
       "BTC/USD 2021-01-01 00:00:00+00:00  28973.0  29073.5  28775.0  29065.0   \n",
       "        2021-01-01 01:00:00+00:00  29070.0  29481.0  29038.5  29404.5   \n",
       "        2021-01-01 02:00:00+00:00  29528.0  29528.0  29218.0  29245.0   \n",
       "        2021-01-01 03:00:00+00:00  29400.5  29400.5  29337.0  29367.5   \n",
       "        2021-01-01 04:00:00+00:00  29449.0  29449.0  29136.5  29189.5   \n",
       "...                                    ...      ...      ...      ...   \n",
       "        2022-10-05 17:00:00+00:00  20238.0  20321.0  20169.0  20173.0   \n",
       "        2022-10-05 18:00:00+00:00  20178.0  20269.0  20077.0  20269.0   \n",
       "        2022-10-05 19:00:00+00:00  20287.0  20344.0  20110.0  20121.0   \n",
       "        2022-10-05 20:00:00+00:00  20137.0  20173.0  19986.0  19989.0   \n",
       "        2022-10-05 21:00:00+00:00  19989.0  20093.0  19989.0  20062.0   \n",
       "\n",
       "                                     volume  trade_count          vwap  \n",
       "symbol  timestamp                                                       \n",
       "BTC/USD 2021-01-01 00:00:00+00:00    3.4437         72.0  28968.839097  \n",
       "        2021-01-01 01:00:00+00:00    4.6183         65.0  29359.399487  \n",
       "        2021-01-01 02:00:00+00:00    4.3423         42.0  29361.540923  \n",
       "        2021-01-01 03:00:00+00:00    0.3089          3.0  29400.447394  \n",
       "        2021-01-01 04:00:00+00:00    2.0245         34.0  29302.743369  \n",
       "...                                     ...          ...           ...  \n",
       "        2022-10-05 17:00:00+00:00  194.8648        879.0  20240.035003  \n",
       "        2022-10-05 18:00:00+00:00  126.6447        651.0  20145.006872  \n",
       "        2022-10-05 19:00:00+00:00  135.7122        840.0  20233.696219  \n",
       "        2022-10-05 20:00:00+00:00  109.6264        578.0  20105.417490  \n",
       "        2022-10-05 21:00:00+00:00   67.8298        447.0  20043.715625  \n",
       "\n",
       "[15408 rows x 7 columns]"
      ]
     },
     "execution_count": 5,
     "metadata": {},
     "output_type": "execute_result"
    }
   ],
   "source": [
    "request_params = CryptoBarsRequest(\n",
    "    symbol_or_symbols=[\"BTC/USD\"],\n",
    "    timeframe=TimeFrame.Hour, start='2021-01-01 00:00:00'\n",
    ")\n",
    "\n",
    "btc_bars = crypto_client.get_crypto_bars(request_params)\n",
    "\n",
    "btc_df = btc_bars.df\n",
    "\n",
    "btc_df"
   ]
  },
  {
   "cell_type": "code",
   "execution_count": 6,
   "id": "e43a2c0d-1047-4e64-9fc6-b1f8ac1b0dd2",
   "metadata": {},
   "outputs": [
    {
     "data": {
      "text/plain": [
       "open           float64\n",
       "high           float64\n",
       "low            float64\n",
       "close          float64\n",
       "volume         float64\n",
       "trade_count    float64\n",
       "vwap           float64\n",
       "dtype: object"
      ]
     },
     "execution_count": 6,
     "metadata": {},
     "output_type": "execute_result"
    }
   ],
   "source": [
    "btc_df.dtypes"
   ]
  },
  {
   "cell_type": "code",
   "execution_count": 7,
   "id": "6d4a2203",
   "metadata": {},
   "outputs": [
    {
     "data": {
      "text/html": [
       "<div>\n",
       "<style scoped>\n",
       "    .dataframe tbody tr th:only-of-type {\n",
       "        vertical-align: middle;\n",
       "    }\n",
       "\n",
       "    .dataframe tbody tr th {\n",
       "        vertical-align: top;\n",
       "    }\n",
       "\n",
       "    .dataframe thead th {\n",
       "        text-align: right;\n",
       "    }\n",
       "</style>\n",
       "<table border=\"1\" class=\"dataframe\">\n",
       "  <thead>\n",
       "    <tr style=\"text-align: right;\">\n",
       "      <th></th>\n",
       "      <th>open</th>\n",
       "      <th>high</th>\n",
       "      <th>low</th>\n",
       "      <th>close</th>\n",
       "      <th>volume</th>\n",
       "      <th>trade_count</th>\n",
       "      <th>vwap</th>\n",
       "    </tr>\n",
       "    <tr>\n",
       "      <th>timestamp</th>\n",
       "      <th></th>\n",
       "      <th></th>\n",
       "      <th></th>\n",
       "      <th></th>\n",
       "      <th></th>\n",
       "      <th></th>\n",
       "      <th></th>\n",
       "    </tr>\n",
       "  </thead>\n",
       "  <tbody>\n",
       "    <tr>\n",
       "      <th>2021-01-01 00:00:00+00:00</th>\n",
       "      <td>28973.0</td>\n",
       "      <td>29073.5</td>\n",
       "      <td>28775.0</td>\n",
       "      <td>29065.0</td>\n",
       "      <td>3.4437</td>\n",
       "      <td>72.0</td>\n",
       "      <td>28968.839097</td>\n",
       "    </tr>\n",
       "    <tr>\n",
       "      <th>2021-01-01 01:00:00+00:00</th>\n",
       "      <td>29070.0</td>\n",
       "      <td>29481.0</td>\n",
       "      <td>29038.5</td>\n",
       "      <td>29404.5</td>\n",
       "      <td>4.6183</td>\n",
       "      <td>65.0</td>\n",
       "      <td>29359.399487</td>\n",
       "    </tr>\n",
       "    <tr>\n",
       "      <th>2021-01-01 02:00:00+00:00</th>\n",
       "      <td>29528.0</td>\n",
       "      <td>29528.0</td>\n",
       "      <td>29218.0</td>\n",
       "      <td>29245.0</td>\n",
       "      <td>4.3423</td>\n",
       "      <td>42.0</td>\n",
       "      <td>29361.540923</td>\n",
       "    </tr>\n",
       "    <tr>\n",
       "      <th>2021-01-01 03:00:00+00:00</th>\n",
       "      <td>29400.5</td>\n",
       "      <td>29400.5</td>\n",
       "      <td>29337.0</td>\n",
       "      <td>29367.5</td>\n",
       "      <td>0.3089</td>\n",
       "      <td>3.0</td>\n",
       "      <td>29400.447394</td>\n",
       "    </tr>\n",
       "    <tr>\n",
       "      <th>2021-01-01 04:00:00+00:00</th>\n",
       "      <td>29449.0</td>\n",
       "      <td>29449.0</td>\n",
       "      <td>29136.5</td>\n",
       "      <td>29189.5</td>\n",
       "      <td>2.0245</td>\n",
       "      <td>34.0</td>\n",
       "      <td>29302.743369</td>\n",
       "    </tr>\n",
       "    <tr>\n",
       "      <th>...</th>\n",
       "      <td>...</td>\n",
       "      <td>...</td>\n",
       "      <td>...</td>\n",
       "      <td>...</td>\n",
       "      <td>...</td>\n",
       "      <td>...</td>\n",
       "      <td>...</td>\n",
       "    </tr>\n",
       "    <tr>\n",
       "      <th>2022-10-05 17:00:00+00:00</th>\n",
       "      <td>20238.0</td>\n",
       "      <td>20321.0</td>\n",
       "      <td>20169.0</td>\n",
       "      <td>20173.0</td>\n",
       "      <td>194.8648</td>\n",
       "      <td>879.0</td>\n",
       "      <td>20240.035003</td>\n",
       "    </tr>\n",
       "    <tr>\n",
       "      <th>2022-10-05 18:00:00+00:00</th>\n",
       "      <td>20178.0</td>\n",
       "      <td>20269.0</td>\n",
       "      <td>20077.0</td>\n",
       "      <td>20269.0</td>\n",
       "      <td>126.6447</td>\n",
       "      <td>651.0</td>\n",
       "      <td>20145.006872</td>\n",
       "    </tr>\n",
       "    <tr>\n",
       "      <th>2022-10-05 19:00:00+00:00</th>\n",
       "      <td>20287.0</td>\n",
       "      <td>20344.0</td>\n",
       "      <td>20110.0</td>\n",
       "      <td>20121.0</td>\n",
       "      <td>135.7122</td>\n",
       "      <td>840.0</td>\n",
       "      <td>20233.696219</td>\n",
       "    </tr>\n",
       "    <tr>\n",
       "      <th>2022-10-05 20:00:00+00:00</th>\n",
       "      <td>20137.0</td>\n",
       "      <td>20173.0</td>\n",
       "      <td>19986.0</td>\n",
       "      <td>19989.0</td>\n",
       "      <td>109.6264</td>\n",
       "      <td>578.0</td>\n",
       "      <td>20105.417490</td>\n",
       "    </tr>\n",
       "    <tr>\n",
       "      <th>2022-10-05 21:00:00+00:00</th>\n",
       "      <td>19989.0</td>\n",
       "      <td>20093.0</td>\n",
       "      <td>19989.0</td>\n",
       "      <td>20062.0</td>\n",
       "      <td>67.8298</td>\n",
       "      <td>447.0</td>\n",
       "      <td>20043.715625</td>\n",
       "    </tr>\n",
       "  </tbody>\n",
       "</table>\n",
       "<p>15408 rows × 7 columns</p>\n",
       "</div>"
      ],
      "text/plain": [
       "                              open     high      low    close    volume  \\\n",
       "timestamp                                                                 \n",
       "2021-01-01 00:00:00+00:00  28973.0  29073.5  28775.0  29065.0    3.4437   \n",
       "2021-01-01 01:00:00+00:00  29070.0  29481.0  29038.5  29404.5    4.6183   \n",
       "2021-01-01 02:00:00+00:00  29528.0  29528.0  29218.0  29245.0    4.3423   \n",
       "2021-01-01 03:00:00+00:00  29400.5  29400.5  29337.0  29367.5    0.3089   \n",
       "2021-01-01 04:00:00+00:00  29449.0  29449.0  29136.5  29189.5    2.0245   \n",
       "...                            ...      ...      ...      ...       ...   \n",
       "2022-10-05 17:00:00+00:00  20238.0  20321.0  20169.0  20173.0  194.8648   \n",
       "2022-10-05 18:00:00+00:00  20178.0  20269.0  20077.0  20269.0  126.6447   \n",
       "2022-10-05 19:00:00+00:00  20287.0  20344.0  20110.0  20121.0  135.7122   \n",
       "2022-10-05 20:00:00+00:00  20137.0  20173.0  19986.0  19989.0  109.6264   \n",
       "2022-10-05 21:00:00+00:00  19989.0  20093.0  19989.0  20062.0   67.8298   \n",
       "\n",
       "                           trade_count          vwap  \n",
       "timestamp                                             \n",
       "2021-01-01 00:00:00+00:00         72.0  28968.839097  \n",
       "2021-01-01 01:00:00+00:00         65.0  29359.399487  \n",
       "2021-01-01 02:00:00+00:00         42.0  29361.540923  \n",
       "2021-01-01 03:00:00+00:00          3.0  29400.447394  \n",
       "2021-01-01 04:00:00+00:00         34.0  29302.743369  \n",
       "...                                ...           ...  \n",
       "2022-10-05 17:00:00+00:00        879.0  20240.035003  \n",
       "2022-10-05 18:00:00+00:00        651.0  20145.006872  \n",
       "2022-10-05 19:00:00+00:00        840.0  20233.696219  \n",
       "2022-10-05 20:00:00+00:00        578.0  20105.417490  \n",
       "2022-10-05 21:00:00+00:00        447.0  20043.715625  \n",
       "\n",
       "[15408 rows x 7 columns]"
      ]
     },
     "execution_count": 7,
     "metadata": {},
     "output_type": "execute_result"
    }
   ],
   "source": [
    "btc_df = btc_df.reset_index()\n",
    "btc_df = btc_df.set_index('timestamp')\n",
    "btc_df = btc_df.drop(columns=['symbol'])\n",
    "\n",
    "btc_df"
   ]
  },
  {
   "cell_type": "code",
   "execution_count": 8,
   "id": "eb5a63cb",
   "metadata": {},
   "outputs": [],
   "source": [
    "# Use the pct_change function to generate  returns from close prices\n",
    "btc_df[\"Actual Returns\"] = btc_df[\"close\"].pct_change()\n",
    "\n",
    "# Drop na\n",
    "btc_df=btc_df.dropna()"
   ]
  },
  {
   "cell_type": "code",
   "execution_count": 9,
   "id": "bd400da8",
   "metadata": {},
   "outputs": [
    {
     "name": "stderr",
     "output_type": "stream",
     "text": [
      "C:\\Users\\gtkhh\\AppData\\Local\\Temp\\ipykernel_11256\\3367454276.py:2: SettingWithCopyWarning: \n",
      "A value is trying to be set on a copy of a slice from a DataFrame.\n",
      "Try using .loc[row_indexer,col_indexer] = value instead\n",
      "\n",
      "See the caveats in the documentation: https://pandas.pydata.org/pandas-docs/stable/user_guide/indexing.html#returning-a-view-versus-a-copy\n",
      "  btc_df['Signal'] = 0.0\n"
     ]
    },
    {
     "data": {
      "text/html": [
       "<div>\n",
       "<style scoped>\n",
       "    .dataframe tbody tr th:only-of-type {\n",
       "        vertical-align: middle;\n",
       "    }\n",
       "\n",
       "    .dataframe tbody tr th {\n",
       "        vertical-align: top;\n",
       "    }\n",
       "\n",
       "    .dataframe thead th {\n",
       "        text-align: right;\n",
       "    }\n",
       "</style>\n",
       "<table border=\"1\" class=\"dataframe\">\n",
       "  <thead>\n",
       "    <tr style=\"text-align: right;\">\n",
       "      <th></th>\n",
       "      <th>open</th>\n",
       "      <th>high</th>\n",
       "      <th>low</th>\n",
       "      <th>close</th>\n",
       "      <th>volume</th>\n",
       "      <th>trade_count</th>\n",
       "      <th>vwap</th>\n",
       "      <th>Actual Returns</th>\n",
       "      <th>Signal</th>\n",
       "    </tr>\n",
       "    <tr>\n",
       "      <th>timestamp</th>\n",
       "      <th></th>\n",
       "      <th></th>\n",
       "      <th></th>\n",
       "      <th></th>\n",
       "      <th></th>\n",
       "      <th></th>\n",
       "      <th></th>\n",
       "      <th></th>\n",
       "      <th></th>\n",
       "    </tr>\n",
       "  </thead>\n",
       "  <tbody>\n",
       "    <tr>\n",
       "      <th>2021-01-01 01:00:00+00:00</th>\n",
       "      <td>29070.0</td>\n",
       "      <td>29481.0</td>\n",
       "      <td>29038.5</td>\n",
       "      <td>29404.5</td>\n",
       "      <td>4.6183</td>\n",
       "      <td>65.0</td>\n",
       "      <td>29359.399487</td>\n",
       "      <td>0.011681</td>\n",
       "      <td>1.0</td>\n",
       "    </tr>\n",
       "    <tr>\n",
       "      <th>2021-01-01 02:00:00+00:00</th>\n",
       "      <td>29528.0</td>\n",
       "      <td>29528.0</td>\n",
       "      <td>29218.0</td>\n",
       "      <td>29245.0</td>\n",
       "      <td>4.3423</td>\n",
       "      <td>42.0</td>\n",
       "      <td>29361.540923</td>\n",
       "      <td>-0.005424</td>\n",
       "      <td>0.0</td>\n",
       "    </tr>\n",
       "    <tr>\n",
       "      <th>2021-01-01 03:00:00+00:00</th>\n",
       "      <td>29400.5</td>\n",
       "      <td>29400.5</td>\n",
       "      <td>29337.0</td>\n",
       "      <td>29367.5</td>\n",
       "      <td>0.3089</td>\n",
       "      <td>3.0</td>\n",
       "      <td>29400.447394</td>\n",
       "      <td>0.004189</td>\n",
       "      <td>1.0</td>\n",
       "    </tr>\n",
       "    <tr>\n",
       "      <th>2021-01-01 04:00:00+00:00</th>\n",
       "      <td>29449.0</td>\n",
       "      <td>29449.0</td>\n",
       "      <td>29136.5</td>\n",
       "      <td>29189.5</td>\n",
       "      <td>2.0245</td>\n",
       "      <td>34.0</td>\n",
       "      <td>29302.743369</td>\n",
       "      <td>-0.006061</td>\n",
       "      <td>0.0</td>\n",
       "    </tr>\n",
       "    <tr>\n",
       "      <th>2021-01-01 05:00:00+00:00</th>\n",
       "      <td>29240.5</td>\n",
       "      <td>29240.5</td>\n",
       "      <td>29240.5</td>\n",
       "      <td>29240.5</td>\n",
       "      <td>0.0028</td>\n",
       "      <td>1.0</td>\n",
       "      <td>29240.500000</td>\n",
       "      <td>0.001747</td>\n",
       "      <td>1.0</td>\n",
       "    </tr>\n",
       "    <tr>\n",
       "      <th>...</th>\n",
       "      <td>...</td>\n",
       "      <td>...</td>\n",
       "      <td>...</td>\n",
       "      <td>...</td>\n",
       "      <td>...</td>\n",
       "      <td>...</td>\n",
       "      <td>...</td>\n",
       "      <td>...</td>\n",
       "      <td>...</td>\n",
       "    </tr>\n",
       "    <tr>\n",
       "      <th>2022-10-05 17:00:00+00:00</th>\n",
       "      <td>20238.0</td>\n",
       "      <td>20321.0</td>\n",
       "      <td>20169.0</td>\n",
       "      <td>20173.0</td>\n",
       "      <td>194.8648</td>\n",
       "      <td>879.0</td>\n",
       "      <td>20240.035003</td>\n",
       "      <td>-0.003606</td>\n",
       "      <td>0.0</td>\n",
       "    </tr>\n",
       "    <tr>\n",
       "      <th>2022-10-05 18:00:00+00:00</th>\n",
       "      <td>20178.0</td>\n",
       "      <td>20269.0</td>\n",
       "      <td>20077.0</td>\n",
       "      <td>20269.0</td>\n",
       "      <td>126.6447</td>\n",
       "      <td>651.0</td>\n",
       "      <td>20145.006872</td>\n",
       "      <td>0.004759</td>\n",
       "      <td>1.0</td>\n",
       "    </tr>\n",
       "    <tr>\n",
       "      <th>2022-10-05 19:00:00+00:00</th>\n",
       "      <td>20287.0</td>\n",
       "      <td>20344.0</td>\n",
       "      <td>20110.0</td>\n",
       "      <td>20121.0</td>\n",
       "      <td>135.7122</td>\n",
       "      <td>840.0</td>\n",
       "      <td>20233.696219</td>\n",
       "      <td>-0.007302</td>\n",
       "      <td>0.0</td>\n",
       "    </tr>\n",
       "    <tr>\n",
       "      <th>2022-10-05 20:00:00+00:00</th>\n",
       "      <td>20137.0</td>\n",
       "      <td>20173.0</td>\n",
       "      <td>19986.0</td>\n",
       "      <td>19989.0</td>\n",
       "      <td>109.6264</td>\n",
       "      <td>578.0</td>\n",
       "      <td>20105.417490</td>\n",
       "      <td>-0.006560</td>\n",
       "      <td>0.0</td>\n",
       "    </tr>\n",
       "    <tr>\n",
       "      <th>2022-10-05 21:00:00+00:00</th>\n",
       "      <td>19989.0</td>\n",
       "      <td>20093.0</td>\n",
       "      <td>19989.0</td>\n",
       "      <td>20062.0</td>\n",
       "      <td>67.8298</td>\n",
       "      <td>447.0</td>\n",
       "      <td>20043.715625</td>\n",
       "      <td>0.003652</td>\n",
       "      <td>1.0</td>\n",
       "    </tr>\n",
       "  </tbody>\n",
       "</table>\n",
       "<p>15407 rows × 9 columns</p>\n",
       "</div>"
      ],
      "text/plain": [
       "                              open     high      low    close    volume  \\\n",
       "timestamp                                                                 \n",
       "2021-01-01 01:00:00+00:00  29070.0  29481.0  29038.5  29404.5    4.6183   \n",
       "2021-01-01 02:00:00+00:00  29528.0  29528.0  29218.0  29245.0    4.3423   \n",
       "2021-01-01 03:00:00+00:00  29400.5  29400.5  29337.0  29367.5    0.3089   \n",
       "2021-01-01 04:00:00+00:00  29449.0  29449.0  29136.5  29189.5    2.0245   \n",
       "2021-01-01 05:00:00+00:00  29240.5  29240.5  29240.5  29240.5    0.0028   \n",
       "...                            ...      ...      ...      ...       ...   \n",
       "2022-10-05 17:00:00+00:00  20238.0  20321.0  20169.0  20173.0  194.8648   \n",
       "2022-10-05 18:00:00+00:00  20178.0  20269.0  20077.0  20269.0  126.6447   \n",
       "2022-10-05 19:00:00+00:00  20287.0  20344.0  20110.0  20121.0  135.7122   \n",
       "2022-10-05 20:00:00+00:00  20137.0  20173.0  19986.0  19989.0  109.6264   \n",
       "2022-10-05 21:00:00+00:00  19989.0  20093.0  19989.0  20062.0   67.8298   \n",
       "\n",
       "                           trade_count          vwap  Actual Returns  Signal  \n",
       "timestamp                                                                     \n",
       "2021-01-01 01:00:00+00:00         65.0  29359.399487        0.011681     1.0  \n",
       "2021-01-01 02:00:00+00:00         42.0  29361.540923       -0.005424     0.0  \n",
       "2021-01-01 03:00:00+00:00          3.0  29400.447394        0.004189     1.0  \n",
       "2021-01-01 04:00:00+00:00         34.0  29302.743369       -0.006061     0.0  \n",
       "2021-01-01 05:00:00+00:00          1.0  29240.500000        0.001747     1.0  \n",
       "...                                ...           ...             ...     ...  \n",
       "2022-10-05 17:00:00+00:00        879.0  20240.035003       -0.003606     0.0  \n",
       "2022-10-05 18:00:00+00:00        651.0  20145.006872        0.004759     1.0  \n",
       "2022-10-05 19:00:00+00:00        840.0  20233.696219       -0.007302     0.0  \n",
       "2022-10-05 20:00:00+00:00        578.0  20105.417490       -0.006560     0.0  \n",
       "2022-10-05 21:00:00+00:00        447.0  20043.715625        0.003652     1.0  \n",
       "\n",
       "[15407 rows x 9 columns]"
      ]
     },
     "execution_count": 9,
     "metadata": {},
     "output_type": "execute_result"
    }
   ],
   "source": [
    "# Initialize the new Signal column\n",
    "btc_df['Signal'] = 0.0\n",
    "\n",
    "# When Actual Returns are greater than or equal to 0, generate signal to buy stock long\n",
    "btc_df.loc[(btc_df['Actual Returns'] >= 0), 'Signal'] = 1\n",
    "\n",
    "# When Actual Returns are less than 0, generate signal to sell stock short\n",
    "btc_df.loc[(btc_df['Actual Returns'] < 0), 'Signal'] = 0\n",
    "\n",
    "btc_df"
   ]
  },
  {
   "cell_type": "code",
   "execution_count": 10,
   "id": "06ffd127",
   "metadata": {},
   "outputs": [
    {
     "data": {
      "text/html": [
       "<div>\n",
       "<style scoped>\n",
       "    .dataframe tbody tr th:only-of-type {\n",
       "        vertical-align: middle;\n",
       "    }\n",
       "\n",
       "    .dataframe tbody tr th {\n",
       "        vertical-align: top;\n",
       "    }\n",
       "\n",
       "    .dataframe thead th {\n",
       "        text-align: right;\n",
       "    }\n",
       "</style>\n",
       "<table border=\"1\" class=\"dataframe\">\n",
       "  <thead>\n",
       "    <tr style=\"text-align: right;\">\n",
       "      <th></th>\n",
       "      <th>open</th>\n",
       "      <th>high</th>\n",
       "      <th>low</th>\n",
       "      <th>close</th>\n",
       "      <th>volume</th>\n",
       "      <th>trade_count</th>\n",
       "    </tr>\n",
       "    <tr>\n",
       "      <th>timestamp</th>\n",
       "      <th></th>\n",
       "      <th></th>\n",
       "      <th></th>\n",
       "      <th></th>\n",
       "      <th></th>\n",
       "      <th></th>\n",
       "    </tr>\n",
       "  </thead>\n",
       "  <tbody>\n",
       "    <tr>\n",
       "      <th>2021-01-01 02:00:00+00:00</th>\n",
       "      <td>29070.0</td>\n",
       "      <td>29481.0</td>\n",
       "      <td>29038.5</td>\n",
       "      <td>29404.5</td>\n",
       "      <td>4.6183</td>\n",
       "      <td>65.0</td>\n",
       "    </tr>\n",
       "    <tr>\n",
       "      <th>2021-01-01 03:00:00+00:00</th>\n",
       "      <td>29528.0</td>\n",
       "      <td>29528.0</td>\n",
       "      <td>29218.0</td>\n",
       "      <td>29245.0</td>\n",
       "      <td>4.3423</td>\n",
       "      <td>42.0</td>\n",
       "    </tr>\n",
       "    <tr>\n",
       "      <th>2021-01-01 04:00:00+00:00</th>\n",
       "      <td>29400.5</td>\n",
       "      <td>29400.5</td>\n",
       "      <td>29337.0</td>\n",
       "      <td>29367.5</td>\n",
       "      <td>0.3089</td>\n",
       "      <td>3.0</td>\n",
       "    </tr>\n",
       "    <tr>\n",
       "      <th>2021-01-01 05:00:00+00:00</th>\n",
       "      <td>29449.0</td>\n",
       "      <td>29449.0</td>\n",
       "      <td>29136.5</td>\n",
       "      <td>29189.5</td>\n",
       "      <td>2.0245</td>\n",
       "      <td>34.0</td>\n",
       "    </tr>\n",
       "    <tr>\n",
       "      <th>2021-01-01 06:00:00+00:00</th>\n",
       "      <td>29240.5</td>\n",
       "      <td>29240.5</td>\n",
       "      <td>29240.5</td>\n",
       "      <td>29240.5</td>\n",
       "      <td>0.0028</td>\n",
       "      <td>1.0</td>\n",
       "    </tr>\n",
       "  </tbody>\n",
       "</table>\n",
       "</div>"
      ],
      "text/plain": [
       "                              open     high      low    close  volume  \\\n",
       "timestamp                                                               \n",
       "2021-01-01 02:00:00+00:00  29070.0  29481.0  29038.5  29404.5  4.6183   \n",
       "2021-01-01 03:00:00+00:00  29528.0  29528.0  29218.0  29245.0  4.3423   \n",
       "2021-01-01 04:00:00+00:00  29400.5  29400.5  29337.0  29367.5  0.3089   \n",
       "2021-01-01 05:00:00+00:00  29449.0  29449.0  29136.5  29189.5  2.0245   \n",
       "2021-01-01 06:00:00+00:00  29240.5  29240.5  29240.5  29240.5  0.0028   \n",
       "\n",
       "                           trade_count  \n",
       "timestamp                               \n",
       "2021-01-01 02:00:00+00:00         65.0  \n",
       "2021-01-01 03:00:00+00:00         42.0  \n",
       "2021-01-01 04:00:00+00:00          3.0  \n",
       "2021-01-01 05:00:00+00:00         34.0  \n",
       "2021-01-01 06:00:00+00:00          1.0  "
      ]
     },
     "execution_count": 10,
     "metadata": {},
     "output_type": "execute_result"
    }
   ],
   "source": [
    "# Assign a copy of the sma_fast and sma_slow columns to a features DataFrame called X\n",
    "X = btc_df[['open', 'high','low','close','volume', 'trade_count']].shift().dropna()\n",
    "# Review the DataFrame\n",
    "X.head()"
   ]
  },
  {
   "cell_type": "code",
   "execution_count": 11,
   "id": "9f02eb97",
   "metadata": {},
   "outputs": [
    {
     "data": {
      "text/plain": [
       "[<matplotlib.lines.Line2D at 0x1eed50b9400>]"
      ]
     },
     "execution_count": 11,
     "metadata": {},
     "output_type": "execute_result"
    },
    {
     "data": {
      "image/png": "[encoded data removed]",
      "text/plain": [
       "<Figure size 640x480 with 1 Axes>"
      ]
     },
     "metadata": {},
     "output_type": "display_data"
    }
   ],
   "source": [
    "plt.plot(range(len(X)), X[['close']])"
   ]
  },
  {
   "cell_type": "code",
   "execution_count": 12,
   "id": "c29be38c",
   "metadata": {},
   "outputs": [
    {
     "data": {
      "text/plain": [
       "array([[-0.91135776, -0.89179937, -0.89979852, -0.88436979, -0.56489821,\n",
       "        -0.57994107],\n",
       "       [-0.87484656, -0.88806677, -0.88542285, -0.89708584, -0.56761491,\n",
       "        -0.64182488],\n",
       "       [-0.88501071, -0.89819242, -0.87589246, -0.8873196 , -0.607316  ,\n",
       "        -0.7467583 ],\n",
       "       ...,\n",
       "       [-1.62021704, -1.62338729, -1.61750076, -1.61269223,  0.63621797,\n",
       "         0.99675082],\n",
       "       [-1.61152769, -1.61743103, -1.61485788, -1.62449144,  0.72547014,\n",
       "         1.50527431],\n",
       "       [-1.62348551, -1.63101131, -1.62478871, -1.63501507,  0.46870541,\n",
       "         0.80033698]])"
      ]
     },
     "execution_count": 12,
     "metadata": {},
     "output_type": "execute_result"
    }
   ],
   "source": [
    "# Create a StandardScaler instance\n",
    "scaler = StandardScaler()\n",
    "\n",
    "# Fit the scaler to the features training dataset\n",
    "X_scaled = scaler.fit_transform(X)\n",
    "\n",
    "X_scaled"
   ]
  },
  {
   "cell_type": "markdown",
   "id": "14beb8a6",
   "metadata": {},
   "source": [
    "### Data Split for Training"
   ]
  },
  {
   "cell_type": "code",
   "execution_count": 13,
   "id": "9d2d26db",
   "metadata": {},
   "outputs": [
    {
     "data": {
      "text/plain": [
       "12326"
      ]
     },
     "execution_count": 13,
     "metadata": {},
     "output_type": "execute_result"
    }
   ],
   "source": [
    "# get array representation of dataframe\n",
    "dataset = btc_df.values\n",
    "\n",
    "# get number of rows to train the model on\n",
    "training_data_len = math.ceil(len(dataset) * 0.8)\n",
    "\n",
    "training_data_len"
   ]
  },
  {
   "cell_type": "code",
   "execution_count": 38,
   "id": "4fdaef59",
   "metadata": {},
   "outputs": [],
   "source": [
    "# create train dataset\n",
    "train_data = X_scaled[0:training_data_len, :]\n",
    "\n",
    "# Create blank array\n",
    "X_train = []\n",
    "candles = 60\n",
    "\n",
    "for i in range(candles, len(train_data)):\n",
    "    X_train.append(train_data[i-candles:i, 0:6])\n",
    "\n",
    "\n",
    "# create test dataset\n",
    "test_data = X_scaled[training_data_len - candles: , :]\n",
    "\n",
    "# Create blank array\n",
    "X_test = []\n",
    "\n",
    "for i in range(candles, len(test_data)):\n",
    "    X_test.append(test_data[i-candles:i, 0:6])\n"
   ]
  },
  {
   "cell_type": "code",
   "execution_count": 39,
   "id": "8c8a1c2c",
   "metadata": {},
   "outputs": [
    {
     "data": {
      "text/plain": [
       "(12266, 60, 6)"
      ]
     },
     "metadata": {},
     "output_type": "display_data"
    },
    {
     "data": {
      "text/plain": [
       "12266"
      ]
     },
     "metadata": {},
     "output_type": "display_data"
    },
    {
     "data": {
      "text/plain": [
       "3080"
      ]
     },
     "metadata": {},
     "output_type": "display_data"
    }
   ],
   "source": [
    "# Convert lists to array\n",
    "\n",
    "X_train = np.array(X_train)\n",
    "X_test = np.array(X_test)\n",
    "\n",
    "display(X_train.shape)\n",
    "display(len(X_train))\n",
    "display(len(X_test))\n"
   ]
  },
  {
   "cell_type": "code",
   "execution_count": 40,
   "id": "00e85d17",
   "metadata": {},
   "outputs": [
    {
     "data": {
      "text/plain": [
       "timestamp\n",
       "2021-01-01 01:00:00+00:00    1.0\n",
       "2021-01-01 02:00:00+00:00    0.0\n",
       "2021-01-01 03:00:00+00:00    1.0\n",
       "2021-01-01 04:00:00+00:00    0.0\n",
       "2021-01-01 05:00:00+00:00    1.0\n",
       "                            ... \n",
       "2022-10-05 17:00:00+00:00    0.0\n",
       "2022-10-05 18:00:00+00:00    1.0\n",
       "2022-10-05 19:00:00+00:00    0.0\n",
       "2022-10-05 20:00:00+00:00    0.0\n",
       "2022-10-05 21:00:00+00:00    1.0\n",
       "Name: Signal, Length: 15407, dtype: float64"
      ]
     },
     "metadata": {},
     "output_type": "display_data"
    },
    {
     "data": {
      "text/plain": [
       "timestamp\n",
       "2021-01-03 16:00:00+00:00    0.0\n",
       "2021-01-03 17:00:00+00:00    1.0\n",
       "2021-01-03 18:00:00+00:00    0.0\n",
       "2021-01-03 19:00:00+00:00    1.0\n",
       "2021-01-03 20:00:00+00:00    1.0\n",
       "                            ... \n",
       "2022-10-05 17:00:00+00:00    0.0\n",
       "2022-10-05 18:00:00+00:00    1.0\n",
       "2022-10-05 19:00:00+00:00    0.0\n",
       "2022-10-05 20:00:00+00:00    0.0\n",
       "2022-10-05 21:00:00+00:00    1.0\n",
       "Name: Signal, Length: 15346, dtype: float64"
      ]
     },
     "metadata": {},
     "output_type": "display_data"
    }
   ],
   "source": [
    "# Create the target set selecting the Signal column and assiging it to y\n",
    "y = btc_df['Signal']\n",
    "\n",
    "# Review the value counts\n",
    "display(y)\n",
    "\n",
    "# Drop first row\n",
    "# y = y.iloc[1:-candles]\n",
    "y=y.iloc[candles+1:]\n",
    "\n",
    "display(y)"
   ]
  },
  {
   "cell_type": "code",
   "execution_count": 41,
   "id": "8a369845",
   "metadata": {},
   "outputs": [
    {
     "data": {
      "text/plain": [
       "12266"
      ]
     },
     "metadata": {},
     "output_type": "display_data"
    },
    {
     "data": {
      "text/plain": [
       "3080"
      ]
     },
     "metadata": {},
     "output_type": "display_data"
    }
   ],
   "source": [
    "# Splitting Y data\n",
    "\n",
    "y_train = y.iloc[0:len(X_train)]\n",
    "y_test = y.iloc[len(X_train):]\n",
    "\n",
    "display(y_train.count())\n",
    "display(y_test.count())"
   ]
  },
  {
   "cell_type": "markdown",
   "id": "737757e8",
   "metadata": {},
   "source": [
    "## Model Creation"
   ]
  },
  {
   "cell_type": "code",
   "execution_count": 42,
   "id": "35482cbd",
   "metadata": {},
   "outputs": [
    {
     "data": {
      "text/plain": [
       "6"
      ]
     },
     "execution_count": 42,
     "metadata": {},
     "output_type": "execute_result"
    }
   ],
   "source": [
    "# Define the the number of inputs (features) to the model\n",
    "number_input_features = len(X.columns)\n",
    "\n",
    "# Review the number of features\n",
    "number_input_features\n"
   ]
  },
  {
   "cell_type": "code",
   "execution_count": 43,
   "id": "35540597",
   "metadata": {},
   "outputs": [
    {
     "data": {
      "text/plain": [
       "5"
      ]
     },
     "metadata": {},
     "output_type": "display_data"
    },
    {
     "data": {
      "text/plain": [
       "64"
      ]
     },
     "metadata": {},
     "output_type": "display_data"
    },
    {
     "data": {
      "text/plain": [
       "64"
      ]
     },
     "metadata": {},
     "output_type": "display_data"
    }
   ],
   "source": [
    "# Create the Sequential model instance\n",
    "class_nn = Sequential()\n",
    "\n",
    "# Define the number of neurons in the output layer\n",
    "number_output_neurons = 1\n",
    "\n",
    "#Define the number of hidden nodes for the first hidden layer\n",
    "# hidden_nodes_layer1 = (number_input_features + 1) // 2\n",
    "hidden_nodes_layer1 = 64\n",
    "\n",
    "# Define hidden nodes for all hidden layers\n",
    "hidden_nodes = math.ceil(((number_input_features+1)*2)/3)\n",
    "display(hidden_nodes)\n",
    "\n",
    "# Review the number hidden nodes in the first layer\n",
    "display(hidden_nodes_layer1)\n",
    "\n",
    "#Define the number of hidden nodes for the second hidden layer\n",
    "# hidden_nodes_layer2 = (hidden_nodes_layer1 + 1) //2\n",
    "hidden_nodes_layer2 = 64\n",
    "\n",
    "# Review the number hidden nodes in the second layer\n",
    "display(hidden_nodes_layer2)\n",
    "\n",
    "kernelSize=1"
   ]
  },
  {
   "cell_type": "code",
   "execution_count": 44,
   "id": "c22c1c66",
   "metadata": {},
   "outputs": [],
   "source": [
    "# # Add first cnn layer\n",
    "# class_nn.add(Conv1D(filters=32, kernel_size=kernelSize, padding='same', activation='relu', input_shape=(candles,len(X.columns))))"
   ]
  },
  {
   "cell_type": "code",
   "execution_count": 45,
   "id": "af4350a0",
   "metadata": {},
   "outputs": [],
   "source": [
    "# #Add second cnn layer\n",
    "# class_nn.add(Conv1D(filters=64, kernel_size=kernelSize, padding='same'))"
   ]
  },
  {
   "cell_type": "code",
   "execution_count": 46,
   "id": "3dd184fc",
   "metadata": {},
   "outputs": [],
   "source": [
    "# Add the first hidden layer\n",
    "class_nn.add(LSTM(units=hidden_nodes_layer1, return_sequences=True,input_shape=(candles,len(X.columns))))"
   ]
  },
  {
   "cell_type": "code",
   "execution_count": 47,
   "id": "318dba3b",
   "metadata": {},
   "outputs": [],
   "source": [
    "# # Add dropout layer\n",
    "class_nn.add(Dropout(rate=0.2))"
   ]
  },
  {
   "cell_type": "code",
   "execution_count": 48,
   "id": "a0a0c87c",
   "metadata": {},
   "outputs": [],
   "source": [
    "#Add the second hidden layer\n",
    "class_nn.add(LSTM(units=hidden_nodes_layer2, return_sequences=True))\n"
   ]
  },
  {
   "cell_type": "code",
   "execution_count": 49,
   "id": "32535ceb",
   "metadata": {},
   "outputs": [],
   "source": [
    "# # Add dropout layer\n",
    "class_nn.add(Dropout(rate=0.2))"
   ]
  },
  {
   "cell_type": "code",
   "execution_count": 50,
   "id": "fd4ad807",
   "metadata": {},
   "outputs": [],
   "source": [
    "# # #Add the third hidden layer\n",
    "# class_nn.add(LSTM(units=hidden_nodes_layer2))"
   ]
  },
  {
   "cell_type": "code",
   "execution_count": 51,
   "id": "e74381da",
   "metadata": {},
   "outputs": [],
   "source": [
    "# # Add dropout layer\n",
    "# class_nn.add(Dropout(rate=0.2))"
   ]
  },
  {
   "cell_type": "code",
   "execution_count": 52,
   "id": "6b293aeb",
   "metadata": {},
   "outputs": [],
   "source": [
    "# Add Dense layer\n",
    "# class_nn.add(Dense(units=6, activation='relu'))"
   ]
  },
  {
   "cell_type": "code",
   "execution_count": 53,
   "id": "21bfb7b4",
   "metadata": {},
   "outputs": [],
   "source": [
    "# Add the output layer to the model specifying the number of output neurons and activation function\n",
    "class_nn.add(Dense(units=1,  activation='sigmoid'))\n"
   ]
  },
  {
   "cell_type": "code",
   "execution_count": 54,
   "id": "a32137c2",
   "metadata": {},
   "outputs": [
    {
     "name": "stdout",
     "output_type": "stream",
     "text": [
      "Model: \"sequential_1\"\n",
      "_________________________________________________________________\n",
      "Layer (type)                 Output Shape              Param #   \n",
      "=================================================================\n",
      "lstm_2 (LSTM)                (None, 60, 64)            18176     \n",
      "_________________________________________________________________\n",
      "dropout_2 (Dropout)          (None, 60, 64)            0         \n",
      "_________________________________________________________________\n",
      "lstm_3 (LSTM)                (None, 60, 64)            33024     \n",
      "_________________________________________________________________\n",
      "dropout_3 (Dropout)          (None, 60, 64)            0         \n",
      "_________________________________________________________________\n",
      "dense_1 (Dense)              (None, 60, 1)             65        \n",
      "=================================================================\n",
      "Total params: 51,265\n",
      "Trainable params: 51,265\n",
      "Non-trainable params: 0\n",
      "_________________________________________________________________\n"
     ]
    }
   ],
   "source": [
    "# Display the Sequential model summary, subclassed model requires build\n",
    "class_nn.build(X_train.shape)\n",
    "class_nn.summary()"
   ]
  },
  {
   "cell_type": "code",
   "execution_count": 55,
   "id": "278bc04e",
   "metadata": {},
   "outputs": [],
   "source": [
    "# Compile the Sequential model\n",
    "# class_nn.compile(loss='binary_crossentropy', optimizer='adam', metrics=('accuracy','Precision', 'Recall'))\n",
    "\n",
    "class_nn.compile(loss='binary_crossentropy', optimizer='adam', metrics=('accuracy'))"
   ]
  },
  {
   "cell_type": "code",
   "execution_count": 56,
   "id": "7881e7f5",
   "metadata": {},
   "outputs": [
    {
     "name": "stdout",
     "output_type": "stream",
     "text": [
      "Epoch 1/60\n",
      "117/307 [==========>...................] - ETA: 5s - loss: 0.6955 - accuracy: 0.4914"
     ]
    },
    {
     "ename": "KeyboardInterrupt",
     "evalue": "",
     "output_type": "error",
     "traceback": [
      "\u001b[1;31m---------------------------------------------------------------------------\u001b[0m",
      "\u001b[1;31mKeyboardInterrupt\u001b[0m                         Traceback (most recent call last)",
      "\u001b[1;32mc:\\Users\\gtkhh\\Desktop\\Fintech-Workspace\\Project_2\\Trading_Bot_9000\\up_or_down_model.ipynb Cell 35\u001b[0m in \u001b[0;36m<cell line: 2>\u001b[1;34m()\u001b[0m\n\u001b[0;32m      <a href='vscode-notebook-cell:/c%3A/Users/gtkhh/Desktop/Fintech-Workspace/Project_2/Trading_Bot_9000/up_or_down_model.ipynb#X46sZmlsZQ%3D%3D?line=0'>1</a>\u001b[0m \u001b[39m# Fit the model using epochs and the training data\u001b[39;00m\n\u001b[1;32m----> <a href='vscode-notebook-cell:/c%3A/Users/gtkhh/Desktop/Fintech-Workspace/Project_2/Trading_Bot_9000/up_or_down_model.ipynb#X46sZmlsZQ%3D%3D?line=1'>2</a>\u001b[0m class_model \u001b[39m=\u001b[39m class_nn\u001b[39m.\u001b[39;49mfit(X_train, y_train, epochs\u001b[39m=\u001b[39;49m\u001b[39m60\u001b[39;49m, validation_split\u001b[39m=\u001b[39;49m\u001b[39m0.2\u001b[39;49m)\n",
      "File \u001b[1;32mc:\\Users\\gtkhh\\anaconda3\\envs\\dev\\lib\\site-packages\\tensorflow\\python\\keras\\engine\\training.py:108\u001b[0m, in \u001b[0;36menable_multi_worker.<locals>._method_wrapper\u001b[1;34m(self, *args, **kwargs)\u001b[0m\n\u001b[0;32m    106\u001b[0m \u001b[39mdef\u001b[39;00m \u001b[39m_method_wrapper\u001b[39m(\u001b[39mself\u001b[39m, \u001b[39m*\u001b[39margs, \u001b[39m*\u001b[39m\u001b[39m*\u001b[39mkwargs):\n\u001b[0;32m    107\u001b[0m   \u001b[39mif\u001b[39;00m \u001b[39mnot\u001b[39;00m \u001b[39mself\u001b[39m\u001b[39m.\u001b[39m_in_multi_worker_mode():  \u001b[39m# pylint: disable=protected-access\u001b[39;00m\n\u001b[1;32m--> 108\u001b[0m     \u001b[39mreturn\u001b[39;00m method(\u001b[39mself\u001b[39;49m, \u001b[39m*\u001b[39;49margs, \u001b[39m*\u001b[39;49m\u001b[39m*\u001b[39;49mkwargs)\n\u001b[0;32m    110\u001b[0m   \u001b[39m# Running inside `run_distribute_coordinator` already.\u001b[39;00m\n\u001b[0;32m    111\u001b[0m   \u001b[39mif\u001b[39;00m dc_context\u001b[39m.\u001b[39mget_current_worker_context():\n",
      "File \u001b[1;32mc:\\Users\\gtkhh\\anaconda3\\envs\\dev\\lib\\site-packages\\tensorflow\\python\\keras\\engine\\training.py:1098\u001b[0m, in \u001b[0;36mModel.fit\u001b[1;34m(self, x, y, batch_size, epochs, verbose, callbacks, validation_split, validation_data, shuffle, class_weight, sample_weight, initial_epoch, steps_per_epoch, validation_steps, validation_batch_size, validation_freq, max_queue_size, workers, use_multiprocessing)\u001b[0m\n\u001b[0;32m   1091\u001b[0m \u001b[39mwith\u001b[39;00m trace\u001b[39m.\u001b[39mTrace(\n\u001b[0;32m   1092\u001b[0m     \u001b[39m'\u001b[39m\u001b[39mTraceContext\u001b[39m\u001b[39m'\u001b[39m,\n\u001b[0;32m   1093\u001b[0m     graph_type\u001b[39m=\u001b[39m\u001b[39m'\u001b[39m\u001b[39mtrain\u001b[39m\u001b[39m'\u001b[39m,\n\u001b[0;32m   1094\u001b[0m     epoch_num\u001b[39m=\u001b[39mepoch,\n\u001b[0;32m   1095\u001b[0m     step_num\u001b[39m=\u001b[39mstep,\n\u001b[0;32m   1096\u001b[0m     batch_size\u001b[39m=\u001b[39mbatch_size):\n\u001b[0;32m   1097\u001b[0m   callbacks\u001b[39m.\u001b[39mon_train_batch_begin(step)\n\u001b[1;32m-> 1098\u001b[0m   tmp_logs \u001b[39m=\u001b[39m train_function(iterator)\n\u001b[0;32m   1099\u001b[0m   \u001b[39mif\u001b[39;00m data_handler\u001b[39m.\u001b[39mshould_sync:\n\u001b[0;32m   1100\u001b[0m     context\u001b[39m.\u001b[39masync_wait()\n",
      "File \u001b[1;32mc:\\Users\\gtkhh\\anaconda3\\envs\\dev\\lib\\site-packages\\tensorflow\\python\\eager\\def_function.py:780\u001b[0m, in \u001b[0;36mFunction.__call__\u001b[1;34m(self, *args, **kwds)\u001b[0m\n\u001b[0;32m    778\u001b[0m \u001b[39melse\u001b[39;00m:\n\u001b[0;32m    779\u001b[0m   compiler \u001b[39m=\u001b[39m \u001b[39m\"\u001b[39m\u001b[39mnonXla\u001b[39m\u001b[39m\"\u001b[39m\n\u001b[1;32m--> 780\u001b[0m   result \u001b[39m=\u001b[39m \u001b[39mself\u001b[39;49m\u001b[39m.\u001b[39;49m_call(\u001b[39m*\u001b[39;49margs, \u001b[39m*\u001b[39;49m\u001b[39m*\u001b[39;49mkwds)\n\u001b[0;32m    782\u001b[0m new_tracing_count \u001b[39m=\u001b[39m \u001b[39mself\u001b[39m\u001b[39m.\u001b[39m_get_tracing_count()\n\u001b[0;32m    783\u001b[0m without_tracing \u001b[39m=\u001b[39m (tracing_count \u001b[39m==\u001b[39m new_tracing_count)\n",
      "File \u001b[1;32mc:\\Users\\gtkhh\\anaconda3\\envs\\dev\\lib\\site-packages\\tensorflow\\python\\eager\\def_function.py:807\u001b[0m, in \u001b[0;36mFunction._call\u001b[1;34m(self, *args, **kwds)\u001b[0m\n\u001b[0;32m    804\u001b[0m   \u001b[39mself\u001b[39m\u001b[39m.\u001b[39m_lock\u001b[39m.\u001b[39mrelease()\n\u001b[0;32m    805\u001b[0m   \u001b[39m# In this case we have created variables on the first call, so we run the\u001b[39;00m\n\u001b[0;32m    806\u001b[0m   \u001b[39m# defunned version which is guaranteed to never create variables.\u001b[39;00m\n\u001b[1;32m--> 807\u001b[0m   \u001b[39mreturn\u001b[39;00m \u001b[39mself\u001b[39;49m\u001b[39m.\u001b[39;49m_stateless_fn(\u001b[39m*\u001b[39;49margs, \u001b[39m*\u001b[39;49m\u001b[39m*\u001b[39;49mkwds)  \u001b[39m# pylint: disable=not-callable\u001b[39;00m\n\u001b[0;32m    808\u001b[0m \u001b[39melif\u001b[39;00m \u001b[39mself\u001b[39m\u001b[39m.\u001b[39m_stateful_fn \u001b[39mis\u001b[39;00m \u001b[39mnot\u001b[39;00m \u001b[39mNone\u001b[39;00m:\n\u001b[0;32m    809\u001b[0m   \u001b[39m# Release the lock early so that multiple threads can perform the call\u001b[39;00m\n\u001b[0;32m    810\u001b[0m   \u001b[39m# in parallel.\u001b[39;00m\n\u001b[0;32m    811\u001b[0m   \u001b[39mself\u001b[39m\u001b[39m.\u001b[39m_lock\u001b[39m.\u001b[39mrelease()\n",
      "File \u001b[1;32mc:\\Users\\gtkhh\\anaconda3\\envs\\dev\\lib\\site-packages\\tensorflow\\python\\eager\\function.py:2829\u001b[0m, in \u001b[0;36mFunction.__call__\u001b[1;34m(self, *args, **kwargs)\u001b[0m\n\u001b[0;32m   2827\u001b[0m \u001b[39mwith\u001b[39;00m \u001b[39mself\u001b[39m\u001b[39m.\u001b[39m_lock:\n\u001b[0;32m   2828\u001b[0m   graph_function, args, kwargs \u001b[39m=\u001b[39m \u001b[39mself\u001b[39m\u001b[39m.\u001b[39m_maybe_define_function(args, kwargs)\n\u001b[1;32m-> 2829\u001b[0m \u001b[39mreturn\u001b[39;00m graph_function\u001b[39m.\u001b[39;49m_filtered_call(args, kwargs)\n",
      "File \u001b[1;32mc:\\Users\\gtkhh\\anaconda3\\envs\\dev\\lib\\site-packages\\tensorflow\\python\\eager\\function.py:1843\u001b[0m, in \u001b[0;36mConcreteFunction._filtered_call\u001b[1;34m(self, args, kwargs, cancellation_manager)\u001b[0m\n\u001b[0;32m   1827\u001b[0m \u001b[39mdef\u001b[39;00m \u001b[39m_filtered_call\u001b[39m(\u001b[39mself\u001b[39m, args, kwargs, cancellation_manager\u001b[39m=\u001b[39m\u001b[39mNone\u001b[39;00m):\n\u001b[0;32m   1828\u001b[0m   \u001b[39m\"\"\"Executes the function, filtering arguments from the Python function.\u001b[39;00m\n\u001b[0;32m   1829\u001b[0m \n\u001b[0;32m   1830\u001b[0m \u001b[39m  Objects aside from Tensors, CompositeTensors, and Variables are ignored.\u001b[39;00m\n\u001b[1;32m   (...)\u001b[0m\n\u001b[0;32m   1841\u001b[0m \u001b[39m    `args` and `kwargs`.\u001b[39;00m\n\u001b[0;32m   1842\u001b[0m \u001b[39m  \"\"\"\u001b[39;00m\n\u001b[1;32m-> 1843\u001b[0m   \u001b[39mreturn\u001b[39;00m \u001b[39mself\u001b[39;49m\u001b[39m.\u001b[39;49m_call_flat(\n\u001b[0;32m   1844\u001b[0m       [t \u001b[39mfor\u001b[39;49;00m t \u001b[39min\u001b[39;49;00m nest\u001b[39m.\u001b[39;49mflatten((args, kwargs), expand_composites\u001b[39m=\u001b[39;49m\u001b[39mTrue\u001b[39;49;00m)\n\u001b[0;32m   1845\u001b[0m        \u001b[39mif\u001b[39;49;00m \u001b[39misinstance\u001b[39;49m(t, (ops\u001b[39m.\u001b[39;49mTensor,\n\u001b[0;32m   1846\u001b[0m                          resource_variable_ops\u001b[39m.\u001b[39;49mBaseResourceVariable))],\n\u001b[0;32m   1847\u001b[0m       captured_inputs\u001b[39m=\u001b[39;49m\u001b[39mself\u001b[39;49m\u001b[39m.\u001b[39;49mcaptured_inputs,\n\u001b[0;32m   1848\u001b[0m       cancellation_manager\u001b[39m=\u001b[39;49mcancellation_manager)\n",
      "File \u001b[1;32mc:\\Users\\gtkhh\\anaconda3\\envs\\dev\\lib\\site-packages\\tensorflow\\python\\eager\\function.py:1923\u001b[0m, in \u001b[0;36mConcreteFunction._call_flat\u001b[1;34m(self, args, captured_inputs, cancellation_manager)\u001b[0m\n\u001b[0;32m   1918\u001b[0m possible_gradient_type \u001b[39m=\u001b[39m (\n\u001b[0;32m   1919\u001b[0m     pywrap_tfe\u001b[39m.\u001b[39mTFE_Py_TapeSetPossibleGradientTypes(args))\n\u001b[0;32m   1920\u001b[0m \u001b[39mif\u001b[39;00m (possible_gradient_type \u001b[39m==\u001b[39m _POSSIBLE_GRADIENT_TYPES_NONE\n\u001b[0;32m   1921\u001b[0m     \u001b[39mand\u001b[39;00m executing_eagerly):\n\u001b[0;32m   1922\u001b[0m   \u001b[39m# No tape is watching; skip to running the function.\u001b[39;00m\n\u001b[1;32m-> 1923\u001b[0m   \u001b[39mreturn\u001b[39;00m \u001b[39mself\u001b[39m\u001b[39m.\u001b[39m_build_call_outputs(\u001b[39mself\u001b[39;49m\u001b[39m.\u001b[39;49m_inference_function\u001b[39m.\u001b[39;49mcall(\n\u001b[0;32m   1924\u001b[0m       ctx, args, cancellation_manager\u001b[39m=\u001b[39;49mcancellation_manager))\n\u001b[0;32m   1925\u001b[0m forward_backward \u001b[39m=\u001b[39m \u001b[39mself\u001b[39m\u001b[39m.\u001b[39m_select_forward_and_backward_functions(\n\u001b[0;32m   1926\u001b[0m     args,\n\u001b[0;32m   1927\u001b[0m     possible_gradient_type,\n\u001b[0;32m   1928\u001b[0m     executing_eagerly)\n\u001b[0;32m   1929\u001b[0m forward_function, args_with_tangents \u001b[39m=\u001b[39m forward_backward\u001b[39m.\u001b[39mforward()\n",
      "File \u001b[1;32mc:\\Users\\gtkhh\\anaconda3\\envs\\dev\\lib\\site-packages\\tensorflow\\python\\eager\\function.py:545\u001b[0m, in \u001b[0;36m_EagerDefinedFunction.call\u001b[1;34m(self, ctx, args, cancellation_manager)\u001b[0m\n\u001b[0;32m    543\u001b[0m \u001b[39mwith\u001b[39;00m _InterpolateFunctionError(\u001b[39mself\u001b[39m):\n\u001b[0;32m    544\u001b[0m   \u001b[39mif\u001b[39;00m cancellation_manager \u001b[39mis\u001b[39;00m \u001b[39mNone\u001b[39;00m:\n\u001b[1;32m--> 545\u001b[0m     outputs \u001b[39m=\u001b[39m execute\u001b[39m.\u001b[39;49mexecute(\n\u001b[0;32m    546\u001b[0m         \u001b[39mstr\u001b[39;49m(\u001b[39mself\u001b[39;49m\u001b[39m.\u001b[39;49msignature\u001b[39m.\u001b[39;49mname),\n\u001b[0;32m    547\u001b[0m         num_outputs\u001b[39m=\u001b[39;49m\u001b[39mself\u001b[39;49m\u001b[39m.\u001b[39;49m_num_outputs,\n\u001b[0;32m    548\u001b[0m         inputs\u001b[39m=\u001b[39;49margs,\n\u001b[0;32m    549\u001b[0m         attrs\u001b[39m=\u001b[39;49mattrs,\n\u001b[0;32m    550\u001b[0m         ctx\u001b[39m=\u001b[39;49mctx)\n\u001b[0;32m    551\u001b[0m   \u001b[39melse\u001b[39;00m:\n\u001b[0;32m    552\u001b[0m     outputs \u001b[39m=\u001b[39m execute\u001b[39m.\u001b[39mexecute_with_cancellation(\n\u001b[0;32m    553\u001b[0m         \u001b[39mstr\u001b[39m(\u001b[39mself\u001b[39m\u001b[39m.\u001b[39msignature\u001b[39m.\u001b[39mname),\n\u001b[0;32m    554\u001b[0m         num_outputs\u001b[39m=\u001b[39m\u001b[39mself\u001b[39m\u001b[39m.\u001b[39m_num_outputs,\n\u001b[1;32m   (...)\u001b[0m\n\u001b[0;32m    557\u001b[0m         ctx\u001b[39m=\u001b[39mctx,\n\u001b[0;32m    558\u001b[0m         cancellation_manager\u001b[39m=\u001b[39mcancellation_manager)\n",
      "File \u001b[1;32mc:\\Users\\gtkhh\\anaconda3\\envs\\dev\\lib\\site-packages\\tensorflow\\python\\eager\\execute.py:59\u001b[0m, in \u001b[0;36mquick_execute\u001b[1;34m(op_name, num_outputs, inputs, attrs, ctx, name)\u001b[0m\n\u001b[0;32m     57\u001b[0m \u001b[39mtry\u001b[39;00m:\n\u001b[0;32m     58\u001b[0m   ctx\u001b[39m.\u001b[39mensure_initialized()\n\u001b[1;32m---> 59\u001b[0m   tensors \u001b[39m=\u001b[39m pywrap_tfe\u001b[39m.\u001b[39;49mTFE_Py_Execute(ctx\u001b[39m.\u001b[39;49m_handle, device_name, op_name,\n\u001b[0;32m     60\u001b[0m                                       inputs, attrs, num_outputs)\n\u001b[0;32m     61\u001b[0m \u001b[39mexcept\u001b[39;00m core\u001b[39m.\u001b[39m_NotOkStatusException \u001b[39mas\u001b[39;00m e:\n\u001b[0;32m     62\u001b[0m   \u001b[39mif\u001b[39;00m name \u001b[39mis\u001b[39;00m \u001b[39mnot\u001b[39;00m \u001b[39mNone\u001b[39;00m:\n",
      "\u001b[1;31mKeyboardInterrupt\u001b[0m: "
     ]
    }
   ],
   "source": [
    "# Fit the model using epochs and the training data\n",
    "class_model = class_nn.fit(X_train, y_train, epochs=60, validation_split=0.2)"
   ]
  },
  {
   "cell_type": "code",
   "execution_count": 37,
   "id": "27737358",
   "metadata": {},
   "outputs": [
    {
     "name": "stdout",
     "output_type": "stream",
     "text": [
      "97/97 [==============================] - 1s 13ms/step - loss: 0.6948 - accuracy: 0.4955\n",
      "Loss: 0.6948398947715759, Accuracy: 0.4954545497894287\n"
     ]
    }
   ],
   "source": [
    "# Evaluate the model loss and accuracy metrics using the evaluate method and the test data\n",
    "# model_loss, model_accuracy, model_precision, model_recall = class_nn.evaluate(X_test, y_test)\n",
    "\n",
    "model_loss, model_accuracy = class_nn.evaluate(X_test, y_test)\n",
    "\n",
    "# Display the model loss and accuracy results\n",
    "# print(f\"Loss: {model_loss}, Accuracy: {model_accuracy}, Precision: {model_precision}, Recall: {model_recall}\")\n",
    "\n",
    "print(f\"Loss: {model_loss}, Accuracy: {model_accuracy}\")"
   ]
  },
  {
   "cell_type": "code",
   "execution_count": 35,
   "id": "2b76f42d",
   "metadata": {},
   "outputs": [
    {
     "data": {
      "image/png": "[encoded data removed]",
      "text/plain": [
       "<Figure size 640x480 with 1 Axes>"
      ]
     },
     "metadata": {},
     "output_type": "display_data"
    }
   ],
   "source": [
    "# Train vs test for loss\n",
    "plt.plot(class_model.history[\"loss\"])\n",
    "plt.plot(class_model.history[\"accuracy\"])\n",
    "plt.plot(class_model.history[\"val_loss\"])\n",
    "plt.plot(class_model.history[\"val_accuracy\"])\n",
    "plt.title(\"Training Vs. Validation 2 LSTM, w/ Dropout\")\n",
    "plt.legend([\"loss\", \"accuracy\",\"val_loss\",\"val_accuracy\"])\n",
    "plt.show()"
   ]
  },
  {
   "cell_type": "code",
   "execution_count": 36,
   "id": "e9607f67",
   "metadata": {},
   "outputs": [],
   "source": [
    "# Set the file path for the first alternative model\n",
    "file_path = Path('Models/class_class_nn.h5')\n",
    "\n",
    "# Export your model to a HDF5 file\n",
    "class_nn.save(file_path)"
   ]
  },
  {
   "cell_type": "code",
   "execution_count": null,
   "id": "2390e485",
   "metadata": {},
   "outputs": [],
   "source": []
  }
 ],
 "metadata": {
  "kernelspec": {
   "display_name": "Python 3.8.13 ('dev')",
   "language": "python",
   "name": "python3"
  },
  "language_info": {
   "codemirror_mode": {
    "name": "ipython",
    "version": 3
   },
   "file_extension": ".py",
   "mimetype": "text/x-python",
   "name": "python",
   "nbconvert_exporter": "python",
   "pygments_lexer": "ipython3",
   "version": "3.8.13"
  },
  "vscode": {
   "interpreter": {
    "hash": "e0193224db03a40cbeeb1d1467a8281023d0cf41b04cb80c5135a7c4428e4098"
   }
  }
 },
 "nbformat": 4,
 "nbformat_minor": 5
}
