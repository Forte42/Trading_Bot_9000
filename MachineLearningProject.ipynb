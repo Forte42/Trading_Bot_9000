{
 "cells": [
  {
   "cell_type": "code",
   "execution_count": 31,
   "id": "2687ea22-f0c0-4793-8274-8b871bcbd82c",
   "metadata": {},
   "outputs": [],
   "source": [
    "import matplotlib.pyplot as plt\n",
    "import pandas as pd\n",
    "import numpy as np\n",
    "from dotenv import load_dotenv\n",
    "from pandas.tseries.offsets import DateOffset\n",
    "import os\n",
    "import requests\n",
    "import datetime\n",
    "from alpaca.data.historical import CryptoHistoricalDataClient\n",
    "from alpaca.data.requests import CryptoBarsRequest\n",
    "from alpaca.data.requests import CryptoLatestQuoteRequest\n",
    "from alpaca.data.requests import CryptoTradesRequest\n",
    "from alpaca.data.timeframe import TimeFrame\n",
    "from sklearn.preprocessing import MinMaxScaler\n",
    "from sklearn.preprocessing import StandardScaler\n",
    "import tensorflow as tf\n",
    "from tensorflow.keras.layers import Dense\n",
    "from tensorflow.keras.models import Sequential\n",
    "from tensorflow.keras.layers import LSTM\n",
    "import matplotlib.pyplot as plt\n",
    "from numpy.lib import math\n",
    "\n",
    "%matplotlib inline"
   ]
  },
  {
   "cell_type": "code",
   "execution_count": 32,
   "id": "f9e8d87f-39c4-48fb-9155-729959aa92e9",
   "metadata": {},
   "outputs": [
    {
     "data": {
      "text/plain": [
       "True"
      ]
     },
     "execution_count": 32,
     "metadata": {},
     "output_type": "execute_result"
    }
   ],
   "source": [
    "load_dotenv()"
   ]
  },
  {
   "cell_type": "code",
   "execution_count": 33,
   "id": "a254ae86-5765-41e9-810e-b2cf4aa1d668",
   "metadata": {},
   "outputs": [],
   "source": [
    "alpaca_api_key = os.getenv(\"ALPACA_API_KEY\")\n",
    "alpaca_secret_key = os.getenv(\"ALPACA_SECRET_KEY\")"
   ]
  },
  {
   "cell_type": "code",
   "execution_count": 34,
   "id": "faced5d7-4155-4c04-b366-ad3dce645cda",
   "metadata": {},
   "outputs": [],
   "source": [
    "crypto_client = CryptoHistoricalDataClient()"
   ]
  },
  {
   "cell_type": "code",
   "execution_count": 35,
   "id": "1a036c06-3aea-493d-a279-205fd022de3c",
   "metadata": {},
   "outputs": [
    {
     "data": {
      "text/html": [
       "<div>\n",
       "<style scoped>\n",
       "    .dataframe tbody tr th:only-of-type {\n",
       "        vertical-align: middle;\n",
       "    }\n",
       "\n",
       "    .dataframe tbody tr th {\n",
       "        vertical-align: top;\n",
       "    }\n",
       "\n",
       "    .dataframe thead th {\n",
       "        text-align: right;\n",
       "    }\n",
       "</style>\n",
       "<table border=\"1\" class=\"dataframe\">\n",
       "  <thead>\n",
       "    <tr style=\"text-align: right;\">\n",
       "      <th></th>\n",
       "      <th></th>\n",
       "      <th>open</th>\n",
       "      <th>high</th>\n",
       "      <th>low</th>\n",
       "      <th>close</th>\n",
       "      <th>volume</th>\n",
       "      <th>trade_count</th>\n",
       "      <th>vwap</th>\n",
       "    </tr>\n",
       "    <tr>\n",
       "      <th>symbol</th>\n",
       "      <th>timestamp</th>\n",
       "      <th></th>\n",
       "      <th></th>\n",
       "      <th></th>\n",
       "      <th></th>\n",
       "      <th></th>\n",
       "      <th></th>\n",
       "      <th></th>\n",
       "    </tr>\n",
       "  </thead>\n",
       "  <tbody>\n",
       "    <tr>\n",
       "      <th rowspan=\"11\" valign=\"top\">ETH/USD</th>\n",
       "      <th>2021-09-30 00:00:00+00:00</th>\n",
       "      <td>2849.8</td>\n",
       "      <td>2934.8</td>\n",
       "      <td>2838.3</td>\n",
       "      <td>2934.2</td>\n",
       "      <td>706.304</td>\n",
       "      <td>393.0</td>\n",
       "      <td>2887.453790</td>\n",
       "    </tr>\n",
       "    <tr>\n",
       "      <th>2021-09-30 01:00:00+00:00</th>\n",
       "      <td>2935.8</td>\n",
       "      <td>2985.4</td>\n",
       "      <td>2918.2</td>\n",
       "      <td>2961.0</td>\n",
       "      <td>760.251</td>\n",
       "      <td>352.0</td>\n",
       "      <td>2957.585712</td>\n",
       "    </tr>\n",
       "    <tr>\n",
       "      <th>2021-09-30 02:00:00+00:00</th>\n",
       "      <td>2965.4</td>\n",
       "      <td>2994.4</td>\n",
       "      <td>2961.1</td>\n",
       "      <td>2990.6</td>\n",
       "      <td>3886.627</td>\n",
       "      <td>573.0</td>\n",
       "      <td>2975.692584</td>\n",
       "    </tr>\n",
       "    <tr>\n",
       "      <th>2021-09-30 03:00:00+00:00</th>\n",
       "      <td>2992.0</td>\n",
       "      <td>3035.8</td>\n",
       "      <td>2970.0</td>\n",
       "      <td>3029.0</td>\n",
       "      <td>5551.980</td>\n",
       "      <td>669.0</td>\n",
       "      <td>2991.111283</td>\n",
       "    </tr>\n",
       "    <tr>\n",
       "      <th>2021-09-30 04:00:00+00:00</th>\n",
       "      <td>3030.3</td>\n",
       "      <td>3049.2</td>\n",
       "      <td>3014.0</td>\n",
       "      <td>3017.1</td>\n",
       "      <td>401.627</td>\n",
       "      <td>115.0</td>\n",
       "      <td>3030.674760</td>\n",
       "    </tr>\n",
       "    <tr>\n",
       "      <th>...</th>\n",
       "      <td>...</td>\n",
       "      <td>...</td>\n",
       "      <td>...</td>\n",
       "      <td>...</td>\n",
       "      <td>...</td>\n",
       "      <td>...</td>\n",
       "      <td>...</td>\n",
       "    </tr>\n",
       "    <tr>\n",
       "      <th>2022-10-02 22:00:00+00:00</th>\n",
       "      <td>1300.5</td>\n",
       "      <td>1305.3</td>\n",
       "      <td>1287.0</td>\n",
       "      <td>1289.9</td>\n",
       "      <td>1756.873</td>\n",
       "      <td>1739.0</td>\n",
       "      <td>1295.754547</td>\n",
       "    </tr>\n",
       "    <tr>\n",
       "      <th>2022-10-02 23:00:00+00:00</th>\n",
       "      <td>1289.9</td>\n",
       "      <td>1291.2</td>\n",
       "      <td>1269.2</td>\n",
       "      <td>1276.8</td>\n",
       "      <td>1812.680</td>\n",
       "      <td>1999.0</td>\n",
       "      <td>1278.406289</td>\n",
       "    </tr>\n",
       "    <tr>\n",
       "      <th>2022-10-03 00:00:00+00:00</th>\n",
       "      <td>1276.9</td>\n",
       "      <td>1284.9</td>\n",
       "      <td>1263.4</td>\n",
       "      <td>1282.1</td>\n",
       "      <td>2902.308</td>\n",
       "      <td>1990.0</td>\n",
       "      <td>1275.835152</td>\n",
       "    </tr>\n",
       "    <tr>\n",
       "      <th>2022-10-03 01:00:00+00:00</th>\n",
       "      <td>1282.1</td>\n",
       "      <td>1299.4</td>\n",
       "      <td>1281.8</td>\n",
       "      <td>1298.0</td>\n",
       "      <td>1795.191</td>\n",
       "      <td>1318.0</td>\n",
       "      <td>1293.015434</td>\n",
       "    </tr>\n",
       "    <tr>\n",
       "      <th>2022-10-03 02:00:00+00:00</th>\n",
       "      <td>1298.0</td>\n",
       "      <td>1300.4</td>\n",
       "      <td>1292.1</td>\n",
       "      <td>1292.1</td>\n",
       "      <td>636.847</td>\n",
       "      <td>429.0</td>\n",
       "      <td>1296.922192</td>\n",
       "    </tr>\n",
       "  </tbody>\n",
       "</table>\n",
       "<p>8817 rows × 7 columns</p>\n",
       "</div>"
      ],
      "text/plain": [
       "                                     open    high     low   close    volume  \\\n",
       "symbol  timestamp                                                             \n",
       "ETH/USD 2021-09-30 00:00:00+00:00  2849.8  2934.8  2838.3  2934.2   706.304   \n",
       "        2021-09-30 01:00:00+00:00  2935.8  2985.4  2918.2  2961.0   760.251   \n",
       "        2021-09-30 02:00:00+00:00  2965.4  2994.4  2961.1  2990.6  3886.627   \n",
       "        2021-09-30 03:00:00+00:00  2992.0  3035.8  2970.0  3029.0  5551.980   \n",
       "        2021-09-30 04:00:00+00:00  3030.3  3049.2  3014.0  3017.1   401.627   \n",
       "...                                   ...     ...     ...     ...       ...   \n",
       "        2022-10-02 22:00:00+00:00  1300.5  1305.3  1287.0  1289.9  1756.873   \n",
       "        2022-10-02 23:00:00+00:00  1289.9  1291.2  1269.2  1276.8  1812.680   \n",
       "        2022-10-03 00:00:00+00:00  1276.9  1284.9  1263.4  1282.1  2902.308   \n",
       "        2022-10-03 01:00:00+00:00  1282.1  1299.4  1281.8  1298.0  1795.191   \n",
       "        2022-10-03 02:00:00+00:00  1298.0  1300.4  1292.1  1292.1   636.847   \n",
       "\n",
       "                                   trade_count         vwap  \n",
       "symbol  timestamp                                            \n",
       "ETH/USD 2021-09-30 00:00:00+00:00        393.0  2887.453790  \n",
       "        2021-09-30 01:00:00+00:00        352.0  2957.585712  \n",
       "        2021-09-30 02:00:00+00:00        573.0  2975.692584  \n",
       "        2021-09-30 03:00:00+00:00        669.0  2991.111283  \n",
       "        2021-09-30 04:00:00+00:00        115.0  3030.674760  \n",
       "...                                        ...          ...  \n",
       "        2022-10-02 22:00:00+00:00       1739.0  1295.754547  \n",
       "        2022-10-02 23:00:00+00:00       1999.0  1278.406289  \n",
       "        2022-10-03 00:00:00+00:00       1990.0  1275.835152  \n",
       "        2022-10-03 01:00:00+00:00       1318.0  1293.015434  \n",
       "        2022-10-03 02:00:00+00:00        429.0  1296.922192  \n",
       "\n",
       "[8817 rows x 7 columns]"
      ]
     },
     "execution_count": 35,
     "metadata": {},
     "output_type": "execute_result"
    }
   ],
   "source": [
    "request_params = CryptoBarsRequest(\n",
    "    symbol_or_symbols=[\"ETH/USD\"],\n",
    "    timeframe=TimeFrame.Hour, start='2021-09-30 00:00:00'\n",
    ")\n",
    "\n",
    "eth_bars = crypto_client.get_crypto_bars(request_params)\n",
    "\n",
    "eth_df = eth_bars.df\n",
    "\n",
    "eth_df"
   ]
  },
  {
   "cell_type": "code",
   "execution_count": 36,
   "id": "c482b972-06d3-4ca3-8e30-3331d9acfd07",
   "metadata": {},
   "outputs": [
    {
     "data": {
      "text/html": [
       "<div>\n",
       "<style scoped>\n",
       "    .dataframe tbody tr th:only-of-type {\n",
       "        vertical-align: middle;\n",
       "    }\n",
       "\n",
       "    .dataframe tbody tr th {\n",
       "        vertical-align: top;\n",
       "    }\n",
       "\n",
       "    .dataframe thead th {\n",
       "        text-align: right;\n",
       "    }\n",
       "</style>\n",
       "<table border=\"1\" class=\"dataframe\">\n",
       "  <thead>\n",
       "    <tr style=\"text-align: right;\">\n",
       "      <th></th>\n",
       "      <th>open</th>\n",
       "      <th>high</th>\n",
       "      <th>low</th>\n",
       "      <th>close</th>\n",
       "      <th>volume</th>\n",
       "      <th>trade_count</th>\n",
       "      <th>vwap</th>\n",
       "    </tr>\n",
       "    <tr>\n",
       "      <th>timestamp</th>\n",
       "      <th></th>\n",
       "      <th></th>\n",
       "      <th></th>\n",
       "      <th></th>\n",
       "      <th></th>\n",
       "      <th></th>\n",
       "      <th></th>\n",
       "    </tr>\n",
       "  </thead>\n",
       "  <tbody>\n",
       "    <tr>\n",
       "      <th>2021-09-30 00:00:00+00:00</th>\n",
       "      <td>2849.8</td>\n",
       "      <td>2934.8</td>\n",
       "      <td>2838.3</td>\n",
       "      <td>2934.2</td>\n",
       "      <td>706.304</td>\n",
       "      <td>393.0</td>\n",
       "      <td>2887.453790</td>\n",
       "    </tr>\n",
       "    <tr>\n",
       "      <th>2021-09-30 01:00:00+00:00</th>\n",
       "      <td>2935.8</td>\n",
       "      <td>2985.4</td>\n",
       "      <td>2918.2</td>\n",
       "      <td>2961.0</td>\n",
       "      <td>760.251</td>\n",
       "      <td>352.0</td>\n",
       "      <td>2957.585712</td>\n",
       "    </tr>\n",
       "    <tr>\n",
       "      <th>2021-09-30 02:00:00+00:00</th>\n",
       "      <td>2965.4</td>\n",
       "      <td>2994.4</td>\n",
       "      <td>2961.1</td>\n",
       "      <td>2990.6</td>\n",
       "      <td>3886.627</td>\n",
       "      <td>573.0</td>\n",
       "      <td>2975.692584</td>\n",
       "    </tr>\n",
       "    <tr>\n",
       "      <th>2021-09-30 03:00:00+00:00</th>\n",
       "      <td>2992.0</td>\n",
       "      <td>3035.8</td>\n",
       "      <td>2970.0</td>\n",
       "      <td>3029.0</td>\n",
       "      <td>5551.980</td>\n",
       "      <td>669.0</td>\n",
       "      <td>2991.111283</td>\n",
       "    </tr>\n",
       "    <tr>\n",
       "      <th>2021-09-30 04:00:00+00:00</th>\n",
       "      <td>3030.3</td>\n",
       "      <td>3049.2</td>\n",
       "      <td>3014.0</td>\n",
       "      <td>3017.1</td>\n",
       "      <td>401.627</td>\n",
       "      <td>115.0</td>\n",
       "      <td>3030.674760</td>\n",
       "    </tr>\n",
       "    <tr>\n",
       "      <th>...</th>\n",
       "      <td>...</td>\n",
       "      <td>...</td>\n",
       "      <td>...</td>\n",
       "      <td>...</td>\n",
       "      <td>...</td>\n",
       "      <td>...</td>\n",
       "      <td>...</td>\n",
       "    </tr>\n",
       "    <tr>\n",
       "      <th>2022-10-02 22:00:00+00:00</th>\n",
       "      <td>1300.5</td>\n",
       "      <td>1305.3</td>\n",
       "      <td>1287.0</td>\n",
       "      <td>1289.9</td>\n",
       "      <td>1756.873</td>\n",
       "      <td>1739.0</td>\n",
       "      <td>1295.754547</td>\n",
       "    </tr>\n",
       "    <tr>\n",
       "      <th>2022-10-02 23:00:00+00:00</th>\n",
       "      <td>1289.9</td>\n",
       "      <td>1291.2</td>\n",
       "      <td>1269.2</td>\n",
       "      <td>1276.8</td>\n",
       "      <td>1812.680</td>\n",
       "      <td>1999.0</td>\n",
       "      <td>1278.406289</td>\n",
       "    </tr>\n",
       "    <tr>\n",
       "      <th>2022-10-03 00:00:00+00:00</th>\n",
       "      <td>1276.9</td>\n",
       "      <td>1284.9</td>\n",
       "      <td>1263.4</td>\n",
       "      <td>1282.1</td>\n",
       "      <td>2902.308</td>\n",
       "      <td>1990.0</td>\n",
       "      <td>1275.835152</td>\n",
       "    </tr>\n",
       "    <tr>\n",
       "      <th>2022-10-03 01:00:00+00:00</th>\n",
       "      <td>1282.1</td>\n",
       "      <td>1299.4</td>\n",
       "      <td>1281.8</td>\n",
       "      <td>1298.0</td>\n",
       "      <td>1795.191</td>\n",
       "      <td>1318.0</td>\n",
       "      <td>1293.015434</td>\n",
       "    </tr>\n",
       "    <tr>\n",
       "      <th>2022-10-03 02:00:00+00:00</th>\n",
       "      <td>1298.0</td>\n",
       "      <td>1300.4</td>\n",
       "      <td>1292.1</td>\n",
       "      <td>1292.1</td>\n",
       "      <td>636.847</td>\n",
       "      <td>429.0</td>\n",
       "      <td>1296.922192</td>\n",
       "    </tr>\n",
       "  </tbody>\n",
       "</table>\n",
       "<p>8817 rows × 7 columns</p>\n",
       "</div>"
      ],
      "text/plain": [
       "                             open    high     low   close    volume  \\\n",
       "timestamp                                                             \n",
       "2021-09-30 00:00:00+00:00  2849.8  2934.8  2838.3  2934.2   706.304   \n",
       "2021-09-30 01:00:00+00:00  2935.8  2985.4  2918.2  2961.0   760.251   \n",
       "2021-09-30 02:00:00+00:00  2965.4  2994.4  2961.1  2990.6  3886.627   \n",
       "2021-09-30 03:00:00+00:00  2992.0  3035.8  2970.0  3029.0  5551.980   \n",
       "2021-09-30 04:00:00+00:00  3030.3  3049.2  3014.0  3017.1   401.627   \n",
       "...                           ...     ...     ...     ...       ...   \n",
       "2022-10-02 22:00:00+00:00  1300.5  1305.3  1287.0  1289.9  1756.873   \n",
       "2022-10-02 23:00:00+00:00  1289.9  1291.2  1269.2  1276.8  1812.680   \n",
       "2022-10-03 00:00:00+00:00  1276.9  1284.9  1263.4  1282.1  2902.308   \n",
       "2022-10-03 01:00:00+00:00  1282.1  1299.4  1281.8  1298.0  1795.191   \n",
       "2022-10-03 02:00:00+00:00  1298.0  1300.4  1292.1  1292.1   636.847   \n",
       "\n",
       "                           trade_count         vwap  \n",
       "timestamp                                            \n",
       "2021-09-30 00:00:00+00:00        393.0  2887.453790  \n",
       "2021-09-30 01:00:00+00:00        352.0  2957.585712  \n",
       "2021-09-30 02:00:00+00:00        573.0  2975.692584  \n",
       "2021-09-30 03:00:00+00:00        669.0  2991.111283  \n",
       "2021-09-30 04:00:00+00:00        115.0  3030.674760  \n",
       "...                                ...          ...  \n",
       "2022-10-02 22:00:00+00:00       1739.0  1295.754547  \n",
       "2022-10-02 23:00:00+00:00       1999.0  1278.406289  \n",
       "2022-10-03 00:00:00+00:00       1990.0  1275.835152  \n",
       "2022-10-03 01:00:00+00:00       1318.0  1293.015434  \n",
       "2022-10-03 02:00:00+00:00        429.0  1296.922192  \n",
       "\n",
       "[8817 rows x 7 columns]"
      ]
     },
     "execution_count": 36,
     "metadata": {},
     "output_type": "execute_result"
    }
   ],
   "source": [
    "eth_df = eth_df.reset_index()\n",
    "eth_df = eth_df.set_index('timestamp')\n",
    "eth_df = eth_df.drop(columns=['symbol'])\n",
    "\n",
    "eth_df"
   ]
  },
  {
   "cell_type": "code",
   "execution_count": 37,
   "id": "d8f69973-48f4-49bd-bcf3-d4ef2ab77d95",
   "metadata": {},
   "outputs": [],
   "source": [
    "# Use the pct_change function to generate  returns from close prices\n",
    "eth_df[\"Actual Returns\"] = eth_df[\"close\"].pct_change()\n",
    "\n",
    "# Drop na\n",
    "eth_df=eth_df.dropna()"
   ]
  },
  {
   "cell_type": "code",
   "execution_count": 38,
   "id": "f7bb6d14-cf66-4936-9afe-41385ca1792a",
   "metadata": {},
   "outputs": [
    {
     "name": "stderr",
     "output_type": "stream",
     "text": [
      "C:\\Users\\potte\\anaconda3\\envs\\dev\\lib\\site-packages\\ipykernel_launcher.py:4: SettingWithCopyWarning: \n",
      "A value is trying to be set on a copy of a slice from a DataFrame.\n",
      "Try using .loc[row_indexer,col_indexer] = value instead\n",
      "\n",
      "See the caveats in the documentation: https://pandas.pydata.org/pandas-docs/stable/user_guide/indexing.html#returning-a-view-versus-a-copy\n",
      "  after removing the cwd from sys.path.\n"
     ]
    },
    {
     "data": {
      "text/html": [
       "<div>\n",
       "<style scoped>\n",
       "    .dataframe tbody tr th:only-of-type {\n",
       "        vertical-align: middle;\n",
       "    }\n",
       "\n",
       "    .dataframe tbody tr th {\n",
       "        vertical-align: top;\n",
       "    }\n",
       "\n",
       "    .dataframe thead th {\n",
       "        text-align: right;\n",
       "    }\n",
       "</style>\n",
       "<table border=\"1\" class=\"dataframe\">\n",
       "  <thead>\n",
       "    <tr style=\"text-align: right;\">\n",
       "      <th></th>\n",
       "      <th>open</th>\n",
       "      <th>high</th>\n",
       "      <th>low</th>\n",
       "      <th>close</th>\n",
       "      <th>volume</th>\n",
       "      <th>trade_count</th>\n",
       "      <th>vwap</th>\n",
       "      <th>Actual Returns</th>\n",
       "      <th>Signal</th>\n",
       "    </tr>\n",
       "    <tr>\n",
       "      <th>timestamp</th>\n",
       "      <th></th>\n",
       "      <th></th>\n",
       "      <th></th>\n",
       "      <th></th>\n",
       "      <th></th>\n",
       "      <th></th>\n",
       "      <th></th>\n",
       "      <th></th>\n",
       "      <th></th>\n",
       "    </tr>\n",
       "  </thead>\n",
       "  <tbody>\n",
       "    <tr>\n",
       "      <th>2021-09-30 01:00:00+00:00</th>\n",
       "      <td>2935.8</td>\n",
       "      <td>2985.4</td>\n",
       "      <td>2918.2</td>\n",
       "      <td>2961.0</td>\n",
       "      <td>760.251</td>\n",
       "      <td>352.0</td>\n",
       "      <td>2957.585712</td>\n",
       "      <td>0.009134</td>\n",
       "      <td>1</td>\n",
       "    </tr>\n",
       "    <tr>\n",
       "      <th>2021-09-30 02:00:00+00:00</th>\n",
       "      <td>2965.4</td>\n",
       "      <td>2994.4</td>\n",
       "      <td>2961.1</td>\n",
       "      <td>2990.6</td>\n",
       "      <td>3886.627</td>\n",
       "      <td>573.0</td>\n",
       "      <td>2975.692584</td>\n",
       "      <td>0.009997</td>\n",
       "      <td>1</td>\n",
       "    </tr>\n",
       "    <tr>\n",
       "      <th>2021-09-30 03:00:00+00:00</th>\n",
       "      <td>2992.0</td>\n",
       "      <td>3035.8</td>\n",
       "      <td>2970.0</td>\n",
       "      <td>3029.0</td>\n",
       "      <td>5551.980</td>\n",
       "      <td>669.0</td>\n",
       "      <td>2991.111283</td>\n",
       "      <td>0.012840</td>\n",
       "      <td>0</td>\n",
       "    </tr>\n",
       "    <tr>\n",
       "      <th>2021-09-30 04:00:00+00:00</th>\n",
       "      <td>3030.3</td>\n",
       "      <td>3049.2</td>\n",
       "      <td>3014.0</td>\n",
       "      <td>3017.1</td>\n",
       "      <td>401.627</td>\n",
       "      <td>115.0</td>\n",
       "      <td>3030.674760</td>\n",
       "      <td>-0.003929</td>\n",
       "      <td>1</td>\n",
       "    </tr>\n",
       "    <tr>\n",
       "      <th>2021-09-30 05:00:00+00:00</th>\n",
       "      <td>3023.0</td>\n",
       "      <td>3041.3</td>\n",
       "      <td>3019.5</td>\n",
       "      <td>3029.7</td>\n",
       "      <td>141.883</td>\n",
       "      <td>108.0</td>\n",
       "      <td>3025.002656</td>\n",
       "      <td>0.004176</td>\n",
       "      <td>0</td>\n",
       "    </tr>\n",
       "  </tbody>\n",
       "</table>\n",
       "</div>"
      ],
      "text/plain": [
       "                             open    high     low   close    volume  \\\n",
       "timestamp                                                             \n",
       "2021-09-30 01:00:00+00:00  2935.8  2985.4  2918.2  2961.0   760.251   \n",
       "2021-09-30 02:00:00+00:00  2965.4  2994.4  2961.1  2990.6  3886.627   \n",
       "2021-09-30 03:00:00+00:00  2992.0  3035.8  2970.0  3029.0  5551.980   \n",
       "2021-09-30 04:00:00+00:00  3030.3  3049.2  3014.0  3017.1   401.627   \n",
       "2021-09-30 05:00:00+00:00  3023.0  3041.3  3019.5  3029.7   141.883   \n",
       "\n",
       "                           trade_count         vwap  Actual Returns  Signal  \n",
       "timestamp                                                                    \n",
       "2021-09-30 01:00:00+00:00        352.0  2957.585712        0.009134       1  \n",
       "2021-09-30 02:00:00+00:00        573.0  2975.692584        0.009997       1  \n",
       "2021-09-30 03:00:00+00:00        669.0  2991.111283        0.012840       0  \n",
       "2021-09-30 04:00:00+00:00        115.0  3030.674760       -0.003929       1  \n",
       "2021-09-30 05:00:00+00:00        108.0  3025.002656        0.004176       0  "
      ]
     },
     "execution_count": 38,
     "metadata": {},
     "output_type": "execute_result"
    }
   ],
   "source": [
    "# Store the target variable into 'Signal' column\n",
    "# if the next day close is greater than the previous day close 'Signal' = 1,\n",
    "# Otherwise 'Signal' = 0\n",
    "eth_df['Signal'] = np.where(eth_df['close'].shift(-1) >= eth_df['close'], 1, 0)\n",
    "\n",
    "eth_df.head()"
   ]
  },
  {
   "cell_type": "code",
   "execution_count": 39,
   "id": "cfe2d986-6ab2-48cb-8873-0bf1c0064247",
   "metadata": {},
   "outputs": [
    {
     "data": {
      "image/png": "[encoded data removed]",
      "text/plain": [
       "<Figure size 432x288 with 1 Axes>"
      ]
     },
     "metadata": {
      "needs_background": "light"
     },
     "output_type": "display_data"
    }
   ],
   "source": [
    "# Plot the data\n",
    "plt.scatter(\n",
    "    # Put the user download date along the x-axis\n",
    "    x = eth_df['close'],\n",
    "    # Put the user download location along the y-axis\n",
    "    y = eth_df['Actual Returns'],\n",
    "    # Plot the binary y variable (whether the user made a transaction) as the color\n",
    "    c=eth_df['Signal']\n",
    " )\n",
    "\n",
    "# Show the plot\n",
    "plt.show()"
   ]
  },
  {
   "cell_type": "code",
   "execution_count": 40,
   "id": "b1cbe8d8-e010-445d-8f36-4c19470b1ad3",
   "metadata": {},
   "outputs": [],
   "source": [
    "# Import the module\n",
    "from sklearn.model_selection import train_test_split\n",
    "\n",
    "# Separate the y variable, the labels\n",
    "y = eth_df['Signal']\n",
    "\n",
    "# Separate the X variable, the features\n",
    "X = eth_df.drop(columns=['Signal'])\n",
    "\n",
    "# Split the data\n",
    "X_train, X_test, y_train, y_test = train_test_split(X, y, random_state=1)"
   ]
  },
  {
   "cell_type": "code",
   "execution_count": 41,
   "id": "f1e4ed4c-0cd3-4e1b-81aa-6648661d8d0a",
   "metadata": {},
   "outputs": [
    {
     "data": {
      "text/plain": [
       "1    3334\n",
       "0    3278\n",
       "Name: Signal, dtype: int64"
      ]
     },
     "execution_count": 41,
     "metadata": {},
     "output_type": "execute_result"
    }
   ],
   "source": [
    "# Count the distinct values\n",
    "y_train.value_counts()"
   ]
  },
  {
   "cell_type": "code",
   "execution_count": 42,
   "id": "28274a16-ec32-49f3-ba54-299b2d20f372",
   "metadata": {},
   "outputs": [],
   "source": [
    "# Import the module\n",
    "from imblearn.over_sampling import RandomOverSampler\n",
    "\n",
    "# Resample the data\n",
    "random_oversampler = RandomOverSampler(random_state=1)\n",
    "X_resampled, y_resampled = random_oversampler.fit_resample(X_train, y_train)"
   ]
  },
  {
   "cell_type": "code",
   "execution_count": 43,
   "id": "1819bbb8-20e3-461c-8cf9-df17c57140f7",
   "metadata": {},
   "outputs": [
    {
     "data": {
      "text/plain": [
       "1    3334\n",
       "0    3334\n",
       "Name: Signal, dtype: int64"
      ]
     },
     "execution_count": 43,
     "metadata": {},
     "output_type": "execute_result"
    }
   ],
   "source": [
    "# Count the distinct values\n",
    "y_resampled.value_counts()"
   ]
  },
  {
   "cell_type": "code",
   "execution_count": 44,
   "id": "98d171df-94e9-4bdc-84b9-e3275128ecfd",
   "metadata": {},
   "outputs": [
    {
     "name": "stderr",
     "output_type": "stream",
     "text": [
      "C:\\Users\\potte\\anaconda3\\envs\\dev\\lib\\site-packages\\sklearn\\linear_model\\_logistic.py:818: ConvergenceWarning: lbfgs failed to converge (status=1):\n",
      "STOP: TOTAL NO. of ITERATIONS REACHED LIMIT.\n",
      "\n",
      "Increase the number of iterations (max_iter) or scale the data as shown in:\n",
      "    https://scikit-learn.org/stable/modules/preprocessing.html\n",
      "Please also refer to the documentation for alternative solver options:\n",
      "    https://scikit-learn.org/stable/modules/linear_model.html#logistic-regression\n",
      "  extra_warning_msg=_LOGISTIC_SOLVER_CONVERGENCE_MSG,\n"
     ]
    },
    {
     "data": {
      "text/plain": [
       "LogisticRegression(random_state=1)"
      ]
     },
     "execution_count": 44,
     "metadata": {},
     "output_type": "execute_result"
    }
   ],
   "source": [
    "# Import the module\n",
    "from sklearn.linear_model import LogisticRegression\n",
    "\n",
    "# Declare a logistic regression model\n",
    "model = LogisticRegression(random_state=1)\n",
    "\n",
    "# Fit the model\n",
    "model.fit(X_resampled, y_resampled)"
   ]
  },
  {
   "cell_type": "code",
   "execution_count": 45,
   "id": "2dba1f77-dc10-496f-8712-614dfb5d2c6b",
   "metadata": {},
   "outputs": [
    {
     "name": "stdout",
     "output_type": "stream",
     "text": [
      "[[676 465]\n",
      " [562 501]]\n"
     ]
    }
   ],
   "source": [
    "# Import the module\n",
    "from sklearn.metrics import confusion_matrix\n",
    "\n",
    "# Predict the labels for the testing features\n",
    "y_pred = model.predict(X_test)\n",
    "\n",
    "# Print the confusion matrix\n",
    "print(confusion_matrix(y_test, y_pred))"
   ]
  },
  {
   "cell_type": "code",
   "execution_count": 46,
   "id": "76b4303d-a4f5-4f2d-9868-7fa79625819b",
   "metadata": {},
   "outputs": [
    {
     "data": {
      "text/plain": [
       "0.5318851859577551"
      ]
     },
     "execution_count": 46,
     "metadata": {},
     "output_type": "execute_result"
    }
   ],
   "source": [
    "# Import the module\n",
    "from sklearn.metrics import balanced_accuracy_score\n",
    "\n",
    "# Print the accuracy score\n",
    "balanced_accuracy_score(y_test, y_pred)"
   ]
  },
  {
   "cell_type": "code",
   "execution_count": 47,
   "id": "fee5d244-e76f-40f7-801e-c6b35ac94a88",
   "metadata": {},
   "outputs": [
    {
     "name": "stdout",
     "output_type": "stream",
     "text": [
      "                   pre       rec       spe        f1       geo       iba       sup\n",
      "\n",
      "          0       0.55      0.59      0.47      0.57      0.53      0.28      1141\n",
      "          1       0.52      0.47      0.59      0.49      0.53      0.28      1063\n",
      "\n",
      "avg / total       0.53      0.53      0.53      0.53      0.53      0.28      2204\n",
      "\n"
     ]
    }
   ],
   "source": [
    "# Import the module\n",
    "from imblearn.metrics import classification_report_imbalanced\n",
    "\n",
    "# Print the classification report\n",
    "print(classification_report_imbalanced(y_test, y_pred))"
   ]
  },
  {
   "cell_type": "code",
   "execution_count": 48,
   "id": "3eb1f300-d295-4a40-a3f2-12311d6f4924",
   "metadata": {},
   "outputs": [],
   "source": [
    "eth_df = eth_df.reset_index()\n",
    "\n",
    "# Calculate Strategy Returns\n",
    "eth_df[\"Strat Returns\"] = eth_df[\"Signal\"].shift(1) * eth_df[\"Actual Returns\"]\n",
    "\n",
    "# Calculate the Cumulative Returns\n",
    "eth_df[\"Cumul Returns\"] = eth_df[\"Actual Returns\"].cumsum()\n",
    "\n",
    "# Calculation of the Strategy Cumulative Returns\n",
    "eth_df[\"Cumul Strategy\"] = eth_df[\"Strat Returns\"].cumsum()"
   ]
  },
  {
   "cell_type": "code",
   "execution_count": 49,
   "id": "00fcc98c-64be-410e-a2c0-f97ded90f53a",
   "metadata": {},
   "outputs": [
    {
     "data": {
      "text/plain": [
       "<AxesSubplot:title={'center':'Returns'}>"
      ]
     },
     "execution_count": 49,
     "metadata": {},
     "output_type": "execute_result"
    },
    {
     "data": {
      "image/png": "[encoded data removed]",
      "text/plain": [
       "<Figure size 1152x576 with 1 Axes>"
      ]
     },
     "metadata": {
      "needs_background": "light"
     },
     "output_type": "display_data"
    }
   ],
   "source": [
    "# Visualize the data\n",
    "eth_df[\"Cumul Returns\"].plot(\n",
    "    kind='line',\n",
    "    figsize=(16,8),\n",
    "    title='Returns',\n",
    "    color='orange',\n",
    "    legend= 'ETH Returns'\n",
    ")\n",
    "eth_df[\"Cumul Strategy\"].plot(\n",
    "    kind='line',\n",
    "    figsize=(16,8),\n",
    "    color='purple',\n",
    "    legend= 'Strat Returns'\n",
    ")"
   ]
  },
  {
   "cell_type": "code",
   "execution_count": 50,
   "id": "a985e5a1-19c9-43a5-aeee-0d1eac05511e",
   "metadata": {},
   "outputs": [
    {
     "name": "stdout",
     "output_type": "stream",
     "text": [
      "ETH gives a return of -43.69928290135974 %\n",
      "The strategy gives a return of 2728.7251315449103 %\n"
     ]
    }
   ],
   "source": [
    "#Print the returns\n",
    "print('ETH gives a return of', eth_df[\"Cumul Returns\"][8815]*100, '%')\n",
    "print('The strategy gives a return of', eth_df[\"Cumul Strategy\"][8815]*100, '%')\n"
   ]
  },
  {
   "cell_type": "code",
   "execution_count": null,
   "id": "517efc49-f9bb-4b7d-a0b9-6a0aac03bf66",
   "metadata": {},
   "outputs": [],
   "source": []
  }
 ],
 "metadata": {
  "kernelspec": {
   "display_name": "Python (dev)",
   "language": "python",
   "name": "dev"
  },
  "language_info": {
   "codemirror_mode": {
    "name": "ipython",
    "version": 3
   },
   "file_extension": ".py",
   "mimetype": "text/x-python",
   "name": "python",
   "nbconvert_exporter": "python",
   "pygments_lexer": "ipython3",
   "version": "3.7.13"
  }
 },
 "nbformat": 4,
 "nbformat_minor": 5
}
