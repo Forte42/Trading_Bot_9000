{
 "cells": [
  {
   "cell_type": "code",
   "execution_count": 335,
   "id": "3d2d2986-8f0f-4112-b2a2-03b767dffc76",
   "metadata": {},
   "outputs": [],
   "source": [
    "import pandas as pd\n",
    "import numpy as np\n",
    "# from dotenv import load_dotenv\n",
    "from pandas.tseries.offsets import DateOffset\n",
    "import os\n",
    "import requests\n",
    "import datetime\n",
    "from alpaca.data.historical import CryptoHistoricalDataClient\n",
    "from alpaca.data.requests import CryptoBarsRequest\n",
    "from alpaca.data.requests import CryptoLatestQuoteRequest\n",
    "from alpaca.data.requests import CryptoTradesRequest\n",
    "from alpaca.data.timeframe import TimeFrame\n",
    "from sklearn.preprocessing import MinMaxScaler\n",
    "from sklearn.preprocessing import StandardScaler\n",
    "import tensorflow as tf\n",
    "from tensorflow.keras.layers import Dense\n",
    "from tensorflow.keras.models import Sequential\n",
    "from tensorflow.keras.layers import LSTM\n",
    "import matplotlib.pyplot as plt\n",
    "from numpy.lib import math\n",
    "from tensorflow.keras.layers import Dropout\n",
    "from tensorflow.keras.layers import TimeDistributed\n",
    "from tensorflow.keras.layers import Bidirectional\n",
    "from pathlib import Path\n",
    "%matplotlib inline"
   ]
  },
  {
   "cell_type": "markdown",
   "id": "a38f52a9",
   "metadata": {},
   "source": [
    "## Data Retreival/Formatting"
   ]
  },
  {
   "cell_type": "code",
   "execution_count": 336,
   "id": "559f825e-3b85-4576-9416-686c4c1c822f",
   "metadata": {},
   "outputs": [],
   "source": [
    "# alpaca_api_key = os.getenv(\"ALPACA_API_KEY\")\n",
    "# alpaca_secret_key = os.getenv(\"ALPACA_SECRET_KEY\")"
   ]
  },
  {
   "cell_type": "code",
   "execution_count": 337,
   "id": "91637821-f0fc-4c21-9ce4-c7ff383aecb5",
   "metadata": {},
   "outputs": [],
   "source": [
    "# type(alpaca_api_key)"
   ]
  },
  {
   "cell_type": "code",
   "execution_count": 338,
   "id": "d1e11ecf-535d-43e9-a2c8-25231333ef73",
   "metadata": {},
   "outputs": [],
   "source": [
    "crypto_client = CryptoHistoricalDataClient()"
   ]
  },
  {
   "cell_type": "code",
   "execution_count": 339,
   "id": "f5e5c4e2-8dd6-439f-be3f-dee63af334e7",
   "metadata": {},
   "outputs": [
    {
     "data": {
      "text/html": [
       "<div>\n",
       "<style scoped>\n",
       "    .dataframe tbody tr th:only-of-type {\n",
       "        vertical-align: middle;\n",
       "    }\n",
       "\n",
       "    .dataframe tbody tr th {\n",
       "        vertical-align: top;\n",
       "    }\n",
       "\n",
       "    .dataframe thead th {\n",
       "        text-align: right;\n",
       "    }\n",
       "</style>\n",
       "<table border=\"1\" class=\"dataframe\">\n",
       "  <thead>\n",
       "    <tr style=\"text-align: right;\">\n",
       "      <th></th>\n",
       "      <th></th>\n",
       "      <th>open</th>\n",
       "      <th>high</th>\n",
       "      <th>low</th>\n",
       "      <th>close</th>\n",
       "      <th>volume</th>\n",
       "      <th>trade_count</th>\n",
       "      <th>vwap</th>\n",
       "    </tr>\n",
       "    <tr>\n",
       "      <th>symbol</th>\n",
       "      <th>timestamp</th>\n",
       "      <th></th>\n",
       "      <th></th>\n",
       "      <th></th>\n",
       "      <th></th>\n",
       "      <th></th>\n",
       "      <th></th>\n",
       "      <th></th>\n",
       "    </tr>\n",
       "  </thead>\n",
       "  <tbody>\n",
       "    <tr>\n",
       "      <th rowspan=\"11\" valign=\"top\">BTC/USD</th>\n",
       "      <th>2021-01-01 00:00:00+00:00</th>\n",
       "      <td>28973.0</td>\n",
       "      <td>29073.5</td>\n",
       "      <td>28775.0</td>\n",
       "      <td>29065.0</td>\n",
       "      <td>3.4437</td>\n",
       "      <td>72.0</td>\n",
       "      <td>28968.839097</td>\n",
       "    </tr>\n",
       "    <tr>\n",
       "      <th>2021-01-01 01:00:00+00:00</th>\n",
       "      <td>29070.0</td>\n",
       "      <td>29481.0</td>\n",
       "      <td>29038.5</td>\n",
       "      <td>29404.5</td>\n",
       "      <td>4.6183</td>\n",
       "      <td>65.0</td>\n",
       "      <td>29359.399487</td>\n",
       "    </tr>\n",
       "    <tr>\n",
       "      <th>2021-01-01 02:00:00+00:00</th>\n",
       "      <td>29528.0</td>\n",
       "      <td>29528.0</td>\n",
       "      <td>29218.0</td>\n",
       "      <td>29245.0</td>\n",
       "      <td>4.3423</td>\n",
       "      <td>42.0</td>\n",
       "      <td>29361.540923</td>\n",
       "    </tr>\n",
       "    <tr>\n",
       "      <th>2021-01-01 03:00:00+00:00</th>\n",
       "      <td>29400.5</td>\n",
       "      <td>29400.5</td>\n",
       "      <td>29337.0</td>\n",
       "      <td>29367.5</td>\n",
       "      <td>0.3089</td>\n",
       "      <td>3.0</td>\n",
       "      <td>29400.447394</td>\n",
       "    </tr>\n",
       "    <tr>\n",
       "      <th>2021-01-01 04:00:00+00:00</th>\n",
       "      <td>29449.0</td>\n",
       "      <td>29449.0</td>\n",
       "      <td>29136.5</td>\n",
       "      <td>29189.5</td>\n",
       "      <td>2.0245</td>\n",
       "      <td>34.0</td>\n",
       "      <td>29302.743369</td>\n",
       "    </tr>\n",
       "    <tr>\n",
       "      <th>...</th>\n",
       "      <td>...</td>\n",
       "      <td>...</td>\n",
       "      <td>...</td>\n",
       "      <td>...</td>\n",
       "      <td>...</td>\n",
       "      <td>...</td>\n",
       "      <td>...</td>\n",
       "    </tr>\n",
       "    <tr>\n",
       "      <th>2022-10-05 21:00:00+00:00</th>\n",
       "      <td>19989.0</td>\n",
       "      <td>20093.0</td>\n",
       "      <td>19989.0</td>\n",
       "      <td>20056.0</td>\n",
       "      <td>69.2090</td>\n",
       "      <td>475.0</td>\n",
       "      <td>20044.197130</td>\n",
       "    </tr>\n",
       "    <tr>\n",
       "      <th>2022-10-05 22:00:00+00:00</th>\n",
       "      <td>20060.0</td>\n",
       "      <td>20212.0</td>\n",
       "      <td>20023.0</td>\n",
       "      <td>20192.0</td>\n",
       "      <td>133.3761</td>\n",
       "      <td>704.0</td>\n",
       "      <td>20124.529345</td>\n",
       "    </tr>\n",
       "    <tr>\n",
       "      <th>2022-10-05 23:00:00+00:00</th>\n",
       "      <td>20192.0</td>\n",
       "      <td>20195.0</td>\n",
       "      <td>20119.0</td>\n",
       "      <td>20163.0</td>\n",
       "      <td>42.3767</td>\n",
       "      <td>606.0</td>\n",
       "      <td>20156.381837</td>\n",
       "    </tr>\n",
       "    <tr>\n",
       "      <th>2022-10-06 00:00:00+00:00</th>\n",
       "      <td>20163.0</td>\n",
       "      <td>20383.0</td>\n",
       "      <td>20151.0</td>\n",
       "      <td>20276.0</td>\n",
       "      <td>235.6275</td>\n",
       "      <td>1328.0</td>\n",
       "      <td>20290.158078</td>\n",
       "    </tr>\n",
       "    <tr>\n",
       "      <th>2022-10-06 01:00:00+00:00</th>\n",
       "      <td>20275.0</td>\n",
       "      <td>20337.0</td>\n",
       "      <td>20250.0</td>\n",
       "      <td>20283.0</td>\n",
       "      <td>72.6605</td>\n",
       "      <td>489.0</td>\n",
       "      <td>20288.934980</td>\n",
       "    </tr>\n",
       "  </tbody>\n",
       "</table>\n",
       "<p>15412 rows × 7 columns</p>\n",
       "</div>"
      ],
      "text/plain": [
       "                                      open     high      low    close  \\\n",
       "symbol  timestamp                                                       \n",
       "BTC/USD 2021-01-01 00:00:00+00:00  28973.0  29073.5  28775.0  29065.0   \n",
       "        2021-01-01 01:00:00+00:00  29070.0  29481.0  29038.5  29404.5   \n",
       "        2021-01-01 02:00:00+00:00  29528.0  29528.0  29218.0  29245.0   \n",
       "        2021-01-01 03:00:00+00:00  29400.5  29400.5  29337.0  29367.5   \n",
       "        2021-01-01 04:00:00+00:00  29449.0  29449.0  29136.5  29189.5   \n",
       "...                                    ...      ...      ...      ...   \n",
       "        2022-10-05 21:00:00+00:00  19989.0  20093.0  19989.0  20056.0   \n",
       "        2022-10-05 22:00:00+00:00  20060.0  20212.0  20023.0  20192.0   \n",
       "        2022-10-05 23:00:00+00:00  20192.0  20195.0  20119.0  20163.0   \n",
       "        2022-10-06 00:00:00+00:00  20163.0  20383.0  20151.0  20276.0   \n",
       "        2022-10-06 01:00:00+00:00  20275.0  20337.0  20250.0  20283.0   \n",
       "\n",
       "                                     volume  trade_count          vwap  \n",
       "symbol  timestamp                                                       \n",
       "BTC/USD 2021-01-01 00:00:00+00:00    3.4437         72.0  28968.839097  \n",
       "        2021-01-01 01:00:00+00:00    4.6183         65.0  29359.399487  \n",
       "        2021-01-01 02:00:00+00:00    4.3423         42.0  29361.540923  \n",
       "        2021-01-01 03:00:00+00:00    0.3089          3.0  29400.447394  \n",
       "        2021-01-01 04:00:00+00:00    2.0245         34.0  29302.743369  \n",
       "...                                     ...          ...           ...  \n",
       "        2022-10-05 21:00:00+00:00   69.2090        475.0  20044.197130  \n",
       "        2022-10-05 22:00:00+00:00  133.3761        704.0  20124.529345  \n",
       "        2022-10-05 23:00:00+00:00   42.3767        606.0  20156.381837  \n",
       "        2022-10-06 00:00:00+00:00  235.6275       1328.0  20290.158078  \n",
       "        2022-10-06 01:00:00+00:00   72.6605        489.0  20288.934980  \n",
       "\n",
       "[15412 rows x 7 columns]"
      ]
     },
     "execution_count": 339,
     "metadata": {},
     "output_type": "execute_result"
    }
   ],
   "source": [
    "request_params = CryptoBarsRequest(\n",
    "    symbol_or_symbols=[\"BTC/USD\"],\n",
    "    timeframe=TimeFrame.Hour, start='2021-01-01 00:00:00'\n",
    ")\n",
    "\n",
    "btc_bars = crypto_client.get_crypto_bars(request_params)\n",
    "\n",
    "btc_df = btc_bars.df\n",
    "\n",
    "btc_df"
   ]
  },
  {
   "cell_type": "code",
   "execution_count": 340,
   "id": "e43a2c0d-1047-4e64-9fc6-b1f8ac1b0dd2",
   "metadata": {},
   "outputs": [
    {
     "data": {
      "text/plain": [
       "open           float64\n",
       "high           float64\n",
       "low            float64\n",
       "close          float64\n",
       "volume         float64\n",
       "trade_count    float64\n",
       "vwap           float64\n",
       "dtype: object"
      ]
     },
     "execution_count": 340,
     "metadata": {},
     "output_type": "execute_result"
    }
   ],
   "source": [
    "btc_df.dtypes"
   ]
  },
  {
   "cell_type": "code",
   "execution_count": 341,
   "id": "6d4a2203",
   "metadata": {},
   "outputs": [
    {
     "data": {
      "text/html": [
       "<div>\n",
       "<style scoped>\n",
       "    .dataframe tbody tr th:only-of-type {\n",
       "        vertical-align: middle;\n",
       "    }\n",
       "\n",
       "    .dataframe tbody tr th {\n",
       "        vertical-align: top;\n",
       "    }\n",
       "\n",
       "    .dataframe thead th {\n",
       "        text-align: right;\n",
       "    }\n",
       "</style>\n",
       "<table border=\"1\" class=\"dataframe\">\n",
       "  <thead>\n",
       "    <tr style=\"text-align: right;\">\n",
       "      <th></th>\n",
       "      <th>open</th>\n",
       "      <th>high</th>\n",
       "      <th>low</th>\n",
       "      <th>close</th>\n",
       "      <th>volume</th>\n",
       "      <th>trade_count</th>\n",
       "      <th>vwap</th>\n",
       "    </tr>\n",
       "    <tr>\n",
       "      <th>timestamp</th>\n",
       "      <th></th>\n",
       "      <th></th>\n",
       "      <th></th>\n",
       "      <th></th>\n",
       "      <th></th>\n",
       "      <th></th>\n",
       "      <th></th>\n",
       "    </tr>\n",
       "  </thead>\n",
       "  <tbody>\n",
       "    <tr>\n",
       "      <th>2021-01-01 00:00:00+00:00</th>\n",
       "      <td>28973.0</td>\n",
       "      <td>29073.5</td>\n",
       "      <td>28775.0</td>\n",
       "      <td>29065.0</td>\n",
       "      <td>3.4437</td>\n",
       "      <td>72.0</td>\n",
       "      <td>28968.839097</td>\n",
       "    </tr>\n",
       "    <tr>\n",
       "      <th>2021-01-01 01:00:00+00:00</th>\n",
       "      <td>29070.0</td>\n",
       "      <td>29481.0</td>\n",
       "      <td>29038.5</td>\n",
       "      <td>29404.5</td>\n",
       "      <td>4.6183</td>\n",
       "      <td>65.0</td>\n",
       "      <td>29359.399487</td>\n",
       "    </tr>\n",
       "    <tr>\n",
       "      <th>2021-01-01 02:00:00+00:00</th>\n",
       "      <td>29528.0</td>\n",
       "      <td>29528.0</td>\n",
       "      <td>29218.0</td>\n",
       "      <td>29245.0</td>\n",
       "      <td>4.3423</td>\n",
       "      <td>42.0</td>\n",
       "      <td>29361.540923</td>\n",
       "    </tr>\n",
       "    <tr>\n",
       "      <th>2021-01-01 03:00:00+00:00</th>\n",
       "      <td>29400.5</td>\n",
       "      <td>29400.5</td>\n",
       "      <td>29337.0</td>\n",
       "      <td>29367.5</td>\n",
       "      <td>0.3089</td>\n",
       "      <td>3.0</td>\n",
       "      <td>29400.447394</td>\n",
       "    </tr>\n",
       "    <tr>\n",
       "      <th>2021-01-01 04:00:00+00:00</th>\n",
       "      <td>29449.0</td>\n",
       "      <td>29449.0</td>\n",
       "      <td>29136.5</td>\n",
       "      <td>29189.5</td>\n",
       "      <td>2.0245</td>\n",
       "      <td>34.0</td>\n",
       "      <td>29302.743369</td>\n",
       "    </tr>\n",
       "    <tr>\n",
       "      <th>...</th>\n",
       "      <td>...</td>\n",
       "      <td>...</td>\n",
       "      <td>...</td>\n",
       "      <td>...</td>\n",
       "      <td>...</td>\n",
       "      <td>...</td>\n",
       "      <td>...</td>\n",
       "    </tr>\n",
       "    <tr>\n",
       "      <th>2022-10-05 21:00:00+00:00</th>\n",
       "      <td>19989.0</td>\n",
       "      <td>20093.0</td>\n",
       "      <td>19989.0</td>\n",
       "      <td>20056.0</td>\n",
       "      <td>69.2090</td>\n",
       "      <td>475.0</td>\n",
       "      <td>20044.197130</td>\n",
       "    </tr>\n",
       "    <tr>\n",
       "      <th>2022-10-05 22:00:00+00:00</th>\n",
       "      <td>20060.0</td>\n",
       "      <td>20212.0</td>\n",
       "      <td>20023.0</td>\n",
       "      <td>20192.0</td>\n",
       "      <td>133.3761</td>\n",
       "      <td>704.0</td>\n",
       "      <td>20124.529345</td>\n",
       "    </tr>\n",
       "    <tr>\n",
       "      <th>2022-10-05 23:00:00+00:00</th>\n",
       "      <td>20192.0</td>\n",
       "      <td>20195.0</td>\n",
       "      <td>20119.0</td>\n",
       "      <td>20163.0</td>\n",
       "      <td>42.3767</td>\n",
       "      <td>606.0</td>\n",
       "      <td>20156.381837</td>\n",
       "    </tr>\n",
       "    <tr>\n",
       "      <th>2022-10-06 00:00:00+00:00</th>\n",
       "      <td>20163.0</td>\n",
       "      <td>20383.0</td>\n",
       "      <td>20151.0</td>\n",
       "      <td>20276.0</td>\n",
       "      <td>235.6275</td>\n",
       "      <td>1328.0</td>\n",
       "      <td>20290.158078</td>\n",
       "    </tr>\n",
       "    <tr>\n",
       "      <th>2022-10-06 01:00:00+00:00</th>\n",
       "      <td>20275.0</td>\n",
       "      <td>20337.0</td>\n",
       "      <td>20250.0</td>\n",
       "      <td>20283.0</td>\n",
       "      <td>72.6605</td>\n",
       "      <td>489.0</td>\n",
       "      <td>20288.934980</td>\n",
       "    </tr>\n",
       "  </tbody>\n",
       "</table>\n",
       "<p>15412 rows × 7 columns</p>\n",
       "</div>"
      ],
      "text/plain": [
       "                              open     high      low    close    volume  \\\n",
       "timestamp                                                                 \n",
       "2021-01-01 00:00:00+00:00  28973.0  29073.5  28775.0  29065.0    3.4437   \n",
       "2021-01-01 01:00:00+00:00  29070.0  29481.0  29038.5  29404.5    4.6183   \n",
       "2021-01-01 02:00:00+00:00  29528.0  29528.0  29218.0  29245.0    4.3423   \n",
       "2021-01-01 03:00:00+00:00  29400.5  29400.5  29337.0  29367.5    0.3089   \n",
       "2021-01-01 04:00:00+00:00  29449.0  29449.0  29136.5  29189.5    2.0245   \n",
       "...                            ...      ...      ...      ...       ...   \n",
       "2022-10-05 21:00:00+00:00  19989.0  20093.0  19989.0  20056.0   69.2090   \n",
       "2022-10-05 22:00:00+00:00  20060.0  20212.0  20023.0  20192.0  133.3761   \n",
       "2022-10-05 23:00:00+00:00  20192.0  20195.0  20119.0  20163.0   42.3767   \n",
       "2022-10-06 00:00:00+00:00  20163.0  20383.0  20151.0  20276.0  235.6275   \n",
       "2022-10-06 01:00:00+00:00  20275.0  20337.0  20250.0  20283.0   72.6605   \n",
       "\n",
       "                           trade_count          vwap  \n",
       "timestamp                                             \n",
       "2021-01-01 00:00:00+00:00         72.0  28968.839097  \n",
       "2021-01-01 01:00:00+00:00         65.0  29359.399487  \n",
       "2021-01-01 02:00:00+00:00         42.0  29361.540923  \n",
       "2021-01-01 03:00:00+00:00          3.0  29400.447394  \n",
       "2021-01-01 04:00:00+00:00         34.0  29302.743369  \n",
       "...                                ...           ...  \n",
       "2022-10-05 21:00:00+00:00        475.0  20044.197130  \n",
       "2022-10-05 22:00:00+00:00        704.0  20124.529345  \n",
       "2022-10-05 23:00:00+00:00        606.0  20156.381837  \n",
       "2022-10-06 00:00:00+00:00       1328.0  20290.158078  \n",
       "2022-10-06 01:00:00+00:00        489.0  20288.934980  \n",
       "\n",
       "[15412 rows x 7 columns]"
      ]
     },
     "execution_count": 341,
     "metadata": {},
     "output_type": "execute_result"
    }
   ],
   "source": [
    "btc_df = btc_df.reset_index()\n",
    "btc_df = btc_df.set_index('timestamp')\n",
    "btc_df = btc_df.drop(columns=['symbol'])\n",
    "\n",
    "btc_df"
   ]
  },
  {
   "cell_type": "code",
   "execution_count": 342,
   "id": "eb5a63cb",
   "metadata": {},
   "outputs": [],
   "source": [
    "# # Use the pct_change function to generate  returns from close prices\n",
    "# btc_df[\"Actual Returns\"] = btc_df[\"close\"].pct_change()\n",
    "\n",
    "# # Drop na\n",
    "# btc_df=btc_df.dropna()"
   ]
  },
  {
   "cell_type": "code",
   "execution_count": 343,
   "id": "06ffd127",
   "metadata": {},
   "outputs": [
    {
     "data": {
      "text/html": [
       "<div>\n",
       "<style scoped>\n",
       "    .dataframe tbody tr th:only-of-type {\n",
       "        vertical-align: middle;\n",
       "    }\n",
       "\n",
       "    .dataframe tbody tr th {\n",
       "        vertical-align: top;\n",
       "    }\n",
       "\n",
       "    .dataframe thead th {\n",
       "        text-align: right;\n",
       "    }\n",
       "</style>\n",
       "<table border=\"1\" class=\"dataframe\">\n",
       "  <thead>\n",
       "    <tr style=\"text-align: right;\">\n",
       "      <th></th>\n",
       "      <th>open</th>\n",
       "      <th>high</th>\n",
       "      <th>low</th>\n",
       "      <th>volume</th>\n",
       "      <th>trade_count</th>\n",
       "    </tr>\n",
       "    <tr>\n",
       "      <th>timestamp</th>\n",
       "      <th></th>\n",
       "      <th></th>\n",
       "      <th></th>\n",
       "      <th></th>\n",
       "      <th></th>\n",
       "    </tr>\n",
       "  </thead>\n",
       "  <tbody>\n",
       "    <tr>\n",
       "      <th>2021-01-01 01:00:00+00:00</th>\n",
       "      <td>28973.0</td>\n",
       "      <td>29073.5</td>\n",
       "      <td>28775.0</td>\n",
       "      <td>3.4437</td>\n",
       "      <td>72.0</td>\n",
       "    </tr>\n",
       "    <tr>\n",
       "      <th>2021-01-01 02:00:00+00:00</th>\n",
       "      <td>29070.0</td>\n",
       "      <td>29481.0</td>\n",
       "      <td>29038.5</td>\n",
       "      <td>4.6183</td>\n",
       "      <td>65.0</td>\n",
       "    </tr>\n",
       "    <tr>\n",
       "      <th>2021-01-01 03:00:00+00:00</th>\n",
       "      <td>29528.0</td>\n",
       "      <td>29528.0</td>\n",
       "      <td>29218.0</td>\n",
       "      <td>4.3423</td>\n",
       "      <td>42.0</td>\n",
       "    </tr>\n",
       "    <tr>\n",
       "      <th>2021-01-01 04:00:00+00:00</th>\n",
       "      <td>29400.5</td>\n",
       "      <td>29400.5</td>\n",
       "      <td>29337.0</td>\n",
       "      <td>0.3089</td>\n",
       "      <td>3.0</td>\n",
       "    </tr>\n",
       "    <tr>\n",
       "      <th>2021-01-01 05:00:00+00:00</th>\n",
       "      <td>29449.0</td>\n",
       "      <td>29449.0</td>\n",
       "      <td>29136.5</td>\n",
       "      <td>2.0245</td>\n",
       "      <td>34.0</td>\n",
       "    </tr>\n",
       "  </tbody>\n",
       "</table>\n",
       "</div>"
      ],
      "text/plain": [
       "                              open     high      low  volume  trade_count\n",
       "timestamp                                                                \n",
       "2021-01-01 01:00:00+00:00  28973.0  29073.5  28775.0  3.4437         72.0\n",
       "2021-01-01 02:00:00+00:00  29070.0  29481.0  29038.5  4.6183         65.0\n",
       "2021-01-01 03:00:00+00:00  29528.0  29528.0  29218.0  4.3423         42.0\n",
       "2021-01-01 04:00:00+00:00  29400.5  29400.5  29337.0  0.3089          3.0\n",
       "2021-01-01 05:00:00+00:00  29449.0  29449.0  29136.5  2.0245         34.0"
      ]
     },
     "execution_count": 343,
     "metadata": {},
     "output_type": "execute_result"
    }
   ],
   "source": [
    "# Assign a copy of features to a DataFrame called X\n",
    "X = btc_df[['open', 'high','low','volume', 'trade_count']].shift().dropna()\n",
    "# Review the DataFrame\n",
    "X.head()"
   ]
  },
  {
   "cell_type": "code",
   "execution_count": 344,
   "id": "9f02eb97",
   "metadata": {},
   "outputs": [
    {
     "data": {
      "text/plain": [
       "[<matplotlib.lines.Line2D at 0x214d57f6310>]"
      ]
     },
     "execution_count": 344,
     "metadata": {},
     "output_type": "execute_result"
    },
    {
     "data": {
      "image/png": "[encoded data removed]",
      "text/plain": [
       "<Figure size 640x480 with 1 Axes>"
      ]
     },
     "metadata": {},
     "output_type": "display_data"
    }
   ],
   "source": [
    "plt.plot(range(len(X)), X[['open']])"
   ]
  },
  {
   "cell_type": "code",
   "execution_count": 345,
   "id": "c29be38c",
   "metadata": {},
   "outputs": [
    {
     "data": {
      "text/plain": [
       "array([[-0.91841739, -0.92348641, -0.92023323, -0.57659369, -0.56131615],\n",
       "       [-0.91068628, -0.89113081, -0.89913455, -0.56503155, -0.58014694],\n",
       "       [-0.87418269, -0.887399  , -0.88476183, -0.56774835, -0.64201952],\n",
       "       ...,\n",
       "       [-1.62880278, -1.62709169, -1.62101358,  0.7023922 ,  1.13883478],\n",
       "       [-1.61828209, -1.62844149, -1.61332678, -0.19335781,  0.87520378],\n",
       "       [-1.62059345, -1.61351425, -1.61076451,  1.70890095,  2.81746481]])"
      ]
     },
     "execution_count": 345,
     "metadata": {},
     "output_type": "execute_result"
    }
   ],
   "source": [
    "scaler=StandardScaler()\n",
    "\n",
    "# Fit the scaler to the features training dataset\n",
    "X_scaled = scaler.fit_transform(X)\n",
    "\n",
    "X_scaled"
   ]
  },
  {
   "cell_type": "markdown",
   "id": "14beb8a6",
   "metadata": {},
   "source": [
    "### Data Split for Training"
   ]
  },
  {
   "cell_type": "code",
   "execution_count": 346,
   "id": "9d2d26db",
   "metadata": {},
   "outputs": [
    {
     "data": {
      "text/plain": [
       "12330"
      ]
     },
     "execution_count": 346,
     "metadata": {},
     "output_type": "execute_result"
    }
   ],
   "source": [
    "# get array representation of dataframe\n",
    "dataset = btc_df.values\n",
    "\n",
    "# get number of rows to train the model on\n",
    "training_data_len = math.ceil(len(dataset) * 0.8)\n",
    "\n",
    "training_data_len"
   ]
  },
  {
   "cell_type": "code",
   "execution_count": 347,
   "id": "4fdaef59",
   "metadata": {},
   "outputs": [],
   "source": [
    "# create train dataset\n",
    "train_data = X_scaled[0:training_data_len, :]\n",
    "\n",
    "# Create blank array\n",
    "X_train = []\n",
    "candles = 60\n",
    "\n",
    "for i in range(candles, len(train_data)):\n",
    "    X_train.append(train_data[i-candles:i, 0:6])\n",
    "\n",
    "\n",
    "# create test dataset\n",
    "test_data = X_scaled[training_data_len - candles: , :]\n",
    "\n",
    "# Create blank array\n",
    "X_test = []\n",
    "\n",
    "for i in range(candles, len(test_data)):\n",
    "    X_test.append(test_data[i-candles:i, 0:6])\n"
   ]
  },
  {
   "cell_type": "code",
   "execution_count": 348,
   "id": "8c8a1c2c",
   "metadata": {},
   "outputs": [
    {
     "data": {
      "text/plain": [
       "(12270, 60, 5)"
      ]
     },
     "metadata": {},
     "output_type": "display_data"
    },
    {
     "data": {
      "text/plain": [
       "12270"
      ]
     },
     "metadata": {},
     "output_type": "display_data"
    },
    {
     "data": {
      "text/plain": [
       "3081"
      ]
     },
     "metadata": {},
     "output_type": "display_data"
    },
    {
     "data": {
      "text/plain": [
       "array([[[-0.91602633, -0.92868713, -0.92143429, -0.52894046,\n",
       "          0.45823638],\n",
       "        [-0.93164795, -0.92789312, -0.91951259, -0.11763199,\n",
       "          0.55777053],\n",
       "        [-0.92495297, -0.90597866, -0.91550904, -0.02602864,\n",
       "          1.22222825],\n",
       "        ...,\n",
       "        [-0.90590415, -0.91701529, -0.8982938 ,  1.72599217,\n",
       "          0.18384493],\n",
       "        [-0.91004866, -0.91828569, -0.89709274, -0.25083286,\n",
       "         -0.58552716],\n",
       "        [-0.90446951, -0.91352168, -0.89132764,  0.20022552,\n",
       "         -0.35686762]],\n",
       "\n",
       "       [[-0.93164795, -0.92789312, -0.91951259, -0.11763199,\n",
       "          0.55777053],\n",
       "        [-0.92495297, -0.90597866, -0.91550904, -0.02602864,\n",
       "          1.22222825],\n",
       "        [-0.89753542, -0.89970604, -0.89356962,  1.68676692,\n",
       "          2.38973696],\n",
       "        ...,\n",
       "        [-0.91004866, -0.91828569, -0.89709274, -0.25083286,\n",
       "         -0.58552716],\n",
       "        [-0.90446951, -0.91352168, -0.89132764,  0.20022552,\n",
       "         -0.35686762],\n",
       "        [-0.900325  , -0.88461999, -0.89012658,  6.30629141,\n",
       "          3.11337715]],\n",
       "\n",
       "       [[-0.92495297, -0.90597866, -0.91550904, -0.02602864,\n",
       "          1.22222825],\n",
       "        [-0.89753542, -0.89970604, -0.89356962,  1.68676692,\n",
       "          2.38973696],\n",
       "        [-0.89227508, -0.90486705, -0.92535776,  0.72388542,\n",
       "          1.24105904],\n",
       "        ...,\n",
       "        [-0.90446951, -0.91352168, -0.89132764,  0.20022552,\n",
       "         -0.35686762],\n",
       "        [-0.900325  , -0.88461999, -0.89012658,  6.30629141,\n",
       "          3.11337715],\n",
       "        [-0.88510189, -0.89319522, -0.87251098,  0.09554316,\n",
       "         -0.36762807]],\n",
       "\n",
       "       ...,\n",
       "\n",
       "       [[-1.699658  , -1.70530093, -1.69259695, -0.26003158,\n",
       "          0.30220987],\n",
       "        [-1.69511498, -1.70363353, -1.68811298,  0.47398723,\n",
       "          0.39098358],\n",
       "        [-1.69360064, -1.70117212, -1.68747241,  2.50212727,\n",
       "          1.70106823],\n",
       "        ...,\n",
       "        [-1.61071039, -1.61661086, -1.61404742,  0.72538753,\n",
       "          1.50469004],\n",
       "        [-1.62266571, -1.6301883 , -1.62397621,  0.4686127 ,\n",
       "          0.79988063],\n",
       "        [-1.63446163, -1.63654032, -1.62373599,  0.07076517,\n",
       "          0.52279907]],\n",
       "\n",
       "       [[-1.69511498, -1.70363353, -1.68811298,  0.47398723,\n",
       "          0.39098358],\n",
       "        [-1.69360064, -1.70117212, -1.68747241,  2.50212727,\n",
       "          1.70106823],\n",
       "        [-1.6924051 , -1.69656691, -1.69235674,  3.01798129,\n",
       "          1.00163905],\n",
       "        ...,\n",
       "        [-1.62266571, -1.6301883 , -1.62397621,  0.4686127 ,\n",
       "          0.79988063],\n",
       "        [-1.63446163, -1.63654032, -1.62373599,  0.07076517,\n",
       "          0.52279907],\n",
       "        [-1.62880278, -1.62709169, -1.62101358,  0.7023922 ,\n",
       "          1.13883478]],\n",
       "\n",
       "       [[-1.69360064, -1.70117212, -1.68747241,  2.50212727,\n",
       "          1.70106823],\n",
       "        [-1.6924051 , -1.69656691, -1.69235674,  3.01798129,\n",
       "          1.00163905],\n",
       "        [-1.69886098, -1.68211606, -1.68843327,  5.87866738,\n",
       "          4.12754946],\n",
       "        ...,\n",
       "        [-1.63446163, -1.63654032, -1.62373599,  0.07076517,\n",
       "          0.52279907],\n",
       "        [-1.62880278, -1.62709169, -1.62101358,  0.7023922 ,\n",
       "          1.13883478],\n",
       "        [-1.61828209, -1.62844149, -1.61332678, -0.19335781,\n",
       "          0.87520378]]])"
      ]
     },
     "execution_count": 348,
     "metadata": {},
     "output_type": "execute_result"
    }
   ],
   "source": [
    "# Convert lists to array\n",
    "\n",
    "X_train = np.array(X_train)\n",
    "X_test = np.array(X_test)\n",
    "\n",
    "display(X_train.shape)\n",
    "display(len(X_train))\n",
    "display(len(X_test))\n",
    "\n",
    "X_test\n"
   ]
  },
  {
   "cell_type": "code",
   "execution_count": 349,
   "id": "00e85d17",
   "metadata": {},
   "outputs": [
    {
     "data": {
      "text/plain": [
       "timestamp\n",
       "2021-01-01 00:00:00+00:00    29065.0\n",
       "2021-01-01 01:00:00+00:00    29404.5\n",
       "2021-01-01 02:00:00+00:00    29245.0\n",
       "2021-01-01 03:00:00+00:00    29367.5\n",
       "2021-01-01 04:00:00+00:00    29189.5\n",
       "                              ...   \n",
       "2022-10-05 21:00:00+00:00    20056.0\n",
       "2022-10-05 22:00:00+00:00    20192.0\n",
       "2022-10-05 23:00:00+00:00    20163.0\n",
       "2022-10-06 00:00:00+00:00    20276.0\n",
       "2022-10-06 01:00:00+00:00    20283.0\n",
       "Name: close, Length: 15412, dtype: float64"
      ]
     },
     "metadata": {},
     "output_type": "display_data"
    },
    {
     "data": {
      "text/plain": [
       "timestamp\n",
       "2021-01-03 15:00:00+00:00    33553.0\n",
       "2021-01-03 16:00:00+00:00    32627.5\n",
       "2021-01-03 17:00:00+00:00    33036.0\n",
       "2021-01-03 18:00:00+00:00    32772.0\n",
       "2021-01-03 19:00:00+00:00    32779.0\n",
       "                              ...   \n",
       "2022-10-05 21:00:00+00:00    20056.0\n",
       "2022-10-05 22:00:00+00:00    20192.0\n",
       "2022-10-05 23:00:00+00:00    20163.0\n",
       "2022-10-06 00:00:00+00:00    20276.0\n",
       "2022-10-06 01:00:00+00:00    20283.0\n",
       "Name: close, Length: 15351, dtype: float64"
      ]
     },
     "metadata": {},
     "output_type": "display_data"
    }
   ],
   "source": [
    "# Create the target set selecting the Signal column and assiging it to y\n",
    "y = btc_df['close']\n",
    "\n",
    "# Review the value counts\n",
    "display(y)\n",
    "\n",
    "# Drop first row\n",
    "# y = y.iloc[1:-candles]\n",
    "y=y.iloc[candles+1:]\n",
    "\n",
    "display(y)"
   ]
  },
  {
   "cell_type": "code",
   "execution_count": 350,
   "id": "8a369845",
   "metadata": {},
   "outputs": [
    {
     "data": {
      "text/plain": [
       "(12270,)"
      ]
     },
     "metadata": {},
     "output_type": "display_data"
    },
    {
     "data": {
      "text/plain": [
       "(3081,)"
      ]
     },
     "metadata": {},
     "output_type": "display_data"
    },
    {
     "data": {
      "text/plain": [
       "(3081, 60, 5)"
      ]
     },
     "metadata": {},
     "output_type": "display_data"
    },
    {
     "data": {
      "text/plain": [
       "(12270, 60, 5)"
      ]
     },
     "metadata": {},
     "output_type": "display_data"
    }
   ],
   "source": [
    "# Splitting Y data\n",
    "\n",
    "y_train = y.iloc[0:len(X_train)]\n",
    "y_test = y.iloc[len(X_train):]\n",
    "\n",
    "display(y_train.shape)\n",
    "display(y_test.shape)\n",
    "display(X_test.shape)\n",
    "display(X_train.shape)"
   ]
  },
  {
   "cell_type": "markdown",
   "id": "737757e8",
   "metadata": {},
   "source": [
    "## Model Creation"
   ]
  },
  {
   "cell_type": "code",
   "execution_count": 351,
   "id": "35482cbd",
   "metadata": {},
   "outputs": [
    {
     "data": {
      "text/plain": [
       "5"
      ]
     },
     "execution_count": 351,
     "metadata": {},
     "output_type": "execute_result"
    }
   ],
   "source": [
    "# Define the the number of inputs (features) to the model\n",
    "number_input_features = len(X.columns)\n",
    "\n",
    "# Review the number of features\n",
    "number_input_features\n"
   ]
  },
  {
   "cell_type": "code",
   "execution_count": 352,
   "id": "35540597",
   "metadata": {},
   "outputs": [
    {
     "data": {
      "text/plain": [
       "4"
      ]
     },
     "metadata": {},
     "output_type": "display_data"
    },
    {
     "data": {
      "text/plain": [
       "64"
      ]
     },
     "metadata": {},
     "output_type": "display_data"
    },
    {
     "data": {
      "text/plain": [
       "64"
      ]
     },
     "metadata": {},
     "output_type": "display_data"
    }
   ],
   "source": [
    "# Create the Sequential model instance\n",
    "regr_nn = Sequential()\n",
    "\n",
    "# Define the number of neurons in the output layer\n",
    "number_output_neurons = 1\n",
    "\n",
    "#Define the number of hidden nodes for the first hidden layer\n",
    "# hidden_nodes_layer1 = (number_input_features + 1) // 2\n",
    "hidden_nodes_layer1 = 64\n",
    "\n",
    "# Define hidden nodes for all hidden layers\n",
    "hidden_nodes = math.ceil(((number_input_features+1)*2)/3)\n",
    "display(hidden_nodes)\n",
    "\n",
    "# Review the number hidden nodes in the first layer\n",
    "display(hidden_nodes_layer1)\n",
    "\n",
    "#Define the number of hidden nodes for the second hidden layer\n",
    "# hidden_nodes_layer2 = (hidden_nodes_layer1 + 1) //2\n",
    "hidden_nodes_layer2 = 64\n",
    "\n",
    "# Review the number hidden nodes in the second layer\n",
    "display(hidden_nodes_layer2)"
   ]
  },
  {
   "cell_type": "code",
   "execution_count": 353,
   "id": "3dd184fc",
   "metadata": {},
   "outputs": [],
   "source": [
    "# Add the first hidden layer\n",
    "regr_nn.add(LSTM(units=hidden_nodes_layer1, return_sequences=True, input_shape=(candles,len(X.columns))))"
   ]
  },
  {
   "cell_type": "code",
   "execution_count": 354,
   "id": "318dba3b",
   "metadata": {},
   "outputs": [],
   "source": [
    "# # Add dropout layer\n",
    "regr_nn.add(Dropout(rate=0.2))"
   ]
  },
  {
   "cell_type": "code",
   "execution_count": 355,
   "id": "a0a0c87c",
   "metadata": {},
   "outputs": [],
   "source": [
    "#Add the second hidden layer\n",
    "regr_nn.add(LSTM(units=hidden_nodes_layer2, return_sequences=True))\n"
   ]
  },
  {
   "cell_type": "code",
   "execution_count": 356,
   "id": "32535ceb",
   "metadata": {},
   "outputs": [],
   "source": [
    "# # Add dropout layer\n",
    "regr_nn.add(Dropout(rate=0.2))"
   ]
  },
  {
   "cell_type": "code",
   "execution_count": 357,
   "id": "fd4ad807",
   "metadata": {},
   "outputs": [],
   "source": [
    "# #Add the third hidden layer\n",
    "regr_nn.add(LSTM(units=hidden_nodes_layer2))"
   ]
  },
  {
   "cell_type": "code",
   "execution_count": 358,
   "id": "e74381da",
   "metadata": {},
   "outputs": [],
   "source": [
    "# # Add dropout layer\n",
    "# regr_nn.add(Dropout(rate=0.2))"
   ]
  },
  {
   "cell_type": "code",
   "execution_count": 359,
   "id": "6b293aeb",
   "metadata": {},
   "outputs": [],
   "source": [
    "# Add Dense layer\n",
    "# regr_nn.add(Dense(units=6, activation='relu'))"
   ]
  },
  {
   "cell_type": "code",
   "execution_count": 360,
   "id": "21bfb7b4",
   "metadata": {},
   "outputs": [],
   "source": [
    "# Add the output layer to the model specifying the number of output neurons and activation function\n",
    "regr_nn.add(Dense(units=1,  activation='linear'))\n"
   ]
  },
  {
   "cell_type": "code",
   "execution_count": 361,
   "id": "a32137c2",
   "metadata": {},
   "outputs": [
    {
     "name": "stdout",
     "output_type": "stream",
     "text": [
      "Model: \"sequential_12\"\n",
      "_________________________________________________________________\n",
      "Layer (type)                 Output Shape              Param #   \n",
      "=================================================================\n",
      "lstm_36 (LSTM)               (None, 60, 64)            17920     \n",
      "_________________________________________________________________\n",
      "dropout_33 (Dropout)         (None, 60, 64)            0         \n",
      "_________________________________________________________________\n",
      "lstm_37 (LSTM)               (None, 60, 64)            33024     \n",
      "_________________________________________________________________\n",
      "dropout_34 (Dropout)         (None, 60, 64)            0         \n",
      "_________________________________________________________________\n",
      "lstm_38 (LSTM)               (None, 64)                33024     \n",
      "_________________________________________________________________\n",
      "dense_12 (Dense)             (None, 1)                 65        \n",
      "=================================================================\n",
      "Total params: 84,033\n",
      "Trainable params: 84,033\n",
      "Non-trainable params: 0\n",
      "_________________________________________________________________\n"
     ]
    }
   ],
   "source": [
    "# Display the Sequential model summary, subclassed model requires build\n",
    "regr_nn.build(X_train.shape)\n",
    "regr_nn.summary()"
   ]
  },
  {
   "cell_type": "code",
   "execution_count": 362,
   "id": "278bc04e",
   "metadata": {},
   "outputs": [],
   "source": [
    "# Compile the Sequential model\n",
    "\n",
    "regr_nn.compile(loss='mean_squared_error', optimizer='adam')"
   ]
  },
  {
   "cell_type": "code",
   "execution_count": 363,
   "id": "7881e7f5",
   "metadata": {},
   "outputs": [
    {
     "name": "stdout",
     "output_type": "stream",
     "text": [
      "Epoch 1/10\n",
      "346/346 [==============================] - 35s 101ms/step - loss: 2219087104.0000 - val_loss: 1285928576.0000\n",
      "Epoch 2/10\n",
      "346/346 [==============================] - 33s 94ms/step - loss: 2216871936.0000 - val_loss: 1284301696.0000\n",
      "Epoch 3/10\n",
      "346/346 [==============================] - 32s 94ms/step - loss: 2214769920.0000 - val_loss: 1282692864.0000\n",
      "Epoch 4/10\n",
      "346/346 [==============================] - 34s 97ms/step - loss: 2212678400.0000 - val_loss: 1281090944.0000\n",
      "Epoch 5/10\n",
      "346/346 [==============================] - 33s 95ms/step - loss: 2210597120.0000 - val_loss: 1279494272.0000\n",
      "Epoch 6/10\n",
      "346/346 [==============================] - 33s 96ms/step - loss: 2208521472.0000 - val_loss: 1277901312.0000\n",
      "Epoch 7/10\n",
      "346/346 [==============================] - 33s 96ms/step - loss: 2206448384.0000 - val_loss: 1276311040.0000\n",
      "Epoch 8/10\n",
      "346/346 [==============================] - 33s 96ms/step - loss: 2204376320.0000 - val_loss: 1274721664.0000\n",
      "Epoch 9/10\n",
      "346/346 [==============================] - 33s 97ms/step - loss: 2202307072.0000 - val_loss: 1273133312.0000\n",
      "Epoch 10/10\n",
      "346/346 [==============================] - 33s 95ms/step - loss: 2200238592.0000 - val_loss: 1271547136.0000\n"
     ]
    }
   ],
   "source": [
    "# Fit the model using epochs and the training data\n",
    "regr_model=regr_nn.fit(X_train, y_train, epochs=10, validation_split=.1)"
   ]
  },
  {
   "cell_type": "code",
   "execution_count": 364,
   "id": "0d6b54c1",
   "metadata": {},
   "outputs": [
    {
     "data": {
      "image/png": "[encoded data removed]",
      "text/plain": [
       "<Figure size 640x480 with 1 Axes>"
      ]
     },
     "metadata": {},
     "output_type": "display_data"
    }
   ],
   "source": [
    "# Train vs test for loss\n",
    "plt.plot(regr_model.history[\"loss\"])\n",
    "plt.plot(regr_model.history[\"val_loss\"])\n",
    "plt.title(\"Training Vs. Validation 2 LSTM, w/ Dropout\")\n",
    "plt.legend([\"loss\", \"val_loss\"])\n",
    "plt.show()"
   ]
  },
  {
   "cell_type": "code",
   "execution_count": 365,
   "id": "27737358",
   "metadata": {},
   "outputs": [
    {
     "data": {
      "text/plain": [
       "array([[236.38017],\n",
       "       [236.38019],\n",
       "       [236.38017],\n",
       "       ...,\n",
       "       [236.38016],\n",
       "       [236.38017],\n",
       "       [236.38017]], dtype=float32)"
      ]
     },
     "execution_count": 365,
     "metadata": {},
     "output_type": "execute_result"
    }
   ],
   "source": [
    "# Make model predictionis\n",
    "\n",
    "y_pred=regr_nn.predict(X_test)\n",
    "\n",
    "y_pred\n"
   ]
  },
  {
   "cell_type": "code",
   "execution_count": 366,
   "id": "2b76f42d",
   "metadata": {},
   "outputs": [
    {
     "data": {
      "text/plain": [
       "<matplotlib.legend.Legend at 0x214da72a400>"
      ]
     },
     "execution_count": 366,
     "metadata": {},
     "output_type": "execute_result"
    },
    {
     "data": {
      "image/png": "[encoded data removed]",
      "text/plain": [
       "<Figure size 640x480 with 1 Axes>"
      ]
     },
     "metadata": {},
     "output_type": "display_data"
    }
   ],
   "source": [
    "# Plot prediction results\n",
    "plt.plot(range(len(y_test)), (y_test))\n",
    "plt.plot(range(len(y_test)), (y_pred))\n",
    "plt.legend([\"test\", \"prediction\"])"
   ]
  },
  {
   "cell_type": "code",
   "execution_count": 367,
   "id": "e9607f67",
   "metadata": {},
   "outputs": [],
   "source": [
    "# Set the file path for the first regression model\n",
    "file_path = Path('Models/regr_nn.h5')\n",
    "\n",
    "# Export your model to a HDF5 file\n",
    "regr_nn.save(file_path)"
   ]
  },
  {
   "cell_type": "code",
   "execution_count": null,
   "metadata": {},
   "outputs": [],
   "source": []
  }
 ],
 "metadata": {
  "kernelspec": {
   "display_name": "Python 3.8.13 ('dev')",
   "language": "python",
   "name": "python3"
  },
  "language_info": {
   "codemirror_mode": {
    "name": "ipython",
    "version": 3
   },
   "file_extension": ".py",
   "mimetype": "text/x-python",
   "name": "python",
   "nbconvert_exporter": "python",
   "pygments_lexer": "ipython3",
   "version": "3.8.13"
  },
  "vscode": {
   "interpreter": {
    "hash": "e0193224db03a40cbeeb1d1467a8281023d0cf41b04cb80c5135a7c4428e4098"
   }
  }
 },
 "nbformat": 4,
 "nbformat_minor": 5
}
