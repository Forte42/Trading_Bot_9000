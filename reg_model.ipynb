{
 "cells": [
  {
   "cell_type": "code",
   "execution_count": 162,
   "id": "3d2d2986-8f0f-4112-b2a2-03b767dffc76",
   "metadata": {},
   "outputs": [],
   "source": [
    "import pandas as pd\n",
    "import numpy as np\n",
    "# from dotenv import load_dotenv\n",
    "from pandas.tseries.offsets import DateOffset\n",
    "import os\n",
    "import requests\n",
    "import datetime\n",
    "import yfinance as yf\n",
    "from sklearn.preprocessing import MinMaxScaler\n",
    "from sklearn.preprocessing import MinMaxScaler\n",
    "import tensorflow as tf\n",
    "from tensorflow.keras.layers import Dense\n",
    "from tensorflow.keras.models import Sequential\n",
    "from tensorflow.keras.layers import LSTM\n",
    "import matplotlib.pyplot as plt\n",
    "from numpy.lib import math\n",
    "from tensorflow.keras.layers import Dropout\n",
    "from tensorflow.keras.layers import TimeDistributed\n",
    "from tensorflow.keras.layers import Bidirectional\n",
    "from pathlib import Path\n",
    "%matplotlib inline"
   ]
  },
  {
   "cell_type": "markdown",
   "id": "a38f52a9",
   "metadata": {},
   "source": [
    "## Data Retreival/Formatting"
   ]
  },
  {
   "cell_type": "code",
   "execution_count": 163,
   "id": "fe6494f3",
   "metadata": {},
   "outputs": [
    {
     "name": "stdout",
     "output_type": "stream",
     "text": [
      "[*********************100%***********************]  1 of 1 completed\n"
     ]
    },
    {
     "data": {
      "text/html": [
       "<div>\n",
       "<style scoped>\n",
       "    .dataframe tbody tr th:only-of-type {\n",
       "        vertical-align: middle;\n",
       "    }\n",
       "\n",
       "    .dataframe tbody tr th {\n",
       "        vertical-align: top;\n",
       "    }\n",
       "\n",
       "    .dataframe thead th {\n",
       "        text-align: right;\n",
       "    }\n",
       "</style>\n",
       "<table border=\"1\" class=\"dataframe\">\n",
       "  <thead>\n",
       "    <tr style=\"text-align: right;\">\n",
       "      <th></th>\n",
       "      <th>Open</th>\n",
       "      <th>High</th>\n",
       "      <th>Low</th>\n",
       "      <th>Volume</th>\n",
       "      <th>Close</th>\n",
       "    </tr>\n",
       "    <tr>\n",
       "      <th>timestamp</th>\n",
       "      <th></th>\n",
       "      <th></th>\n",
       "      <th></th>\n",
       "      <th></th>\n",
       "      <th></th>\n",
       "    </tr>\n",
       "  </thead>\n",
       "  <tbody>\n",
       "    <tr>\n",
       "      <th>2021-09-01 00:00:00+00:00</th>\n",
       "      <td>47005.863281</td>\n",
       "      <td>47294.664062</td>\n",
       "      <td>46788.101562</td>\n",
       "      <td>0</td>\n",
       "      <td>46788.101562</td>\n",
       "    </tr>\n",
       "    <tr>\n",
       "      <th>2021-09-01 01:00:00+00:00</th>\n",
       "      <td>46754.980469</td>\n",
       "      <td>46882.425781</td>\n",
       "      <td>46562.437500</td>\n",
       "      <td>549335040</td>\n",
       "      <td>46857.597656</td>\n",
       "    </tr>\n",
       "    <tr>\n",
       "      <th>2021-09-01 02:00:00+00:00</th>\n",
       "      <td>46873.109375</td>\n",
       "      <td>47089.496094</td>\n",
       "      <td>46773.453125</td>\n",
       "      <td>417816576</td>\n",
       "      <td>46920.796875</td>\n",
       "    </tr>\n",
       "    <tr>\n",
       "      <th>2021-09-01 03:00:00+00:00</th>\n",
       "      <td>46879.375000</td>\n",
       "      <td>46960.765625</td>\n",
       "      <td>46733.917969</td>\n",
       "      <td>271110144</td>\n",
       "      <td>46938.312500</td>\n",
       "    </tr>\n",
       "    <tr>\n",
       "      <th>2021-09-01 04:00:00+00:00</th>\n",
       "      <td>47041.230469</td>\n",
       "      <td>47246.312500</td>\n",
       "      <td>47017.937500</td>\n",
       "      <td>63414272</td>\n",
       "      <td>47158.402344</td>\n",
       "    </tr>\n",
       "    <tr>\n",
       "      <th>...</th>\n",
       "      <td>...</td>\n",
       "      <td>...</td>\n",
       "      <td>...</td>\n",
       "      <td>...</td>\n",
       "      <td>...</td>\n",
       "    </tr>\n",
       "    <tr>\n",
       "      <th>2022-10-10 01:00:00+00:00</th>\n",
       "      <td>19490.695312</td>\n",
       "      <td>19515.466797</td>\n",
       "      <td>19484.593750</td>\n",
       "      <td>275807232</td>\n",
       "      <td>19512.427734</td>\n",
       "    </tr>\n",
       "    <tr>\n",
       "      <th>2022-10-10 02:00:00+00:00</th>\n",
       "      <td>19510.287109</td>\n",
       "      <td>19510.287109</td>\n",
       "      <td>19471.191406</td>\n",
       "      <td>169682944</td>\n",
       "      <td>19473.847656</td>\n",
       "    </tr>\n",
       "    <tr>\n",
       "      <th>2022-10-10 03:00:00+00:00</th>\n",
       "      <td>19473.154297</td>\n",
       "      <td>19480.046875</td>\n",
       "      <td>19442.093750</td>\n",
       "      <td>114716672</td>\n",
       "      <td>19452.519531</td>\n",
       "    </tr>\n",
       "    <tr>\n",
       "      <th>2022-10-10 04:00:00+00:00</th>\n",
       "      <td>19453.076172</td>\n",
       "      <td>19454.083984</td>\n",
       "      <td>19444.126953</td>\n",
       "      <td>15022080</td>\n",
       "      <td>19444.126953</td>\n",
       "    </tr>\n",
       "    <tr>\n",
       "      <th>2022-10-10 04:26:00+00:00</th>\n",
       "      <td>19438.742188</td>\n",
       "      <td>19438.742188</td>\n",
       "      <td>19438.742188</td>\n",
       "      <td>0</td>\n",
       "      <td>19438.742188</td>\n",
       "    </tr>\n",
       "  </tbody>\n",
       "</table>\n",
       "<p>9628 rows × 5 columns</p>\n",
       "</div>"
      ],
      "text/plain": [
       "                                   Open          High           Low  \\\n",
       "timestamp                                                             \n",
       "2021-09-01 00:00:00+00:00  47005.863281  47294.664062  46788.101562   \n",
       "2021-09-01 01:00:00+00:00  46754.980469  46882.425781  46562.437500   \n",
       "2021-09-01 02:00:00+00:00  46873.109375  47089.496094  46773.453125   \n",
       "2021-09-01 03:00:00+00:00  46879.375000  46960.765625  46733.917969   \n",
       "2021-09-01 04:00:00+00:00  47041.230469  47246.312500  47017.937500   \n",
       "...                                 ...           ...           ...   \n",
       "2022-10-10 01:00:00+00:00  19490.695312  19515.466797  19484.593750   \n",
       "2022-10-10 02:00:00+00:00  19510.287109  19510.287109  19471.191406   \n",
       "2022-10-10 03:00:00+00:00  19473.154297  19480.046875  19442.093750   \n",
       "2022-10-10 04:00:00+00:00  19453.076172  19454.083984  19444.126953   \n",
       "2022-10-10 04:26:00+00:00  19438.742188  19438.742188  19438.742188   \n",
       "\n",
       "                              Volume         Close  \n",
       "timestamp                                           \n",
       "2021-09-01 00:00:00+00:00          0  46788.101562  \n",
       "2021-09-01 01:00:00+00:00  549335040  46857.597656  \n",
       "2021-09-01 02:00:00+00:00  417816576  46920.796875  \n",
       "2021-09-01 03:00:00+00:00  271110144  46938.312500  \n",
       "2021-09-01 04:00:00+00:00   63414272  47158.402344  \n",
       "...                              ...           ...  \n",
       "2022-10-10 01:00:00+00:00  275807232  19512.427734  \n",
       "2022-10-10 02:00:00+00:00  169682944  19473.847656  \n",
       "2022-10-10 03:00:00+00:00  114716672  19452.519531  \n",
       "2022-10-10 04:00:00+00:00   15022080  19444.126953  \n",
       "2022-10-10 04:26:00+00:00          0  19438.742188  \n",
       "\n",
       "[9628 rows x 5 columns]"
      ]
     },
     "execution_count": 163,
     "metadata": {},
     "output_type": "execute_result"
    }
   ],
   "source": [
    "# Pull data\n",
    "\n",
    "btc_df = yf.download('BTC-USD', start='2021-09-01',interval='1h')[['Open','High','Low','Volume','Close']]\n",
    "btc_df.index.name = 'timestamp'\n",
    "\n",
    "btc_df"
   ]
  },
  {
   "cell_type": "code",
   "execution_count": 164,
   "id": "e43a2c0d-1047-4e64-9fc6-b1f8ac1b0dd2",
   "metadata": {},
   "outputs": [
    {
     "data": {
      "text/plain": [
       "Open      float64\n",
       "High      float64\n",
       "Low       float64\n",
       "Volume      int64\n",
       "Close     float64\n",
       "dtype: object"
      ]
     },
     "execution_count": 164,
     "metadata": {},
     "output_type": "execute_result"
    }
   ],
   "source": [
    "btc_df.dtypes"
   ]
  },
  {
   "cell_type": "code",
   "execution_count": 165,
   "id": "1d38d1e5",
   "metadata": {},
   "outputs": [
    {
     "name": "stderr",
     "output_type": "stream",
     "text": [
      "C:\\Users\\gtkhh\\AppData\\Local\\Temp\\ipykernel_3172\\3511638838.py:2: SettingWithCopyWarning: \n",
      "A value is trying to be set on a copy of a slice from a DataFrame.\n",
      "Try using .loc[row_indexer,col_indexer] = value instead\n",
      "\n",
      "See the caveats in the documentation: https://pandas.pydata.org/pandas-docs/stable/user_guide/indexing.html#returning-a-view-versus-a-copy\n",
      "  btc_df[['Open', 'High','Low','Volume','Close']]=btc_df[['Open', 'High','Low','Volume','Close']].shift(24)\n"
     ]
    },
    {
     "data": {
      "text/html": [
       "<div>\n",
       "<style scoped>\n",
       "    .dataframe tbody tr th:only-of-type {\n",
       "        vertical-align: middle;\n",
       "    }\n",
       "\n",
       "    .dataframe tbody tr th {\n",
       "        vertical-align: top;\n",
       "    }\n",
       "\n",
       "    .dataframe thead th {\n",
       "        text-align: right;\n",
       "    }\n",
       "</style>\n",
       "<table border=\"1\" class=\"dataframe\">\n",
       "  <thead>\n",
       "    <tr style=\"text-align: right;\">\n",
       "      <th></th>\n",
       "      <th>Open</th>\n",
       "      <th>High</th>\n",
       "      <th>Low</th>\n",
       "      <th>Volume</th>\n",
       "      <th>Close</th>\n",
       "    </tr>\n",
       "    <tr>\n",
       "      <th>timestamp</th>\n",
       "      <th></th>\n",
       "      <th></th>\n",
       "      <th></th>\n",
       "      <th></th>\n",
       "      <th></th>\n",
       "    </tr>\n",
       "  </thead>\n",
       "  <tbody>\n",
       "    <tr>\n",
       "      <th>2021-09-01 00:00:00+00:00</th>\n",
       "      <td>NaN</td>\n",
       "      <td>NaN</td>\n",
       "      <td>NaN</td>\n",
       "      <td>NaN</td>\n",
       "      <td>NaN</td>\n",
       "    </tr>\n",
       "    <tr>\n",
       "      <th>2021-09-01 01:00:00+00:00</th>\n",
       "      <td>NaN</td>\n",
       "      <td>NaN</td>\n",
       "      <td>NaN</td>\n",
       "      <td>NaN</td>\n",
       "      <td>NaN</td>\n",
       "    </tr>\n",
       "    <tr>\n",
       "      <th>2021-09-01 02:00:00+00:00</th>\n",
       "      <td>NaN</td>\n",
       "      <td>NaN</td>\n",
       "      <td>NaN</td>\n",
       "      <td>NaN</td>\n",
       "      <td>NaN</td>\n",
       "    </tr>\n",
       "    <tr>\n",
       "      <th>2021-09-01 03:00:00+00:00</th>\n",
       "      <td>NaN</td>\n",
       "      <td>NaN</td>\n",
       "      <td>NaN</td>\n",
       "      <td>NaN</td>\n",
       "      <td>NaN</td>\n",
       "    </tr>\n",
       "    <tr>\n",
       "      <th>2021-09-01 04:00:00+00:00</th>\n",
       "      <td>NaN</td>\n",
       "      <td>NaN</td>\n",
       "      <td>NaN</td>\n",
       "      <td>NaN</td>\n",
       "      <td>NaN</td>\n",
       "    </tr>\n",
       "  </tbody>\n",
       "</table>\n",
       "</div>"
      ],
      "text/plain": [
       "                           Open  High  Low  Volume  Close\n",
       "timestamp                                                \n",
       "2021-09-01 00:00:00+00:00   NaN   NaN  NaN     NaN    NaN\n",
       "2021-09-01 01:00:00+00:00   NaN   NaN  NaN     NaN    NaN\n",
       "2021-09-01 02:00:00+00:00   NaN   NaN  NaN     NaN    NaN\n",
       "2021-09-01 03:00:00+00:00   NaN   NaN  NaN     NaN    NaN\n",
       "2021-09-01 04:00:00+00:00   NaN   NaN  NaN     NaN    NaN"
      ]
     },
     "metadata": {},
     "output_type": "display_data"
    },
    {
     "data": {
      "text/html": [
       "<div>\n",
       "<style scoped>\n",
       "    .dataframe tbody tr th:only-of-type {\n",
       "        vertical-align: middle;\n",
       "    }\n",
       "\n",
       "    .dataframe tbody tr th {\n",
       "        vertical-align: top;\n",
       "    }\n",
       "\n",
       "    .dataframe thead th {\n",
       "        text-align: right;\n",
       "    }\n",
       "</style>\n",
       "<table border=\"1\" class=\"dataframe\">\n",
       "  <thead>\n",
       "    <tr style=\"text-align: right;\">\n",
       "      <th></th>\n",
       "      <th>Open</th>\n",
       "      <th>High</th>\n",
       "      <th>Low</th>\n",
       "      <th>Volume</th>\n",
       "      <th>Close</th>\n",
       "    </tr>\n",
       "    <tr>\n",
       "      <th>timestamp</th>\n",
       "      <th></th>\n",
       "      <th></th>\n",
       "      <th></th>\n",
       "      <th></th>\n",
       "      <th></th>\n",
       "    </tr>\n",
       "  </thead>\n",
       "  <tbody>\n",
       "    <tr>\n",
       "      <th>2021-09-02 01:00:00+00:00</th>\n",
       "      <td>47005.863281</td>\n",
       "      <td>47294.664062</td>\n",
       "      <td>46788.101562</td>\n",
       "      <td>0.0</td>\n",
       "      <td>46788.101562</td>\n",
       "    </tr>\n",
       "    <tr>\n",
       "      <th>2021-09-02 02:00:00+00:00</th>\n",
       "      <td>46754.980469</td>\n",
       "      <td>46882.425781</td>\n",
       "      <td>46562.437500</td>\n",
       "      <td>549335040.0</td>\n",
       "      <td>46857.597656</td>\n",
       "    </tr>\n",
       "    <tr>\n",
       "      <th>2021-09-02 03:00:00+00:00</th>\n",
       "      <td>46873.109375</td>\n",
       "      <td>47089.496094</td>\n",
       "      <td>46773.453125</td>\n",
       "      <td>417816576.0</td>\n",
       "      <td>46920.796875</td>\n",
       "    </tr>\n",
       "    <tr>\n",
       "      <th>2021-09-02 04:00:00+00:00</th>\n",
       "      <td>46879.375000</td>\n",
       "      <td>46960.765625</td>\n",
       "      <td>46733.917969</td>\n",
       "      <td>271110144.0</td>\n",
       "      <td>46938.312500</td>\n",
       "    </tr>\n",
       "    <tr>\n",
       "      <th>2021-09-02 05:00:00+00:00</th>\n",
       "      <td>47041.230469</td>\n",
       "      <td>47246.312500</td>\n",
       "      <td>47017.937500</td>\n",
       "      <td>63414272.0</td>\n",
       "      <td>47158.402344</td>\n",
       "    </tr>\n",
       "  </tbody>\n",
       "</table>\n",
       "</div>"
      ],
      "text/plain": [
       "                                   Open          High           Low  \\\n",
       "timestamp                                                             \n",
       "2021-09-02 01:00:00+00:00  47005.863281  47294.664062  46788.101562   \n",
       "2021-09-02 02:00:00+00:00  46754.980469  46882.425781  46562.437500   \n",
       "2021-09-02 03:00:00+00:00  46873.109375  47089.496094  46773.453125   \n",
       "2021-09-02 04:00:00+00:00  46879.375000  46960.765625  46733.917969   \n",
       "2021-09-02 05:00:00+00:00  47041.230469  47246.312500  47017.937500   \n",
       "\n",
       "                                Volume         Close  \n",
       "timestamp                                             \n",
       "2021-09-02 01:00:00+00:00          0.0  46788.101562  \n",
       "2021-09-02 02:00:00+00:00  549335040.0  46857.597656  \n",
       "2021-09-02 03:00:00+00:00  417816576.0  46920.796875  \n",
       "2021-09-02 04:00:00+00:00  271110144.0  46938.312500  \n",
       "2021-09-02 05:00:00+00:00   63414272.0  47158.402344  "
      ]
     },
     "metadata": {},
     "output_type": "display_data"
    }
   ],
   "source": [
    "# Shift X data to predict price 24 hours in the future\n",
    "btc_df[['Open', 'High','Low','Volume','Close']]=btc_df[['Open', 'High','Low','Volume','Close']].shift(24)\n",
    "display(btc_df.head())\n",
    "\n",
    "# Drop rows w/ empty values\n",
    "btc_df = btc_df.dropna()\n",
    "display(btc_df.head())"
   ]
  },
  {
   "cell_type": "code",
   "execution_count": 166,
   "id": "130b2d0a",
   "metadata": {},
   "outputs": [
    {
     "data": {
      "text/plain": [
       "[<matplotlib.lines.Line2D at 0x1d5f4854430>]"
      ]
     },
     "execution_count": 166,
     "metadata": {},
     "output_type": "execute_result"
    },
    {
     "data": {
      "image/png": "[encoded data removed]",
      "text/plain": [
       "<Figure size 640x480 with 1 Axes>"
      ]
     },
     "metadata": {},
     "output_type": "display_data"
    }
   ],
   "source": [
    "plt.plot(range(len(btc_df)), btc_df[['Close']])"
   ]
  },
  {
   "cell_type": "markdown",
   "id": "ed54f618",
   "metadata": {},
   "source": [
    "### Splitting data into 3D Tensors"
   ]
  },
  {
   "cell_type": "code",
   "execution_count": 167,
   "id": "6e748bf2",
   "metadata": {},
   "outputs": [],
   "source": [
    "# Split test and train data\n",
    "\n",
    "split_ratio=.7\n",
    "train_count=int(len(btc_df)*.7)\n",
    "\n",
    "train=btc_df.iloc[:train_count]\n",
    "test=btc_df.iloc[train_count:]"
   ]
  },
  {
   "cell_type": "code",
   "execution_count": 168,
   "id": "22b9c98b",
   "metadata": {},
   "outputs": [
    {
     "data": {
      "text/plain": [
       "array([[0.48420449, 0.47977872, 0.48516987, 0.        , 0.47842622],\n",
       "       [0.47821475, 0.46980173, 0.47981282, 0.00220604, 0.48008631],\n",
       "       [0.48103503, 0.47481325, 0.48482213, 0.00167788, 0.48159598],\n",
       "       ...,\n",
       "       [0.05998182, 0.04287452, 0.06764893, 0.        , 0.05844709],\n",
       "       [0.05926749, 0.04366473, 0.06754461, 0.        , 0.05993437],\n",
       "       [0.06073098, 0.04400857, 0.06873022, 0.        , 0.05989742]])"
      ]
     },
     "execution_count": 168,
     "metadata": {},
     "output_type": "execute_result"
    }
   ],
   "source": [
    "# Create a MinMaxScaler instance\n",
    "scaler = MinMaxScaler()\n",
    "\n",
    "# Fit the scaler to the features training dataset\n",
    "train_scaled = scaler.fit_transform(train)\n",
    "\n",
    "train_scaled"
   ]
  },
  {
   "cell_type": "code",
   "execution_count": 169,
   "id": "699d64f7",
   "metadata": {},
   "outputs": [
    {
     "data": {
      "text/plain": [
       "array([[0.9917544 , 0.99660292, 0.99625549, 0.        , 1.        ],\n",
       "       [1.        , 1.        , 0.99880977, 0.01470376, 0.99365561],\n",
       "       [0.99350099, 0.99151577, 0.99808012, 0.        , 0.99437543],\n",
       "       ...,\n",
       "       [0.13436142, 0.11496549, 0.14143968, 0.        , 0.1394895 ],\n",
       "       [0.13346179, 0.11404914, 0.14108615, 0.        , 0.1406901 ],\n",
       "       [0.13433788, 0.11719015, 0.14382756, 0.        , 0.14368957]])"
      ]
     },
     "execution_count": 169,
     "metadata": {},
     "output_type": "execute_result"
    }
   ],
   "source": [
    "# Scale test data\n",
    "test_scaled = scaler.fit_transform(test)\n",
    "\n",
    "test_scaled"
   ]
  },
  {
   "cell_type": "code",
   "execution_count": 170,
   "id": "4f355bd1",
   "metadata": {},
   "outputs": [
    {
     "data": {
      "text/plain": [
       "(6662, 60, 4)"
      ]
     },
     "execution_count": 170,
     "metadata": {},
     "output_type": "execute_result"
    }
   ],
   "source": [
    "# Set global candles variable\n",
    "candles=60\n",
    "\n",
    "# Create X training set\n",
    "X_train = []\n",
    "\n",
    "for i in range(len(train_scaled) - candles):\n",
    "    X_train.append(train_scaled[:,:4][i:i+candles])\n",
    "\n",
    "X_train = np.array(X_train)\n",
    "X_train.shape"
   ]
  },
  {
   "cell_type": "code",
   "execution_count": 171,
   "id": "ee27c3d3",
   "metadata": {},
   "outputs": [
    {
     "data": {
      "text/plain": [
       "(6662,)"
      ]
     },
     "execution_count": 171,
     "metadata": {},
     "output_type": "execute_result"
    }
   ],
   "source": [
    "# Create y training set\n",
    "y_train = []\n",
    "\n",
    "for i in range(len(train_scaled) - candles):\n",
    "    y_train.append(train_scaled[:,(4)][i+candles])\n",
    "\n",
    "y_train = np.array(y_train)\n",
    "y_train.shape"
   ]
  },
  {
   "cell_type": "code",
   "execution_count": 172,
   "id": "fecde592",
   "metadata": {},
   "outputs": [
    {
     "data": {
      "text/plain": [
       "(2822, 60, 4)"
      ]
     },
     "execution_count": 172,
     "metadata": {},
     "output_type": "execute_result"
    }
   ],
   "source": [
    "# Create X test set\n",
    "X_test = []\n",
    "\n",
    "for i in range(len(test_scaled) - candles):\n",
    "    X_test.append(test_scaled[:,:4][i  : i+candles])\n",
    "\n",
    "X_test = np.array(X_test)\n",
    "X_test.shape"
   ]
  },
  {
   "cell_type": "code",
   "execution_count": 173,
   "id": "8755c695",
   "metadata": {},
   "outputs": [
    {
     "data": {
      "text/plain": [
       "(2822,)"
      ]
     },
     "execution_count": 173,
     "metadata": {},
     "output_type": "execute_result"
    }
   ],
   "source": [
    "# Create y test set\n",
    "y_test = []\n",
    "\n",
    "for i in range(len(test_scaled) - candles):\n",
    "    y_test.append(test_scaled[:,(4)][i+candles])\n",
    "\n",
    "y_test = np.array(y_test)\n",
    "y_test.shape"
   ]
  },
  {
   "cell_type": "markdown",
   "id": "737757e8",
   "metadata": {},
   "source": [
    "## Model Creation"
   ]
  },
  {
   "cell_type": "code",
   "execution_count": 174,
   "id": "35540597",
   "metadata": {},
   "outputs": [
    {
     "data": {
      "text/plain": [
       "64"
      ]
     },
     "metadata": {},
     "output_type": "display_data"
    },
    {
     "data": {
      "text/plain": [
       "64"
      ]
     },
     "metadata": {},
     "output_type": "display_data"
    },
    {
     "data": {
      "text/plain": [
       "64"
      ]
     },
     "metadata": {},
     "output_type": "display_data"
    }
   ],
   "source": [
    "# Create the Sequential model instance\n",
    "regr_nn = Sequential()\n",
    "\n",
    "# Define the number of neurons in the output layer\n",
    "number_output_neurons = 1\n",
    "\n",
    "#Define the number of hidden nodes for the first hidden layer\n",
    "hidden_nodes_layer1 = 64\n",
    "\n",
    "# Define hidden nodes for all hidden layers\n",
    "hidden_nodes = 64\n",
    "display(hidden_nodes)\n",
    "\n",
    "# Review the number hidden nodes in the first layer\n",
    "display(hidden_nodes_layer1)\n",
    "\n",
    "#Define the number of hidden nodes for the second hidden layer\n",
    "hidden_nodes_layer2 = 64\n",
    "\n",
    "# Review the number hidden nodes in the second layer\n",
    "display(hidden_nodes_layer2)"
   ]
  },
  {
   "cell_type": "code",
   "execution_count": 175,
   "id": "3dd184fc",
   "metadata": {},
   "outputs": [],
   "source": [
    "# Add the first hidden layer\n",
    "regr_nn.add(LSTM(units=hidden_nodes_layer1, return_sequences=True, input_shape=(candles,(len(btc_df.columns)-1))))"
   ]
  },
  {
   "cell_type": "code",
   "execution_count": 176,
   "id": "318dba3b",
   "metadata": {},
   "outputs": [],
   "source": [
    "# # Add dropout layer\n",
    "regr_nn.add(Dropout(rate=0.2))"
   ]
  },
  {
   "cell_type": "code",
   "execution_count": 177,
   "id": "a0a0c87c",
   "metadata": {},
   "outputs": [],
   "source": [
    "#Add the second hidden layer\n",
    "regr_nn.add(LSTM(units=hidden_nodes, return_sequences=True))\n"
   ]
  },
  {
   "cell_type": "code",
   "execution_count": 178,
   "id": "32535ceb",
   "metadata": {},
   "outputs": [],
   "source": [
    "# # Add dropout layer\n",
    "regr_nn.add(Dropout(rate=0.2))"
   ]
  },
  {
   "cell_type": "code",
   "execution_count": 179,
   "id": "fd4ad807",
   "metadata": {},
   "outputs": [],
   "source": [
    "# #Add the third hidden layer\n",
    "regr_nn.add(LSTM(units=hidden_nodes))"
   ]
  },
  {
   "cell_type": "code",
   "execution_count": 180,
   "id": "e74381da",
   "metadata": {},
   "outputs": [],
   "source": [
    "# # Add dropout layer\n",
    "# regr_nn.add(Dropout(rate=0.2))"
   ]
  },
  {
   "cell_type": "code",
   "execution_count": 181,
   "id": "6b293aeb",
   "metadata": {},
   "outputs": [],
   "source": [
    "# Add Dense layer\n",
    "# regr_nn.add(Dense(units=6, activation='relu'))"
   ]
  },
  {
   "cell_type": "code",
   "execution_count": 182,
   "id": "21bfb7b4",
   "metadata": {},
   "outputs": [],
   "source": [
    "# Add the output layer to the model specifying the number of output neurons and activation function\n",
    "regr_nn.add(Dense(units=1,  activation='linear'))\n"
   ]
  },
  {
   "cell_type": "code",
   "execution_count": 183,
   "id": "a32137c2",
   "metadata": {},
   "outputs": [
    {
     "name": "stdout",
     "output_type": "stream",
     "text": [
      "Model: \"sequential_5\"\n",
      "_________________________________________________________________\n",
      " Layer (type)                Output Shape              Param #   \n",
      "=================================================================\n",
      " lstm_15 (LSTM)              (None, 60, 64)            17664     \n",
      "                                                                 \n",
      " dropout_10 (Dropout)        (None, 60, 64)            0         \n",
      "                                                                 \n",
      " lstm_16 (LSTM)              (None, 60, 64)            33024     \n",
      "                                                                 \n",
      " dropout_11 (Dropout)        (None, 60, 64)            0         \n",
      "                                                                 \n",
      " lstm_17 (LSTM)              (None, 64)                33024     \n",
      "                                                                 \n",
      " dense_5 (Dense)             (None, 1)                 65        \n",
      "                                                                 \n",
      "=================================================================\n",
      "Total params: 83,777\n",
      "Trainable params: 83,777\n",
      "Non-trainable params: 0\n",
      "_________________________________________________________________\n"
     ]
    }
   ],
   "source": [
    "# Display the Sequential model summary, subclassed model requires build\n",
    "regr_nn.build(X_train.shape)\n",
    "regr_nn.summary()"
   ]
  },
  {
   "cell_type": "code",
   "execution_count": 184,
   "id": "278bc04e",
   "metadata": {},
   "outputs": [],
   "source": [
    "# Compile the Sequential model\n",
    "\n",
    "regr_nn.compile(loss='mean_squared_error', optimizer='adam')"
   ]
  },
  {
   "cell_type": "code",
   "execution_count": 185,
   "id": "7881e7f5",
   "metadata": {},
   "outputs": [
    {
     "name": "stdout",
     "output_type": "stream",
     "text": [
      "Epoch 1/20\n",
      "207/207 [==============================] - 10s 26ms/step - loss: 0.0043 - val_loss: 4.3409e-05\n",
      "Epoch 2/20\n",
      "207/207 [==============================] - 4s 19ms/step - loss: 8.2414e-04 - val_loss: 3.7988e-05\n",
      "Epoch 3/20\n",
      "207/207 [==============================] - 4s 19ms/step - loss: 7.1696e-04 - val_loss: 1.7153e-04\n",
      "Epoch 4/20\n",
      "207/207 [==============================] - 4s 19ms/step - loss: 6.7965e-04 - val_loss: 3.5072e-05\n",
      "Epoch 5/20\n",
      "207/207 [==============================] - 4s 20ms/step - loss: 6.0484e-04 - val_loss: 5.2376e-05\n",
      "Epoch 6/20\n",
      "207/207 [==============================] - 4s 19ms/step - loss: 5.2662e-04 - val_loss: 1.3560e-04\n",
      "Epoch 7/20\n",
      "207/207 [==============================] - 4s 19ms/step - loss: 5.5765e-04 - val_loss: 7.3637e-05\n",
      "Epoch 8/20\n",
      "207/207 [==============================] - 4s 21ms/step - loss: 4.6719e-04 - val_loss: 7.9893e-05\n",
      "Epoch 9/20\n",
      "207/207 [==============================] - 5s 24ms/step - loss: 4.7453e-04 - val_loss: 1.1376e-04\n",
      "Epoch 10/20\n",
      "207/207 [==============================] - 4s 21ms/step - loss: 3.9619e-04 - val_loss: 7.1757e-05\n",
      "Epoch 11/20\n",
      "207/207 [==============================] - 4s 20ms/step - loss: 3.8130e-04 - val_loss: 3.1297e-05\n",
      "Epoch 12/20\n",
      "207/207 [==============================] - 4s 20ms/step - loss: 3.6959e-04 - val_loss: 4.2799e-05\n",
      "Epoch 13/20\n",
      "207/207 [==============================] - 4s 21ms/step - loss: 3.3757e-04 - val_loss: 4.8704e-05\n",
      "Epoch 14/20\n",
      "207/207 [==============================] - 4s 21ms/step - loss: 3.5040e-04 - val_loss: 3.1919e-05\n",
      "Epoch 15/20\n",
      "207/207 [==============================] - 4s 21ms/step - loss: 2.9476e-04 - val_loss: 3.6847e-05\n",
      "Epoch 16/20\n",
      "207/207 [==============================] - 4s 20ms/step - loss: 2.9783e-04 - val_loss: 4.2164e-05\n",
      "Epoch 17/20\n",
      "207/207 [==============================] - 4s 21ms/step - loss: 2.7979e-04 - val_loss: 3.1857e-05\n",
      "Epoch 18/20\n",
      "207/207 [==============================] - 4s 21ms/step - loss: 2.6619e-04 - val_loss: 2.6377e-05\n",
      "Epoch 19/20\n",
      "207/207 [==============================] - 4s 21ms/step - loss: 2.6062e-04 - val_loss: 2.3047e-05\n",
      "Epoch 20/20\n",
      "207/207 [==============================] - 4s 21ms/step - loss: 2.4779e-04 - val_loss: 1.0590e-04\n"
     ]
    }
   ],
   "source": [
    "# Fit the model using epochs and the training data\n",
    "regr_model=regr_nn.fit(X_train, y_train, epochs=20, validation_split=.01)"
   ]
  },
  {
   "cell_type": "code",
   "execution_count": 186,
   "id": "0d6b54c1",
   "metadata": {},
   "outputs": [
    {
     "data": {
      "image/png": "[encoded data removed]",
      "text/plain": [
       "<Figure size 640x480 with 1 Axes>"
      ]
     },
     "metadata": {},
     "output_type": "display_data"
    }
   ],
   "source": [
    "# Train vs test for loss\n",
    "plt.plot(regr_model.history[\"loss\"])\n",
    "plt.plot(regr_model.history[\"val_loss\"])\n",
    "plt.title(\"Training Vs. Validation 2 LSTM, w/ Dropout\")\n",
    "plt.legend([\"loss\", \"val_loss\"])\n",
    "plt.show()"
   ]
  },
  {
   "cell_type": "code",
   "execution_count": 187,
   "id": "27737358",
   "metadata": {},
   "outputs": [
    {
     "name": "stdout",
     "output_type": "stream",
     "text": [
      "89/89 [==============================] - 2s 10ms/step\n"
     ]
    },
    {
     "data": {
      "text/plain": [
       "array([[0.4896343 ],\n",
       "       [0.4821195 ],\n",
       "       [0.48157564],\n",
       "       ...,\n",
       "       [0.13913655],\n",
       "       [0.13972637],\n",
       "       [0.13996649]], dtype=float32)"
      ]
     },
     "execution_count": 187,
     "metadata": {},
     "output_type": "execute_result"
    }
   ],
   "source": [
    "# Make model predictionis\n",
    "\n",
    "y_pred=regr_nn.predict(X_test)\n",
    "\n",
    "y_pred\n"
   ]
  },
  {
   "cell_type": "code",
   "execution_count": 188,
   "id": "2b76f42d",
   "metadata": {},
   "outputs": [
    {
     "data": {
      "text/plain": [
       "<matplotlib.legend.Legend at 0x1d582941b50>"
      ]
     },
     "execution_count": 188,
     "metadata": {},
     "output_type": "execute_result"
    },
    {
     "data": {
      "image/png": "[encoded data removed]",
      "text/plain": [
       "<Figure size 640x480 with 1 Axes>"
      ]
     },
     "metadata": {},
     "output_type": "display_data"
    }
   ],
   "source": [
    "# Plot prediction results\n",
    "plt.plot(range(len(y_test)), (y_test))\n",
    "plt.plot(range(len(y_test)), (y_pred))\n",
    "plt.legend([\"test\", \"prediction\"])"
   ]
  },
  {
   "cell_type": "code",
   "execution_count": 189,
   "id": "e9607f67",
   "metadata": {},
   "outputs": [],
   "source": [
    "# Set the file path for the first regression model\n",
    "file_path = Path('Models/regr_nn.h5')\n",
    "\n",
    "# Export your model to a HDF5 file\n",
    "regr_nn.save(file_path)"
   ]
  },
  {
   "cell_type": "code",
   "execution_count": null,
   "id": "ca58470f",
   "metadata": {},
   "outputs": [],
   "source": []
  }
 ],
 "metadata": {
  "kernelspec": {
   "display_name": "Python 3.8.13 ('dev')",
   "language": "python",
   "name": "python3"
  },
  "language_info": {
   "codemirror_mode": {
    "name": "ipython",
    "version": 3
   },
   "file_extension": ".py",
   "mimetype": "text/x-python",
   "name": "python",
   "nbconvert_exporter": "python",
   "pygments_lexer": "ipython3",
   "version": "3.8.13"
  },
  "vscode": {
   "interpreter": {
    "hash": "e0193224db03a40cbeeb1d1467a8281023d0cf41b04cb80c5135a7c4428e4098"
   }
  }
 },
 "nbformat": 4,
 "nbformat_minor": 5
}
