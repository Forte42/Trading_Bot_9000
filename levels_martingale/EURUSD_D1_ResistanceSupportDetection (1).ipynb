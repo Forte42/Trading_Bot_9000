{
 "cells": [
  {
   "cell_type": "markdown",
   "metadata": {},
   "source": [
    "# Resistance/Support Detection"
   ]
  },
  {
   "cell_type": "code",
   "execution_count": 15,
   "metadata": {
    "scrolled": true
   },
   "outputs": [
    {
     "data": {
      "text/html": [
       "<div>\n",
       "<style scoped>\n",
       "    .dataframe tbody tr th:only-of-type {\n",
       "        vertical-align: middle;\n",
       "    }\n",
       "\n",
       "    .dataframe tbody tr th {\n",
       "        vertical-align: top;\n",
       "    }\n",
       "\n",
       "    .dataframe thead th {\n",
       "        text-align: right;\n",
       "    }\n",
       "</style>\n",
       "<table border=\"1\" class=\"dataframe\">\n",
       "  <thead>\n",
       "    <tr style=\"text-align: right;\">\n",
       "      <th></th>\n",
       "      <th>Local time</th>\n",
       "      <th>Open</th>\n",
       "      <th>High</th>\n",
       "      <th>Low</th>\n",
       "      <th>Close</th>\n",
       "      <th>Volume</th>\n",
       "    </tr>\n",
       "  </thead>\n",
       "  <tbody>\n",
       "    <tr>\n",
       "      <th>1086</th>\n",
       "      <td>20.09.2022 14:00:00.000 GMT-0700</td>\n",
       "      <td>18936</td>\n",
       "      <td>19845</td>\n",
       "      <td>18694</td>\n",
       "      <td>18891</td>\n",
       "      <td>0.8975</td>\n",
       "    </tr>\n",
       "    <tr>\n",
       "      <th>1087</th>\n",
       "      <td>21.09.2022 14:00:00.000 GMT-0700</td>\n",
       "      <td>18891</td>\n",
       "      <td>19449</td>\n",
       "      <td>18140</td>\n",
       "      <td>19212</td>\n",
       "      <td>1.1559</td>\n",
       "    </tr>\n",
       "    <tr>\n",
       "      <th>1088</th>\n",
       "      <td>22.09.2022 14:00:00.000 GMT-0700</td>\n",
       "      <td>19212</td>\n",
       "      <td>19465</td>\n",
       "      <td>18501</td>\n",
       "      <td>18811</td>\n",
       "      <td>0.8004</td>\n",
       "    </tr>\n",
       "    <tr>\n",
       "      <th>1089</th>\n",
       "      <td>23.09.2022 14:00:00.000 GMT-0700</td>\n",
       "      <td>18811</td>\n",
       "      <td>19335</td>\n",
       "      <td>18743</td>\n",
       "      <td>19086</td>\n",
       "      <td>0.0584</td>\n",
       "    </tr>\n",
       "    <tr>\n",
       "      <th>1090</th>\n",
       "      <td>24.09.2022 14:00:00.000 GMT-0700</td>\n",
       "      <td>19086</td>\n",
       "      <td>19130</td>\n",
       "      <td>18777</td>\n",
       "      <td>18851</td>\n",
       "      <td>0.1035</td>\n",
       "    </tr>\n",
       "  </tbody>\n",
       "</table>\n",
       "</div>"
      ],
      "text/plain": [
       "                            Local time   Open   High    Low  Close  Volume\n",
       "1086  20.09.2022 14:00:00.000 GMT-0700  18936  19845  18694  18891  0.8975\n",
       "1087  21.09.2022 14:00:00.000 GMT-0700  18891  19449  18140  19212  1.1559\n",
       "1088  22.09.2022 14:00:00.000 GMT-0700  19212  19465  18501  18811  0.8004\n",
       "1089  23.09.2022 14:00:00.000 GMT-0700  18811  19335  18743  19086  0.0584\n",
       "1090  24.09.2022 14:00:00.000 GMT-0700  19086  19130  18777  18851  0.1035"
      ]
     },
     "execution_count": 15,
     "metadata": {},
     "output_type": "execute_result"
    }
   ],
   "source": [
    "import pandas as pd\n",
    "df = pd.read_csv(\"BTCUSD_Candlestick_1_D_BID_01.10.2019-24.09.2022.csv\")\n",
    "df.tail()"
   ]
  },
  {
   "cell_type": "code",
   "execution_count": 17,
   "metadata": {},
   "outputs": [
    {
     "data": {
      "text/html": [
       "<div>\n",
       "<style scoped>\n",
       "    .dataframe tbody tr th:only-of-type {\n",
       "        vertical-align: middle;\n",
       "    }\n",
       "\n",
       "    .dataframe tbody tr th {\n",
       "        vertical-align: top;\n",
       "    }\n",
       "\n",
       "    .dataframe thead th {\n",
       "        text-align: right;\n",
       "    }\n",
       "</style>\n",
       "<table border=\"1\" class=\"dataframe\">\n",
       "  <thead>\n",
       "    <tr style=\"text-align: right;\">\n",
       "      <th></th>\n",
       "      <th>Local time</th>\n",
       "      <th>Open</th>\n",
       "      <th>High</th>\n",
       "      <th>Low</th>\n",
       "      <th>Close</th>\n",
       "      <th>Volume</th>\n",
       "    </tr>\n",
       "  </thead>\n",
       "  <tbody>\n",
       "    <tr>\n",
       "      <th>1017</th>\n",
       "      <td>20.09.2022 14:00:00.000 GMT-0700</td>\n",
       "      <td>18936</td>\n",
       "      <td>19845</td>\n",
       "      <td>18694</td>\n",
       "      <td>18891</td>\n",
       "      <td>0.8975</td>\n",
       "    </tr>\n",
       "    <tr>\n",
       "      <th>1018</th>\n",
       "      <td>21.09.2022 14:00:00.000 GMT-0700</td>\n",
       "      <td>18891</td>\n",
       "      <td>19449</td>\n",
       "      <td>18140</td>\n",
       "      <td>19212</td>\n",
       "      <td>1.1559</td>\n",
       "    </tr>\n",
       "    <tr>\n",
       "      <th>1019</th>\n",
       "      <td>22.09.2022 14:00:00.000 GMT-0700</td>\n",
       "      <td>19212</td>\n",
       "      <td>19465</td>\n",
       "      <td>18501</td>\n",
       "      <td>18811</td>\n",
       "      <td>0.8004</td>\n",
       "    </tr>\n",
       "    <tr>\n",
       "      <th>1020</th>\n",
       "      <td>23.09.2022 14:00:00.000 GMT-0700</td>\n",
       "      <td>18811</td>\n",
       "      <td>19335</td>\n",
       "      <td>18743</td>\n",
       "      <td>19086</td>\n",
       "      <td>0.0584</td>\n",
       "    </tr>\n",
       "    <tr>\n",
       "      <th>1021</th>\n",
       "      <td>24.09.2022 14:00:00.000 GMT-0700</td>\n",
       "      <td>19086</td>\n",
       "      <td>19130</td>\n",
       "      <td>18777</td>\n",
       "      <td>18851</td>\n",
       "      <td>0.1035</td>\n",
       "    </tr>\n",
       "  </tbody>\n",
       "</table>\n",
       "</div>"
      ],
      "text/plain": [
       "                            Local time   Open   High    Low  Close  Volume\n",
       "1017  20.09.2022 14:00:00.000 GMT-0700  18936  19845  18694  18891  0.8975\n",
       "1018  21.09.2022 14:00:00.000 GMT-0700  18891  19449  18140  19212  1.1559\n",
       "1019  22.09.2022 14:00:00.000 GMT-0700  19212  19465  18501  18811  0.8004\n",
       "1020  23.09.2022 14:00:00.000 GMT-0700  18811  19335  18743  19086  0.0584\n",
       "1021  24.09.2022 14:00:00.000 GMT-0700  19086  19130  18777  18851  0.1035"
      ]
     },
     "execution_count": 17,
     "metadata": {},
     "output_type": "execute_result"
    }
   ],
   "source": [
    "#Check if NA values are in data\n",
    "df=df[df['Volume']!=0]\n",
    "df.reset_index(drop=True, inplace=True)\n",
    "df.isna().sum()\n",
    "df.tail()"
   ]
  },
  {
   "cell_type": "markdown",
   "metadata": {},
   "source": [
    "# Support and Resitance FUNCTIONS"
   ]
  },
  {
   "cell_type": "code",
   "execution_count": 23,
   "metadata": {},
   "outputs": [],
   "source": [
    "def support(df1, l, n1, n2): #n1 n2 before and after candle l\n",
    "    for i in range(l-n1+1, l+1):\n",
    "        if(df1.Low[i]>df1.Low[i-1]):\n",
    "            return 0\n",
    "    for i in range(l+1,l+n2+1):\n",
    "        if(df1.Low[i]<df1.Low[i-1]):\n",
    "            return 0\n",
    "    return 1\n",
    "\n",
    "#support(df,46,3,2)\n",
    "\n",
    "def resistance(df1, l, n1, n2): #n1 n2 before and after candle l\n",
    "    for i in range(l-n1+1, l+1):\n",
    "        if(df1.High[i]<df1.High[i-1]):\n",
    "            return 0\n",
    "    for i in range(l+1,l+n2+1):\n",
    "        if(df1.High[i]>df1.High[i-1]):\n",
    "            return 0\n",
    "    return 1\n",
    "#resistance(df, 30, 3, 5)\n"
   ]
  },
  {
   "cell_type": "code",
   "execution_count": 24,
   "metadata": {},
   "outputs": [
    {
     "data": {
      "application/vnd.plotly.v1+json": {
       "config": {
        "plotlyServerURL": "https://plot.ly"
       },
       "data": [
        {
         "close": [
          8318,
          8176,
          8091,
          8109,
          8159,
          8072,
          8532,
          8523,
          8283,
          8285,
          8085,
          7930,
          7989,
          7889,
          8149,
          8067,
          7433,
          7399,
          8511,
          9401,
          9388,
          9128,
          9154,
          9154,
          9099,
          9385,
          9300,
          9261,
          9153,
          8743,
          8983,
          8676,
          8707,
          8695,
          8593,
          8410,
          8497,
          8163,
          8049,
          8029,
          7537,
          7272,
          6989,
          7154,
          7056,
          7493,
          7507,
          7688,
          7323,
          7260
         ],
         "high": [
          8472,
          8359,
          8359,
          8239,
          8254,
          8285,
          8634,
          8604,
          8755,
          8347,
          8360,
          8118,
          8070,
          8063,
          8287,
          8256,
          8067,
          7454,
          8712,
          9876,
          9504,
          9414,
          9373,
          9302,
          9108,
          9507,
          9425,
          9389,
          9315,
          9194,
          8990,
          9040,
          8808,
          8779,
          8730,
          8713,
          8507,
          8498,
          8163,
          8164,
          8059,
          7654,
          7043,
          7318,
          7283,
          7615,
          7602,
          7807,
          7329,
          7395
         ],
         "low": [
          8137,
          8120,
          8030,
          7972,
          7714,
          8057,
          8065,
          8399,
          8232,
          8163,
          8059,
          7856,
          7883,
          7765,
          8102,
          8021,
          7247,
          7302,
          7341,
          9213,
          9034,
          8945,
          8903,
          9004,
          9022,
          9071,
          9133,
          9201,
          9031,
          8617,
          8969,
          8549,
          8509,
          8651,
          8505,
          8326,
          8467,
          7982,
          7942,
          7971,
          7344,
          6739,
          6981,
          6471,
          6974,
          6795,
          7369,
          7319,
          7260,
          7109
         ],
         "open": [
          8181,
          8318,
          8176,
          8088,
          7850,
          8158,
          8072,
          8531,
          8523,
          8192,
          8285,
          8085,
          7930,
          7988,
          8167,
          8148,
          8067,
          7432,
          7399,
          9565,
          9400,
          9388,
          9127,
          9155,
          9102,
          9097,
          9385,
          9297,
          9261,
          9153,
          8978,
          8983,
          8675,
          8706,
          8695,
          8592,
          8472,
          8495,
          8163,
          8049,
          8029,
          7533,
          6999,
          6988,
          7152,
          7056,
          7493,
          7507,
          7297,
          7320
         ],
         "type": "candlestick",
         "x": [
          0,
          1,
          2,
          3,
          4,
          5,
          6,
          7,
          8,
          9,
          10,
          11,
          12,
          13,
          14,
          15,
          16,
          17,
          18,
          19,
          20,
          21,
          22,
          23,
          24,
          25,
          26,
          27,
          28,
          29,
          30,
          31,
          32,
          33,
          34,
          35,
          36,
          37,
          38,
          39,
          40,
          41,
          42,
          43,
          44,
          45,
          46,
          47,
          48,
          49
         ]
        }
       ],
       "layout": {
        "autosize": true,
        "template": {
         "data": {
          "bar": [
           {
            "error_x": {
             "color": "#2a3f5f"
            },
            "error_y": {
             "color": "#2a3f5f"
            },
            "marker": {
             "line": {
              "color": "#E5ECF6",
              "width": 0.5
             },
             "pattern": {
              "fillmode": "overlay",
              "size": 10,
              "solidity": 0.2
             }
            },
            "type": "bar"
           }
          ],
          "barpolar": [
           {
            "marker": {
             "line": {
              "color": "#E5ECF6",
              "width": 0.5
             },
             "pattern": {
              "fillmode": "overlay",
              "size": 10,
              "solidity": 0.2
             }
            },
            "type": "barpolar"
           }
          ],
          "carpet": [
           {
            "aaxis": {
             "endlinecolor": "#2a3f5f",
             "gridcolor": "white",
             "linecolor": "white",
             "minorgridcolor": "white",
             "startlinecolor": "#2a3f5f"
            },
            "baxis": {
             "endlinecolor": "#2a3f5f",
             "gridcolor": "white",
             "linecolor": "white",
             "minorgridcolor": "white",
             "startlinecolor": "#2a3f5f"
            },
            "type": "carpet"
           }
          ],
          "choropleth": [
           {
            "colorbar": {
             "outlinewidth": 0,
             "ticks": ""
            },
            "type": "choropleth"
           }
          ],
          "contour": [
           {
            "colorbar": {
             "outlinewidth": 0,
             "ticks": ""
            },
            "colorscale": [
             [
              0,
              "#0d0887"
             ],
             [
              0.1111111111111111,
              "#46039f"
             ],
             [
              0.2222222222222222,
              "#7201a8"
             ],
             [
              0.3333333333333333,
              "#9c179e"
             ],
             [
              0.4444444444444444,
              "#bd3786"
             ],
             [
              0.5555555555555556,
              "#d8576b"
             ],
             [
              0.6666666666666666,
              "#ed7953"
             ],
             [
              0.7777777777777778,
              "#fb9f3a"
             ],
             [
              0.8888888888888888,
              "#fdca26"
             ],
             [
              1,
              "#f0f921"
             ]
            ],
            "type": "contour"
           }
          ],
          "contourcarpet": [
           {
            "colorbar": {
             "outlinewidth": 0,
             "ticks": ""
            },
            "type": "contourcarpet"
           }
          ],
          "heatmap": [
           {
            "colorbar": {
             "outlinewidth": 0,
             "ticks": ""
            },
            "colorscale": [
             [
              0,
              "#0d0887"
             ],
             [
              0.1111111111111111,
              "#46039f"
             ],
             [
              0.2222222222222222,
              "#7201a8"
             ],
             [
              0.3333333333333333,
              "#9c179e"
             ],
             [
              0.4444444444444444,
              "#bd3786"
             ],
             [
              0.5555555555555556,
              "#d8576b"
             ],
             [
              0.6666666666666666,
              "#ed7953"
             ],
             [
              0.7777777777777778,
              "#fb9f3a"
             ],
             [
              0.8888888888888888,
              "#fdca26"
             ],
             [
              1,
              "#f0f921"
             ]
            ],
            "type": "heatmap"
           }
          ],
          "heatmapgl": [
           {
            "colorbar": {
             "outlinewidth": 0,
             "ticks": ""
            },
            "colorscale": [
             [
              0,
              "#0d0887"
             ],
             [
              0.1111111111111111,
              "#46039f"
             ],
             [
              0.2222222222222222,
              "#7201a8"
             ],
             [
              0.3333333333333333,
              "#9c179e"
             ],
             [
              0.4444444444444444,
              "#bd3786"
             ],
             [
              0.5555555555555556,
              "#d8576b"
             ],
             [
              0.6666666666666666,
              "#ed7953"
             ],
             [
              0.7777777777777778,
              "#fb9f3a"
             ],
             [
              0.8888888888888888,
              "#fdca26"
             ],
             [
              1,
              "#f0f921"
             ]
            ],
            "type": "heatmapgl"
           }
          ],
          "histogram": [
           {
            "marker": {
             "pattern": {
              "fillmode": "overlay",
              "size": 10,
              "solidity": 0.2
             }
            },
            "type": "histogram"
           }
          ],
          "histogram2d": [
           {
            "colorbar": {
             "outlinewidth": 0,
             "ticks": ""
            },
            "colorscale": [
             [
              0,
              "#0d0887"
             ],
             [
              0.1111111111111111,
              "#46039f"
             ],
             [
              0.2222222222222222,
              "#7201a8"
             ],
             [
              0.3333333333333333,
              "#9c179e"
             ],
             [
              0.4444444444444444,
              "#bd3786"
             ],
             [
              0.5555555555555556,
              "#d8576b"
             ],
             [
              0.6666666666666666,
              "#ed7953"
             ],
             [
              0.7777777777777778,
              "#fb9f3a"
             ],
             [
              0.8888888888888888,
              "#fdca26"
             ],
             [
              1,
              "#f0f921"
             ]
            ],
            "type": "histogram2d"
           }
          ],
          "histogram2dcontour": [
           {
            "colorbar": {
             "outlinewidth": 0,
             "ticks": ""
            },
            "colorscale": [
             [
              0,
              "#0d0887"
             ],
             [
              0.1111111111111111,
              "#46039f"
             ],
             [
              0.2222222222222222,
              "#7201a8"
             ],
             [
              0.3333333333333333,
              "#9c179e"
             ],
             [
              0.4444444444444444,
              "#bd3786"
             ],
             [
              0.5555555555555556,
              "#d8576b"
             ],
             [
              0.6666666666666666,
              "#ed7953"
             ],
             [
              0.7777777777777778,
              "#fb9f3a"
             ],
             [
              0.8888888888888888,
              "#fdca26"
             ],
             [
              1,
              "#f0f921"
             ]
            ],
            "type": "histogram2dcontour"
           }
          ],
          "mesh3d": [
           {
            "colorbar": {
             "outlinewidth": 0,
             "ticks": ""
            },
            "type": "mesh3d"
           }
          ],
          "parcoords": [
           {
            "line": {
             "colorbar": {
              "outlinewidth": 0,
              "ticks": ""
             }
            },
            "type": "parcoords"
           }
          ],
          "pie": [
           {
            "automargin": true,
            "type": "pie"
           }
          ],
          "scatter": [
           {
            "fillpattern": {
             "fillmode": "overlay",
             "size": 10,
             "solidity": 0.2
            },
            "type": "scatter"
           }
          ],
          "scatter3d": [
           {
            "line": {
             "colorbar": {
              "outlinewidth": 0,
              "ticks": ""
             }
            },
            "marker": {
             "colorbar": {
              "outlinewidth": 0,
              "ticks": ""
             }
            },
            "type": "scatter3d"
           }
          ],
          "scattercarpet": [
           {
            "marker": {
             "colorbar": {
              "outlinewidth": 0,
              "ticks": ""
             }
            },
            "type": "scattercarpet"
           }
          ],
          "scattergeo": [
           {
            "marker": {
             "colorbar": {
              "outlinewidth": 0,
              "ticks": ""
             }
            },
            "type": "scattergeo"
           }
          ],
          "scattergl": [
           {
            "marker": {
             "colorbar": {
              "outlinewidth": 0,
              "ticks": ""
             }
            },
            "type": "scattergl"
           }
          ],
          "scattermapbox": [
           {
            "marker": {
             "colorbar": {
              "outlinewidth": 0,
              "ticks": ""
             }
            },
            "type": "scattermapbox"
           }
          ],
          "scatterpolar": [
           {
            "marker": {
             "colorbar": {
              "outlinewidth": 0,
              "ticks": ""
             }
            },
            "type": "scatterpolar"
           }
          ],
          "scatterpolargl": [
           {
            "marker": {
             "colorbar": {
              "outlinewidth": 0,
              "ticks": ""
             }
            },
            "type": "scatterpolargl"
           }
          ],
          "scatterternary": [
           {
            "marker": {
             "colorbar": {
              "outlinewidth": 0,
              "ticks": ""
             }
            },
            "type": "scatterternary"
           }
          ],
          "surface": [
           {
            "colorbar": {
             "outlinewidth": 0,
             "ticks": ""
            },
            "colorscale": [
             [
              0,
              "#0d0887"
             ],
             [
              0.1111111111111111,
              "#46039f"
             ],
             [
              0.2222222222222222,
              "#7201a8"
             ],
             [
              0.3333333333333333,
              "#9c179e"
             ],
             [
              0.4444444444444444,
              "#bd3786"
             ],
             [
              0.5555555555555556,
              "#d8576b"
             ],
             [
              0.6666666666666666,
              "#ed7953"
             ],
             [
              0.7777777777777778,
              "#fb9f3a"
             ],
             [
              0.8888888888888888,
              "#fdca26"
             ],
             [
              1,
              "#f0f921"
             ]
            ],
            "type": "surface"
           }
          ],
          "table": [
           {
            "cells": {
             "fill": {
              "color": "#EBF0F8"
             },
             "line": {
              "color": "white"
             }
            },
            "header": {
             "fill": {
              "color": "#C8D4E3"
             },
             "line": {
              "color": "white"
             }
            },
            "type": "table"
           }
          ]
         },
         "layout": {
          "annotationdefaults": {
           "arrowcolor": "#2a3f5f",
           "arrowhead": 0,
           "arrowwidth": 1
          },
          "autotypenumbers": "strict",
          "coloraxis": {
           "colorbar": {
            "outlinewidth": 0,
            "ticks": ""
           }
          },
          "colorscale": {
           "diverging": [
            [
             0,
             "#8e0152"
            ],
            [
             0.1,
             "#c51b7d"
            ],
            [
             0.2,
             "#de77ae"
            ],
            [
             0.3,
             "#f1b6da"
            ],
            [
             0.4,
             "#fde0ef"
            ],
            [
             0.5,
             "#f7f7f7"
            ],
            [
             0.6,
             "#e6f5d0"
            ],
            [
             0.7,
             "#b8e186"
            ],
            [
             0.8,
             "#7fbc41"
            ],
            [
             0.9,
             "#4d9221"
            ],
            [
             1,
             "#276419"
            ]
           ],
           "sequential": [
            [
             0,
             "#0d0887"
            ],
            [
             0.1111111111111111,
             "#46039f"
            ],
            [
             0.2222222222222222,
             "#7201a8"
            ],
            [
             0.3333333333333333,
             "#9c179e"
            ],
            [
             0.4444444444444444,
             "#bd3786"
            ],
            [
             0.5555555555555556,
             "#d8576b"
            ],
            [
             0.6666666666666666,
             "#ed7953"
            ],
            [
             0.7777777777777778,
             "#fb9f3a"
            ],
            [
             0.8888888888888888,
             "#fdca26"
            ],
            [
             1,
             "#f0f921"
            ]
           ],
           "sequentialminus": [
            [
             0,
             "#0d0887"
            ],
            [
             0.1111111111111111,
             "#46039f"
            ],
            [
             0.2222222222222222,
             "#7201a8"
            ],
            [
             0.3333333333333333,
             "#9c179e"
            ],
            [
             0.4444444444444444,
             "#bd3786"
            ],
            [
             0.5555555555555556,
             "#d8576b"
            ],
            [
             0.6666666666666666,
             "#ed7953"
            ],
            [
             0.7777777777777778,
             "#fb9f3a"
            ],
            [
             0.8888888888888888,
             "#fdca26"
            ],
            [
             1,
             "#f0f921"
            ]
           ]
          },
          "colorway": [
           "#636efa",
           "#EF553B",
           "#00cc96",
           "#ab63fa",
           "#FFA15A",
           "#19d3f3",
           "#FF6692",
           "#B6E880",
           "#FF97FF",
           "#FECB52"
          ],
          "font": {
           "color": "#2a3f5f"
          },
          "geo": {
           "bgcolor": "white",
           "lakecolor": "white",
           "landcolor": "#E5ECF6",
           "showlakes": true,
           "showland": true,
           "subunitcolor": "white"
          },
          "hoverlabel": {
           "align": "left"
          },
          "hovermode": "closest",
          "mapbox": {
           "style": "light"
          },
          "paper_bgcolor": "white",
          "plot_bgcolor": "#E5ECF6",
          "polar": {
           "angularaxis": {
            "gridcolor": "white",
            "linecolor": "white",
            "ticks": ""
           },
           "bgcolor": "#E5ECF6",
           "radialaxis": {
            "gridcolor": "white",
            "linecolor": "white",
            "ticks": ""
           }
          },
          "scene": {
           "xaxis": {
            "backgroundcolor": "#E5ECF6",
            "gridcolor": "white",
            "gridwidth": 2,
            "linecolor": "white",
            "showbackground": true,
            "ticks": "",
            "zerolinecolor": "white"
           },
           "yaxis": {
            "backgroundcolor": "#E5ECF6",
            "gridcolor": "white",
            "gridwidth": 2,
            "linecolor": "white",
            "showbackground": true,
            "ticks": "",
            "zerolinecolor": "white"
           },
           "zaxis": {
            "backgroundcolor": "#E5ECF6",
            "gridcolor": "white",
            "gridwidth": 2,
            "linecolor": "white",
            "showbackground": true,
            "ticks": "",
            "zerolinecolor": "white"
           }
          },
          "shapedefaults": {
           "line": {
            "color": "#2a3f5f"
           }
          },
          "ternary": {
           "aaxis": {
            "gridcolor": "white",
            "linecolor": "white",
            "ticks": ""
           },
           "baxis": {
            "gridcolor": "white",
            "linecolor": "white",
            "ticks": ""
           },
           "bgcolor": "#E5ECF6",
           "caxis": {
            "gridcolor": "white",
            "linecolor": "white",
            "ticks": ""
           }
          },
          "title": {
           "x": 0.05
          },
          "xaxis": {
           "automargin": true,
           "gridcolor": "white",
           "linecolor": "white",
           "ticks": "",
           "title": {
            "standoff": 15
           },
           "zerolinecolor": "white",
           "zerolinewidth": 2
          },
          "yaxis": {
           "automargin": true,
           "gridcolor": "white",
           "linecolor": "white",
           "ticks": "",
           "title": {
            "standoff": 15
           },
           "zerolinecolor": "white",
           "zerolinewidth": 2
          }
         }
        },
        "xaxis": {
         "autorange": true,
         "range": [
          -0.5,
          49.5
         ],
         "rangeslider": {
          "autorange": true,
          "range": [
           -0.5,
           49.5
          ],
          "yaxis": {
           "_template": null,
           "rangemode": "match"
          }
         },
         "type": "linear"
        },
        "yaxis": {
         "autorange": true,
         "range": [
          6281.833333333333,
          10065.166666666666
         ]
        }
       }
      },
      "image/png": "[encoded data removed]",
      "text/html": [
       "<div>                            <div id=\"a312a447-9feb-4bb5-b446-630ce867ded2\" class=\"plotly-graph-div\" style=\"height:525px; width:100%;\"></div>            <script type=\"text/javascript\">                require([\"plotly\"], function(Plotly) {                    window.PLOTLYENV=window.PLOTLYENV || {};                                    if (document.getElementById(\"a312a447-9feb-4bb5-b446-630ce867ded2\")) {                    Plotly.newPlot(                        \"a312a447-9feb-4bb5-b446-630ce867ded2\",                        [{\"close\":[8318,8176,8091,8109,8159,8072,8532,8523,8283,8285,8085,7930,7989,7889,8149,8067,7433,7399,8511,9401,9388,9128,9154,9154,9099,9385,9300,9261,9153,8743,8983,8676,8707,8695,8593,8410,8497,8163,8049,8029,7537,7272,6989,7154,7056,7493,7507,7688,7323,7260],\"high\":[8472,8359,8359,8239,8254,8285,8634,8604,8755,8347,8360,8118,8070,8063,8287,8256,8067,7454,8712,9876,9504,9414,9373,9302,9108,9507,9425,9389,9315,9194,8990,9040,8808,8779,8730,8713,8507,8498,8163,8164,8059,7654,7043,7318,7283,7615,7602,7807,7329,7395],\"low\":[8137,8120,8030,7972,7714,8057,8065,8399,8232,8163,8059,7856,7883,7765,8102,8021,7247,7302,7341,9213,9034,8945,8903,9004,9022,9071,9133,9201,9031,8617,8969,8549,8509,8651,8505,8326,8467,7982,7942,7971,7344,6739,6981,6471,6974,6795,7369,7319,7260,7109],\"open\":[8181,8318,8176,8088,7850,8158,8072,8531,8523,8192,8285,8085,7930,7988,8167,8148,8067,7432,7399,9565,9400,9388,9127,9155,9102,9097,9385,9297,9261,9153,8978,8983,8675,8706,8695,8592,8472,8495,8163,8049,8029,7533,6999,6988,7152,7056,7493,7507,7297,7320],\"x\":[0,1,2,3,4,5,6,7,8,9,10,11,12,13,14,15,16,17,18,19,20,21,22,23,24,25,26,27,28,29,30,31,32,33,34,35,36,37,38,39,40,41,42,43,44,45,46,47,48,49],\"type\":\"candlestick\"}],                        {\"template\":{\"data\":{\"histogram2dcontour\":[{\"type\":\"histogram2dcontour\",\"colorbar\":{\"outlinewidth\":0,\"ticks\":\"\"},\"colorscale\":[[0.0,\"#0d0887\"],[0.1111111111111111,\"#46039f\"],[0.2222222222222222,\"#7201a8\"],[0.3333333333333333,\"#9c179e\"],[0.4444444444444444,\"#bd3786\"],[0.5555555555555556,\"#d8576b\"],[0.6666666666666666,\"#ed7953\"],[0.7777777777777778,\"#fb9f3a\"],[0.8888888888888888,\"#fdca26\"],[1.0,\"#f0f921\"]]}],\"choropleth\":[{\"type\":\"choropleth\",\"colorbar\":{\"outlinewidth\":0,\"ticks\":\"\"}}],\"histogram2d\":[{\"type\":\"histogram2d\",\"colorbar\":{\"outlinewidth\":0,\"ticks\":\"\"},\"colorscale\":[[0.0,\"#0d0887\"],[0.1111111111111111,\"#46039f\"],[0.2222222222222222,\"#7201a8\"],[0.3333333333333333,\"#9c179e\"],[0.4444444444444444,\"#bd3786\"],[0.5555555555555556,\"#d8576b\"],[0.6666666666666666,\"#ed7953\"],[0.7777777777777778,\"#fb9f3a\"],[0.8888888888888888,\"#fdca26\"],[1.0,\"#f0f921\"]]}],\"heatmap\":[{\"type\":\"heatmap\",\"colorbar\":{\"outlinewidth\":0,\"ticks\":\"\"},\"colorscale\":[[0.0,\"#0d0887\"],[0.1111111111111111,\"#46039f\"],[0.2222222222222222,\"#7201a8\"],[0.3333333333333333,\"#9c179e\"],[0.4444444444444444,\"#bd3786\"],[0.5555555555555556,\"#d8576b\"],[0.6666666666666666,\"#ed7953\"],[0.7777777777777778,\"#fb9f3a\"],[0.8888888888888888,\"#fdca26\"],[1.0,\"#f0f921\"]]}],\"heatmapgl\":[{\"type\":\"heatmapgl\",\"colorbar\":{\"outlinewidth\":0,\"ticks\":\"\"},\"colorscale\":[[0.0,\"#0d0887\"],[0.1111111111111111,\"#46039f\"],[0.2222222222222222,\"#7201a8\"],[0.3333333333333333,\"#9c179e\"],[0.4444444444444444,\"#bd3786\"],[0.5555555555555556,\"#d8576b\"],[0.6666666666666666,\"#ed7953\"],[0.7777777777777778,\"#fb9f3a\"],[0.8888888888888888,\"#fdca26\"],[1.0,\"#f0f921\"]]}],\"contourcarpet\":[{\"type\":\"contourcarpet\",\"colorbar\":{\"outlinewidth\":0,\"ticks\":\"\"}}],\"contour\":[{\"type\":\"contour\",\"colorbar\":{\"outlinewidth\":0,\"ticks\":\"\"},\"colorscale\":[[0.0,\"#0d0887\"],[0.1111111111111111,\"#46039f\"],[0.2222222222222222,\"#7201a8\"],[0.3333333333333333,\"#9c179e\"],[0.4444444444444444,\"#bd3786\"],[0.5555555555555556,\"#d8576b\"],[0.6666666666666666,\"#ed7953\"],[0.7777777777777778,\"#fb9f3a\"],[0.8888888888888888,\"#fdca26\"],[1.0,\"#f0f921\"]]}],\"surface\":[{\"type\":\"surface\",\"colorbar\":{\"outlinewidth\":0,\"ticks\":\"\"},\"colorscale\":[[0.0,\"#0d0887\"],[0.1111111111111111,\"#46039f\"],[0.2222222222222222,\"#7201a8\"],[0.3333333333333333,\"#9c179e\"],[0.4444444444444444,\"#bd3786\"],[0.5555555555555556,\"#d8576b\"],[0.6666666666666666,\"#ed7953\"],[0.7777777777777778,\"#fb9f3a\"],[0.8888888888888888,\"#fdca26\"],[1.0,\"#f0f921\"]]}],\"mesh3d\":[{\"type\":\"mesh3d\",\"colorbar\":{\"outlinewidth\":0,\"ticks\":\"\"}}],\"scatter\":[{\"fillpattern\":{\"fillmode\":\"overlay\",\"size\":10,\"solidity\":0.2},\"type\":\"scatter\"}],\"parcoords\":[{\"type\":\"parcoords\",\"line\":{\"colorbar\":{\"outlinewidth\":0,\"ticks\":\"\"}}}],\"scatterpolargl\":[{\"type\":\"scatterpolargl\",\"marker\":{\"colorbar\":{\"outlinewidth\":0,\"ticks\":\"\"}}}],\"bar\":[{\"error_x\":{\"color\":\"#2a3f5f\"},\"error_y\":{\"color\":\"#2a3f5f\"},\"marker\":{\"line\":{\"color\":\"#E5ECF6\",\"width\":0.5},\"pattern\":{\"fillmode\":\"overlay\",\"size\":10,\"solidity\":0.2}},\"type\":\"bar\"}],\"scattergeo\":[{\"type\":\"scattergeo\",\"marker\":{\"colorbar\":{\"outlinewidth\":0,\"ticks\":\"\"}}}],\"scatterpolar\":[{\"type\":\"scatterpolar\",\"marker\":{\"colorbar\":{\"outlinewidth\":0,\"ticks\":\"\"}}}],\"histogram\":[{\"marker\":{\"pattern\":{\"fillmode\":\"overlay\",\"size\":10,\"solidity\":0.2}},\"type\":\"histogram\"}],\"scattergl\":[{\"type\":\"scattergl\",\"marker\":{\"colorbar\":{\"outlinewidth\":0,\"ticks\":\"\"}}}],\"scatter3d\":[{\"type\":\"scatter3d\",\"line\":{\"colorbar\":{\"outlinewidth\":0,\"ticks\":\"\"}},\"marker\":{\"colorbar\":{\"outlinewidth\":0,\"ticks\":\"\"}}}],\"scattermapbox\":[{\"type\":\"scattermapbox\",\"marker\":{\"colorbar\":{\"outlinewidth\":0,\"ticks\":\"\"}}}],\"scatterternary\":[{\"type\":\"scatterternary\",\"marker\":{\"colorbar\":{\"outlinewidth\":0,\"ticks\":\"\"}}}],\"scattercarpet\":[{\"type\":\"scattercarpet\",\"marker\":{\"colorbar\":{\"outlinewidth\":0,\"ticks\":\"\"}}}],\"carpet\":[{\"aaxis\":{\"endlinecolor\":\"#2a3f5f\",\"gridcolor\":\"white\",\"linecolor\":\"white\",\"minorgridcolor\":\"white\",\"startlinecolor\":\"#2a3f5f\"},\"baxis\":{\"endlinecolor\":\"#2a3f5f\",\"gridcolor\":\"white\",\"linecolor\":\"white\",\"minorgridcolor\":\"white\",\"startlinecolor\":\"#2a3f5f\"},\"type\":\"carpet\"}],\"table\":[{\"cells\":{\"fill\":{\"color\":\"#EBF0F8\"},\"line\":{\"color\":\"white\"}},\"header\":{\"fill\":{\"color\":\"#C8D4E3\"},\"line\":{\"color\":\"white\"}},\"type\":\"table\"}],\"barpolar\":[{\"marker\":{\"line\":{\"color\":\"#E5ECF6\",\"width\":0.5},\"pattern\":{\"fillmode\":\"overlay\",\"size\":10,\"solidity\":0.2}},\"type\":\"barpolar\"}],\"pie\":[{\"automargin\":true,\"type\":\"pie\"}]},\"layout\":{\"autotypenumbers\":\"strict\",\"colorway\":[\"#636efa\",\"#EF553B\",\"#00cc96\",\"#ab63fa\",\"#FFA15A\",\"#19d3f3\",\"#FF6692\",\"#B6E880\",\"#FF97FF\",\"#FECB52\"],\"font\":{\"color\":\"#2a3f5f\"},\"hovermode\":\"closest\",\"hoverlabel\":{\"align\":\"left\"},\"paper_bgcolor\":\"white\",\"plot_bgcolor\":\"#E5ECF6\",\"polar\":{\"bgcolor\":\"#E5ECF6\",\"angularaxis\":{\"gridcolor\":\"white\",\"linecolor\":\"white\",\"ticks\":\"\"},\"radialaxis\":{\"gridcolor\":\"white\",\"linecolor\":\"white\",\"ticks\":\"\"}},\"ternary\":{\"bgcolor\":\"#E5ECF6\",\"aaxis\":{\"gridcolor\":\"white\",\"linecolor\":\"white\",\"ticks\":\"\"},\"baxis\":{\"gridcolor\":\"white\",\"linecolor\":\"white\",\"ticks\":\"\"},\"caxis\":{\"gridcolor\":\"white\",\"linecolor\":\"white\",\"ticks\":\"\"}},\"coloraxis\":{\"colorbar\":{\"outlinewidth\":0,\"ticks\":\"\"}},\"colorscale\":{\"sequential\":[[0.0,\"#0d0887\"],[0.1111111111111111,\"#46039f\"],[0.2222222222222222,\"#7201a8\"],[0.3333333333333333,\"#9c179e\"],[0.4444444444444444,\"#bd3786\"],[0.5555555555555556,\"#d8576b\"],[0.6666666666666666,\"#ed7953\"],[0.7777777777777778,\"#fb9f3a\"],[0.8888888888888888,\"#fdca26\"],[1.0,\"#f0f921\"]],\"sequentialminus\":[[0.0,\"#0d0887\"],[0.1111111111111111,\"#46039f\"],[0.2222222222222222,\"#7201a8\"],[0.3333333333333333,\"#9c179e\"],[0.4444444444444444,\"#bd3786\"],[0.5555555555555556,\"#d8576b\"],[0.6666666666666666,\"#ed7953\"],[0.7777777777777778,\"#fb9f3a\"],[0.8888888888888888,\"#fdca26\"],[1.0,\"#f0f921\"]],\"diverging\":[[0,\"#8e0152\"],[0.1,\"#c51b7d\"],[0.2,\"#de77ae\"],[0.3,\"#f1b6da\"],[0.4,\"#fde0ef\"],[0.5,\"#f7f7f7\"],[0.6,\"#e6f5d0\"],[0.7,\"#b8e186\"],[0.8,\"#7fbc41\"],[0.9,\"#4d9221\"],[1,\"#276419\"]]},\"xaxis\":{\"gridcolor\":\"white\",\"linecolor\":\"white\",\"ticks\":\"\",\"title\":{\"standoff\":15},\"zerolinecolor\":\"white\",\"automargin\":true,\"zerolinewidth\":2},\"yaxis\":{\"gridcolor\":\"white\",\"linecolor\":\"white\",\"ticks\":\"\",\"title\":{\"standoff\":15},\"zerolinecolor\":\"white\",\"automargin\":true,\"zerolinewidth\":2},\"scene\":{\"xaxis\":{\"backgroundcolor\":\"#E5ECF6\",\"gridcolor\":\"white\",\"linecolor\":\"white\",\"showbackground\":true,\"ticks\":\"\",\"zerolinecolor\":\"white\",\"gridwidth\":2},\"yaxis\":{\"backgroundcolor\":\"#E5ECF6\",\"gridcolor\":\"white\",\"linecolor\":\"white\",\"showbackground\":true,\"ticks\":\"\",\"zerolinecolor\":\"white\",\"gridwidth\":2},\"zaxis\":{\"backgroundcolor\":\"#E5ECF6\",\"gridcolor\":\"white\",\"linecolor\":\"white\",\"showbackground\":true,\"ticks\":\"\",\"zerolinecolor\":\"white\",\"gridwidth\":2}},\"shapedefaults\":{\"line\":{\"color\":\"#2a3f5f\"}},\"annotationdefaults\":{\"arrowcolor\":\"#2a3f5f\",\"arrowhead\":0,\"arrowwidth\":1},\"geo\":{\"bgcolor\":\"white\",\"landcolor\":\"#E5ECF6\",\"subunitcolor\":\"white\",\"showland\":true,\"showlakes\":true,\"lakecolor\":\"white\"},\"title\":{\"x\":0.05},\"mapbox\":{\"style\":\"light\"}}}},                        {\"responsive\": true}                    ).then(function(){\n",
       "                            \n",
       "var gd = document.getElementById('a312a447-9feb-4bb5-b446-630ce867ded2');\n",
       "var x = new MutationObserver(function (mutations, observer) {{\n",
       "        var display = window.getComputedStyle(gd).display;\n",
       "        if (!display || display === 'none') {{\n",
       "            console.log([gd, 'removed!']);\n",
       "            Plotly.purge(gd);\n",
       "            observer.disconnect();\n",
       "        }}\n",
       "}});\n",
       "\n",
       "// Listen for the removal of the full notebook cells\n",
       "var notebookContainer = gd.closest('#notebook-container');\n",
       "if (notebookContainer) {{\n",
       "    x.observe(notebookContainer, {childList: true});\n",
       "}}\n",
       "\n",
       "// Listen for the clearing of the current output cell\n",
       "var outputEl = gd.closest('.output');\n",
       "if (outputEl) {{\n",
       "    x.observe(outputEl, {childList: true});\n",
       "}}\n",
       "\n",
       "                        })                };                });            </script>        </div>"
      ]
     },
     "metadata": {},
     "output_type": "display_data"
    }
   ],
   "source": [
    "dfpl = df[0:50]\n",
    "import plotly.graph_objects as go\n",
    "from datetime import datetime\n",
    "\n",
    "fig = go.Figure(data=[go.Candlestick(x=dfpl.index,\n",
    "                open=dfpl['Open'],\n",
    "                high=dfpl['High'],\n",
    "                low=dfpl['Low'],\n",
    "                close=dfpl['Close'])])\n",
    "\n",
    "fig.show()"
   ]
  },
  {
   "cell_type": "code",
   "execution_count": 25,
   "metadata": {},
   "outputs": [
    {
     "name": "stdout",
     "output_type": "stream",
     "text": [
      "[(4, 7714, 1), (22, 8903, 1), (63, 6379, 1), (112, 10454, 2), (121, 9968, 2), (125, 8381, 1), (136, 3851, 1), (176, 10016, 2)]\n"
     ]
    }
   ],
   "source": [
    "sr = []\n",
    "n1=3\n",
    "n2=2\n",
    "for row in range(3, 205): #len(df)-n2\n",
    "    if support(df, row, n1, n2):\n",
    "        sr.append((row,df.Low[row],1))\n",
    "    if resistance(df, row, n1, n2):\n",
    "        sr.append((row,df.High[row],2))\n",
    "print(sr)"
   ]
  },
  {
   "cell_type": "code",
   "execution_count": 27,
   "metadata": {},
   "outputs": [
    {
     "data": {
      "application/vnd.plotly.v1+json": {
       "config": {
        "plotlyServerURL": "https://plot.ly"
       },
       "data": [
        {
         "close": [
          8318,
          8176,
          8091,
          8109,
          8159,
          8072,
          8532,
          8523,
          8283,
          8285,
          8085,
          7930,
          7989,
          7889,
          8149,
          8067,
          7433,
          7399,
          8511,
          9401,
          9388,
          9128,
          9154,
          9154,
          9099,
          9385,
          9300,
          9261,
          9153,
          8743,
          8983,
          8676,
          8707,
          8695,
          8593,
          8410,
          8497,
          8163,
          8049,
          8029,
          7537,
          7272,
          6989,
          7154,
          7056,
          7493,
          7507,
          7688,
          7323,
          7260,
          7273,
          7129,
          7323,
          7384,
          7488,
          7304,
          7164,
          7134,
          7143,
          7198,
          7063,
          6817,
          6558,
          7075,
          7099,
          7152,
          7349,
          7260,
          7189,
          7152,
          7132,
          7155,
          7332,
          7186,
          7101,
          7158,
          6902,
          7253,
          7305,
          7518,
          7965,
          7949,
          7729,
          8016,
          8044,
          8074,
          8684,
          8767,
          8622,
          8812,
          8662,
          8614,
          8664,
          8582,
          8325,
          8417,
          8527,
          8889,
          8986,
          9300,
          9499,
          9248,
          9384,
          9219,
          9081,
          9633,
          9681,
          9673,
          10020,
          9811,
          10187,
          10335,
          10126,
          10314,
          9714,
          9591,
          10105,
          9560,
          9554,
          9660,
          9828,
          9549,
          9328,
          8687,
          8698,
          8560,
          8455,
          8888,
          8680,
          8678,
          9059,
          9062,
          7800,
          7942,
          7804,
          5668,
          5389,
          4849,
          5411,
          5282,
          6199,
          5916,
          6357,
          6699,
          6542,
          6691,
          6627,
          6423,
          6424,
          6295,
          6694,
          6647,
          7173,
          7065,
          7266,
          7248,
          6866,
          6771,
          6817,
          6693,
          7003,
          7004,
          6810,
          6840,
          7063,
          7484,
          7477,
          7654,
          7680,
          8878,
          8771,
          8676,
          8866,
          8899,
          9197,
          9751,
          9944,
          8580,
          8768,
          9246,
          9603,
          9186,
          9621,
          9638,
          9535,
          9002,
          9128,
          8860,
          8803,
          9111,
          9391,
          9362,
          9624,
          9464,
          9528,
          9731,
          9660,
          9647,
          9693,
          9812
         ],
         "high": [
          8472,
          8359,
          8359,
          8239,
          8254,
          8285,
          8634,
          8604,
          8755,
          8347,
          8360,
          8118,
          8070,
          8063,
          8287,
          8256,
          8067,
          7454,
          8712,
          9876,
          9504,
          9414,
          9373,
          9302,
          9108,
          9507,
          9425,
          9389,
          9315,
          9194,
          8990,
          9040,
          8808,
          8779,
          8730,
          8713,
          8507,
          8498,
          8163,
          8164,
          8059,
          7654,
          7043,
          7318,
          7283,
          7615,
          7602,
          7807,
          7329,
          7395,
          7355,
          7713,
          7431,
          7546,
          7500,
          7596,
          7333,
          7211,
          7230,
          7241,
          7072,
          7082,
          6877,
          7165,
          7386,
          7159,
          7365,
          7631,
          7368,
          7190,
          7370,
          7195,
          7340,
          7366,
          7242,
          7165,
          7157,
          7342,
          7372,
          7548,
          8133,
          8406,
          8053,
          8077,
          8086,
          8137,
          8800,
          8844,
          8806,
          8951,
          8691,
          8687,
          8713,
          8734,
          8609,
          8454,
          8529,
          8934,
          9124,
          9375,
          9507,
          9508,
          9387,
          9549,
          9286,
          9711,
          9801,
          9815,
          10032,
          10137,
          10329,
          10424,
          10454,
          10334,
          9734,
          9946,
          10223,
          10246,
          9651,
          9713,
          9842,
          9968,
          9620,
          9365,
          8914,
          8843,
          8471,
          8892,
          8916,
          8790,
          9113,
          9124,
          8235,
          8096,
          7980,
          7934,
          5936,
          5897,
          5448,
          5505,
          6336,
          6888,
          6579,
          6808,
          6929,
          6738,
          6811,
          6467,
          6572,
          6439,
          7194,
          6989,
          7266,
          7411,
          7371,
          7340,
          7268,
          7097,
          6929,
          6883,
          7095,
          7156,
          7167,
          6897,
          7111,
          7706,
          7562,
          7742,
          7740,
          8917,
          9414,
          9014,
          8909,
          9065,
          9340,
          9911,
          10016,
          9116,
          8922,
          9287,
          9889,
          9793,
          9899,
          9841,
          9783,
          9535,
          9211,
          9022,
          8962,
          9173,
          9481,
          9568,
          9639,
          10357,
          9592,
          9829,
          9806,
          9754,
          9835,
          9959
         ],
         "low": [
          8137,
          8120,
          8030,
          7972,
          7714,
          8057,
          8065,
          8399,
          8232,
          8163,
          8059,
          7856,
          7883,
          7765,
          8102,
          8021,
          7247,
          7302,
          7341,
          9213,
          9034,
          8945,
          8903,
          9004,
          9022,
          9071,
          9133,
          9201,
          9031,
          8617,
          8969,
          8549,
          8509,
          8651,
          8505,
          8326,
          8467,
          7982,
          7942,
          7971,
          7344,
          6739,
          6981,
          6471,
          6974,
          6795,
          7369,
          7319,
          7260,
          7109,
          7188,
          7040,
          7108,
          7255,
          7479,
          7230,
          7106,
          7075,
          7025,
          7126,
          7051,
          6775,
          6520,
          6379,
          6989,
          7023,
          7329,
          7236,
          7103,
          7145,
          7111,
          7006,
          7300,
          7146,
          7059,
          7101,
          6850,
          6803,
          7305,
          7259,
          7518,
          7817,
          7692,
          7623,
          8039,
          7992,
          8050,
          8504,
          8528,
          8608,
          8582,
          8443,
          8430,
          8517,
          8223,
          8163,
          8497,
          8480,
          8818,
          8982,
          9131,
          9143,
          9365,
          9165,
          9023,
          9074,
          9474,
          9598,
          9999,
          9702,
          9656,
          10165,
          10031,
          10047,
          9706,
          9418,
          9556,
          9262,
          9360,
          9522,
          9828,
          9431,
          9190,
          8570,
          8467,
          8381,
          8404,
          8433,
          8605,
          8614,
          8672,
          8943,
          7580,
          7680,
          7535,
          5542,
          3851,
          4378,
          4811,
          4967,
          5212,
          5645,
          5635,
          6305,
          6417,
          6476,
          6531,
          5799,
          6287,
          6103,
          6294,
          6562,
          6672,
          7023,
          7030,
          7060,
          6696,
          6535,
          6722,
          6636,
          6424,
          6945,
          6705,
          6719,
          6772,
          6980,
          7341,
          7535,
          7616,
          7665,
          8356,
          8536,
          8480,
          8732,
          8867,
          8989,
          9677,
          8146,
          8426,
          8693,
          9213,
          9092,
          9415,
          9410,
          9259,
          8748,
          8876,
          8581,
          8644,
          8751,
          9001,
          9285,
          9334,
          9246,
          9341,
          9405,
          9567,
          9599,
          9528,
          9651
         ],
         "open": [
          8181,
          8318,
          8176,
          8088,
          7850,
          8158,
          8072,
          8531,
          8523,
          8192,
          8285,
          8085,
          7930,
          7988,
          8167,
          8148,
          8067,
          7432,
          7399,
          9565,
          9400,
          9388,
          9127,
          9155,
          9102,
          9097,
          9385,
          9297,
          9261,
          9153,
          8978,
          8983,
          8675,
          8706,
          8695,
          8592,
          8472,
          8495,
          8163,
          8049,
          8029,
          7533,
          6999,
          6988,
          7152,
          7056,
          7493,
          7507,
          7297,
          7320,
          7259,
          7272,
          7127,
          7323,
          7479,
          7486,
          7301,
          7163,
          7133,
          7143,
          7072,
          7062,
          6817,
          6558,
          7075,
          7096,
          7362,
          7350,
          7259,
          7189,
          7150,
          7130,
          7334,
          7332,
          7186,
          7101,
          7157,
          6901,
          7372,
          7303,
          7518,
          7964,
          7949,
          7729,
          8079,
          8041,
          8074,
          8684,
          8764,
          8622,
          8584,
          8661,
          8614,
          8663,
          8582,
          8324,
          8498,
          8526,
          8889,
          8986,
          9300,
          9499,
          9378,
          9384,
          9219,
          9081,
          9633,
          9681,
          10002,
          10018,
          9811,
          10187,
          10335,
          10126,
          9724,
          9711,
          9588,
          10105,
          9560,
          9553,
          9830,
          9828,
          9548,
          9327,
          8687,
          8698,
          8425,
          8457,
          8888,
          8680,
          8678,
          9059,
          8215,
          7799,
          7942,
          7804,
          5668,
          5118,
          4850,
          5411,
          5282,
          6199,
          5881,
          6357,
          6699,
          6542,
          6690,
          5891,
          6423,
          6424,
          6295,
          6690,
          6701,
          7173,
          7065,
          7266,
          7248,
          7073,
          6772,
          6817,
          6693,
          7003,
          7092,
          6810,
          6840,
          7063,
          7484,
          7600,
          7654,
          7680,
          8878,
          8771,
          8778,
          8866,
          8898,
          9197,
          9751,
          8675,
          8580,
          8768,
          9246,
          9603,
          9676,
          9621,
          9638,
          9535,
          9002,
          8944,
          8860,
          8802,
          9111,
          9391,
          9450,
          9624,
          9464,
          9528,
          9731,
          9671,
          9647,
          9693
         ],
         "type": "candlestick",
         "x": [
          0,
          1,
          2,
          3,
          4,
          5,
          6,
          7,
          8,
          9,
          10,
          11,
          12,
          13,
          14,
          15,
          16,
          17,
          18,
          19,
          20,
          21,
          22,
          23,
          24,
          25,
          26,
          27,
          28,
          29,
          30,
          31,
          32,
          33,
          34,
          35,
          36,
          37,
          38,
          39,
          40,
          41,
          42,
          43,
          44,
          45,
          46,
          47,
          48,
          49,
          50,
          51,
          52,
          53,
          54,
          55,
          56,
          57,
          58,
          59,
          60,
          61,
          62,
          63,
          64,
          65,
          66,
          67,
          68,
          69,
          70,
          71,
          72,
          73,
          74,
          75,
          76,
          77,
          78,
          79,
          80,
          81,
          82,
          83,
          84,
          85,
          86,
          87,
          88,
          89,
          90,
          91,
          92,
          93,
          94,
          95,
          96,
          97,
          98,
          99,
          100,
          101,
          102,
          103,
          104,
          105,
          106,
          107,
          108,
          109,
          110,
          111,
          112,
          113,
          114,
          115,
          116,
          117,
          118,
          119,
          120,
          121,
          122,
          123,
          124,
          125,
          126,
          127,
          128,
          129,
          130,
          131,
          132,
          133,
          134,
          135,
          136,
          137,
          138,
          139,
          140,
          141,
          142,
          143,
          144,
          145,
          146,
          147,
          148,
          149,
          150,
          151,
          152,
          153,
          154,
          155,
          156,
          157,
          158,
          159,
          160,
          161,
          162,
          163,
          164,
          165,
          166,
          167,
          168,
          169,
          170,
          171,
          172,
          173,
          174,
          175,
          176,
          177,
          178,
          179,
          180,
          181,
          182,
          183,
          184,
          185,
          186,
          187,
          188,
          189,
          190,
          191,
          192,
          193,
          194,
          195,
          196,
          197,
          198,
          199
         ]
        }
       ],
       "layout": {
        "autosize": true,
        "shapes": [
         {
          "type": "line",
          "x0": 0,
          "x1": 200,
          "y0": 7714,
          "y1": 7714
         },
         {
          "type": "line",
          "x0": 0,
          "x1": 200,
          "y0": 8903,
          "y1": 8903
         },
         {
          "type": "line",
          "x0": 0,
          "x1": 200,
          "y0": 6379,
          "y1": 6379
         },
         {
          "type": "line",
          "x0": 0,
          "x1": 200,
          "y0": 10454,
          "y1": 10454
         },
         {
          "type": "line",
          "x0": 0,
          "x1": 200,
          "y0": 9968,
          "y1": 9968
         },
         {
          "type": "line",
          "x0": 0,
          "x1": 200,
          "y0": 8381,
          "y1": 8381
         },
         {
          "type": "line",
          "x0": 0,
          "x1": 200,
          "y0": 3851,
          "y1": 3851
         },
         {
          "type": "line",
          "x0": 0,
          "x1": 200,
          "y0": 10016,
          "y1": 10016
         }
        ],
        "template": {
         "data": {
          "bar": [
           {
            "error_x": {
             "color": "#2a3f5f"
            },
            "error_y": {
             "color": "#2a3f5f"
            },
            "marker": {
             "line": {
              "color": "#E5ECF6",
              "width": 0.5
             },
             "pattern": {
              "fillmode": "overlay",
              "size": 10,
              "solidity": 0.2
             }
            },
            "type": "bar"
           }
          ],
          "barpolar": [
           {
            "marker": {
             "line": {
              "color": "#E5ECF6",
              "width": 0.5
             },
             "pattern": {
              "fillmode": "overlay",
              "size": 10,
              "solidity": 0.2
             }
            },
            "type": "barpolar"
           }
          ],
          "carpet": [
           {
            "aaxis": {
             "endlinecolor": "#2a3f5f",
             "gridcolor": "white",
             "linecolor": "white",
             "minorgridcolor": "white",
             "startlinecolor": "#2a3f5f"
            },
            "baxis": {
             "endlinecolor": "#2a3f5f",
             "gridcolor": "white",
             "linecolor": "white",
             "minorgridcolor": "white",
             "startlinecolor": "#2a3f5f"
            },
            "type": "carpet"
           }
          ],
          "choropleth": [
           {
            "colorbar": {
             "outlinewidth": 0,
             "ticks": ""
            },
            "type": "choropleth"
           }
          ],
          "contour": [
           {
            "colorbar": {
             "outlinewidth": 0,
             "ticks": ""
            },
            "colorscale": [
             [
              0,
              "#0d0887"
             ],
             [
              0.1111111111111111,
              "#46039f"
             ],
             [
              0.2222222222222222,
              "#7201a8"
             ],
             [
              0.3333333333333333,
              "#9c179e"
             ],
             [
              0.4444444444444444,
              "#bd3786"
             ],
             [
              0.5555555555555556,
              "#d8576b"
             ],
             [
              0.6666666666666666,
              "#ed7953"
             ],
             [
              0.7777777777777778,
              "#fb9f3a"
             ],
             [
              0.8888888888888888,
              "#fdca26"
             ],
             [
              1,
              "#f0f921"
             ]
            ],
            "type": "contour"
           }
          ],
          "contourcarpet": [
           {
            "colorbar": {
             "outlinewidth": 0,
             "ticks": ""
            },
            "type": "contourcarpet"
           }
          ],
          "heatmap": [
           {
            "colorbar": {
             "outlinewidth": 0,
             "ticks": ""
            },
            "colorscale": [
             [
              0,
              "#0d0887"
             ],
             [
              0.1111111111111111,
              "#46039f"
             ],
             [
              0.2222222222222222,
              "#7201a8"
             ],
             [
              0.3333333333333333,
              "#9c179e"
             ],
             [
              0.4444444444444444,
              "#bd3786"
             ],
             [
              0.5555555555555556,
              "#d8576b"
             ],
             [
              0.6666666666666666,
              "#ed7953"
             ],
             [
              0.7777777777777778,
              "#fb9f3a"
             ],
             [
              0.8888888888888888,
              "#fdca26"
             ],
             [
              1,
              "#f0f921"
             ]
            ],
            "type": "heatmap"
           }
          ],
          "heatmapgl": [
           {
            "colorbar": {
             "outlinewidth": 0,
             "ticks": ""
            },
            "colorscale": [
             [
              0,
              "#0d0887"
             ],
             [
              0.1111111111111111,
              "#46039f"
             ],
             [
              0.2222222222222222,
              "#7201a8"
             ],
             [
              0.3333333333333333,
              "#9c179e"
             ],
             [
              0.4444444444444444,
              "#bd3786"
             ],
             [
              0.5555555555555556,
              "#d8576b"
             ],
             [
              0.6666666666666666,
              "#ed7953"
             ],
             [
              0.7777777777777778,
              "#fb9f3a"
             ],
             [
              0.8888888888888888,
              "#fdca26"
             ],
             [
              1,
              "#f0f921"
             ]
            ],
            "type": "heatmapgl"
           }
          ],
          "histogram": [
           {
            "marker": {
             "pattern": {
              "fillmode": "overlay",
              "size": 10,
              "solidity": 0.2
             }
            },
            "type": "histogram"
           }
          ],
          "histogram2d": [
           {
            "colorbar": {
             "outlinewidth": 0,
             "ticks": ""
            },
            "colorscale": [
             [
              0,
              "#0d0887"
             ],
             [
              0.1111111111111111,
              "#46039f"
             ],
             [
              0.2222222222222222,
              "#7201a8"
             ],
             [
              0.3333333333333333,
              "#9c179e"
             ],
             [
              0.4444444444444444,
              "#bd3786"
             ],
             [
              0.5555555555555556,
              "#d8576b"
             ],
             [
              0.6666666666666666,
              "#ed7953"
             ],
             [
              0.7777777777777778,
              "#fb9f3a"
             ],
             [
              0.8888888888888888,
              "#fdca26"
             ],
             [
              1,
              "#f0f921"
             ]
            ],
            "type": "histogram2d"
           }
          ],
          "histogram2dcontour": [
           {
            "colorbar": {
             "outlinewidth": 0,
             "ticks": ""
            },
            "colorscale": [
             [
              0,
              "#0d0887"
             ],
             [
              0.1111111111111111,
              "#46039f"
             ],
             [
              0.2222222222222222,
              "#7201a8"
             ],
             [
              0.3333333333333333,
              "#9c179e"
             ],
             [
              0.4444444444444444,
              "#bd3786"
             ],
             [
              0.5555555555555556,
              "#d8576b"
             ],
             [
              0.6666666666666666,
              "#ed7953"
             ],
             [
              0.7777777777777778,
              "#fb9f3a"
             ],
             [
              0.8888888888888888,
              "#fdca26"
             ],
             [
              1,
              "#f0f921"
             ]
            ],
            "type": "histogram2dcontour"
           }
          ],
          "mesh3d": [
           {
            "colorbar": {
             "outlinewidth": 0,
             "ticks": ""
            },
            "type": "mesh3d"
           }
          ],
          "parcoords": [
           {
            "line": {
             "colorbar": {
              "outlinewidth": 0,
              "ticks": ""
             }
            },
            "type": "parcoords"
           }
          ],
          "pie": [
           {
            "automargin": true,
            "type": "pie"
           }
          ],
          "scatter": [
           {
            "fillpattern": {
             "fillmode": "overlay",
             "size": 10,
             "solidity": 0.2
            },
            "type": "scatter"
           }
          ],
          "scatter3d": [
           {
            "line": {
             "colorbar": {
              "outlinewidth": 0,
              "ticks": ""
             }
            },
            "marker": {
             "colorbar": {
              "outlinewidth": 0,
              "ticks": ""
             }
            },
            "type": "scatter3d"
           }
          ],
          "scattercarpet": [
           {
            "marker": {
             "colorbar": {
              "outlinewidth": 0,
              "ticks": ""
             }
            },
            "type": "scattercarpet"
           }
          ],
          "scattergeo": [
           {
            "marker": {
             "colorbar": {
              "outlinewidth": 0,
              "ticks": ""
             }
            },
            "type": "scattergeo"
           }
          ],
          "scattergl": [
           {
            "marker": {
             "colorbar": {
              "outlinewidth": 0,
              "ticks": ""
             }
            },
            "type": "scattergl"
           }
          ],
          "scattermapbox": [
           {
            "marker": {
             "colorbar": {
              "outlinewidth": 0,
              "ticks": ""
             }
            },
            "type": "scattermapbox"
           }
          ],
          "scatterpolar": [
           {
            "marker": {
             "colorbar": {
              "outlinewidth": 0,
              "ticks": ""
             }
            },
            "type": "scatterpolar"
           }
          ],
          "scatterpolargl": [
           {
            "marker": {
             "colorbar": {
              "outlinewidth": 0,
              "ticks": ""
             }
            },
            "type": "scatterpolargl"
           }
          ],
          "scatterternary": [
           {
            "marker": {
             "colorbar": {
              "outlinewidth": 0,
              "ticks": ""
             }
            },
            "type": "scatterternary"
           }
          ],
          "surface": [
           {
            "colorbar": {
             "outlinewidth": 0,
             "ticks": ""
            },
            "colorscale": [
             [
              0,
              "#0d0887"
             ],
             [
              0.1111111111111111,
              "#46039f"
             ],
             [
              0.2222222222222222,
              "#7201a8"
             ],
             [
              0.3333333333333333,
              "#9c179e"
             ],
             [
              0.4444444444444444,
              "#bd3786"
             ],
             [
              0.5555555555555556,
              "#d8576b"
             ],
             [
              0.6666666666666666,
              "#ed7953"
             ],
             [
              0.7777777777777778,
              "#fb9f3a"
             ],
             [
              0.8888888888888888,
              "#fdca26"
             ],
             [
              1,
              "#f0f921"
             ]
            ],
            "type": "surface"
           }
          ],
          "table": [
           {
            "cells": {
             "fill": {
              "color": "#EBF0F8"
             },
             "line": {
              "color": "white"
             }
            },
            "header": {
             "fill": {
              "color": "#C8D4E3"
             },
             "line": {
              "color": "white"
             }
            },
            "type": "table"
           }
          ]
         },
         "layout": {
          "annotationdefaults": {
           "arrowcolor": "#2a3f5f",
           "arrowhead": 0,
           "arrowwidth": 1
          },
          "autotypenumbers": "strict",
          "coloraxis": {
           "colorbar": {
            "outlinewidth": 0,
            "ticks": ""
           }
          },
          "colorscale": {
           "diverging": [
            [
             0,
             "#8e0152"
            ],
            [
             0.1,
             "#c51b7d"
            ],
            [
             0.2,
             "#de77ae"
            ],
            [
             0.3,
             "#f1b6da"
            ],
            [
             0.4,
             "#fde0ef"
            ],
            [
             0.5,
             "#f7f7f7"
            ],
            [
             0.6,
             "#e6f5d0"
            ],
            [
             0.7,
             "#b8e186"
            ],
            [
             0.8,
             "#7fbc41"
            ],
            [
             0.9,
             "#4d9221"
            ],
            [
             1,
             "#276419"
            ]
           ],
           "sequential": [
            [
             0,
             "#0d0887"
            ],
            [
             0.1111111111111111,
             "#46039f"
            ],
            [
             0.2222222222222222,
             "#7201a8"
            ],
            [
             0.3333333333333333,
             "#9c179e"
            ],
            [
             0.4444444444444444,
             "#bd3786"
            ],
            [
             0.5555555555555556,
             "#d8576b"
            ],
            [
             0.6666666666666666,
             "#ed7953"
            ],
            [
             0.7777777777777778,
             "#fb9f3a"
            ],
            [
             0.8888888888888888,
             "#fdca26"
            ],
            [
             1,
             "#f0f921"
            ]
           ],
           "sequentialminus": [
            [
             0,
             "#0d0887"
            ],
            [
             0.1111111111111111,
             "#46039f"
            ],
            [
             0.2222222222222222,
             "#7201a8"
            ],
            [
             0.3333333333333333,
             "#9c179e"
            ],
            [
             0.4444444444444444,
             "#bd3786"
            ],
            [
             0.5555555555555556,
             "#d8576b"
            ],
            [
             0.6666666666666666,
             "#ed7953"
            ],
            [
             0.7777777777777778,
             "#fb9f3a"
            ],
            [
             0.8888888888888888,
             "#fdca26"
            ],
            [
             1,
             "#f0f921"
            ]
           ]
          },
          "colorway": [
           "#636efa",
           "#EF553B",
           "#00cc96",
           "#ab63fa",
           "#FFA15A",
           "#19d3f3",
           "#FF6692",
           "#B6E880",
           "#FF97FF",
           "#FECB52"
          ],
          "font": {
           "color": "#2a3f5f"
          },
          "geo": {
           "bgcolor": "white",
           "lakecolor": "white",
           "landcolor": "#E5ECF6",
           "showlakes": true,
           "showland": true,
           "subunitcolor": "white"
          },
          "hoverlabel": {
           "align": "left"
          },
          "hovermode": "closest",
          "mapbox": {
           "style": "light"
          },
          "paper_bgcolor": "white",
          "plot_bgcolor": "#E5ECF6",
          "polar": {
           "angularaxis": {
            "gridcolor": "white",
            "linecolor": "white",
            "ticks": ""
           },
           "bgcolor": "#E5ECF6",
           "radialaxis": {
            "gridcolor": "white",
            "linecolor": "white",
            "ticks": ""
           }
          },
          "scene": {
           "xaxis": {
            "backgroundcolor": "#E5ECF6",
            "gridcolor": "white",
            "gridwidth": 2,
            "linecolor": "white",
            "showbackground": true,
            "ticks": "",
            "zerolinecolor": "white"
           },
           "yaxis": {
            "backgroundcolor": "#E5ECF6",
            "gridcolor": "white",
            "gridwidth": 2,
            "linecolor": "white",
            "showbackground": true,
            "ticks": "",
            "zerolinecolor": "white"
           },
           "zaxis": {
            "backgroundcolor": "#E5ECF6",
            "gridcolor": "white",
            "gridwidth": 2,
            "linecolor": "white",
            "showbackground": true,
            "ticks": "",
            "zerolinecolor": "white"
           }
          },
          "shapedefaults": {
           "line": {
            "color": "#2a3f5f"
           }
          },
          "ternary": {
           "aaxis": {
            "gridcolor": "white",
            "linecolor": "white",
            "ticks": ""
           },
           "baxis": {
            "gridcolor": "white",
            "linecolor": "white",
            "ticks": ""
           },
           "bgcolor": "#E5ECF6",
           "caxis": {
            "gridcolor": "white",
            "linecolor": "white",
            "ticks": ""
           }
          },
          "title": {
           "x": 0.05
          },
          "xaxis": {
           "automargin": true,
           "gridcolor": "white",
           "linecolor": "white",
           "ticks": "",
           "title": {
            "standoff": 15
           },
           "zerolinecolor": "white",
           "zerolinewidth": 2
          },
          "yaxis": {
           "automargin": true,
           "gridcolor": "white",
           "linecolor": "white",
           "ticks": "",
           "title": {
            "standoff": 15
           },
           "zerolinecolor": "white",
           "zerolinewidth": 2
          }
         }
        },
        "xaxis": {
         "autorange": true,
         "range": [
          -0.5,
          200.14497469269705
         ],
         "rangeslider": {
          "autorange": true,
          "range": [
           -0.5,
           200.14497469269705
          ],
          "yaxis": {
           "_template": null,
           "rangemode": "match"
          }
         },
         "type": "linear"
        },
        "yaxis": {
         "autorange": true,
         "range": [
          3484.1666666666665,
          10820.833333333334
         ]
        }
       }
      },
      "image/png": "[encoded data removed]",
      "text/html": [
       "<div>                            <div id=\"a6cb2355-7d61-4684-acfc-e6f2ed6e247b\" class=\"plotly-graph-div\" style=\"height:525px; width:100%;\"></div>            <script type=\"text/javascript\">                require([\"plotly\"], function(Plotly) {                    window.PLOTLYENV=window.PLOTLYENV || {};                                    if (document.getElementById(\"a6cb2355-7d61-4684-acfc-e6f2ed6e247b\")) {                    Plotly.newPlot(                        \"a6cb2355-7d61-4684-acfc-e6f2ed6e247b\",                        [{\"close\":[8318,8176,8091,8109,8159,8072,8532,8523,8283,8285,8085,7930,7989,7889,8149,8067,7433,7399,8511,9401,9388,9128,9154,9154,9099,9385,9300,9261,9153,8743,8983,8676,8707,8695,8593,8410,8497,8163,8049,8029,7537,7272,6989,7154,7056,7493,7507,7688,7323,7260,7273,7129,7323,7384,7488,7304,7164,7134,7143,7198,7063,6817,6558,7075,7099,7152,7349,7260,7189,7152,7132,7155,7332,7186,7101,7158,6902,7253,7305,7518,7965,7949,7729,8016,8044,8074,8684,8767,8622,8812,8662,8614,8664,8582,8325,8417,8527,8889,8986,9300,9499,9248,9384,9219,9081,9633,9681,9673,10020,9811,10187,10335,10126,10314,9714,9591,10105,9560,9554,9660,9828,9549,9328,8687,8698,8560,8455,8888,8680,8678,9059,9062,7800,7942,7804,5668,5389,4849,5411,5282,6199,5916,6357,6699,6542,6691,6627,6423,6424,6295,6694,6647,7173,7065,7266,7248,6866,6771,6817,6693,7003,7004,6810,6840,7063,7484,7477,7654,7680,8878,8771,8676,8866,8899,9197,9751,9944,8580,8768,9246,9603,9186,9621,9638,9535,9002,9128,8860,8803,9111,9391,9362,9624,9464,9528,9731,9660,9647,9693,9812],\"high\":[8472,8359,8359,8239,8254,8285,8634,8604,8755,8347,8360,8118,8070,8063,8287,8256,8067,7454,8712,9876,9504,9414,9373,9302,9108,9507,9425,9389,9315,9194,8990,9040,8808,8779,8730,8713,8507,8498,8163,8164,8059,7654,7043,7318,7283,7615,7602,7807,7329,7395,7355,7713,7431,7546,7500,7596,7333,7211,7230,7241,7072,7082,6877,7165,7386,7159,7365,7631,7368,7190,7370,7195,7340,7366,7242,7165,7157,7342,7372,7548,8133,8406,8053,8077,8086,8137,8800,8844,8806,8951,8691,8687,8713,8734,8609,8454,8529,8934,9124,9375,9507,9508,9387,9549,9286,9711,9801,9815,10032,10137,10329,10424,10454,10334,9734,9946,10223,10246,9651,9713,9842,9968,9620,9365,8914,8843,8471,8892,8916,8790,9113,9124,8235,8096,7980,7934,5936,5897,5448,5505,6336,6888,6579,6808,6929,6738,6811,6467,6572,6439,7194,6989,7266,7411,7371,7340,7268,7097,6929,6883,7095,7156,7167,6897,7111,7706,7562,7742,7740,8917,9414,9014,8909,9065,9340,9911,10016,9116,8922,9287,9889,9793,9899,9841,9783,9535,9211,9022,8962,9173,9481,9568,9639,10357,9592,9829,9806,9754,9835,9959],\"low\":[8137,8120,8030,7972,7714,8057,8065,8399,8232,8163,8059,7856,7883,7765,8102,8021,7247,7302,7341,9213,9034,8945,8903,9004,9022,9071,9133,9201,9031,8617,8969,8549,8509,8651,8505,8326,8467,7982,7942,7971,7344,6739,6981,6471,6974,6795,7369,7319,7260,7109,7188,7040,7108,7255,7479,7230,7106,7075,7025,7126,7051,6775,6520,6379,6989,7023,7329,7236,7103,7145,7111,7006,7300,7146,7059,7101,6850,6803,7305,7259,7518,7817,7692,7623,8039,7992,8050,8504,8528,8608,8582,8443,8430,8517,8223,8163,8497,8480,8818,8982,9131,9143,9365,9165,9023,9074,9474,9598,9999,9702,9656,10165,10031,10047,9706,9418,9556,9262,9360,9522,9828,9431,9190,8570,8467,8381,8404,8433,8605,8614,8672,8943,7580,7680,7535,5542,3851,4378,4811,4967,5212,5645,5635,6305,6417,6476,6531,5799,6287,6103,6294,6562,6672,7023,7030,7060,6696,6535,6722,6636,6424,6945,6705,6719,6772,6980,7341,7535,7616,7665,8356,8536,8480,8732,8867,8989,9677,8146,8426,8693,9213,9092,9415,9410,9259,8748,8876,8581,8644,8751,9001,9285,9334,9246,9341,9405,9567,9599,9528,9651],\"open\":[8181,8318,8176,8088,7850,8158,8072,8531,8523,8192,8285,8085,7930,7988,8167,8148,8067,7432,7399,9565,9400,9388,9127,9155,9102,9097,9385,9297,9261,9153,8978,8983,8675,8706,8695,8592,8472,8495,8163,8049,8029,7533,6999,6988,7152,7056,7493,7507,7297,7320,7259,7272,7127,7323,7479,7486,7301,7163,7133,7143,7072,7062,6817,6558,7075,7096,7362,7350,7259,7189,7150,7130,7334,7332,7186,7101,7157,6901,7372,7303,7518,7964,7949,7729,8079,8041,8074,8684,8764,8622,8584,8661,8614,8663,8582,8324,8498,8526,8889,8986,9300,9499,9378,9384,9219,9081,9633,9681,10002,10018,9811,10187,10335,10126,9724,9711,9588,10105,9560,9553,9830,9828,9548,9327,8687,8698,8425,8457,8888,8680,8678,9059,8215,7799,7942,7804,5668,5118,4850,5411,5282,6199,5881,6357,6699,6542,6690,5891,6423,6424,6295,6690,6701,7173,7065,7266,7248,7073,6772,6817,6693,7003,7092,6810,6840,7063,7484,7600,7654,7680,8878,8771,8778,8866,8898,9197,9751,8675,8580,8768,9246,9603,9676,9621,9638,9535,9002,8944,8860,8802,9111,9391,9450,9624,9464,9528,9731,9671,9647,9693],\"x\":[0,1,2,3,4,5,6,7,8,9,10,11,12,13,14,15,16,17,18,19,20,21,22,23,24,25,26,27,28,29,30,31,32,33,34,35,36,37,38,39,40,41,42,43,44,45,46,47,48,49,50,51,52,53,54,55,56,57,58,59,60,61,62,63,64,65,66,67,68,69,70,71,72,73,74,75,76,77,78,79,80,81,82,83,84,85,86,87,88,89,90,91,92,93,94,95,96,97,98,99,100,101,102,103,104,105,106,107,108,109,110,111,112,113,114,115,116,117,118,119,120,121,122,123,124,125,126,127,128,129,130,131,132,133,134,135,136,137,138,139,140,141,142,143,144,145,146,147,148,149,150,151,152,153,154,155,156,157,158,159,160,161,162,163,164,165,166,167,168,169,170,171,172,173,174,175,176,177,178,179,180,181,182,183,184,185,186,187,188,189,190,191,192,193,194,195,196,197,198,199],\"type\":\"candlestick\"}],                        {\"template\":{\"data\":{\"histogram2dcontour\":[{\"type\":\"histogram2dcontour\",\"colorbar\":{\"outlinewidth\":0,\"ticks\":\"\"},\"colorscale\":[[0.0,\"#0d0887\"],[0.1111111111111111,\"#46039f\"],[0.2222222222222222,\"#7201a8\"],[0.3333333333333333,\"#9c179e\"],[0.4444444444444444,\"#bd3786\"],[0.5555555555555556,\"#d8576b\"],[0.6666666666666666,\"#ed7953\"],[0.7777777777777778,\"#fb9f3a\"],[0.8888888888888888,\"#fdca26\"],[1.0,\"#f0f921\"]]}],\"choropleth\":[{\"type\":\"choropleth\",\"colorbar\":{\"outlinewidth\":0,\"ticks\":\"\"}}],\"histogram2d\":[{\"type\":\"histogram2d\",\"colorbar\":{\"outlinewidth\":0,\"ticks\":\"\"},\"colorscale\":[[0.0,\"#0d0887\"],[0.1111111111111111,\"#46039f\"],[0.2222222222222222,\"#7201a8\"],[0.3333333333333333,\"#9c179e\"],[0.4444444444444444,\"#bd3786\"],[0.5555555555555556,\"#d8576b\"],[0.6666666666666666,\"#ed7953\"],[0.7777777777777778,\"#fb9f3a\"],[0.8888888888888888,\"#fdca26\"],[1.0,\"#f0f921\"]]}],\"heatmap\":[{\"type\":\"heatmap\",\"colorbar\":{\"outlinewidth\":0,\"ticks\":\"\"},\"colorscale\":[[0.0,\"#0d0887\"],[0.1111111111111111,\"#46039f\"],[0.2222222222222222,\"#7201a8\"],[0.3333333333333333,\"#9c179e\"],[0.4444444444444444,\"#bd3786\"],[0.5555555555555556,\"#d8576b\"],[0.6666666666666666,\"#ed7953\"],[0.7777777777777778,\"#fb9f3a\"],[0.8888888888888888,\"#fdca26\"],[1.0,\"#f0f921\"]]}],\"heatmapgl\":[{\"type\":\"heatmapgl\",\"colorbar\":{\"outlinewidth\":0,\"ticks\":\"\"},\"colorscale\":[[0.0,\"#0d0887\"],[0.1111111111111111,\"#46039f\"],[0.2222222222222222,\"#7201a8\"],[0.3333333333333333,\"#9c179e\"],[0.4444444444444444,\"#bd3786\"],[0.5555555555555556,\"#d8576b\"],[0.6666666666666666,\"#ed7953\"],[0.7777777777777778,\"#fb9f3a\"],[0.8888888888888888,\"#fdca26\"],[1.0,\"#f0f921\"]]}],\"contourcarpet\":[{\"type\":\"contourcarpet\",\"colorbar\":{\"outlinewidth\":0,\"ticks\":\"\"}}],\"contour\":[{\"type\":\"contour\",\"colorbar\":{\"outlinewidth\":0,\"ticks\":\"\"},\"colorscale\":[[0.0,\"#0d0887\"],[0.1111111111111111,\"#46039f\"],[0.2222222222222222,\"#7201a8\"],[0.3333333333333333,\"#9c179e\"],[0.4444444444444444,\"#bd3786\"],[0.5555555555555556,\"#d8576b\"],[0.6666666666666666,\"#ed7953\"],[0.7777777777777778,\"#fb9f3a\"],[0.8888888888888888,\"#fdca26\"],[1.0,\"#f0f921\"]]}],\"surface\":[{\"type\":\"surface\",\"colorbar\":{\"outlinewidth\":0,\"ticks\":\"\"},\"colorscale\":[[0.0,\"#0d0887\"],[0.1111111111111111,\"#46039f\"],[0.2222222222222222,\"#7201a8\"],[0.3333333333333333,\"#9c179e\"],[0.4444444444444444,\"#bd3786\"],[0.5555555555555556,\"#d8576b\"],[0.6666666666666666,\"#ed7953\"],[0.7777777777777778,\"#fb9f3a\"],[0.8888888888888888,\"#fdca26\"],[1.0,\"#f0f921\"]]}],\"mesh3d\":[{\"type\":\"mesh3d\",\"colorbar\":{\"outlinewidth\":0,\"ticks\":\"\"}}],\"scatter\":[{\"fillpattern\":{\"fillmode\":\"overlay\",\"size\":10,\"solidity\":0.2},\"type\":\"scatter\"}],\"parcoords\":[{\"type\":\"parcoords\",\"line\":{\"colorbar\":{\"outlinewidth\":0,\"ticks\":\"\"}}}],\"scatterpolargl\":[{\"type\":\"scatterpolargl\",\"marker\":{\"colorbar\":{\"outlinewidth\":0,\"ticks\":\"\"}}}],\"bar\":[{\"error_x\":{\"color\":\"#2a3f5f\"},\"error_y\":{\"color\":\"#2a3f5f\"},\"marker\":{\"line\":{\"color\":\"#E5ECF6\",\"width\":0.5},\"pattern\":{\"fillmode\":\"overlay\",\"size\":10,\"solidity\":0.2}},\"type\":\"bar\"}],\"scattergeo\":[{\"type\":\"scattergeo\",\"marker\":{\"colorbar\":{\"outlinewidth\":0,\"ticks\":\"\"}}}],\"scatterpolar\":[{\"type\":\"scatterpolar\",\"marker\":{\"colorbar\":{\"outlinewidth\":0,\"ticks\":\"\"}}}],\"histogram\":[{\"marker\":{\"pattern\":{\"fillmode\":\"overlay\",\"size\":10,\"solidity\":0.2}},\"type\":\"histogram\"}],\"scattergl\":[{\"type\":\"scattergl\",\"marker\":{\"colorbar\":{\"outlinewidth\":0,\"ticks\":\"\"}}}],\"scatter3d\":[{\"type\":\"scatter3d\",\"line\":{\"colorbar\":{\"outlinewidth\":0,\"ticks\":\"\"}},\"marker\":{\"colorbar\":{\"outlinewidth\":0,\"ticks\":\"\"}}}],\"scattermapbox\":[{\"type\":\"scattermapbox\",\"marker\":{\"colorbar\":{\"outlinewidth\":0,\"ticks\":\"\"}}}],\"scatterternary\":[{\"type\":\"scatterternary\",\"marker\":{\"colorbar\":{\"outlinewidth\":0,\"ticks\":\"\"}}}],\"scattercarpet\":[{\"type\":\"scattercarpet\",\"marker\":{\"colorbar\":{\"outlinewidth\":0,\"ticks\":\"\"}}}],\"carpet\":[{\"aaxis\":{\"endlinecolor\":\"#2a3f5f\",\"gridcolor\":\"white\",\"linecolor\":\"white\",\"minorgridcolor\":\"white\",\"startlinecolor\":\"#2a3f5f\"},\"baxis\":{\"endlinecolor\":\"#2a3f5f\",\"gridcolor\":\"white\",\"linecolor\":\"white\",\"minorgridcolor\":\"white\",\"startlinecolor\":\"#2a3f5f\"},\"type\":\"carpet\"}],\"table\":[{\"cells\":{\"fill\":{\"color\":\"#EBF0F8\"},\"line\":{\"color\":\"white\"}},\"header\":{\"fill\":{\"color\":\"#C8D4E3\"},\"line\":{\"color\":\"white\"}},\"type\":\"table\"}],\"barpolar\":[{\"marker\":{\"line\":{\"color\":\"#E5ECF6\",\"width\":0.5},\"pattern\":{\"fillmode\":\"overlay\",\"size\":10,\"solidity\":0.2}},\"type\":\"barpolar\"}],\"pie\":[{\"automargin\":true,\"type\":\"pie\"}]},\"layout\":{\"autotypenumbers\":\"strict\",\"colorway\":[\"#636efa\",\"#EF553B\",\"#00cc96\",\"#ab63fa\",\"#FFA15A\",\"#19d3f3\",\"#FF6692\",\"#B6E880\",\"#FF97FF\",\"#FECB52\"],\"font\":{\"color\":\"#2a3f5f\"},\"hovermode\":\"closest\",\"hoverlabel\":{\"align\":\"left\"},\"paper_bgcolor\":\"white\",\"plot_bgcolor\":\"#E5ECF6\",\"polar\":{\"bgcolor\":\"#E5ECF6\",\"angularaxis\":{\"gridcolor\":\"white\",\"linecolor\":\"white\",\"ticks\":\"\"},\"radialaxis\":{\"gridcolor\":\"white\",\"linecolor\":\"white\",\"ticks\":\"\"}},\"ternary\":{\"bgcolor\":\"#E5ECF6\",\"aaxis\":{\"gridcolor\":\"white\",\"linecolor\":\"white\",\"ticks\":\"\"},\"baxis\":{\"gridcolor\":\"white\",\"linecolor\":\"white\",\"ticks\":\"\"},\"caxis\":{\"gridcolor\":\"white\",\"linecolor\":\"white\",\"ticks\":\"\"}},\"coloraxis\":{\"colorbar\":{\"outlinewidth\":0,\"ticks\":\"\"}},\"colorscale\":{\"sequential\":[[0.0,\"#0d0887\"],[0.1111111111111111,\"#46039f\"],[0.2222222222222222,\"#7201a8\"],[0.3333333333333333,\"#9c179e\"],[0.4444444444444444,\"#bd3786\"],[0.5555555555555556,\"#d8576b\"],[0.6666666666666666,\"#ed7953\"],[0.7777777777777778,\"#fb9f3a\"],[0.8888888888888888,\"#fdca26\"],[1.0,\"#f0f921\"]],\"sequentialminus\":[[0.0,\"#0d0887\"],[0.1111111111111111,\"#46039f\"],[0.2222222222222222,\"#7201a8\"],[0.3333333333333333,\"#9c179e\"],[0.4444444444444444,\"#bd3786\"],[0.5555555555555556,\"#d8576b\"],[0.6666666666666666,\"#ed7953\"],[0.7777777777777778,\"#fb9f3a\"],[0.8888888888888888,\"#fdca26\"],[1.0,\"#f0f921\"]],\"diverging\":[[0,\"#8e0152\"],[0.1,\"#c51b7d\"],[0.2,\"#de77ae\"],[0.3,\"#f1b6da\"],[0.4,\"#fde0ef\"],[0.5,\"#f7f7f7\"],[0.6,\"#e6f5d0\"],[0.7,\"#b8e186\"],[0.8,\"#7fbc41\"],[0.9,\"#4d9221\"],[1,\"#276419\"]]},\"xaxis\":{\"gridcolor\":\"white\",\"linecolor\":\"white\",\"ticks\":\"\",\"title\":{\"standoff\":15},\"zerolinecolor\":\"white\",\"automargin\":true,\"zerolinewidth\":2},\"yaxis\":{\"gridcolor\":\"white\",\"linecolor\":\"white\",\"ticks\":\"\",\"title\":{\"standoff\":15},\"zerolinecolor\":\"white\",\"automargin\":true,\"zerolinewidth\":2},\"scene\":{\"xaxis\":{\"backgroundcolor\":\"#E5ECF6\",\"gridcolor\":\"white\",\"linecolor\":\"white\",\"showbackground\":true,\"ticks\":\"\",\"zerolinecolor\":\"white\",\"gridwidth\":2},\"yaxis\":{\"backgroundcolor\":\"#E5ECF6\",\"gridcolor\":\"white\",\"linecolor\":\"white\",\"showbackground\":true,\"ticks\":\"\",\"zerolinecolor\":\"white\",\"gridwidth\":2},\"zaxis\":{\"backgroundcolor\":\"#E5ECF6\",\"gridcolor\":\"white\",\"linecolor\":\"white\",\"showbackground\":true,\"ticks\":\"\",\"zerolinecolor\":\"white\",\"gridwidth\":2}},\"shapedefaults\":{\"line\":{\"color\":\"#2a3f5f\"}},\"annotationdefaults\":{\"arrowcolor\":\"#2a3f5f\",\"arrowhead\":0,\"arrowwidth\":1},\"geo\":{\"bgcolor\":\"white\",\"landcolor\":\"#E5ECF6\",\"subunitcolor\":\"white\",\"showland\":true,\"showlakes\":true,\"lakecolor\":\"white\"},\"title\":{\"x\":0.05},\"mapbox\":{\"style\":\"light\"}}},\"shapes\":[{\"type\":\"line\",\"x0\":0,\"x1\":200,\"y0\":7714,\"y1\":7714},{\"type\":\"line\",\"x0\":0,\"x1\":200,\"y0\":8903,\"y1\":8903},{\"type\":\"line\",\"x0\":0,\"x1\":200,\"y0\":6379,\"y1\":6379},{\"type\":\"line\",\"x0\":0,\"x1\":200,\"y0\":10454,\"y1\":10454},{\"type\":\"line\",\"x0\":0,\"x1\":200,\"y0\":9968,\"y1\":9968},{\"type\":\"line\",\"x0\":0,\"x1\":200,\"y0\":8381,\"y1\":8381},{\"type\":\"line\",\"x0\":0,\"x1\":200,\"y0\":3851,\"y1\":3851},{\"type\":\"line\",\"x0\":0,\"x1\":200,\"y0\":10016,\"y1\":10016}]},                        {\"responsive\": true}                    ).then(function(){\n",
       "                            \n",
       "var gd = document.getElementById('a6cb2355-7d61-4684-acfc-e6f2ed6e247b');\n",
       "var x = new MutationObserver(function (mutations, observer) {{\n",
       "        var display = window.getComputedStyle(gd).display;\n",
       "        if (!display || display === 'none') {{\n",
       "            console.log([gd, 'removed!']);\n",
       "            Plotly.purge(gd);\n",
       "            observer.disconnect();\n",
       "        }}\n",
       "}});\n",
       "\n",
       "// Listen for the removal of the full notebook cells\n",
       "var notebookContainer = gd.closest('#notebook-container');\n",
       "if (notebookContainer) {{\n",
       "    x.observe(notebookContainer, {childList: true});\n",
       "}}\n",
       "\n",
       "// Listen for the clearing of the current output cell\n",
       "var outputEl = gd.closest('.output');\n",
       "if (outputEl) {{\n",
       "    x.observe(outputEl, {childList: true});\n",
       "}}\n",
       "\n",
       "                        })                };                });            </script>        </div>"
      ]
     },
     "metadata": {},
     "output_type": "display_data"
    }
   ],
   "source": [
    "s = 0\n",
    "e = 200\n",
    "dfpl = df[s:e]\n",
    "import plotly.graph_objects as go\n",
    "from datetime import datetime\n",
    "import matplotlib.pyplot as plt\n",
    "\n",
    "fig = go.Figure(data=[go.Candlestick(x=dfpl.index,\n",
    "                open=dfpl['Open'],\n",
    "                high=dfpl['High'],\n",
    "                low=dfpl['Low'],\n",
    "                close=dfpl['Close'])])\n",
    "\n",
    "c=0\n",
    "while (1):\n",
    "    if(c>len(sr)-1 ):#or sr[c][0]>e\n",
    "        break\n",
    "    fig.add_shape(type='line', x0=s, y0=sr[c][1],\n",
    "                  x1=e,\n",
    "                  y1=sr[c][1]\n",
    "                  )#x0=sr[c][0]-5 x1=sr[c][0]+5\n",
    "    c+=1\n",
    "fig.show()"
   ]
  },
  {
   "cell_type": "code",
   "execution_count": 28,
   "metadata": {},
   "outputs": [
    {
     "data": {
      "text/plain": [
       "[9968, 10016, 10454]"
      ]
     },
     "execution_count": 28,
     "metadata": {},
     "output_type": "execute_result"
    }
   ],
   "source": [
    "plotlist1 = [x[1] for x in sr if x[2]==1]\n",
    "plotlist2 = [x[1] for x in sr if x[2]==2]\n",
    "plotlist1.sort()\n",
    "plotlist2.sort()\n",
    "\n",
    "for i in range(1,len(plotlist1)):\n",
    "    if(i>=len(plotlist1)):\n",
    "        break\n",
    "    if abs(plotlist1[i]-plotlist1[i-1])<=0.005:\n",
    "        plotlist1.pop(i)\n",
    "\n",
    "for i in range(1,len(plotlist2)):\n",
    "    if(i>=len(plotlist2)):\n",
    "        break\n",
    "    if abs(plotlist2[i]-plotlist2[i-1])<=0.005:\n",
    "        plotlist2.pop(i)\n",
    "plotlist2\n",
    "#plt.hist(plotlist, bins=10, alpha=0.5)"
   ]
  },
  {
   "cell_type": "code",
   "execution_count": 29,
   "metadata": {},
   "outputs": [
    {
     "data": {
      "application/vnd.plotly.v1+json": {
       "config": {
        "plotlyServerURL": "https://plot.ly"
       },
       "data": [
        {
         "close": [
          8318,
          8176,
          8091,
          8109,
          8159,
          8072,
          8532,
          8523,
          8283,
          8285,
          8085,
          7930,
          7989,
          7889,
          8149,
          8067,
          7433,
          7399,
          8511,
          9401,
          9388,
          9128,
          9154,
          9154,
          9099,
          9385,
          9300,
          9261,
          9153,
          8743,
          8983,
          8676,
          8707,
          8695,
          8593,
          8410,
          8497,
          8163,
          8049,
          8029,
          7537,
          7272,
          6989,
          7154,
          7056,
          7493,
          7507,
          7688,
          7323,
          7260,
          7273,
          7129,
          7323,
          7384,
          7488,
          7304,
          7164,
          7134,
          7143,
          7198,
          7063,
          6817,
          6558,
          7075,
          7099,
          7152,
          7349,
          7260,
          7189,
          7152,
          7132,
          7155,
          7332,
          7186,
          7101,
          7158,
          6902,
          7253,
          7305,
          7518,
          7965,
          7949,
          7729,
          8016,
          8044,
          8074,
          8684,
          8767,
          8622,
          8812,
          8662,
          8614,
          8664,
          8582,
          8325,
          8417,
          8527,
          8889,
          8986,
          9300,
          9499,
          9248,
          9384,
          9219,
          9081,
          9633,
          9681,
          9673,
          10020,
          9811,
          10187,
          10335,
          10126,
          10314,
          9714,
          9591,
          10105,
          9560,
          9554,
          9660,
          9828,
          9549,
          9328,
          8687,
          8698,
          8560,
          8455,
          8888,
          8680,
          8678,
          9059,
          9062,
          7800,
          7942,
          7804,
          5668,
          5389,
          4849,
          5411,
          5282,
          6199,
          5916,
          6357,
          6699,
          6542,
          6691,
          6627,
          6423,
          6424,
          6295,
          6694,
          6647,
          7173,
          7065,
          7266,
          7248,
          6866,
          6771,
          6817,
          6693,
          7003,
          7004,
          6810,
          6840,
          7063,
          7484,
          7477,
          7654,
          7680,
          8878,
          8771,
          8676,
          8866,
          8899,
          9197,
          9751,
          9944,
          8580,
          8768,
          9246,
          9603,
          9186,
          9621,
          9638,
          9535,
          9002,
          9128,
          8860,
          8803,
          9111,
          9391,
          9362,
          9624,
          9464,
          9528,
          9731,
          9660,
          9647,
          9693,
          9812
         ],
         "high": [
          8472,
          8359,
          8359,
          8239,
          8254,
          8285,
          8634,
          8604,
          8755,
          8347,
          8360,
          8118,
          8070,
          8063,
          8287,
          8256,
          8067,
          7454,
          8712,
          9876,
          9504,
          9414,
          9373,
          9302,
          9108,
          9507,
          9425,
          9389,
          9315,
          9194,
          8990,
          9040,
          8808,
          8779,
          8730,
          8713,
          8507,
          8498,
          8163,
          8164,
          8059,
          7654,
          7043,
          7318,
          7283,
          7615,
          7602,
          7807,
          7329,
          7395,
          7355,
          7713,
          7431,
          7546,
          7500,
          7596,
          7333,
          7211,
          7230,
          7241,
          7072,
          7082,
          6877,
          7165,
          7386,
          7159,
          7365,
          7631,
          7368,
          7190,
          7370,
          7195,
          7340,
          7366,
          7242,
          7165,
          7157,
          7342,
          7372,
          7548,
          8133,
          8406,
          8053,
          8077,
          8086,
          8137,
          8800,
          8844,
          8806,
          8951,
          8691,
          8687,
          8713,
          8734,
          8609,
          8454,
          8529,
          8934,
          9124,
          9375,
          9507,
          9508,
          9387,
          9549,
          9286,
          9711,
          9801,
          9815,
          10032,
          10137,
          10329,
          10424,
          10454,
          10334,
          9734,
          9946,
          10223,
          10246,
          9651,
          9713,
          9842,
          9968,
          9620,
          9365,
          8914,
          8843,
          8471,
          8892,
          8916,
          8790,
          9113,
          9124,
          8235,
          8096,
          7980,
          7934,
          5936,
          5897,
          5448,
          5505,
          6336,
          6888,
          6579,
          6808,
          6929,
          6738,
          6811,
          6467,
          6572,
          6439,
          7194,
          6989,
          7266,
          7411,
          7371,
          7340,
          7268,
          7097,
          6929,
          6883,
          7095,
          7156,
          7167,
          6897,
          7111,
          7706,
          7562,
          7742,
          7740,
          8917,
          9414,
          9014,
          8909,
          9065,
          9340,
          9911,
          10016,
          9116,
          8922,
          9287,
          9889,
          9793,
          9899,
          9841,
          9783,
          9535,
          9211,
          9022,
          8962,
          9173,
          9481,
          9568,
          9639,
          10357,
          9592,
          9829,
          9806,
          9754,
          9835,
          9959
         ],
         "low": [
          8137,
          8120,
          8030,
          7972,
          7714,
          8057,
          8065,
          8399,
          8232,
          8163,
          8059,
          7856,
          7883,
          7765,
          8102,
          8021,
          7247,
          7302,
          7341,
          9213,
          9034,
          8945,
          8903,
          9004,
          9022,
          9071,
          9133,
          9201,
          9031,
          8617,
          8969,
          8549,
          8509,
          8651,
          8505,
          8326,
          8467,
          7982,
          7942,
          7971,
          7344,
          6739,
          6981,
          6471,
          6974,
          6795,
          7369,
          7319,
          7260,
          7109,
          7188,
          7040,
          7108,
          7255,
          7479,
          7230,
          7106,
          7075,
          7025,
          7126,
          7051,
          6775,
          6520,
          6379,
          6989,
          7023,
          7329,
          7236,
          7103,
          7145,
          7111,
          7006,
          7300,
          7146,
          7059,
          7101,
          6850,
          6803,
          7305,
          7259,
          7518,
          7817,
          7692,
          7623,
          8039,
          7992,
          8050,
          8504,
          8528,
          8608,
          8582,
          8443,
          8430,
          8517,
          8223,
          8163,
          8497,
          8480,
          8818,
          8982,
          9131,
          9143,
          9365,
          9165,
          9023,
          9074,
          9474,
          9598,
          9999,
          9702,
          9656,
          10165,
          10031,
          10047,
          9706,
          9418,
          9556,
          9262,
          9360,
          9522,
          9828,
          9431,
          9190,
          8570,
          8467,
          8381,
          8404,
          8433,
          8605,
          8614,
          8672,
          8943,
          7580,
          7680,
          7535,
          5542,
          3851,
          4378,
          4811,
          4967,
          5212,
          5645,
          5635,
          6305,
          6417,
          6476,
          6531,
          5799,
          6287,
          6103,
          6294,
          6562,
          6672,
          7023,
          7030,
          7060,
          6696,
          6535,
          6722,
          6636,
          6424,
          6945,
          6705,
          6719,
          6772,
          6980,
          7341,
          7535,
          7616,
          7665,
          8356,
          8536,
          8480,
          8732,
          8867,
          8989,
          9677,
          8146,
          8426,
          8693,
          9213,
          9092,
          9415,
          9410,
          9259,
          8748,
          8876,
          8581,
          8644,
          8751,
          9001,
          9285,
          9334,
          9246,
          9341,
          9405,
          9567,
          9599,
          9528,
          9651
         ],
         "open": [
          8181,
          8318,
          8176,
          8088,
          7850,
          8158,
          8072,
          8531,
          8523,
          8192,
          8285,
          8085,
          7930,
          7988,
          8167,
          8148,
          8067,
          7432,
          7399,
          9565,
          9400,
          9388,
          9127,
          9155,
          9102,
          9097,
          9385,
          9297,
          9261,
          9153,
          8978,
          8983,
          8675,
          8706,
          8695,
          8592,
          8472,
          8495,
          8163,
          8049,
          8029,
          7533,
          6999,
          6988,
          7152,
          7056,
          7493,
          7507,
          7297,
          7320,
          7259,
          7272,
          7127,
          7323,
          7479,
          7486,
          7301,
          7163,
          7133,
          7143,
          7072,
          7062,
          6817,
          6558,
          7075,
          7096,
          7362,
          7350,
          7259,
          7189,
          7150,
          7130,
          7334,
          7332,
          7186,
          7101,
          7157,
          6901,
          7372,
          7303,
          7518,
          7964,
          7949,
          7729,
          8079,
          8041,
          8074,
          8684,
          8764,
          8622,
          8584,
          8661,
          8614,
          8663,
          8582,
          8324,
          8498,
          8526,
          8889,
          8986,
          9300,
          9499,
          9378,
          9384,
          9219,
          9081,
          9633,
          9681,
          10002,
          10018,
          9811,
          10187,
          10335,
          10126,
          9724,
          9711,
          9588,
          10105,
          9560,
          9553,
          9830,
          9828,
          9548,
          9327,
          8687,
          8698,
          8425,
          8457,
          8888,
          8680,
          8678,
          9059,
          8215,
          7799,
          7942,
          7804,
          5668,
          5118,
          4850,
          5411,
          5282,
          6199,
          5881,
          6357,
          6699,
          6542,
          6690,
          5891,
          6423,
          6424,
          6295,
          6690,
          6701,
          7173,
          7065,
          7266,
          7248,
          7073,
          6772,
          6817,
          6693,
          7003,
          7092,
          6810,
          6840,
          7063,
          7484,
          7600,
          7654,
          7680,
          8878,
          8771,
          8778,
          8866,
          8898,
          9197,
          9751,
          8675,
          8580,
          8768,
          9246,
          9603,
          9676,
          9621,
          9638,
          9535,
          9002,
          8944,
          8860,
          8802,
          9111,
          9391,
          9450,
          9624,
          9464,
          9528,
          9731,
          9671,
          9647,
          9693
         ],
         "type": "candlestick",
         "x": [
          0,
          1,
          2,
          3,
          4,
          5,
          6,
          7,
          8,
          9,
          10,
          11,
          12,
          13,
          14,
          15,
          16,
          17,
          18,
          19,
          20,
          21,
          22,
          23,
          24,
          25,
          26,
          27,
          28,
          29,
          30,
          31,
          32,
          33,
          34,
          35,
          36,
          37,
          38,
          39,
          40,
          41,
          42,
          43,
          44,
          45,
          46,
          47,
          48,
          49,
          50,
          51,
          52,
          53,
          54,
          55,
          56,
          57,
          58,
          59,
          60,
          61,
          62,
          63,
          64,
          65,
          66,
          67,
          68,
          69,
          70,
          71,
          72,
          73,
          74,
          75,
          76,
          77,
          78,
          79,
          80,
          81,
          82,
          83,
          84,
          85,
          86,
          87,
          88,
          89,
          90,
          91,
          92,
          93,
          94,
          95,
          96,
          97,
          98,
          99,
          100,
          101,
          102,
          103,
          104,
          105,
          106,
          107,
          108,
          109,
          110,
          111,
          112,
          113,
          114,
          115,
          116,
          117,
          118,
          119,
          120,
          121,
          122,
          123,
          124,
          125,
          126,
          127,
          128,
          129,
          130,
          131,
          132,
          133,
          134,
          135,
          136,
          137,
          138,
          139,
          140,
          141,
          142,
          143,
          144,
          145,
          146,
          147,
          148,
          149,
          150,
          151,
          152,
          153,
          154,
          155,
          156,
          157,
          158,
          159,
          160,
          161,
          162,
          163,
          164,
          165,
          166,
          167,
          168,
          169,
          170,
          171,
          172,
          173,
          174,
          175,
          176,
          177,
          178,
          179,
          180,
          181,
          182,
          183,
          184,
          185,
          186,
          187,
          188,
          189,
          190,
          191,
          192,
          193,
          194,
          195,
          196,
          197,
          198,
          199
         ]
        }
       ],
       "layout": {
        "autosize": true,
        "shapes": [
         {
          "line": {
           "color": "MediumPurple",
           "width": 3
          },
          "type": "line",
          "x0": 0,
          "x1": 200,
          "y0": 3851,
          "y1": 3851
         },
         {
          "line": {
           "color": "MediumPurple",
           "width": 3
          },
          "type": "line",
          "x0": 0,
          "x1": 200,
          "y0": 6379,
          "y1": 6379
         },
         {
          "line": {
           "color": "MediumPurple",
           "width": 3
          },
          "type": "line",
          "x0": 0,
          "x1": 200,
          "y0": 7714,
          "y1": 7714
         },
         {
          "line": {
           "color": "MediumPurple",
           "width": 3
          },
          "type": "line",
          "x0": 0,
          "x1": 200,
          "y0": 8381,
          "y1": 8381
         },
         {
          "line": {
           "color": "MediumPurple",
           "width": 3
          },
          "type": "line",
          "x0": 0,
          "x1": 200,
          "y0": 8903,
          "y1": 8903
         },
         {
          "line": {
           "color": "RoyalBlue",
           "width": 1
          },
          "type": "line",
          "x0": 0,
          "x1": 200,
          "y0": 9968,
          "y1": 9968
         },
         {
          "line": {
           "color": "RoyalBlue",
           "width": 1
          },
          "type": "line",
          "x0": 0,
          "x1": 200,
          "y0": 10016,
          "y1": 10016
         },
         {
          "line": {
           "color": "RoyalBlue",
           "width": 1
          },
          "type": "line",
          "x0": 0,
          "x1": 200,
          "y0": 10454,
          "y1": 10454
         }
        ],
        "template": {
         "data": {
          "bar": [
           {
            "error_x": {
             "color": "#2a3f5f"
            },
            "error_y": {
             "color": "#2a3f5f"
            },
            "marker": {
             "line": {
              "color": "#E5ECF6",
              "width": 0.5
             },
             "pattern": {
              "fillmode": "overlay",
              "size": 10,
              "solidity": 0.2
             }
            },
            "type": "bar"
           }
          ],
          "barpolar": [
           {
            "marker": {
             "line": {
              "color": "#E5ECF6",
              "width": 0.5
             },
             "pattern": {
              "fillmode": "overlay",
              "size": 10,
              "solidity": 0.2
             }
            },
            "type": "barpolar"
           }
          ],
          "carpet": [
           {
            "aaxis": {
             "endlinecolor": "#2a3f5f",
             "gridcolor": "white",
             "linecolor": "white",
             "minorgridcolor": "white",
             "startlinecolor": "#2a3f5f"
            },
            "baxis": {
             "endlinecolor": "#2a3f5f",
             "gridcolor": "white",
             "linecolor": "white",
             "minorgridcolor": "white",
             "startlinecolor": "#2a3f5f"
            },
            "type": "carpet"
           }
          ],
          "choropleth": [
           {
            "colorbar": {
             "outlinewidth": 0,
             "ticks": ""
            },
            "type": "choropleth"
           }
          ],
          "contour": [
           {
            "colorbar": {
             "outlinewidth": 0,
             "ticks": ""
            },
            "colorscale": [
             [
              0,
              "#0d0887"
             ],
             [
              0.1111111111111111,
              "#46039f"
             ],
             [
              0.2222222222222222,
              "#7201a8"
             ],
             [
              0.3333333333333333,
              "#9c179e"
             ],
             [
              0.4444444444444444,
              "#bd3786"
             ],
             [
              0.5555555555555556,
              "#d8576b"
             ],
             [
              0.6666666666666666,
              "#ed7953"
             ],
             [
              0.7777777777777778,
              "#fb9f3a"
             ],
             [
              0.8888888888888888,
              "#fdca26"
             ],
             [
              1,
              "#f0f921"
             ]
            ],
            "type": "contour"
           }
          ],
          "contourcarpet": [
           {
            "colorbar": {
             "outlinewidth": 0,
             "ticks": ""
            },
            "type": "contourcarpet"
           }
          ],
          "heatmap": [
           {
            "colorbar": {
             "outlinewidth": 0,
             "ticks": ""
            },
            "colorscale": [
             [
              0,
              "#0d0887"
             ],
             [
              0.1111111111111111,
              "#46039f"
             ],
             [
              0.2222222222222222,
              "#7201a8"
             ],
             [
              0.3333333333333333,
              "#9c179e"
             ],
             [
              0.4444444444444444,
              "#bd3786"
             ],
             [
              0.5555555555555556,
              "#d8576b"
             ],
             [
              0.6666666666666666,
              "#ed7953"
             ],
             [
              0.7777777777777778,
              "#fb9f3a"
             ],
             [
              0.8888888888888888,
              "#fdca26"
             ],
             [
              1,
              "#f0f921"
             ]
            ],
            "type": "heatmap"
           }
          ],
          "heatmapgl": [
           {
            "colorbar": {
             "outlinewidth": 0,
             "ticks": ""
            },
            "colorscale": [
             [
              0,
              "#0d0887"
             ],
             [
              0.1111111111111111,
              "#46039f"
             ],
             [
              0.2222222222222222,
              "#7201a8"
             ],
             [
              0.3333333333333333,
              "#9c179e"
             ],
             [
              0.4444444444444444,
              "#bd3786"
             ],
             [
              0.5555555555555556,
              "#d8576b"
             ],
             [
              0.6666666666666666,
              "#ed7953"
             ],
             [
              0.7777777777777778,
              "#fb9f3a"
             ],
             [
              0.8888888888888888,
              "#fdca26"
             ],
             [
              1,
              "#f0f921"
             ]
            ],
            "type": "heatmapgl"
           }
          ],
          "histogram": [
           {
            "marker": {
             "pattern": {
              "fillmode": "overlay",
              "size": 10,
              "solidity": 0.2
             }
            },
            "type": "histogram"
           }
          ],
          "histogram2d": [
           {
            "colorbar": {
             "outlinewidth": 0,
             "ticks": ""
            },
            "colorscale": [
             [
              0,
              "#0d0887"
             ],
             [
              0.1111111111111111,
              "#46039f"
             ],
             [
              0.2222222222222222,
              "#7201a8"
             ],
             [
              0.3333333333333333,
              "#9c179e"
             ],
             [
              0.4444444444444444,
              "#bd3786"
             ],
             [
              0.5555555555555556,
              "#d8576b"
             ],
             [
              0.6666666666666666,
              "#ed7953"
             ],
             [
              0.7777777777777778,
              "#fb9f3a"
             ],
             [
              0.8888888888888888,
              "#fdca26"
             ],
             [
              1,
              "#f0f921"
             ]
            ],
            "type": "histogram2d"
           }
          ],
          "histogram2dcontour": [
           {
            "colorbar": {
             "outlinewidth": 0,
             "ticks": ""
            },
            "colorscale": [
             [
              0,
              "#0d0887"
             ],
             [
              0.1111111111111111,
              "#46039f"
             ],
             [
              0.2222222222222222,
              "#7201a8"
             ],
             [
              0.3333333333333333,
              "#9c179e"
             ],
             [
              0.4444444444444444,
              "#bd3786"
             ],
             [
              0.5555555555555556,
              "#d8576b"
             ],
             [
              0.6666666666666666,
              "#ed7953"
             ],
             [
              0.7777777777777778,
              "#fb9f3a"
             ],
             [
              0.8888888888888888,
              "#fdca26"
             ],
             [
              1,
              "#f0f921"
             ]
            ],
            "type": "histogram2dcontour"
           }
          ],
          "mesh3d": [
           {
            "colorbar": {
             "outlinewidth": 0,
             "ticks": ""
            },
            "type": "mesh3d"
           }
          ],
          "parcoords": [
           {
            "line": {
             "colorbar": {
              "outlinewidth": 0,
              "ticks": ""
             }
            },
            "type": "parcoords"
           }
          ],
          "pie": [
           {
            "automargin": true,
            "type": "pie"
           }
          ],
          "scatter": [
           {
            "fillpattern": {
             "fillmode": "overlay",
             "size": 10,
             "solidity": 0.2
            },
            "type": "scatter"
           }
          ],
          "scatter3d": [
           {
            "line": {
             "colorbar": {
              "outlinewidth": 0,
              "ticks": ""
             }
            },
            "marker": {
             "colorbar": {
              "outlinewidth": 0,
              "ticks": ""
             }
            },
            "type": "scatter3d"
           }
          ],
          "scattercarpet": [
           {
            "marker": {
             "colorbar": {
              "outlinewidth": 0,
              "ticks": ""
             }
            },
            "type": "scattercarpet"
           }
          ],
          "scattergeo": [
           {
            "marker": {
             "colorbar": {
              "outlinewidth": 0,
              "ticks": ""
             }
            },
            "type": "scattergeo"
           }
          ],
          "scattergl": [
           {
            "marker": {
             "colorbar": {
              "outlinewidth": 0,
              "ticks": ""
             }
            },
            "type": "scattergl"
           }
          ],
          "scattermapbox": [
           {
            "marker": {
             "colorbar": {
              "outlinewidth": 0,
              "ticks": ""
             }
            },
            "type": "scattermapbox"
           }
          ],
          "scatterpolar": [
           {
            "marker": {
             "colorbar": {
              "outlinewidth": 0,
              "ticks": ""
             }
            },
            "type": "scatterpolar"
           }
          ],
          "scatterpolargl": [
           {
            "marker": {
             "colorbar": {
              "outlinewidth": 0,
              "ticks": ""
             }
            },
            "type": "scatterpolargl"
           }
          ],
          "scatterternary": [
           {
            "marker": {
             "colorbar": {
              "outlinewidth": 0,
              "ticks": ""
             }
            },
            "type": "scatterternary"
           }
          ],
          "surface": [
           {
            "colorbar": {
             "outlinewidth": 0,
             "ticks": ""
            },
            "colorscale": [
             [
              0,
              "#0d0887"
             ],
             [
              0.1111111111111111,
              "#46039f"
             ],
             [
              0.2222222222222222,
              "#7201a8"
             ],
             [
              0.3333333333333333,
              "#9c179e"
             ],
             [
              0.4444444444444444,
              "#bd3786"
             ],
             [
              0.5555555555555556,
              "#d8576b"
             ],
             [
              0.6666666666666666,
              "#ed7953"
             ],
             [
              0.7777777777777778,
              "#fb9f3a"
             ],
             [
              0.8888888888888888,
              "#fdca26"
             ],
             [
              1,
              "#f0f921"
             ]
            ],
            "type": "surface"
           }
          ],
          "table": [
           {
            "cells": {
             "fill": {
              "color": "#EBF0F8"
             },
             "line": {
              "color": "white"
             }
            },
            "header": {
             "fill": {
              "color": "#C8D4E3"
             },
             "line": {
              "color": "white"
             }
            },
            "type": "table"
           }
          ]
         },
         "layout": {
          "annotationdefaults": {
           "arrowcolor": "#2a3f5f",
           "arrowhead": 0,
           "arrowwidth": 1
          },
          "autotypenumbers": "strict",
          "coloraxis": {
           "colorbar": {
            "outlinewidth": 0,
            "ticks": ""
           }
          },
          "colorscale": {
           "diverging": [
            [
             0,
             "#8e0152"
            ],
            [
             0.1,
             "#c51b7d"
            ],
            [
             0.2,
             "#de77ae"
            ],
            [
             0.3,
             "#f1b6da"
            ],
            [
             0.4,
             "#fde0ef"
            ],
            [
             0.5,
             "#f7f7f7"
            ],
            [
             0.6,
             "#e6f5d0"
            ],
            [
             0.7,
             "#b8e186"
            ],
            [
             0.8,
             "#7fbc41"
            ],
            [
             0.9,
             "#4d9221"
            ],
            [
             1,
             "#276419"
            ]
           ],
           "sequential": [
            [
             0,
             "#0d0887"
            ],
            [
             0.1111111111111111,
             "#46039f"
            ],
            [
             0.2222222222222222,
             "#7201a8"
            ],
            [
             0.3333333333333333,
             "#9c179e"
            ],
            [
             0.4444444444444444,
             "#bd3786"
            ],
            [
             0.5555555555555556,
             "#d8576b"
            ],
            [
             0.6666666666666666,
             "#ed7953"
            ],
            [
             0.7777777777777778,
             "#fb9f3a"
            ],
            [
             0.8888888888888888,
             "#fdca26"
            ],
            [
             1,
             "#f0f921"
            ]
           ],
           "sequentialminus": [
            [
             0,
             "#0d0887"
            ],
            [
             0.1111111111111111,
             "#46039f"
            ],
            [
             0.2222222222222222,
             "#7201a8"
            ],
            [
             0.3333333333333333,
             "#9c179e"
            ],
            [
             0.4444444444444444,
             "#bd3786"
            ],
            [
             0.5555555555555556,
             "#d8576b"
            ],
            [
             0.6666666666666666,
             "#ed7953"
            ],
            [
             0.7777777777777778,
             "#fb9f3a"
            ],
            [
             0.8888888888888888,
             "#fdca26"
            ],
            [
             1,
             "#f0f921"
            ]
           ]
          },
          "colorway": [
           "#636efa",
           "#EF553B",
           "#00cc96",
           "#ab63fa",
           "#FFA15A",
           "#19d3f3",
           "#FF6692",
           "#B6E880",
           "#FF97FF",
           "#FECB52"
          ],
          "font": {
           "color": "#2a3f5f"
          },
          "geo": {
           "bgcolor": "white",
           "lakecolor": "white",
           "landcolor": "#E5ECF6",
           "showlakes": true,
           "showland": true,
           "subunitcolor": "white"
          },
          "hoverlabel": {
           "align": "left"
          },
          "hovermode": "closest",
          "mapbox": {
           "style": "light"
          },
          "paper_bgcolor": "white",
          "plot_bgcolor": "#E5ECF6",
          "polar": {
           "angularaxis": {
            "gridcolor": "white",
            "linecolor": "white",
            "ticks": ""
           },
           "bgcolor": "#E5ECF6",
           "radialaxis": {
            "gridcolor": "white",
            "linecolor": "white",
            "ticks": ""
           }
          },
          "scene": {
           "xaxis": {
            "backgroundcolor": "#E5ECF6",
            "gridcolor": "white",
            "gridwidth": 2,
            "linecolor": "white",
            "showbackground": true,
            "ticks": "",
            "zerolinecolor": "white"
           },
           "yaxis": {
            "backgroundcolor": "#E5ECF6",
            "gridcolor": "white",
            "gridwidth": 2,
            "linecolor": "white",
            "showbackground": true,
            "ticks": "",
            "zerolinecolor": "white"
           },
           "zaxis": {
            "backgroundcolor": "#E5ECF6",
            "gridcolor": "white",
            "gridwidth": 2,
            "linecolor": "white",
            "showbackground": true,
            "ticks": "",
            "zerolinecolor": "white"
           }
          },
          "shapedefaults": {
           "line": {
            "color": "#2a3f5f"
           }
          },
          "ternary": {
           "aaxis": {
            "gridcolor": "white",
            "linecolor": "white",
            "ticks": ""
           },
           "baxis": {
            "gridcolor": "white",
            "linecolor": "white",
            "ticks": ""
           },
           "bgcolor": "#E5ECF6",
           "caxis": {
            "gridcolor": "white",
            "linecolor": "white",
            "ticks": ""
           }
          },
          "title": {
           "x": 0.05
          },
          "xaxis": {
           "automargin": true,
           "gridcolor": "white",
           "linecolor": "white",
           "ticks": "",
           "title": {
            "standoff": 15
           },
           "zerolinecolor": "white",
           "zerolinewidth": 2
          },
          "yaxis": {
           "automargin": true,
           "gridcolor": "white",
           "linecolor": "white",
           "ticks": "",
           "title": {
            "standoff": 15
           },
           "zerolinecolor": "white",
           "zerolinewidth": 2
          }
         }
        },
        "xaxis": {
         "autorange": true,
         "range": [
          -0.5,
          200.21754068716095
         ],
         "rangeslider": {
          "autorange": true,
          "range": [
           -0.5,
           200.21754068716095
          ],
          "yaxis": {
           "_template": null,
           "rangemode": "match"
          }
         },
         "type": "linear"
        },
        "yaxis": {
         "autorange": true,
         "range": [
          3484.1666666666665,
          10820.833333333334
         ]
        }
       }
      },
      "image/png": "[encoded data removed]",
      "text/html": [
       "<div>                            <div id=\"a4016450-44ce-473e-8235-2341881ee69b\" class=\"plotly-graph-div\" style=\"height:525px; width:100%;\"></div>            <script type=\"text/javascript\">                require([\"plotly\"], function(Plotly) {                    window.PLOTLYENV=window.PLOTLYENV || {};                                    if (document.getElementById(\"a4016450-44ce-473e-8235-2341881ee69b\")) {                    Plotly.newPlot(                        \"a4016450-44ce-473e-8235-2341881ee69b\",                        [{\"close\":[8318,8176,8091,8109,8159,8072,8532,8523,8283,8285,8085,7930,7989,7889,8149,8067,7433,7399,8511,9401,9388,9128,9154,9154,9099,9385,9300,9261,9153,8743,8983,8676,8707,8695,8593,8410,8497,8163,8049,8029,7537,7272,6989,7154,7056,7493,7507,7688,7323,7260,7273,7129,7323,7384,7488,7304,7164,7134,7143,7198,7063,6817,6558,7075,7099,7152,7349,7260,7189,7152,7132,7155,7332,7186,7101,7158,6902,7253,7305,7518,7965,7949,7729,8016,8044,8074,8684,8767,8622,8812,8662,8614,8664,8582,8325,8417,8527,8889,8986,9300,9499,9248,9384,9219,9081,9633,9681,9673,10020,9811,10187,10335,10126,10314,9714,9591,10105,9560,9554,9660,9828,9549,9328,8687,8698,8560,8455,8888,8680,8678,9059,9062,7800,7942,7804,5668,5389,4849,5411,5282,6199,5916,6357,6699,6542,6691,6627,6423,6424,6295,6694,6647,7173,7065,7266,7248,6866,6771,6817,6693,7003,7004,6810,6840,7063,7484,7477,7654,7680,8878,8771,8676,8866,8899,9197,9751,9944,8580,8768,9246,9603,9186,9621,9638,9535,9002,9128,8860,8803,9111,9391,9362,9624,9464,9528,9731,9660,9647,9693,9812],\"high\":[8472,8359,8359,8239,8254,8285,8634,8604,8755,8347,8360,8118,8070,8063,8287,8256,8067,7454,8712,9876,9504,9414,9373,9302,9108,9507,9425,9389,9315,9194,8990,9040,8808,8779,8730,8713,8507,8498,8163,8164,8059,7654,7043,7318,7283,7615,7602,7807,7329,7395,7355,7713,7431,7546,7500,7596,7333,7211,7230,7241,7072,7082,6877,7165,7386,7159,7365,7631,7368,7190,7370,7195,7340,7366,7242,7165,7157,7342,7372,7548,8133,8406,8053,8077,8086,8137,8800,8844,8806,8951,8691,8687,8713,8734,8609,8454,8529,8934,9124,9375,9507,9508,9387,9549,9286,9711,9801,9815,10032,10137,10329,10424,10454,10334,9734,9946,10223,10246,9651,9713,9842,9968,9620,9365,8914,8843,8471,8892,8916,8790,9113,9124,8235,8096,7980,7934,5936,5897,5448,5505,6336,6888,6579,6808,6929,6738,6811,6467,6572,6439,7194,6989,7266,7411,7371,7340,7268,7097,6929,6883,7095,7156,7167,6897,7111,7706,7562,7742,7740,8917,9414,9014,8909,9065,9340,9911,10016,9116,8922,9287,9889,9793,9899,9841,9783,9535,9211,9022,8962,9173,9481,9568,9639,10357,9592,9829,9806,9754,9835,9959],\"low\":[8137,8120,8030,7972,7714,8057,8065,8399,8232,8163,8059,7856,7883,7765,8102,8021,7247,7302,7341,9213,9034,8945,8903,9004,9022,9071,9133,9201,9031,8617,8969,8549,8509,8651,8505,8326,8467,7982,7942,7971,7344,6739,6981,6471,6974,6795,7369,7319,7260,7109,7188,7040,7108,7255,7479,7230,7106,7075,7025,7126,7051,6775,6520,6379,6989,7023,7329,7236,7103,7145,7111,7006,7300,7146,7059,7101,6850,6803,7305,7259,7518,7817,7692,7623,8039,7992,8050,8504,8528,8608,8582,8443,8430,8517,8223,8163,8497,8480,8818,8982,9131,9143,9365,9165,9023,9074,9474,9598,9999,9702,9656,10165,10031,10047,9706,9418,9556,9262,9360,9522,9828,9431,9190,8570,8467,8381,8404,8433,8605,8614,8672,8943,7580,7680,7535,5542,3851,4378,4811,4967,5212,5645,5635,6305,6417,6476,6531,5799,6287,6103,6294,6562,6672,7023,7030,7060,6696,6535,6722,6636,6424,6945,6705,6719,6772,6980,7341,7535,7616,7665,8356,8536,8480,8732,8867,8989,9677,8146,8426,8693,9213,9092,9415,9410,9259,8748,8876,8581,8644,8751,9001,9285,9334,9246,9341,9405,9567,9599,9528,9651],\"open\":[8181,8318,8176,8088,7850,8158,8072,8531,8523,8192,8285,8085,7930,7988,8167,8148,8067,7432,7399,9565,9400,9388,9127,9155,9102,9097,9385,9297,9261,9153,8978,8983,8675,8706,8695,8592,8472,8495,8163,8049,8029,7533,6999,6988,7152,7056,7493,7507,7297,7320,7259,7272,7127,7323,7479,7486,7301,7163,7133,7143,7072,7062,6817,6558,7075,7096,7362,7350,7259,7189,7150,7130,7334,7332,7186,7101,7157,6901,7372,7303,7518,7964,7949,7729,8079,8041,8074,8684,8764,8622,8584,8661,8614,8663,8582,8324,8498,8526,8889,8986,9300,9499,9378,9384,9219,9081,9633,9681,10002,10018,9811,10187,10335,10126,9724,9711,9588,10105,9560,9553,9830,9828,9548,9327,8687,8698,8425,8457,8888,8680,8678,9059,8215,7799,7942,7804,5668,5118,4850,5411,5282,6199,5881,6357,6699,6542,6690,5891,6423,6424,6295,6690,6701,7173,7065,7266,7248,7073,6772,6817,6693,7003,7092,6810,6840,7063,7484,7600,7654,7680,8878,8771,8778,8866,8898,9197,9751,8675,8580,8768,9246,9603,9676,9621,9638,9535,9002,8944,8860,8802,9111,9391,9450,9624,9464,9528,9731,9671,9647,9693],\"x\":[0,1,2,3,4,5,6,7,8,9,10,11,12,13,14,15,16,17,18,19,20,21,22,23,24,25,26,27,28,29,30,31,32,33,34,35,36,37,38,39,40,41,42,43,44,45,46,47,48,49,50,51,52,53,54,55,56,57,58,59,60,61,62,63,64,65,66,67,68,69,70,71,72,73,74,75,76,77,78,79,80,81,82,83,84,85,86,87,88,89,90,91,92,93,94,95,96,97,98,99,100,101,102,103,104,105,106,107,108,109,110,111,112,113,114,115,116,117,118,119,120,121,122,123,124,125,126,127,128,129,130,131,132,133,134,135,136,137,138,139,140,141,142,143,144,145,146,147,148,149,150,151,152,153,154,155,156,157,158,159,160,161,162,163,164,165,166,167,168,169,170,171,172,173,174,175,176,177,178,179,180,181,182,183,184,185,186,187,188,189,190,191,192,193,194,195,196,197,198,199],\"type\":\"candlestick\"}],                        {\"template\":{\"data\":{\"histogram2dcontour\":[{\"type\":\"histogram2dcontour\",\"colorbar\":{\"outlinewidth\":0,\"ticks\":\"\"},\"colorscale\":[[0.0,\"#0d0887\"],[0.1111111111111111,\"#46039f\"],[0.2222222222222222,\"#7201a8\"],[0.3333333333333333,\"#9c179e\"],[0.4444444444444444,\"#bd3786\"],[0.5555555555555556,\"#d8576b\"],[0.6666666666666666,\"#ed7953\"],[0.7777777777777778,\"#fb9f3a\"],[0.8888888888888888,\"#fdca26\"],[1.0,\"#f0f921\"]]}],\"choropleth\":[{\"type\":\"choropleth\",\"colorbar\":{\"outlinewidth\":0,\"ticks\":\"\"}}],\"histogram2d\":[{\"type\":\"histogram2d\",\"colorbar\":{\"outlinewidth\":0,\"ticks\":\"\"},\"colorscale\":[[0.0,\"#0d0887\"],[0.1111111111111111,\"#46039f\"],[0.2222222222222222,\"#7201a8\"],[0.3333333333333333,\"#9c179e\"],[0.4444444444444444,\"#bd3786\"],[0.5555555555555556,\"#d8576b\"],[0.6666666666666666,\"#ed7953\"],[0.7777777777777778,\"#fb9f3a\"],[0.8888888888888888,\"#fdca26\"],[1.0,\"#f0f921\"]]}],\"heatmap\":[{\"type\":\"heatmap\",\"colorbar\":{\"outlinewidth\":0,\"ticks\":\"\"},\"colorscale\":[[0.0,\"#0d0887\"],[0.1111111111111111,\"#46039f\"],[0.2222222222222222,\"#7201a8\"],[0.3333333333333333,\"#9c179e\"],[0.4444444444444444,\"#bd3786\"],[0.5555555555555556,\"#d8576b\"],[0.6666666666666666,\"#ed7953\"],[0.7777777777777778,\"#fb9f3a\"],[0.8888888888888888,\"#fdca26\"],[1.0,\"#f0f921\"]]}],\"heatmapgl\":[{\"type\":\"heatmapgl\",\"colorbar\":{\"outlinewidth\":0,\"ticks\":\"\"},\"colorscale\":[[0.0,\"#0d0887\"],[0.1111111111111111,\"#46039f\"],[0.2222222222222222,\"#7201a8\"],[0.3333333333333333,\"#9c179e\"],[0.4444444444444444,\"#bd3786\"],[0.5555555555555556,\"#d8576b\"],[0.6666666666666666,\"#ed7953\"],[0.7777777777777778,\"#fb9f3a\"],[0.8888888888888888,\"#fdca26\"],[1.0,\"#f0f921\"]]}],\"contourcarpet\":[{\"type\":\"contourcarpet\",\"colorbar\":{\"outlinewidth\":0,\"ticks\":\"\"}}],\"contour\":[{\"type\":\"contour\",\"colorbar\":{\"outlinewidth\":0,\"ticks\":\"\"},\"colorscale\":[[0.0,\"#0d0887\"],[0.1111111111111111,\"#46039f\"],[0.2222222222222222,\"#7201a8\"],[0.3333333333333333,\"#9c179e\"],[0.4444444444444444,\"#bd3786\"],[0.5555555555555556,\"#d8576b\"],[0.6666666666666666,\"#ed7953\"],[0.7777777777777778,\"#fb9f3a\"],[0.8888888888888888,\"#fdca26\"],[1.0,\"#f0f921\"]]}],\"surface\":[{\"type\":\"surface\",\"colorbar\":{\"outlinewidth\":0,\"ticks\":\"\"},\"colorscale\":[[0.0,\"#0d0887\"],[0.1111111111111111,\"#46039f\"],[0.2222222222222222,\"#7201a8\"],[0.3333333333333333,\"#9c179e\"],[0.4444444444444444,\"#bd3786\"],[0.5555555555555556,\"#d8576b\"],[0.6666666666666666,\"#ed7953\"],[0.7777777777777778,\"#fb9f3a\"],[0.8888888888888888,\"#fdca26\"],[1.0,\"#f0f921\"]]}],\"mesh3d\":[{\"type\":\"mesh3d\",\"colorbar\":{\"outlinewidth\":0,\"ticks\":\"\"}}],\"scatter\":[{\"fillpattern\":{\"fillmode\":\"overlay\",\"size\":10,\"solidity\":0.2},\"type\":\"scatter\"}],\"parcoords\":[{\"type\":\"parcoords\",\"line\":{\"colorbar\":{\"outlinewidth\":0,\"ticks\":\"\"}}}],\"scatterpolargl\":[{\"type\":\"scatterpolargl\",\"marker\":{\"colorbar\":{\"outlinewidth\":0,\"ticks\":\"\"}}}],\"bar\":[{\"error_x\":{\"color\":\"#2a3f5f\"},\"error_y\":{\"color\":\"#2a3f5f\"},\"marker\":{\"line\":{\"color\":\"#E5ECF6\",\"width\":0.5},\"pattern\":{\"fillmode\":\"overlay\",\"size\":10,\"solidity\":0.2}},\"type\":\"bar\"}],\"scattergeo\":[{\"type\":\"scattergeo\",\"marker\":{\"colorbar\":{\"outlinewidth\":0,\"ticks\":\"\"}}}],\"scatterpolar\":[{\"type\":\"scatterpolar\",\"marker\":{\"colorbar\":{\"outlinewidth\":0,\"ticks\":\"\"}}}],\"histogram\":[{\"marker\":{\"pattern\":{\"fillmode\":\"overlay\",\"size\":10,\"solidity\":0.2}},\"type\":\"histogram\"}],\"scattergl\":[{\"type\":\"scattergl\",\"marker\":{\"colorbar\":{\"outlinewidth\":0,\"ticks\":\"\"}}}],\"scatter3d\":[{\"type\":\"scatter3d\",\"line\":{\"colorbar\":{\"outlinewidth\":0,\"ticks\":\"\"}},\"marker\":{\"colorbar\":{\"outlinewidth\":0,\"ticks\":\"\"}}}],\"scattermapbox\":[{\"type\":\"scattermapbox\",\"marker\":{\"colorbar\":{\"outlinewidth\":0,\"ticks\":\"\"}}}],\"scatterternary\":[{\"type\":\"scatterternary\",\"marker\":{\"colorbar\":{\"outlinewidth\":0,\"ticks\":\"\"}}}],\"scattercarpet\":[{\"type\":\"scattercarpet\",\"marker\":{\"colorbar\":{\"outlinewidth\":0,\"ticks\":\"\"}}}],\"carpet\":[{\"aaxis\":{\"endlinecolor\":\"#2a3f5f\",\"gridcolor\":\"white\",\"linecolor\":\"white\",\"minorgridcolor\":\"white\",\"startlinecolor\":\"#2a3f5f\"},\"baxis\":{\"endlinecolor\":\"#2a3f5f\",\"gridcolor\":\"white\",\"linecolor\":\"white\",\"minorgridcolor\":\"white\",\"startlinecolor\":\"#2a3f5f\"},\"type\":\"carpet\"}],\"table\":[{\"cells\":{\"fill\":{\"color\":\"#EBF0F8\"},\"line\":{\"color\":\"white\"}},\"header\":{\"fill\":{\"color\":\"#C8D4E3\"},\"line\":{\"color\":\"white\"}},\"type\":\"table\"}],\"barpolar\":[{\"marker\":{\"line\":{\"color\":\"#E5ECF6\",\"width\":0.5},\"pattern\":{\"fillmode\":\"overlay\",\"size\":10,\"solidity\":0.2}},\"type\":\"barpolar\"}],\"pie\":[{\"automargin\":true,\"type\":\"pie\"}]},\"layout\":{\"autotypenumbers\":\"strict\",\"colorway\":[\"#636efa\",\"#EF553B\",\"#00cc96\",\"#ab63fa\",\"#FFA15A\",\"#19d3f3\",\"#FF6692\",\"#B6E880\",\"#FF97FF\",\"#FECB52\"],\"font\":{\"color\":\"#2a3f5f\"},\"hovermode\":\"closest\",\"hoverlabel\":{\"align\":\"left\"},\"paper_bgcolor\":\"white\",\"plot_bgcolor\":\"#E5ECF6\",\"polar\":{\"bgcolor\":\"#E5ECF6\",\"angularaxis\":{\"gridcolor\":\"white\",\"linecolor\":\"white\",\"ticks\":\"\"},\"radialaxis\":{\"gridcolor\":\"white\",\"linecolor\":\"white\",\"ticks\":\"\"}},\"ternary\":{\"bgcolor\":\"#E5ECF6\",\"aaxis\":{\"gridcolor\":\"white\",\"linecolor\":\"white\",\"ticks\":\"\"},\"baxis\":{\"gridcolor\":\"white\",\"linecolor\":\"white\",\"ticks\":\"\"},\"caxis\":{\"gridcolor\":\"white\",\"linecolor\":\"white\",\"ticks\":\"\"}},\"coloraxis\":{\"colorbar\":{\"outlinewidth\":0,\"ticks\":\"\"}},\"colorscale\":{\"sequential\":[[0.0,\"#0d0887\"],[0.1111111111111111,\"#46039f\"],[0.2222222222222222,\"#7201a8\"],[0.3333333333333333,\"#9c179e\"],[0.4444444444444444,\"#bd3786\"],[0.5555555555555556,\"#d8576b\"],[0.6666666666666666,\"#ed7953\"],[0.7777777777777778,\"#fb9f3a\"],[0.8888888888888888,\"#fdca26\"],[1.0,\"#f0f921\"]],\"sequentialminus\":[[0.0,\"#0d0887\"],[0.1111111111111111,\"#46039f\"],[0.2222222222222222,\"#7201a8\"],[0.3333333333333333,\"#9c179e\"],[0.4444444444444444,\"#bd3786\"],[0.5555555555555556,\"#d8576b\"],[0.6666666666666666,\"#ed7953\"],[0.7777777777777778,\"#fb9f3a\"],[0.8888888888888888,\"#fdca26\"],[1.0,\"#f0f921\"]],\"diverging\":[[0,\"#8e0152\"],[0.1,\"#c51b7d\"],[0.2,\"#de77ae\"],[0.3,\"#f1b6da\"],[0.4,\"#fde0ef\"],[0.5,\"#f7f7f7\"],[0.6,\"#e6f5d0\"],[0.7,\"#b8e186\"],[0.8,\"#7fbc41\"],[0.9,\"#4d9221\"],[1,\"#276419\"]]},\"xaxis\":{\"gridcolor\":\"white\",\"linecolor\":\"white\",\"ticks\":\"\",\"title\":{\"standoff\":15},\"zerolinecolor\":\"white\",\"automargin\":true,\"zerolinewidth\":2},\"yaxis\":{\"gridcolor\":\"white\",\"linecolor\":\"white\",\"ticks\":\"\",\"title\":{\"standoff\":15},\"zerolinecolor\":\"white\",\"automargin\":true,\"zerolinewidth\":2},\"scene\":{\"xaxis\":{\"backgroundcolor\":\"#E5ECF6\",\"gridcolor\":\"white\",\"linecolor\":\"white\",\"showbackground\":true,\"ticks\":\"\",\"zerolinecolor\":\"white\",\"gridwidth\":2},\"yaxis\":{\"backgroundcolor\":\"#E5ECF6\",\"gridcolor\":\"white\",\"linecolor\":\"white\",\"showbackground\":true,\"ticks\":\"\",\"zerolinecolor\":\"white\",\"gridwidth\":2},\"zaxis\":{\"backgroundcolor\":\"#E5ECF6\",\"gridcolor\":\"white\",\"linecolor\":\"white\",\"showbackground\":true,\"ticks\":\"\",\"zerolinecolor\":\"white\",\"gridwidth\":2}},\"shapedefaults\":{\"line\":{\"color\":\"#2a3f5f\"}},\"annotationdefaults\":{\"arrowcolor\":\"#2a3f5f\",\"arrowhead\":0,\"arrowwidth\":1},\"geo\":{\"bgcolor\":\"white\",\"landcolor\":\"#E5ECF6\",\"subunitcolor\":\"white\",\"showland\":true,\"showlakes\":true,\"lakecolor\":\"white\"},\"title\":{\"x\":0.05},\"mapbox\":{\"style\":\"light\"}}},\"shapes\":[{\"line\":{\"color\":\"MediumPurple\",\"width\":3},\"type\":\"line\",\"x0\":0,\"x1\":200,\"y0\":3851,\"y1\":3851},{\"line\":{\"color\":\"MediumPurple\",\"width\":3},\"type\":\"line\",\"x0\":0,\"x1\":200,\"y0\":6379,\"y1\":6379},{\"line\":{\"color\":\"MediumPurple\",\"width\":3},\"type\":\"line\",\"x0\":0,\"x1\":200,\"y0\":7714,\"y1\":7714},{\"line\":{\"color\":\"MediumPurple\",\"width\":3},\"type\":\"line\",\"x0\":0,\"x1\":200,\"y0\":8381,\"y1\":8381},{\"line\":{\"color\":\"MediumPurple\",\"width\":3},\"type\":\"line\",\"x0\":0,\"x1\":200,\"y0\":8903,\"y1\":8903},{\"line\":{\"color\":\"RoyalBlue\",\"width\":1},\"type\":\"line\",\"x0\":0,\"x1\":200,\"y0\":9968,\"y1\":9968},{\"line\":{\"color\":\"RoyalBlue\",\"width\":1},\"type\":\"line\",\"x0\":0,\"x1\":200,\"y0\":10016,\"y1\":10016},{\"line\":{\"color\":\"RoyalBlue\",\"width\":1},\"type\":\"line\",\"x0\":0,\"x1\":200,\"y0\":10454,\"y1\":10454}]},                        {\"responsive\": true}                    ).then(function(){\n",
       "                            \n",
       "var gd = document.getElementById('a4016450-44ce-473e-8235-2341881ee69b');\n",
       "var x = new MutationObserver(function (mutations, observer) {{\n",
       "        var display = window.getComputedStyle(gd).display;\n",
       "        if (!display || display === 'none') {{\n",
       "            console.log([gd, 'removed!']);\n",
       "            Plotly.purge(gd);\n",
       "            observer.disconnect();\n",
       "        }}\n",
       "}});\n",
       "\n",
       "// Listen for the removal of the full notebook cells\n",
       "var notebookContainer = gd.closest('#notebook-container');\n",
       "if (notebookContainer) {{\n",
       "    x.observe(notebookContainer, {childList: true});\n",
       "}}\n",
       "\n",
       "// Listen for the clearing of the current output cell\n",
       "var outputEl = gd.closest('.output');\n",
       "if (outputEl) {{\n",
       "    x.observe(outputEl, {childList: true});\n",
       "}}\n",
       "\n",
       "                        })                };                });            </script>        </div>"
      ]
     },
     "metadata": {},
     "output_type": "display_data"
    }
   ],
   "source": [
    "s = 0\n",
    "e = 200\n",
    "dfpl = df[s:e]\n",
    "import plotly.graph_objects as go\n",
    "from datetime import datetime\n",
    "import matplotlib.pyplot as plt\n",
    "\n",
    "fig = go.Figure(data=[go.Candlestick(x=dfpl.index,\n",
    "                open=dfpl['Open'],\n",
    "                high=dfpl['High'],\n",
    "                low=dfpl['Low'],\n",
    "                close=dfpl['Close'])])\n",
    "\n",
    "c=0\n",
    "while (1):\n",
    "    if(c>len(plotlist1)-1 ):#or sr[c][0]>e\n",
    "        break\n",
    "    fig.add_shape(type='line', x0=s, y0=plotlist1[c],\n",
    "                  x1=e,\n",
    "                  y1=plotlist1[c],\n",
    "                  line=dict(color=\"MediumPurple\",width=3)\n",
    "                  )\n",
    "    c+=1\n",
    "\n",
    "c=0\n",
    "while (1):\n",
    "    if(c>len(plotlist2)-1 ):#or sr[c][0]>e\n",
    "        break\n",
    "    fig.add_shape(type='line', x0=s, y0=plotlist2[c],\n",
    "                  x1=e,\n",
    "                  y1=plotlist2[c],\n",
    "                  line=dict(color=\"RoyalBlue\",width=1)\n",
    "                  )\n",
    "    c+=1    \n",
    "\n",
    "fig.show()"
   ]
  },
  {
   "cell_type": "code",
   "execution_count": 30,
   "metadata": {},
   "outputs": [],
   "source": [
    "ss = []\n",
    "rr = []\n",
    "n1=2\n",
    "n2=2\n",
    "for row in range(3, 205): #len(df)-n2\n",
    "    if support(df, row, n1, n2):\n",
    "        ss.append((row,df.Low[row]))\n",
    "    if resistance(df, row, n1, n2):\n",
    "        rr.append((row,df.High[row]))"
   ]
  },
  {
   "cell_type": "code",
   "execution_count": 31,
   "metadata": {},
   "outputs": [
    {
     "data": {
      "application/vnd.plotly.v1+json": {
       "config": {
        "plotlyServerURL": "https://plot.ly"
       },
       "data": [
        {
         "close": [
          8318,
          8176,
          8091,
          8109,
          8159,
          8072,
          8532,
          8523,
          8283,
          8285,
          8085,
          7930,
          7989,
          7889,
          8149,
          8067,
          7433,
          7399,
          8511,
          9401,
          9388,
          9128,
          9154,
          9154,
          9099,
          9385,
          9300,
          9261,
          9153,
          8743,
          8983,
          8676,
          8707,
          8695,
          8593,
          8410,
          8497,
          8163,
          8049,
          8029,
          7537,
          7272,
          6989,
          7154,
          7056,
          7493,
          7507,
          7688,
          7323,
          7260,
          7273,
          7129,
          7323,
          7384,
          7488,
          7304,
          7164,
          7134,
          7143,
          7198,
          7063,
          6817,
          6558,
          7075,
          7099,
          7152,
          7349,
          7260,
          7189,
          7152,
          7132,
          7155,
          7332,
          7186,
          7101,
          7158,
          6902,
          7253,
          7305,
          7518,
          7965,
          7949,
          7729,
          8016,
          8044,
          8074,
          8684,
          8767,
          8622,
          8812,
          8662,
          8614,
          8664,
          8582,
          8325,
          8417,
          8527,
          8889,
          8986,
          9300,
          9499,
          9248,
          9384,
          9219,
          9081,
          9633,
          9681,
          9673,
          10020,
          9811,
          10187,
          10335,
          10126,
          10314,
          9714,
          9591,
          10105,
          9560,
          9554,
          9660,
          9828,
          9549,
          9328,
          8687,
          8698,
          8560,
          8455,
          8888,
          8680,
          8678,
          9059,
          9062,
          7800,
          7942,
          7804,
          5668,
          5389,
          4849,
          5411,
          5282,
          6199,
          5916,
          6357,
          6699,
          6542,
          6691,
          6627,
          6423,
          6424,
          6295,
          6694,
          6647,
          7173,
          7065,
          7266,
          7248,
          6866,
          6771,
          6817,
          6693,
          7003,
          7004,
          6810,
          6840,
          7063,
          7484,
          7477,
          7654,
          7680,
          8878,
          8771,
          8676,
          8866,
          8899,
          9197,
          9751,
          9944,
          8580,
          8768,
          9246,
          9603,
          9186,
          9621,
          9638,
          9535,
          9002,
          9128,
          8860,
          8803,
          9111,
          9391,
          9362,
          9624,
          9464,
          9528,
          9731,
          9660,
          9647,
          9693,
          9812
         ],
         "high": [
          8472,
          8359,
          8359,
          8239,
          8254,
          8285,
          8634,
          8604,
          8755,
          8347,
          8360,
          8118,
          8070,
          8063,
          8287,
          8256,
          8067,
          7454,
          8712,
          9876,
          9504,
          9414,
          9373,
          9302,
          9108,
          9507,
          9425,
          9389,
          9315,
          9194,
          8990,
          9040,
          8808,
          8779,
          8730,
          8713,
          8507,
          8498,
          8163,
          8164,
          8059,
          7654,
          7043,
          7318,
          7283,
          7615,
          7602,
          7807,
          7329,
          7395,
          7355,
          7713,
          7431,
          7546,
          7500,
          7596,
          7333,
          7211,
          7230,
          7241,
          7072,
          7082,
          6877,
          7165,
          7386,
          7159,
          7365,
          7631,
          7368,
          7190,
          7370,
          7195,
          7340,
          7366,
          7242,
          7165,
          7157,
          7342,
          7372,
          7548,
          8133,
          8406,
          8053,
          8077,
          8086,
          8137,
          8800,
          8844,
          8806,
          8951,
          8691,
          8687,
          8713,
          8734,
          8609,
          8454,
          8529,
          8934,
          9124,
          9375,
          9507,
          9508,
          9387,
          9549,
          9286,
          9711,
          9801,
          9815,
          10032,
          10137,
          10329,
          10424,
          10454,
          10334,
          9734,
          9946,
          10223,
          10246,
          9651,
          9713,
          9842,
          9968,
          9620,
          9365,
          8914,
          8843,
          8471,
          8892,
          8916,
          8790,
          9113,
          9124,
          8235,
          8096,
          7980,
          7934,
          5936,
          5897,
          5448,
          5505,
          6336,
          6888,
          6579,
          6808,
          6929,
          6738,
          6811,
          6467,
          6572,
          6439,
          7194,
          6989,
          7266,
          7411,
          7371,
          7340,
          7268,
          7097,
          6929,
          6883,
          7095,
          7156,
          7167,
          6897,
          7111,
          7706,
          7562,
          7742,
          7740,
          8917,
          9414,
          9014,
          8909,
          9065,
          9340,
          9911,
          10016,
          9116,
          8922,
          9287,
          9889,
          9793,
          9899,
          9841,
          9783,
          9535,
          9211,
          9022,
          8962,
          9173,
          9481,
          9568,
          9639,
          10357,
          9592,
          9829,
          9806,
          9754,
          9835,
          9959
         ],
         "low": [
          8137,
          8120,
          8030,
          7972,
          7714,
          8057,
          8065,
          8399,
          8232,
          8163,
          8059,
          7856,
          7883,
          7765,
          8102,
          8021,
          7247,
          7302,
          7341,
          9213,
          9034,
          8945,
          8903,
          9004,
          9022,
          9071,
          9133,
          9201,
          9031,
          8617,
          8969,
          8549,
          8509,
          8651,
          8505,
          8326,
          8467,
          7982,
          7942,
          7971,
          7344,
          6739,
          6981,
          6471,
          6974,
          6795,
          7369,
          7319,
          7260,
          7109,
          7188,
          7040,
          7108,
          7255,
          7479,
          7230,
          7106,
          7075,
          7025,
          7126,
          7051,
          6775,
          6520,
          6379,
          6989,
          7023,
          7329,
          7236,
          7103,
          7145,
          7111,
          7006,
          7300,
          7146,
          7059,
          7101,
          6850,
          6803,
          7305,
          7259,
          7518,
          7817,
          7692,
          7623,
          8039,
          7992,
          8050,
          8504,
          8528,
          8608,
          8582,
          8443,
          8430,
          8517,
          8223,
          8163,
          8497,
          8480,
          8818,
          8982,
          9131,
          9143,
          9365,
          9165,
          9023,
          9074,
          9474,
          9598,
          9999,
          9702,
          9656,
          10165,
          10031,
          10047,
          9706,
          9418,
          9556,
          9262,
          9360,
          9522,
          9828,
          9431,
          9190,
          8570,
          8467,
          8381,
          8404,
          8433,
          8605,
          8614,
          8672,
          8943,
          7580,
          7680,
          7535,
          5542,
          3851,
          4378,
          4811,
          4967,
          5212,
          5645,
          5635,
          6305,
          6417,
          6476,
          6531,
          5799,
          6287,
          6103,
          6294,
          6562,
          6672,
          7023,
          7030,
          7060,
          6696,
          6535,
          6722,
          6636,
          6424,
          6945,
          6705,
          6719,
          6772,
          6980,
          7341,
          7535,
          7616,
          7665,
          8356,
          8536,
          8480,
          8732,
          8867,
          8989,
          9677,
          8146,
          8426,
          8693,
          9213,
          9092,
          9415,
          9410,
          9259,
          8748,
          8876,
          8581,
          8644,
          8751,
          9001,
          9285,
          9334,
          9246,
          9341,
          9405,
          9567,
          9599,
          9528,
          9651
         ],
         "open": [
          8181,
          8318,
          8176,
          8088,
          7850,
          8158,
          8072,
          8531,
          8523,
          8192,
          8285,
          8085,
          7930,
          7988,
          8167,
          8148,
          8067,
          7432,
          7399,
          9565,
          9400,
          9388,
          9127,
          9155,
          9102,
          9097,
          9385,
          9297,
          9261,
          9153,
          8978,
          8983,
          8675,
          8706,
          8695,
          8592,
          8472,
          8495,
          8163,
          8049,
          8029,
          7533,
          6999,
          6988,
          7152,
          7056,
          7493,
          7507,
          7297,
          7320,
          7259,
          7272,
          7127,
          7323,
          7479,
          7486,
          7301,
          7163,
          7133,
          7143,
          7072,
          7062,
          6817,
          6558,
          7075,
          7096,
          7362,
          7350,
          7259,
          7189,
          7150,
          7130,
          7334,
          7332,
          7186,
          7101,
          7157,
          6901,
          7372,
          7303,
          7518,
          7964,
          7949,
          7729,
          8079,
          8041,
          8074,
          8684,
          8764,
          8622,
          8584,
          8661,
          8614,
          8663,
          8582,
          8324,
          8498,
          8526,
          8889,
          8986,
          9300,
          9499,
          9378,
          9384,
          9219,
          9081,
          9633,
          9681,
          10002,
          10018,
          9811,
          10187,
          10335,
          10126,
          9724,
          9711,
          9588,
          10105,
          9560,
          9553,
          9830,
          9828,
          9548,
          9327,
          8687,
          8698,
          8425,
          8457,
          8888,
          8680,
          8678,
          9059,
          8215,
          7799,
          7942,
          7804,
          5668,
          5118,
          4850,
          5411,
          5282,
          6199,
          5881,
          6357,
          6699,
          6542,
          6690,
          5891,
          6423,
          6424,
          6295,
          6690,
          6701,
          7173,
          7065,
          7266,
          7248,
          7073,
          6772,
          6817,
          6693,
          7003,
          7092,
          6810,
          6840,
          7063,
          7484,
          7600,
          7654,
          7680,
          8878,
          8771,
          8778,
          8866,
          8898,
          9197,
          9751,
          8675,
          8580,
          8768,
          9246,
          9603,
          9676,
          9621,
          9638,
          9535,
          9002,
          8944,
          8860,
          8802,
          9111,
          9391,
          9450,
          9624,
          9464,
          9528,
          9731,
          9671,
          9647,
          9693
         ],
         "type": "candlestick",
         "x": [
          0,
          1,
          2,
          3,
          4,
          5,
          6,
          7,
          8,
          9,
          10,
          11,
          12,
          13,
          14,
          15,
          16,
          17,
          18,
          19,
          20,
          21,
          22,
          23,
          24,
          25,
          26,
          27,
          28,
          29,
          30,
          31,
          32,
          33,
          34,
          35,
          36,
          37,
          38,
          39,
          40,
          41,
          42,
          43,
          44,
          45,
          46,
          47,
          48,
          49,
          50,
          51,
          52,
          53,
          54,
          55,
          56,
          57,
          58,
          59,
          60,
          61,
          62,
          63,
          64,
          65,
          66,
          67,
          68,
          69,
          70,
          71,
          72,
          73,
          74,
          75,
          76,
          77,
          78,
          79,
          80,
          81,
          82,
          83,
          84,
          85,
          86,
          87,
          88,
          89,
          90,
          91,
          92,
          93,
          94,
          95,
          96,
          97,
          98,
          99,
          100,
          101,
          102,
          103,
          104,
          105,
          106,
          107,
          108,
          109,
          110,
          111,
          112,
          113,
          114,
          115,
          116,
          117,
          118,
          119,
          120,
          121,
          122,
          123,
          124,
          125,
          126,
          127,
          128,
          129,
          130,
          131,
          132,
          133,
          134,
          135,
          136,
          137,
          138,
          139,
          140,
          141,
          142,
          143,
          144,
          145,
          146,
          147,
          148,
          149,
          150,
          151,
          152,
          153,
          154,
          155,
          156,
          157,
          158,
          159,
          160,
          161,
          162,
          163,
          164,
          165,
          166,
          167,
          168,
          169,
          170,
          171,
          172,
          173,
          174,
          175,
          176,
          177,
          178,
          179,
          180,
          181,
          182,
          183,
          184,
          185,
          186,
          187,
          188,
          189,
          190,
          191,
          192,
          193,
          194,
          195,
          196,
          197,
          198,
          199
         ]
        }
       ],
       "layout": {
        "autosize": true,
        "shapes": [
         {
          "line": {
           "color": "MediumPurple",
           "width": 3
          },
          "type": "line",
          "x0": 4,
          "x1": 200,
          "y0": 7714,
          "y1": 7714
         },
         {
          "line": {
           "color": "MediumPurple",
           "width": 3
          },
          "type": "line",
          "x0": 16,
          "x1": 200,
          "y0": 7247,
          "y1": 7247
         },
         {
          "line": {
           "color": "MediumPurple",
           "width": 3
          },
          "type": "line",
          "x0": 22,
          "x1": 200,
          "y0": 8903,
          "y1": 8903
         },
         {
          "line": {
           "color": "MediumPurple",
           "width": 3
          },
          "type": "line",
          "x0": 63,
          "x1": 200,
          "y0": 6379,
          "y1": 6379
         },
         {
          "line": {
           "color": "MediumPurple",
           "width": 3
          },
          "type": "line",
          "x0": 104,
          "x1": 200,
          "y0": 9023,
          "y1": 9023
         },
         {
          "line": {
           "color": "MediumPurple",
           "width": 3
          },
          "type": "line",
          "x0": 125,
          "x1": 200,
          "y0": 8381,
          "y1": 8381
         },
         {
          "line": {
           "color": "MediumPurple",
           "width": 3
          },
          "type": "line",
          "x0": 136,
          "x1": 200,
          "y0": 3851,
          "y1": 3851
         },
         {
          "line": {
           "color": "RoyalBlue",
           "width": 1
          },
          "type": "line",
          "x0": 19,
          "x1": 200,
          "y0": 9876,
          "y1": 9876
         },
         {
          "line": {
           "color": "RoyalBlue",
           "width": 1
          },
          "type": "line",
          "x0": 67,
          "x1": 200,
          "y0": 7631,
          "y1": 7631
         },
         {
          "line": {
           "color": "RoyalBlue",
           "width": 1
          },
          "type": "line",
          "x0": 73,
          "x1": 200,
          "y0": 7366,
          "y1": 7366
         },
         {
          "line": {
           "color": "RoyalBlue",
           "width": 1
          },
          "type": "line",
          "x0": 93,
          "x1": 200,
          "y0": 8734,
          "y1": 8734
         },
         {
          "line": {
           "color": "RoyalBlue",
           "width": 1
          },
          "type": "line",
          "x0": 112,
          "x1": 200,
          "y0": 10454,
          "y1": 10454
         },
         {
          "line": {
           "color": "RoyalBlue",
           "width": 1
          },
          "type": "line",
          "x0": 121,
          "x1": 200,
          "y0": 9968,
          "y1": 9968
         },
         {
          "line": {
           "color": "RoyalBlue",
           "width": 1
          },
          "type": "line",
          "x0": 131,
          "x1": 200,
          "y0": 9124,
          "y1": 9124
         },
         {
          "line": {
           "color": "RoyalBlue",
           "width": 1
          },
          "type": "line",
          "x0": 153,
          "x1": 200,
          "y0": 7411,
          "y1": 7411
         },
         {
          "line": {
           "color": "RoyalBlue",
           "width": 1
          },
          "type": "line",
          "x0": 170,
          "x1": 200,
          "y0": 9414,
          "y1": 9414
         },
         {
          "line": {
           "color": "RoyalBlue",
           "width": 1
          },
          "type": "line",
          "x0": 176,
          "x1": 200,
          "y0": 10016,
          "y1": 10016
         },
         {
          "line": {
           "color": "RoyalBlue",
           "width": 1
          },
          "type": "line",
          "x0": 199,
          "x1": 200,
          "y0": 9959,
          "y1": 9959
         }
        ],
        "template": {
         "data": {
          "bar": [
           {
            "error_x": {
             "color": "#2a3f5f"
            },
            "error_y": {
             "color": "#2a3f5f"
            },
            "marker": {
             "line": {
              "color": "#E5ECF6",
              "width": 0.5
             },
             "pattern": {
              "fillmode": "overlay",
              "size": 10,
              "solidity": 0.2
             }
            },
            "type": "bar"
           }
          ],
          "barpolar": [
           {
            "marker": {
             "line": {
              "color": "#E5ECF6",
              "width": 0.5
             },
             "pattern": {
              "fillmode": "overlay",
              "size": 10,
              "solidity": 0.2
             }
            },
            "type": "barpolar"
           }
          ],
          "carpet": [
           {
            "aaxis": {
             "endlinecolor": "#2a3f5f",
             "gridcolor": "white",
             "linecolor": "white",
             "minorgridcolor": "white",
             "startlinecolor": "#2a3f5f"
            },
            "baxis": {
             "endlinecolor": "#2a3f5f",
             "gridcolor": "white",
             "linecolor": "white",
             "minorgridcolor": "white",
             "startlinecolor": "#2a3f5f"
            },
            "type": "carpet"
           }
          ],
          "choropleth": [
           {
            "colorbar": {
             "outlinewidth": 0,
             "ticks": ""
            },
            "type": "choropleth"
           }
          ],
          "contour": [
           {
            "colorbar": {
             "outlinewidth": 0,
             "ticks": ""
            },
            "colorscale": [
             [
              0,
              "#0d0887"
             ],
             [
              0.1111111111111111,
              "#46039f"
             ],
             [
              0.2222222222222222,
              "#7201a8"
             ],
             [
              0.3333333333333333,
              "#9c179e"
             ],
             [
              0.4444444444444444,
              "#bd3786"
             ],
             [
              0.5555555555555556,
              "#d8576b"
             ],
             [
              0.6666666666666666,
              "#ed7953"
             ],
             [
              0.7777777777777778,
              "#fb9f3a"
             ],
             [
              0.8888888888888888,
              "#fdca26"
             ],
             [
              1,
              "#f0f921"
             ]
            ],
            "type": "contour"
           }
          ],
          "contourcarpet": [
           {
            "colorbar": {
             "outlinewidth": 0,
             "ticks": ""
            },
            "type": "contourcarpet"
           }
          ],
          "heatmap": [
           {
            "colorbar": {
             "outlinewidth": 0,
             "ticks": ""
            },
            "colorscale": [
             [
              0,
              "#0d0887"
             ],
             [
              0.1111111111111111,
              "#46039f"
             ],
             [
              0.2222222222222222,
              "#7201a8"
             ],
             [
              0.3333333333333333,
              "#9c179e"
             ],
             [
              0.4444444444444444,
              "#bd3786"
             ],
             [
              0.5555555555555556,
              "#d8576b"
             ],
             [
              0.6666666666666666,
              "#ed7953"
             ],
             [
              0.7777777777777778,
              "#fb9f3a"
             ],
             [
              0.8888888888888888,
              "#fdca26"
             ],
             [
              1,
              "#f0f921"
             ]
            ],
            "type": "heatmap"
           }
          ],
          "heatmapgl": [
           {
            "colorbar": {
             "outlinewidth": 0,
             "ticks": ""
            },
            "colorscale": [
             [
              0,
              "#0d0887"
             ],
             [
              0.1111111111111111,
              "#46039f"
             ],
             [
              0.2222222222222222,
              "#7201a8"
             ],
             [
              0.3333333333333333,
              "#9c179e"
             ],
             [
              0.4444444444444444,
              "#bd3786"
             ],
             [
              0.5555555555555556,
              "#d8576b"
             ],
             [
              0.6666666666666666,
              "#ed7953"
             ],
             [
              0.7777777777777778,
              "#fb9f3a"
             ],
             [
              0.8888888888888888,
              "#fdca26"
             ],
             [
              1,
              "#f0f921"
             ]
            ],
            "type": "heatmapgl"
           }
          ],
          "histogram": [
           {
            "marker": {
             "pattern": {
              "fillmode": "overlay",
              "size": 10,
              "solidity": 0.2
             }
            },
            "type": "histogram"
           }
          ],
          "histogram2d": [
           {
            "colorbar": {
             "outlinewidth": 0,
             "ticks": ""
            },
            "colorscale": [
             [
              0,
              "#0d0887"
             ],
             [
              0.1111111111111111,
              "#46039f"
             ],
             [
              0.2222222222222222,
              "#7201a8"
             ],
             [
              0.3333333333333333,
              "#9c179e"
             ],
             [
              0.4444444444444444,
              "#bd3786"
             ],
             [
              0.5555555555555556,
              "#d8576b"
             ],
             [
              0.6666666666666666,
              "#ed7953"
             ],
             [
              0.7777777777777778,
              "#fb9f3a"
             ],
             [
              0.8888888888888888,
              "#fdca26"
             ],
             [
              1,
              "#f0f921"
             ]
            ],
            "type": "histogram2d"
           }
          ],
          "histogram2dcontour": [
           {
            "colorbar": {
             "outlinewidth": 0,
             "ticks": ""
            },
            "colorscale": [
             [
              0,
              "#0d0887"
             ],
             [
              0.1111111111111111,
              "#46039f"
             ],
             [
              0.2222222222222222,
              "#7201a8"
             ],
             [
              0.3333333333333333,
              "#9c179e"
             ],
             [
              0.4444444444444444,
              "#bd3786"
             ],
             [
              0.5555555555555556,
              "#d8576b"
             ],
             [
              0.6666666666666666,
              "#ed7953"
             ],
             [
              0.7777777777777778,
              "#fb9f3a"
             ],
             [
              0.8888888888888888,
              "#fdca26"
             ],
             [
              1,
              "#f0f921"
             ]
            ],
            "type": "histogram2dcontour"
           }
          ],
          "mesh3d": [
           {
            "colorbar": {
             "outlinewidth": 0,
             "ticks": ""
            },
            "type": "mesh3d"
           }
          ],
          "parcoords": [
           {
            "line": {
             "colorbar": {
              "outlinewidth": 0,
              "ticks": ""
             }
            },
            "type": "parcoords"
           }
          ],
          "pie": [
           {
            "automargin": true,
            "type": "pie"
           }
          ],
          "scatter": [
           {
            "fillpattern": {
             "fillmode": "overlay",
             "size": 10,
             "solidity": 0.2
            },
            "type": "scatter"
           }
          ],
          "scatter3d": [
           {
            "line": {
             "colorbar": {
              "outlinewidth": 0,
              "ticks": ""
             }
            },
            "marker": {
             "colorbar": {
              "outlinewidth": 0,
              "ticks": ""
             }
            },
            "type": "scatter3d"
           }
          ],
          "scattercarpet": [
           {
            "marker": {
             "colorbar": {
              "outlinewidth": 0,
              "ticks": ""
             }
            },
            "type": "scattercarpet"
           }
          ],
          "scattergeo": [
           {
            "marker": {
             "colorbar": {
              "outlinewidth": 0,
              "ticks": ""
             }
            },
            "type": "scattergeo"
           }
          ],
          "scattergl": [
           {
            "marker": {
             "colorbar": {
              "outlinewidth": 0,
              "ticks": ""
             }
            },
            "type": "scattergl"
           }
          ],
          "scattermapbox": [
           {
            "marker": {
             "colorbar": {
              "outlinewidth": 0,
              "ticks": ""
             }
            },
            "type": "scattermapbox"
           }
          ],
          "scatterpolar": [
           {
            "marker": {
             "colorbar": {
              "outlinewidth": 0,
              "ticks": ""
             }
            },
            "type": "scatterpolar"
           }
          ],
          "scatterpolargl": [
           {
            "marker": {
             "colorbar": {
              "outlinewidth": 0,
              "ticks": ""
             }
            },
            "type": "scatterpolargl"
           }
          ],
          "scatterternary": [
           {
            "marker": {
             "colorbar": {
              "outlinewidth": 0,
              "ticks": ""
             }
            },
            "type": "scatterternary"
           }
          ],
          "surface": [
           {
            "colorbar": {
             "outlinewidth": 0,
             "ticks": ""
            },
            "colorscale": [
             [
              0,
              "#0d0887"
             ],
             [
              0.1111111111111111,
              "#46039f"
             ],
             [
              0.2222222222222222,
              "#7201a8"
             ],
             [
              0.3333333333333333,
              "#9c179e"
             ],
             [
              0.4444444444444444,
              "#bd3786"
             ],
             [
              0.5555555555555556,
              "#d8576b"
             ],
             [
              0.6666666666666666,
              "#ed7953"
             ],
             [
              0.7777777777777778,
              "#fb9f3a"
             ],
             [
              0.8888888888888888,
              "#fdca26"
             ],
             [
              1,
              "#f0f921"
             ]
            ],
            "type": "surface"
           }
          ],
          "table": [
           {
            "cells": {
             "fill": {
              "color": "#EBF0F8"
             },
             "line": {
              "color": "white"
             }
            },
            "header": {
             "fill": {
              "color": "#C8D4E3"
             },
             "line": {
              "color": "white"
             }
            },
            "type": "table"
           }
          ]
         },
         "layout": {
          "annotationdefaults": {
           "arrowcolor": "#2a3f5f",
           "arrowhead": 0,
           "arrowwidth": 1
          },
          "autotypenumbers": "strict",
          "coloraxis": {
           "colorbar": {
            "outlinewidth": 0,
            "ticks": ""
           }
          },
          "colorscale": {
           "diverging": [
            [
             0,
             "#8e0152"
            ],
            [
             0.1,
             "#c51b7d"
            ],
            [
             0.2,
             "#de77ae"
            ],
            [
             0.3,
             "#f1b6da"
            ],
            [
             0.4,
             "#fde0ef"
            ],
            [
             0.5,
             "#f7f7f7"
            ],
            [
             0.6,
             "#e6f5d0"
            ],
            [
             0.7,
             "#b8e186"
            ],
            [
             0.8,
             "#7fbc41"
            ],
            [
             0.9,
             "#4d9221"
            ],
            [
             1,
             "#276419"
            ]
           ],
           "sequential": [
            [
             0,
             "#0d0887"
            ],
            [
             0.1111111111111111,
             "#46039f"
            ],
            [
             0.2222222222222222,
             "#7201a8"
            ],
            [
             0.3333333333333333,
             "#9c179e"
            ],
            [
             0.4444444444444444,
             "#bd3786"
            ],
            [
             0.5555555555555556,
             "#d8576b"
            ],
            [
             0.6666666666666666,
             "#ed7953"
            ],
            [
             0.7777777777777778,
             "#fb9f3a"
            ],
            [
             0.8888888888888888,
             "#fdca26"
            ],
            [
             1,
             "#f0f921"
            ]
           ],
           "sequentialminus": [
            [
             0,
             "#0d0887"
            ],
            [
             0.1111111111111111,
             "#46039f"
            ],
            [
             0.2222222222222222,
             "#7201a8"
            ],
            [
             0.3333333333333333,
             "#9c179e"
            ],
            [
             0.4444444444444444,
             "#bd3786"
            ],
            [
             0.5555555555555556,
             "#d8576b"
            ],
            [
             0.6666666666666666,
             "#ed7953"
            ],
            [
             0.7777777777777778,
             "#fb9f3a"
            ],
            [
             0.8888888888888888,
             "#fdca26"
            ],
            [
             1,
             "#f0f921"
            ]
           ]
          },
          "colorway": [
           "#636efa",
           "#EF553B",
           "#00cc96",
           "#ab63fa",
           "#FFA15A",
           "#19d3f3",
           "#FF6692",
           "#B6E880",
           "#FF97FF",
           "#FECB52"
          ],
          "font": {
           "color": "#2a3f5f"
          },
          "geo": {
           "bgcolor": "white",
           "lakecolor": "white",
           "landcolor": "#E5ECF6",
           "showlakes": true,
           "showland": true,
           "subunitcolor": "white"
          },
          "hoverlabel": {
           "align": "left"
          },
          "hovermode": "closest",
          "mapbox": {
           "style": "light"
          },
          "paper_bgcolor": "white",
          "plot_bgcolor": "#E5ECF6",
          "polar": {
           "angularaxis": {
            "gridcolor": "white",
            "linecolor": "white",
            "ticks": ""
           },
           "bgcolor": "#E5ECF6",
           "radialaxis": {
            "gridcolor": "white",
            "linecolor": "white",
            "ticks": ""
           }
          },
          "scene": {
           "xaxis": {
            "backgroundcolor": "#E5ECF6",
            "gridcolor": "white",
            "gridwidth": 2,
            "linecolor": "white",
            "showbackground": true,
            "ticks": "",
            "zerolinecolor": "white"
           },
           "yaxis": {
            "backgroundcolor": "#E5ECF6",
            "gridcolor": "white",
            "gridwidth": 2,
            "linecolor": "white",
            "showbackground": true,
            "ticks": "",
            "zerolinecolor": "white"
           },
           "zaxis": {
            "backgroundcolor": "#E5ECF6",
            "gridcolor": "white",
            "gridwidth": 2,
            "linecolor": "white",
            "showbackground": true,
            "ticks": "",
            "zerolinecolor": "white"
           }
          },
          "shapedefaults": {
           "line": {
            "color": "#2a3f5f"
           }
          },
          "ternary": {
           "aaxis": {
            "gridcolor": "white",
            "linecolor": "white",
            "ticks": ""
           },
           "baxis": {
            "gridcolor": "white",
            "linecolor": "white",
            "ticks": ""
           },
           "bgcolor": "#E5ECF6",
           "caxis": {
            "gridcolor": "white",
            "linecolor": "white",
            "ticks": ""
           }
          },
          "title": {
           "x": 0.05
          },
          "xaxis": {
           "automargin": true,
           "gridcolor": "white",
           "linecolor": "white",
           "ticks": "",
           "title": {
            "standoff": 15
           },
           "zerolinecolor": "white",
           "zerolinewidth": 2
          },
          "yaxis": {
           "automargin": true,
           "gridcolor": "white",
           "linecolor": "white",
           "ticks": "",
           "title": {
            "standoff": 15
           },
           "zerolinecolor": "white",
           "zerolinewidth": 2
          }
         }
        },
        "xaxis": {
         "autorange": true,
         "range": [
          -0.5,
          200.21754068716095
         ],
         "rangeslider": {
          "autorange": true,
          "range": [
           -0.5,
           200.21754068716095
          ],
          "yaxis": {
           "_template": null,
           "rangemode": "match"
          }
         },
         "type": "linear"
        },
        "yaxis": {
         "autorange": true,
         "range": [
          3484.1666666666665,
          10820.833333333334
         ]
        }
       }
      },
      "image/png": "[encoded data removed]",
      "text/html": [
       "<div>                            <div id=\"fb695e34-cf58-441d-b6c0-ce1355e9bcab\" class=\"plotly-graph-div\" style=\"height:525px; width:100%;\"></div>            <script type=\"text/javascript\">                require([\"plotly\"], function(Plotly) {                    window.PLOTLYENV=window.PLOTLYENV || {};                                    if (document.getElementById(\"fb695e34-cf58-441d-b6c0-ce1355e9bcab\")) {                    Plotly.newPlot(                        \"fb695e34-cf58-441d-b6c0-ce1355e9bcab\",                        [{\"close\":[8318,8176,8091,8109,8159,8072,8532,8523,8283,8285,8085,7930,7989,7889,8149,8067,7433,7399,8511,9401,9388,9128,9154,9154,9099,9385,9300,9261,9153,8743,8983,8676,8707,8695,8593,8410,8497,8163,8049,8029,7537,7272,6989,7154,7056,7493,7507,7688,7323,7260,7273,7129,7323,7384,7488,7304,7164,7134,7143,7198,7063,6817,6558,7075,7099,7152,7349,7260,7189,7152,7132,7155,7332,7186,7101,7158,6902,7253,7305,7518,7965,7949,7729,8016,8044,8074,8684,8767,8622,8812,8662,8614,8664,8582,8325,8417,8527,8889,8986,9300,9499,9248,9384,9219,9081,9633,9681,9673,10020,9811,10187,10335,10126,10314,9714,9591,10105,9560,9554,9660,9828,9549,9328,8687,8698,8560,8455,8888,8680,8678,9059,9062,7800,7942,7804,5668,5389,4849,5411,5282,6199,5916,6357,6699,6542,6691,6627,6423,6424,6295,6694,6647,7173,7065,7266,7248,6866,6771,6817,6693,7003,7004,6810,6840,7063,7484,7477,7654,7680,8878,8771,8676,8866,8899,9197,9751,9944,8580,8768,9246,9603,9186,9621,9638,9535,9002,9128,8860,8803,9111,9391,9362,9624,9464,9528,9731,9660,9647,9693,9812],\"high\":[8472,8359,8359,8239,8254,8285,8634,8604,8755,8347,8360,8118,8070,8063,8287,8256,8067,7454,8712,9876,9504,9414,9373,9302,9108,9507,9425,9389,9315,9194,8990,9040,8808,8779,8730,8713,8507,8498,8163,8164,8059,7654,7043,7318,7283,7615,7602,7807,7329,7395,7355,7713,7431,7546,7500,7596,7333,7211,7230,7241,7072,7082,6877,7165,7386,7159,7365,7631,7368,7190,7370,7195,7340,7366,7242,7165,7157,7342,7372,7548,8133,8406,8053,8077,8086,8137,8800,8844,8806,8951,8691,8687,8713,8734,8609,8454,8529,8934,9124,9375,9507,9508,9387,9549,9286,9711,9801,9815,10032,10137,10329,10424,10454,10334,9734,9946,10223,10246,9651,9713,9842,9968,9620,9365,8914,8843,8471,8892,8916,8790,9113,9124,8235,8096,7980,7934,5936,5897,5448,5505,6336,6888,6579,6808,6929,6738,6811,6467,6572,6439,7194,6989,7266,7411,7371,7340,7268,7097,6929,6883,7095,7156,7167,6897,7111,7706,7562,7742,7740,8917,9414,9014,8909,9065,9340,9911,10016,9116,8922,9287,9889,9793,9899,9841,9783,9535,9211,9022,8962,9173,9481,9568,9639,10357,9592,9829,9806,9754,9835,9959],\"low\":[8137,8120,8030,7972,7714,8057,8065,8399,8232,8163,8059,7856,7883,7765,8102,8021,7247,7302,7341,9213,9034,8945,8903,9004,9022,9071,9133,9201,9031,8617,8969,8549,8509,8651,8505,8326,8467,7982,7942,7971,7344,6739,6981,6471,6974,6795,7369,7319,7260,7109,7188,7040,7108,7255,7479,7230,7106,7075,7025,7126,7051,6775,6520,6379,6989,7023,7329,7236,7103,7145,7111,7006,7300,7146,7059,7101,6850,6803,7305,7259,7518,7817,7692,7623,8039,7992,8050,8504,8528,8608,8582,8443,8430,8517,8223,8163,8497,8480,8818,8982,9131,9143,9365,9165,9023,9074,9474,9598,9999,9702,9656,10165,10031,10047,9706,9418,9556,9262,9360,9522,9828,9431,9190,8570,8467,8381,8404,8433,8605,8614,8672,8943,7580,7680,7535,5542,3851,4378,4811,4967,5212,5645,5635,6305,6417,6476,6531,5799,6287,6103,6294,6562,6672,7023,7030,7060,6696,6535,6722,6636,6424,6945,6705,6719,6772,6980,7341,7535,7616,7665,8356,8536,8480,8732,8867,8989,9677,8146,8426,8693,9213,9092,9415,9410,9259,8748,8876,8581,8644,8751,9001,9285,9334,9246,9341,9405,9567,9599,9528,9651],\"open\":[8181,8318,8176,8088,7850,8158,8072,8531,8523,8192,8285,8085,7930,7988,8167,8148,8067,7432,7399,9565,9400,9388,9127,9155,9102,9097,9385,9297,9261,9153,8978,8983,8675,8706,8695,8592,8472,8495,8163,8049,8029,7533,6999,6988,7152,7056,7493,7507,7297,7320,7259,7272,7127,7323,7479,7486,7301,7163,7133,7143,7072,7062,6817,6558,7075,7096,7362,7350,7259,7189,7150,7130,7334,7332,7186,7101,7157,6901,7372,7303,7518,7964,7949,7729,8079,8041,8074,8684,8764,8622,8584,8661,8614,8663,8582,8324,8498,8526,8889,8986,9300,9499,9378,9384,9219,9081,9633,9681,10002,10018,9811,10187,10335,10126,9724,9711,9588,10105,9560,9553,9830,9828,9548,9327,8687,8698,8425,8457,8888,8680,8678,9059,8215,7799,7942,7804,5668,5118,4850,5411,5282,6199,5881,6357,6699,6542,6690,5891,6423,6424,6295,6690,6701,7173,7065,7266,7248,7073,6772,6817,6693,7003,7092,6810,6840,7063,7484,7600,7654,7680,8878,8771,8778,8866,8898,9197,9751,8675,8580,8768,9246,9603,9676,9621,9638,9535,9002,8944,8860,8802,9111,9391,9450,9624,9464,9528,9731,9671,9647,9693],\"x\":[0,1,2,3,4,5,6,7,8,9,10,11,12,13,14,15,16,17,18,19,20,21,22,23,24,25,26,27,28,29,30,31,32,33,34,35,36,37,38,39,40,41,42,43,44,45,46,47,48,49,50,51,52,53,54,55,56,57,58,59,60,61,62,63,64,65,66,67,68,69,70,71,72,73,74,75,76,77,78,79,80,81,82,83,84,85,86,87,88,89,90,91,92,93,94,95,96,97,98,99,100,101,102,103,104,105,106,107,108,109,110,111,112,113,114,115,116,117,118,119,120,121,122,123,124,125,126,127,128,129,130,131,132,133,134,135,136,137,138,139,140,141,142,143,144,145,146,147,148,149,150,151,152,153,154,155,156,157,158,159,160,161,162,163,164,165,166,167,168,169,170,171,172,173,174,175,176,177,178,179,180,181,182,183,184,185,186,187,188,189,190,191,192,193,194,195,196,197,198,199],\"type\":\"candlestick\"}],                        {\"template\":{\"data\":{\"histogram2dcontour\":[{\"type\":\"histogram2dcontour\",\"colorbar\":{\"outlinewidth\":0,\"ticks\":\"\"},\"colorscale\":[[0.0,\"#0d0887\"],[0.1111111111111111,\"#46039f\"],[0.2222222222222222,\"#7201a8\"],[0.3333333333333333,\"#9c179e\"],[0.4444444444444444,\"#bd3786\"],[0.5555555555555556,\"#d8576b\"],[0.6666666666666666,\"#ed7953\"],[0.7777777777777778,\"#fb9f3a\"],[0.8888888888888888,\"#fdca26\"],[1.0,\"#f0f921\"]]}],\"choropleth\":[{\"type\":\"choropleth\",\"colorbar\":{\"outlinewidth\":0,\"ticks\":\"\"}}],\"histogram2d\":[{\"type\":\"histogram2d\",\"colorbar\":{\"outlinewidth\":0,\"ticks\":\"\"},\"colorscale\":[[0.0,\"#0d0887\"],[0.1111111111111111,\"#46039f\"],[0.2222222222222222,\"#7201a8\"],[0.3333333333333333,\"#9c179e\"],[0.4444444444444444,\"#bd3786\"],[0.5555555555555556,\"#d8576b\"],[0.6666666666666666,\"#ed7953\"],[0.7777777777777778,\"#fb9f3a\"],[0.8888888888888888,\"#fdca26\"],[1.0,\"#f0f921\"]]}],\"heatmap\":[{\"type\":\"heatmap\",\"colorbar\":{\"outlinewidth\":0,\"ticks\":\"\"},\"colorscale\":[[0.0,\"#0d0887\"],[0.1111111111111111,\"#46039f\"],[0.2222222222222222,\"#7201a8\"],[0.3333333333333333,\"#9c179e\"],[0.4444444444444444,\"#bd3786\"],[0.5555555555555556,\"#d8576b\"],[0.6666666666666666,\"#ed7953\"],[0.7777777777777778,\"#fb9f3a\"],[0.8888888888888888,\"#fdca26\"],[1.0,\"#f0f921\"]]}],\"heatmapgl\":[{\"type\":\"heatmapgl\",\"colorbar\":{\"outlinewidth\":0,\"ticks\":\"\"},\"colorscale\":[[0.0,\"#0d0887\"],[0.1111111111111111,\"#46039f\"],[0.2222222222222222,\"#7201a8\"],[0.3333333333333333,\"#9c179e\"],[0.4444444444444444,\"#bd3786\"],[0.5555555555555556,\"#d8576b\"],[0.6666666666666666,\"#ed7953\"],[0.7777777777777778,\"#fb9f3a\"],[0.8888888888888888,\"#fdca26\"],[1.0,\"#f0f921\"]]}],\"contourcarpet\":[{\"type\":\"contourcarpet\",\"colorbar\":{\"outlinewidth\":0,\"ticks\":\"\"}}],\"contour\":[{\"type\":\"contour\",\"colorbar\":{\"outlinewidth\":0,\"ticks\":\"\"},\"colorscale\":[[0.0,\"#0d0887\"],[0.1111111111111111,\"#46039f\"],[0.2222222222222222,\"#7201a8\"],[0.3333333333333333,\"#9c179e\"],[0.4444444444444444,\"#bd3786\"],[0.5555555555555556,\"#d8576b\"],[0.6666666666666666,\"#ed7953\"],[0.7777777777777778,\"#fb9f3a\"],[0.8888888888888888,\"#fdca26\"],[1.0,\"#f0f921\"]]}],\"surface\":[{\"type\":\"surface\",\"colorbar\":{\"outlinewidth\":0,\"ticks\":\"\"},\"colorscale\":[[0.0,\"#0d0887\"],[0.1111111111111111,\"#46039f\"],[0.2222222222222222,\"#7201a8\"],[0.3333333333333333,\"#9c179e\"],[0.4444444444444444,\"#bd3786\"],[0.5555555555555556,\"#d8576b\"],[0.6666666666666666,\"#ed7953\"],[0.7777777777777778,\"#fb9f3a\"],[0.8888888888888888,\"#fdca26\"],[1.0,\"#f0f921\"]]}],\"mesh3d\":[{\"type\":\"mesh3d\",\"colorbar\":{\"outlinewidth\":0,\"ticks\":\"\"}}],\"scatter\":[{\"fillpattern\":{\"fillmode\":\"overlay\",\"size\":10,\"solidity\":0.2},\"type\":\"scatter\"}],\"parcoords\":[{\"type\":\"parcoords\",\"line\":{\"colorbar\":{\"outlinewidth\":0,\"ticks\":\"\"}}}],\"scatterpolargl\":[{\"type\":\"scatterpolargl\",\"marker\":{\"colorbar\":{\"outlinewidth\":0,\"ticks\":\"\"}}}],\"bar\":[{\"error_x\":{\"color\":\"#2a3f5f\"},\"error_y\":{\"color\":\"#2a3f5f\"},\"marker\":{\"line\":{\"color\":\"#E5ECF6\",\"width\":0.5},\"pattern\":{\"fillmode\":\"overlay\",\"size\":10,\"solidity\":0.2}},\"type\":\"bar\"}],\"scattergeo\":[{\"type\":\"scattergeo\",\"marker\":{\"colorbar\":{\"outlinewidth\":0,\"ticks\":\"\"}}}],\"scatterpolar\":[{\"type\":\"scatterpolar\",\"marker\":{\"colorbar\":{\"outlinewidth\":0,\"ticks\":\"\"}}}],\"histogram\":[{\"marker\":{\"pattern\":{\"fillmode\":\"overlay\",\"size\":10,\"solidity\":0.2}},\"type\":\"histogram\"}],\"scattergl\":[{\"type\":\"scattergl\",\"marker\":{\"colorbar\":{\"outlinewidth\":0,\"ticks\":\"\"}}}],\"scatter3d\":[{\"type\":\"scatter3d\",\"line\":{\"colorbar\":{\"outlinewidth\":0,\"ticks\":\"\"}},\"marker\":{\"colorbar\":{\"outlinewidth\":0,\"ticks\":\"\"}}}],\"scattermapbox\":[{\"type\":\"scattermapbox\",\"marker\":{\"colorbar\":{\"outlinewidth\":0,\"ticks\":\"\"}}}],\"scatterternary\":[{\"type\":\"scatterternary\",\"marker\":{\"colorbar\":{\"outlinewidth\":0,\"ticks\":\"\"}}}],\"scattercarpet\":[{\"type\":\"scattercarpet\",\"marker\":{\"colorbar\":{\"outlinewidth\":0,\"ticks\":\"\"}}}],\"carpet\":[{\"aaxis\":{\"endlinecolor\":\"#2a3f5f\",\"gridcolor\":\"white\",\"linecolor\":\"white\",\"minorgridcolor\":\"white\",\"startlinecolor\":\"#2a3f5f\"},\"baxis\":{\"endlinecolor\":\"#2a3f5f\",\"gridcolor\":\"white\",\"linecolor\":\"white\",\"minorgridcolor\":\"white\",\"startlinecolor\":\"#2a3f5f\"},\"type\":\"carpet\"}],\"table\":[{\"cells\":{\"fill\":{\"color\":\"#EBF0F8\"},\"line\":{\"color\":\"white\"}},\"header\":{\"fill\":{\"color\":\"#C8D4E3\"},\"line\":{\"color\":\"white\"}},\"type\":\"table\"}],\"barpolar\":[{\"marker\":{\"line\":{\"color\":\"#E5ECF6\",\"width\":0.5},\"pattern\":{\"fillmode\":\"overlay\",\"size\":10,\"solidity\":0.2}},\"type\":\"barpolar\"}],\"pie\":[{\"automargin\":true,\"type\":\"pie\"}]},\"layout\":{\"autotypenumbers\":\"strict\",\"colorway\":[\"#636efa\",\"#EF553B\",\"#00cc96\",\"#ab63fa\",\"#FFA15A\",\"#19d3f3\",\"#FF6692\",\"#B6E880\",\"#FF97FF\",\"#FECB52\"],\"font\":{\"color\":\"#2a3f5f\"},\"hovermode\":\"closest\",\"hoverlabel\":{\"align\":\"left\"},\"paper_bgcolor\":\"white\",\"plot_bgcolor\":\"#E5ECF6\",\"polar\":{\"bgcolor\":\"#E5ECF6\",\"angularaxis\":{\"gridcolor\":\"white\",\"linecolor\":\"white\",\"ticks\":\"\"},\"radialaxis\":{\"gridcolor\":\"white\",\"linecolor\":\"white\",\"ticks\":\"\"}},\"ternary\":{\"bgcolor\":\"#E5ECF6\",\"aaxis\":{\"gridcolor\":\"white\",\"linecolor\":\"white\",\"ticks\":\"\"},\"baxis\":{\"gridcolor\":\"white\",\"linecolor\":\"white\",\"ticks\":\"\"},\"caxis\":{\"gridcolor\":\"white\",\"linecolor\":\"white\",\"ticks\":\"\"}},\"coloraxis\":{\"colorbar\":{\"outlinewidth\":0,\"ticks\":\"\"}},\"colorscale\":{\"sequential\":[[0.0,\"#0d0887\"],[0.1111111111111111,\"#46039f\"],[0.2222222222222222,\"#7201a8\"],[0.3333333333333333,\"#9c179e\"],[0.4444444444444444,\"#bd3786\"],[0.5555555555555556,\"#d8576b\"],[0.6666666666666666,\"#ed7953\"],[0.7777777777777778,\"#fb9f3a\"],[0.8888888888888888,\"#fdca26\"],[1.0,\"#f0f921\"]],\"sequentialminus\":[[0.0,\"#0d0887\"],[0.1111111111111111,\"#46039f\"],[0.2222222222222222,\"#7201a8\"],[0.3333333333333333,\"#9c179e\"],[0.4444444444444444,\"#bd3786\"],[0.5555555555555556,\"#d8576b\"],[0.6666666666666666,\"#ed7953\"],[0.7777777777777778,\"#fb9f3a\"],[0.8888888888888888,\"#fdca26\"],[1.0,\"#f0f921\"]],\"diverging\":[[0,\"#8e0152\"],[0.1,\"#c51b7d\"],[0.2,\"#de77ae\"],[0.3,\"#f1b6da\"],[0.4,\"#fde0ef\"],[0.5,\"#f7f7f7\"],[0.6,\"#e6f5d0\"],[0.7,\"#b8e186\"],[0.8,\"#7fbc41\"],[0.9,\"#4d9221\"],[1,\"#276419\"]]},\"xaxis\":{\"gridcolor\":\"white\",\"linecolor\":\"white\",\"ticks\":\"\",\"title\":{\"standoff\":15},\"zerolinecolor\":\"white\",\"automargin\":true,\"zerolinewidth\":2},\"yaxis\":{\"gridcolor\":\"white\",\"linecolor\":\"white\",\"ticks\":\"\",\"title\":{\"standoff\":15},\"zerolinecolor\":\"white\",\"automargin\":true,\"zerolinewidth\":2},\"scene\":{\"xaxis\":{\"backgroundcolor\":\"#E5ECF6\",\"gridcolor\":\"white\",\"linecolor\":\"white\",\"showbackground\":true,\"ticks\":\"\",\"zerolinecolor\":\"white\",\"gridwidth\":2},\"yaxis\":{\"backgroundcolor\":\"#E5ECF6\",\"gridcolor\":\"white\",\"linecolor\":\"white\",\"showbackground\":true,\"ticks\":\"\",\"zerolinecolor\":\"white\",\"gridwidth\":2},\"zaxis\":{\"backgroundcolor\":\"#E5ECF6\",\"gridcolor\":\"white\",\"linecolor\":\"white\",\"showbackground\":true,\"ticks\":\"\",\"zerolinecolor\":\"white\",\"gridwidth\":2}},\"shapedefaults\":{\"line\":{\"color\":\"#2a3f5f\"}},\"annotationdefaults\":{\"arrowcolor\":\"#2a3f5f\",\"arrowhead\":0,\"arrowwidth\":1},\"geo\":{\"bgcolor\":\"white\",\"landcolor\":\"#E5ECF6\",\"subunitcolor\":\"white\",\"showland\":true,\"showlakes\":true,\"lakecolor\":\"white\"},\"title\":{\"x\":0.05},\"mapbox\":{\"style\":\"light\"}}},\"shapes\":[{\"line\":{\"color\":\"MediumPurple\",\"width\":3},\"type\":\"line\",\"x0\":4,\"x1\":200,\"y0\":7714,\"y1\":7714},{\"line\":{\"color\":\"MediumPurple\",\"width\":3},\"type\":\"line\",\"x0\":16,\"x1\":200,\"y0\":7247,\"y1\":7247},{\"line\":{\"color\":\"MediumPurple\",\"width\":3},\"type\":\"line\",\"x0\":22,\"x1\":200,\"y0\":8903,\"y1\":8903},{\"line\":{\"color\":\"MediumPurple\",\"width\":3},\"type\":\"line\",\"x0\":63,\"x1\":200,\"y0\":6379,\"y1\":6379},{\"line\":{\"color\":\"MediumPurple\",\"width\":3},\"type\":\"line\",\"x0\":104,\"x1\":200,\"y0\":9023,\"y1\":9023},{\"line\":{\"color\":\"MediumPurple\",\"width\":3},\"type\":\"line\",\"x0\":125,\"x1\":200,\"y0\":8381,\"y1\":8381},{\"line\":{\"color\":\"MediumPurple\",\"width\":3},\"type\":\"line\",\"x0\":136,\"x1\":200,\"y0\":3851,\"y1\":3851},{\"line\":{\"color\":\"RoyalBlue\",\"width\":1},\"type\":\"line\",\"x0\":19,\"x1\":200,\"y0\":9876,\"y1\":9876},{\"line\":{\"color\":\"RoyalBlue\",\"width\":1},\"type\":\"line\",\"x0\":67,\"x1\":200,\"y0\":7631,\"y1\":7631},{\"line\":{\"color\":\"RoyalBlue\",\"width\":1},\"type\":\"line\",\"x0\":73,\"x1\":200,\"y0\":7366,\"y1\":7366},{\"line\":{\"color\":\"RoyalBlue\",\"width\":1},\"type\":\"line\",\"x0\":93,\"x1\":200,\"y0\":8734,\"y1\":8734},{\"line\":{\"color\":\"RoyalBlue\",\"width\":1},\"type\":\"line\",\"x0\":112,\"x1\":200,\"y0\":10454,\"y1\":10454},{\"line\":{\"color\":\"RoyalBlue\",\"width\":1},\"type\":\"line\",\"x0\":121,\"x1\":200,\"y0\":9968,\"y1\":9968},{\"line\":{\"color\":\"RoyalBlue\",\"width\":1},\"type\":\"line\",\"x0\":131,\"x1\":200,\"y0\":9124,\"y1\":9124},{\"line\":{\"color\":\"RoyalBlue\",\"width\":1},\"type\":\"line\",\"x0\":153,\"x1\":200,\"y0\":7411,\"y1\":7411},{\"line\":{\"color\":\"RoyalBlue\",\"width\":1},\"type\":\"line\",\"x0\":170,\"x1\":200,\"y0\":9414,\"y1\":9414},{\"line\":{\"color\":\"RoyalBlue\",\"width\":1},\"type\":\"line\",\"x0\":176,\"x1\":200,\"y0\":10016,\"y1\":10016},{\"line\":{\"color\":\"RoyalBlue\",\"width\":1},\"type\":\"line\",\"x0\":199,\"x1\":200,\"y0\":9959,\"y1\":9959}]},                        {\"responsive\": true}                    ).then(function(){\n",
       "                            \n",
       "var gd = document.getElementById('fb695e34-cf58-441d-b6c0-ce1355e9bcab');\n",
       "var x = new MutationObserver(function (mutations, observer) {{\n",
       "        var display = window.getComputedStyle(gd).display;\n",
       "        if (!display || display === 'none') {{\n",
       "            console.log([gd, 'removed!']);\n",
       "            Plotly.purge(gd);\n",
       "            observer.disconnect();\n",
       "        }}\n",
       "}});\n",
       "\n",
       "// Listen for the removal of the full notebook cells\n",
       "var notebookContainer = gd.closest('#notebook-container');\n",
       "if (notebookContainer) {{\n",
       "    x.observe(notebookContainer, {childList: true});\n",
       "}}\n",
       "\n",
       "// Listen for the clearing of the current output cell\n",
       "var outputEl = gd.closest('.output');\n",
       "if (outputEl) {{\n",
       "    x.observe(outputEl, {childList: true});\n",
       "}}\n",
       "\n",
       "                        })                };                });            </script>        </div>"
      ]
     },
     "metadata": {},
     "output_type": "display_data"
    }
   ],
   "source": [
    "s = 0\n",
    "e = 200\n",
    "dfpl = df[s:e]\n",
    "import plotly.graph_objects as go\n",
    "from datetime import datetime\n",
    "import matplotlib.pyplot as plt\n",
    "\n",
    "fig = go.Figure(data=[go.Candlestick(x=dfpl.index,\n",
    "                open=dfpl['Open'],\n",
    "                high=dfpl['High'],\n",
    "                low=dfpl['Low'],\n",
    "                close=dfpl['Close'])])\n",
    "\n",
    "c=0\n",
    "while (1):\n",
    "    if(c>len(ss)-1 ):\n",
    "        break\n",
    "    fig.add_shape(type='line', x0=ss[c][0], y0=ss[c][1],\n",
    "                  x1=e,\n",
    "                  y1=ss[c][1],\n",
    "                  line=dict(color=\"MediumPurple\",width=3)\n",
    "                  )\n",
    "    c+=1\n",
    "\n",
    "c=0\n",
    "while (1):\n",
    "    if(c>len(rr)-1 ):\n",
    "        break\n",
    "    fig.add_shape(type='line', x0=rr[c][0], y0=rr[c][1],\n",
    "                  x1=e,\n",
    "                  y1=rr[c][1],\n",
    "                  line=dict(color=\"RoyalBlue\",width=1)\n",
    "                  )\n",
    "    c+=1    \n",
    "\n",
    "fig.show()"
   ]
  },
  {
   "cell_type": "code",
   "execution_count": null,
   "metadata": {},
   "outputs": [],
   "source": []
  },
  {
   "cell_type": "code",
   "execution_count": null,
   "metadata": {},
   "outputs": [],
   "source": []
  },
  {
   "cell_type": "code",
   "execution_count": null,
   "metadata": {},
   "outputs": [],
   "source": []
  }
 ],
 "metadata": {
  "kernelspec": {
   "display_name": "Python 3 (ipykernel)",
   "language": "python",
   "name": "python3"
  },
  "language_info": {
   "codemirror_mode": {
    "name": "ipython",
    "version": 3
   },
   "file_extension": ".py",
   "mimetype": "text/x-python",
   "name": "python",
   "nbconvert_exporter": "python",
   "pygments_lexer": "ipython3",
   "version": "3.7.13"
  }
 },
 "nbformat": 4,
 "nbformat_minor": 4
}
