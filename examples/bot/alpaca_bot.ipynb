{
 "cells": [
  {
   "cell_type": "markdown",
   "id": "8cff4589-28f2-4e10-b178-c0bb673e9243",
   "metadata": {},
   "source": [
    "# You will need to install alpaca and apscheduler. \n",
    "# To install apscheduler, `pip install APScheduler`"
   ]
  },
  {
   "cell_type": "code",
   "execution_count": null,
   "id": "f9286afc-c333-452f-bf30-f12abceb1942",
   "metadata": {},
   "outputs": [],
   "source": [
    "import pandas as pd\n",
    "import numpy as np\n",
    "from dotenv import load_dotenv\n",
    "import os\n",
    "import requests\n",
    "import random\n",
    "import alpaca_trade_api as tradeapi\n",
    "import datetime\n",
    "from alpaca.trading.client import TradingClient\n",
    "from alpaca.trading.requests import MarketOrderRequest\n",
    "from alpaca.trading.enums import OrderSide, TimeInForce\n",
    "from apscheduler.schedulers.blocking import BlockingScheduler"
   ]
  },
  {
   "cell_type": "code",
   "execution_count": null,
   "id": "0e76696f-8840-4d02-9bd9-16adec1d4155",
   "metadata": {},
   "outputs": [],
   "source": [
    "# Load environment variables\n",
    "load_dotenv()"
   ]
  },
  {
   "cell_type": "code",
   "execution_count": null,
   "id": "7b9187ea-f458-4423-9e65-b8b0b28da716",
   "metadata": {},
   "outputs": [],
   "source": [
    "# Set api_key and secret_key\n",
    "alpaca_api_key = os.getenv(\"ALPACA_API_KEY\")\n",
    "alpaca_secret_key = os.getenv(\"ALPACA_SECRET_KEY\")"
   ]
  },
  {
   "cell_type": "code",
   "execution_count": null,
   "id": "ceb9c1bc-61b2-42ad-b8ba-87b17adb4792",
   "metadata": {},
   "outputs": [],
   "source": [
    "# Create TradingClient\n",
    "trading_client = TradingClient(alpaca_api_key, alpaca_secret_key, paper=True)"
   ]
  },
  {
   "cell_type": "code",
   "execution_count": null,
   "id": "6d524d30-227e-4108-aa97-20d9ce505995",
   "metadata": {},
   "outputs": [],
   "source": [
    "def bot_job():\n",
    "    print(\"Executing bot job...\")\n",
    "    # Instantiate model\n",
    "    # TODO: Instantiate the model here...\n",
    "    \n",
    "    # Train model \n",
    "    # TODO: Train the model or load a saved model here\n",
    "    \n",
    "    # Generate predictions\n",
    "    # TODO: Generate the predictions.   For now, we're just \n",
    "    # going to randomly generate a buy or sell signal. \n",
    "    pred = bool(random.getrandbits(1))\n",
    "    print(f\"-- signal: {pred}\")\n",
    "    \n",
    "    # Execute order\n",
    "    # Sell\n",
    "    if pred == 0:\n",
    "        print(\"Executing sell order...\")\n",
    "        market_order_data = MarketOrderRequest(\n",
    "                            symbol=\"ETH/USD\",\n",
    "                            qty=0.25,\n",
    "                            side=OrderSide.SELL,\n",
    "                            time_in_force=\"gtc\"\n",
    "                            )\n",
    "\n",
    "\n",
    "        # Market order\n",
    "        market_order = trading_client.submit_order( market_order_data)\n",
    "        market_order\n",
    "        \n",
    "        \n",
    "        \n",
    "    elif pred == 1:\n",
    "        print(\"Executing buy order...\")\n",
    "        market_order_data = MarketOrderRequest(\n",
    "                            symbol=\"ETH/USD\",\n",
    "                            qty=0.25,\n",
    "                            side=OrderSide.BUY,\n",
    "                            time_in_force=\"gtc\"\n",
    "                            )\n",
    "\n",
    "        # Market order\n",
    "        market_order = trading_client.submit_order( market_order_data)\n",
    "        market_order\n",
    "        "
   ]
  },
  {
   "cell_type": "markdown",
   "id": "915b4f2f-151c-4863-97c5-fb0b3e8138ec",
   "metadata": {},
   "source": [
    "# Execute job automatically every minute"
   ]
  },
  {
   "cell_type": "code",
   "execution_count": null,
   "id": "47a2e3d4-c9d4-48ce-825f-6479f0d7ab51",
   "metadata": {},
   "outputs": [],
   "source": [
    "print(\"Creating scheduler...\")\n",
    "scheduler = BlockingScheduler(job_defaults={'misfire_grace_time': 15*60})\n",
    "\n",
    "print(\"Adding scheduler job...\")\n",
    "#scheduler.add_job(bot_job, 'cron', day_of_week='mon-fri', minute=1, jitter=120, timezone='America/New_York')\n",
    "scheduler.add_job(bot_job, 'interval', minutes=1)\n",
    "\n",
    "print(\"Starting scheduler...\")\n",
    "scheduler.start()\n",
    "\n"
   ]
  },
  {
   "cell_type": "code",
   "execution_count": null,
   "id": "71223454-02e7-4144-a8c7-07d060e2ee5d",
   "metadata": {},
   "outputs": [],
   "source": []
  }
 ],
 "metadata": {
  "kernelspec": {
   "display_name": "Python 3 (ipykernel)",
   "language": "python",
   "name": "python3"
  },
  "language_info": {
   "codemirror_mode": {
    "name": "ipython",
    "version": 3
   },
   "file_extension": ".py",
   "mimetype": "text/x-python",
   "name": "python",
   "nbconvert_exporter": "python",
   "pygments_lexer": "ipython3",
   "version": "3.7.13"
  }
 },
 "nbformat": 4,
 "nbformat_minor": 5
}
