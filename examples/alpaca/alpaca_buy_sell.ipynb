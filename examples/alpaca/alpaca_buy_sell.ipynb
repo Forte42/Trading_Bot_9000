{
 "cells": [
  {
   "cell_type": "code",
   "execution_count": null,
   "id": "3d2d2986-8f0f-4112-b2a2-03b767dffc76",
   "metadata": {},
   "outputs": [],
   "source": [
    "import pandas as pd\n",
    "import numpy as np\n",
    "from dotenv import load_dotenv\n",
    "import os\n",
    "import requests\n",
    "import alpaca_trade_api as tradeapi\n",
    "import datetime\n",
    "from alpaca.trading.client import TradingClient\n",
    "from alpaca.trading.requests import MarketOrderRequest\n",
    "from alpaca.trading.enums import OrderSide, TimeInForce"
   ]
  },
  {
   "cell_type": "code",
   "execution_count": null,
   "id": "2a1a696d-9cc5-484a-b3bf-1aa0b010162b",
   "metadata": {},
   "outputs": [],
   "source": [
    "load_dotenv()"
   ]
  },
  {
   "cell_type": "code",
   "execution_count": null,
   "id": "559f825e-3b85-4576-9416-686c4c1c822f",
   "metadata": {},
   "outputs": [],
   "source": [
    "# Set api_key and secret_key\n",
    "alpaca_api_key = os.getenv(\"ALPACA_API_KEY\")\n",
    "alpaca_secret_key = os.getenv(\"ALPACA_SECRET_KEY\")"
   ]
  },
  {
   "cell_type": "code",
   "execution_count": null,
   "id": "4d116e07-0328-4bbe-84d9-8c5d46c0eb7d",
   "metadata": {},
   "outputs": [],
   "source": [
    "# Buy crypto example\n",
    "trading_client = TradingClient(alpaca_api_key, alpaca_secret_key, paper=True)\n",
    "\n",
    "market_order_data = MarketOrderRequest(\n",
    "                    symbol=\"ETH/USD\",\n",
    "                    qty=0.676,\n",
    "                    side=OrderSide.BUY,\n",
    "                    time_in_force=\"gtc\"\n",
    "                    )\n",
    "\n",
    "# Market order\n",
    "market_order = trading_client.submit_order( market_order_data)\n",
    "market_order"
   ]
  },
  {
   "cell_type": "code",
   "execution_count": null,
   "id": "3d169a71-9ec7-417b-b5d9-c2bd9e9dba1f",
   "metadata": {},
   "outputs": [],
   "source": [
    "# List current position\n",
    "trading_client.get_all_positions()"
   ]
  },
  {
   "cell_type": "code",
   "execution_count": null,
   "id": "70304f4e-7bd8-4f5c-910a-c66813e1e084",
   "metadata": {},
   "outputs": [],
   "source": [
    "# Sell crypto example\n",
    "trading_client = TradingClient(alpaca_api_key, alpaca_secret_key, paper=True)\n",
    "\n",
    "market_order_data = MarketOrderRequest(\n",
    "                    symbol=\"ETH/USD\",\n",
    "                    qty=0.67431,\n",
    "                    side=OrderSide.SELL,\n",
    "                    time_in_force=\"gtc\"\n",
    "                    )\n",
    "\n",
    "\n",
    "# Market order\n",
    "market_order = trading_client.submit_order( market_order_data)\n",
    "market_order"
   ]
  },
  {
   "cell_type": "code",
   "execution_count": null,
   "id": "b486702a-431a-441f-9ed5-f242f2c20101",
   "metadata": {},
   "outputs": [],
   "source": []
  }
 ],
 "metadata": {
  "kernelspec": {
   "display_name": "dev",
   "language": "python",
   "name": "dev"
  },
  "language_info": {
   "codemirror_mode": {
    "name": "ipython",
    "version": 3
   },
   "file_extension": ".py",
   "mimetype": "text/x-python",
   "name": "python",
   "nbconvert_exporter": "python",
   "pygments_lexer": "ipython3",
   "version": "3.9.12"
  }
 },
 "nbformat": 4,
 "nbformat_minor": 5
}
